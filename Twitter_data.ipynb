{
 "cells": [
  {
   "cell_type": "code",
   "execution_count": 98,
   "id": "03eb75ad",
   "metadata": {},
   "outputs": [],
   "source": [
    "import csv\n",
    "from datetime import date\n",
    "import pandas as pd\n",
    "import numpy as np\n",
    "import snscrape.modules.twitter as sntwitter\n",
    "import time\n",
    "from textblob import TextBlob\n",
    "import re \n",
    "import string\n",
    "import emoji\n",
    "import demoji\n",
    "from sklearn.feature_extraction.text import TfidfVectorizer\n",
    "import warnings\n",
    "warnings.filterwarnings(\"ignore\")"
   ]
  },
  {
   "cell_type": "code",
   "execution_count": 60,
   "id": "a6838ca8",
   "metadata": {},
   "outputs": [],
   "source": [
    "tweets = []\n",
    "twitter_profile_url = \"https://twitter.com/\""
   ]
  },
  {
   "cell_type": "code",
   "execution_count": 61,
   "id": "4a64e8eb",
   "metadata": {},
   "outputs": [],
   "source": [
    "count = 0\n",
    "sleep_time = 10"
   ]
  },
  {
   "cell_type": "code",
   "execution_count": 50,
   "id": "a7691463",
   "metadata": {},
   "outputs": [
    {
     "name": "stderr",
     "output_type": "stream",
     "text": [
      "/var/folders/gh/nmrrxy557874dyj8h3gjnmrw0000gn/T/ipykernel_19040/2169765876.py:26: DeprecatedFeatureWarning: content is deprecated, use rawContent instead\n",
      "  tweet.content,\n",
      "Skipping unrecognised entry ID: 'promoted-tweet-1673374311325876245-3d6933f65e9fcc40'\n",
      "Skipping unrecognised entry ID: 'promoted-tweet-1670648060425428994-3d69c7006e4a0c23'\n",
      "Skipping unrecognised entry ID: 'promoted-tweet-1662047396090527744-3d6955411f4661e3'\n"
     ]
    },
    {
     "name": "stdout",
     "output_type": "stream",
     "text": [
      "Scraped Tweets: 1 for hashtag: Altcoin\n",
      "Scraped Tweets: 2 for hashtag: Altcoin\n",
      "Scraped Tweets: 3 for hashtag: Altcoin\n",
      "Scraped Tweets: 4 for hashtag: Altcoin\n",
      "Scraped Tweets: 5 for hashtag: Altcoin\n",
      "Scraped Tweets: 6 for hashtag: Altcoin\n",
      "Scraped Tweets: 7 for hashtag: Altcoin\n",
      "Scraped Tweets: 8 for hashtag: Altcoin\n",
      "Scraped Tweets: 9 for hashtag: Altcoin\n"
     ]
    },
    {
     "name": "stderr",
     "output_type": "stream",
     "text": [
      "Skipping unrecognised entry ID: 'promoted-tweet-1673374311325876245-3d69f08ebbcd2816'\n",
      "Skipping unrecognised entry ID: 'promoted-tweet-1670648060425428994-3d69ea5a42a9685e'\n",
      "Skipping unrecognised entry ID: 'promoted-tweet-1671907214187954178-3d69364baa44cb40'\n"
     ]
    },
    {
     "name": "stdout",
     "output_type": "stream",
     "text": [
      "Scraped Tweets: 10 for hashtag: Altcoin\n",
      "Scraped Tweets: 11 for hashtag: Altcoin\n",
      "Scraped Tweets: 12 for hashtag: Altcoin\n",
      "Scraped Tweets: 13 for hashtag: Altcoin\n",
      "Scraped Tweets: 14 for hashtag: Altcoin\n",
      "Scraped Tweets: 15 for hashtag: Altcoin\n",
      "Scraped Tweets: 16 for hashtag: Altcoin\n",
      "Scraped Tweets: 17 for hashtag: Altcoin\n",
      "Scraped Tweets: 18 for hashtag: Altcoin\n",
      "Scraped Tweets: 19 for hashtag: Altcoin\n",
      "Scraped Tweets: 20 for hashtag: Altcoin\n"
     ]
    },
    {
     "name": "stderr",
     "output_type": "stream",
     "text": [
      "Skipping unrecognised entry ID: 'promoted-tweet-1673374311325876245-3d690e2e2b223c61'\n"
     ]
    },
    {
     "name": "stdout",
     "output_type": "stream",
     "text": [
      "Scraped Tweets: 21 for hashtag: Altcoin\n",
      "Scraped Tweets: 22 for hashtag: Altcoin\n",
      "Scraped Tweets: 23 for hashtag: Altcoin\n",
      "Scraped Tweets: 24 for hashtag: Altcoin\n"
     ]
    },
    {
     "name": "stderr",
     "output_type": "stream",
     "text": [
      "Skipping unrecognised entry ID: 'promoted-tweet-1670648060425428994-3d69637ca464984b'\n",
      "Skipping unrecognised entry ID: 'promoted-tweet-1671907214187954178-3d69638ff71e0f85'\n"
     ]
    },
    {
     "name": "stdout",
     "output_type": "stream",
     "text": [
      "Scraped Tweets: 25 for hashtag: Altcoin\n",
      "Scraped Tweets: 26 for hashtag: Altcoin\n",
      "Scraped Tweets: 27 for hashtag: Altcoin\n",
      "Scraped Tweets: 28 for hashtag: Altcoin\n",
      "Scraped Tweets: 29 for hashtag: Altcoin\n",
      "Scraped Tweets: 30 for hashtag: Altcoin\n"
     ]
    },
    {
     "name": "stderr",
     "output_type": "stream",
     "text": [
      "Skipping unrecognised entry ID: 'promoted-tweet-1673374311325876245-3d6992c4803519f6'\n",
      "Skipping unrecognised entry ID: 'promoted-tweet-1670648060425428994-3d69e91b5683b1b3'\n",
      "Skipping unrecognised entry ID: 'promoted-tweet-1671907214187954178-3d698749cbf70eb4'\n"
     ]
    },
    {
     "name": "stdout",
     "output_type": "stream",
     "text": [
      "Scraped Tweets: 31 for hashtag: Altcoin\n",
      "Scraped Tweets: 32 for hashtag: Altcoin\n",
      "Scraped Tweets: 33 for hashtag: Altcoin\n",
      "Scraped Tweets: 34 for hashtag: Altcoin\n",
      "Scraped Tweets: 35 for hashtag: Altcoin\n",
      "Scraped Tweets: 36 for hashtag: Altcoin\n",
      "Scraped Tweets: 37 for hashtag: Altcoin\n",
      "Scraped Tweets: 38 for hashtag: Altcoin\n",
      "Scraped Tweets: 39 for hashtag: Altcoin\n",
      "Scraped Tweets: 40 for hashtag: Altcoin\n"
     ]
    },
    {
     "name": "stderr",
     "output_type": "stream",
     "text": [
      "Skipping unrecognised entry ID: 'promoted-tweet-1673374311325876245-3d69ef7f31bcc6d9'\n"
     ]
    },
    {
     "name": "stdout",
     "output_type": "stream",
     "text": [
      "Scraped Tweets: 41 for hashtag: Altcoin\n",
      "Scraped Tweets: 42 for hashtag: Altcoin\n",
      "Scraped Tweets: 43 for hashtag: Altcoin\n"
     ]
    },
    {
     "name": "stderr",
     "output_type": "stream",
     "text": [
      "Skipping unrecognised entry ID: 'promoted-tweet-1673374311325876245-3d69c3094a57e542'\n"
     ]
    },
    {
     "name": "stdout",
     "output_type": "stream",
     "text": [
      "Scraped Tweets: 44 for hashtag: Altcoin\n",
      "Scraped Tweets: 45 for hashtag: Altcoin\n"
     ]
    },
    {
     "name": "stderr",
     "output_type": "stream",
     "text": [
      "Skipping unrecognised entry ID: 'promoted-tweet-1673374311325876245-3d69415ec8c1725e'\n",
      "Skipping unrecognised entry ID: 'promoted-tweet-1670648060425428994-3d6948a3afd1b1d8'\n",
      "Skipping unrecognised entry ID: 'promoted-tweet-1671907214187954178-3d694e0b5ad04551'\n"
     ]
    },
    {
     "name": "stdout",
     "output_type": "stream",
     "text": [
      "Scraped Tweets: 46 for hashtag: Altcoin\n",
      "Scraped Tweets: 47 for hashtag: Altcoin\n",
      "Scraped Tweets: 48 for hashtag: Altcoin\n",
      "Scraped Tweets: 49 for hashtag: Altcoin\n",
      "Scraped Tweets: 50 for hashtag: Altcoin\n",
      "Scraped Tweets: 51 for hashtag: Altcoin\n",
      "Scraped Tweets: 52 for hashtag: Altcoin\n",
      "Scraped Tweets: 53 for hashtag: Altcoin\n",
      "Scraped Tweets: 54 for hashtag: Altcoin\n"
     ]
    },
    {
     "name": "stderr",
     "output_type": "stream",
     "text": [
      "Skipping unrecognised entry ID: 'promoted-tweet-1673374311325876245-3d69ea67fb3edd7f'\n"
     ]
    },
    {
     "name": "stdout",
     "output_type": "stream",
     "text": [
      "Scraped Tweets: 55 for hashtag: Altcoin\n",
      "Scraped Tweets: 56 for hashtag: Altcoin\n",
      "Scraped Tweets: 57 for hashtag: Altcoin\n"
     ]
    },
    {
     "name": "stderr",
     "output_type": "stream",
     "text": [
      "Skipping unrecognised entry ID: 'promoted-tweet-1673374311325876245-3d69310686a53780'\n",
      "Skipping unrecognised entry ID: 'promoted-tweet-1670648060425428994-3d69e28bfa8fe679'\n"
     ]
    },
    {
     "name": "stdout",
     "output_type": "stream",
     "text": [
      "Scraped Tweets: 58 for hashtag: Altcoin\n",
      "Scraped Tweets: 59 for hashtag: Altcoin\n",
      "Scraped Tweets: 60 for hashtag: Altcoin\n",
      "Scraped Tweets: 61 for hashtag: Altcoin\n"
     ]
    },
    {
     "name": "stderr",
     "output_type": "stream",
     "text": [
      "Skipping unrecognised entry ID: 'promoted-tweet-1673374311325876245-3d696a1801f5947c'\n"
     ]
    },
    {
     "name": "stdout",
     "output_type": "stream",
     "text": [
      "Scraped Tweets: 62 for hashtag: Altcoin\n",
      "Scraped Tweets: 63 for hashtag: Altcoin\n",
      "Scraped Tweets: 64 for hashtag: Altcoin\n",
      "Scraped Tweets: 65 for hashtag: Altcoin\n",
      "Scraped Tweets: 66 for hashtag: Altcoin\n"
     ]
    },
    {
     "name": "stderr",
     "output_type": "stream",
     "text": [
      "Skipping unrecognised entry ID: 'promoted-tweet-1673374311325876245-3d699906ec2dfa88'\n",
      "Skipping unrecognised entry ID: 'promoted-tweet-1670648060425428994-3d69a996b69afa26'\n"
     ]
    },
    {
     "name": "stdout",
     "output_type": "stream",
     "text": [
      "Scraped Tweets: 67 for hashtag: Altcoin\n",
      "Scraped Tweets: 68 for hashtag: Altcoin\n",
      "Scraped Tweets: 69 for hashtag: Altcoin\n",
      "Scraped Tweets: 70 for hashtag: Altcoin\n",
      "Scraped Tweets: 71 for hashtag: Altcoin\n",
      "Scraped Tweets: 72 for hashtag: Altcoin\n",
      "Scraped Tweets: 73 for hashtag: Altcoin\n",
      "Scraped Tweets: 74 for hashtag: Altcoin\n",
      "Scraped Tweets: 75 for hashtag: Altcoin\n",
      "Scraped Tweets: 76 for hashtag: Altcoin\n"
     ]
    },
    {
     "name": "stderr",
     "output_type": "stream",
     "text": [
      "Skipping unrecognised entry ID: 'promoted-tweet-1673374311325876245-3d69274bd375c8a1'\n",
      "Skipping unrecognised entry ID: 'promoted-tweet-1670648060425428994-3d697c074cf8fff7'\n"
     ]
    },
    {
     "name": "stdout",
     "output_type": "stream",
     "text": [
      "Scraped Tweets: 77 for hashtag: Altcoin\n",
      "Scraped Tweets: 78 for hashtag: Altcoin\n",
      "Scraped Tweets: 79 for hashtag: Altcoin\n",
      "Scraped Tweets: 80 for hashtag: Altcoin\n"
     ]
    },
    {
     "name": "stderr",
     "output_type": "stream",
     "text": [
      "Skipping unrecognised entry ID: 'promoted-tweet-1673374311325876245-3d69eb993845f4b1'\n",
      "Skipping unrecognised entry ID: 'promoted-tweet-1670648060425428994-3d692f68a28e5cc6'\n"
     ]
    },
    {
     "name": "stdout",
     "output_type": "stream",
     "text": [
      "Scraped Tweets: 81 for hashtag: Altcoin\n",
      "Scraped Tweets: 82 for hashtag: Altcoin\n",
      "Scraped Tweets: 83 for hashtag: Altcoin\n",
      "Scraped Tweets: 84 for hashtag: Altcoin\n",
      "Scraped Tweets: 85 for hashtag: Altcoin\n",
      "Scraped Tweets: 86 for hashtag: Altcoin\n",
      "Scraped Tweets: 87 for hashtag: Altcoin\n",
      "Scraped Tweets: 88 for hashtag: Altcoin\n"
     ]
    },
    {
     "name": "stderr",
     "output_type": "stream",
     "text": [
      "Skipping unrecognised entry ID: 'promoted-tweet-1673374311325876245-3d69c05493566a28'\n",
      "Skipping unrecognised entry ID: 'promoted-tweet-1670648060425428994-3d69e5f734e17522'\n",
      "Skipping unrecognised entry ID: 'promoted-tweet-1671907214187954178-3d690abfe9af69d4'\n"
     ]
    },
    {
     "name": "stdout",
     "output_type": "stream",
     "text": [
      "Scraped Tweets: 89 for hashtag: Altcoin\n",
      "Scraped Tweets: 90 for hashtag: Altcoin\n",
      "Scraped Tweets: 91 for hashtag: Altcoin\n",
      "Scraped Tweets: 92 for hashtag: Altcoin\n",
      "Scraped Tweets: 93 for hashtag: Altcoin\n",
      "Scraped Tweets: 94 for hashtag: Altcoin\n",
      "Scraped Tweets: 95 for hashtag: Altcoin\n",
      "Scraped Tweets: 96 for hashtag: Altcoin\n",
      "Scraped Tweets: 97 for hashtag: Altcoin\n",
      "Scraped Tweets: 98 for hashtag: Altcoin\n",
      "Scraped Tweets: 99 for hashtag: Altcoin\n"
     ]
    },
    {
     "name": "stderr",
     "output_type": "stream",
     "text": [
      "Skipping unrecognised entry ID: 'promoted-tweet-1673374311325876245-3d69ff081aa2aae5'\n",
      "Skipping unrecognised entry ID: 'promoted-tweet-1673374311325876245-3d69d7bc448ea7dd'\n"
     ]
    },
    {
     "name": "stdout",
     "output_type": "stream",
     "text": [
      "Scraped Tweets: 100 for hashtag: Altcoin\n",
      "Scraped Tweets: 101 for hashtag: Altcoin\n",
      "Scraped Tweets: 102 for hashtag: Altcoin\n",
      "Scraped Tweets: 103 for hashtag: Altcoin\n"
     ]
    },
    {
     "name": "stderr",
     "output_type": "stream",
     "text": [
      "Skipping unrecognised entry ID: 'promoted-tweet-1673374311325876245-3d695a8afd9a9528'\n"
     ]
    },
    {
     "name": "stdout",
     "output_type": "stream",
     "text": [
      "Scraped Tweets: 104 for hashtag: Altcoin\n",
      "Scraped Tweets: 105 for hashtag: Altcoin\n",
      "Scraped Tweets: 106 for hashtag: Altcoin\n"
     ]
    },
    {
     "name": "stderr",
     "output_type": "stream",
     "text": [
      "Skipping unrecognised entry ID: 'promoted-tweet-1673374311325876245-3d6977f2119a947a'\n"
     ]
    },
    {
     "name": "stdout",
     "output_type": "stream",
     "text": [
      "Scraped Tweets: 107 for hashtag: Altcoin\n",
      "Scraped Tweets: 108 for hashtag: Altcoin\n",
      "Scraped Tweets: 109 for hashtag: Altcoin\n",
      "Scraped Tweets: 110 for hashtag: Altcoin\n"
     ]
    },
    {
     "name": "stderr",
     "output_type": "stream",
     "text": [
      "Skipping unrecognised entry ID: 'promoted-tweet-1673374311325876245-3d69c4e99a2e9eaf'\n",
      "Skipping unrecognised entry ID: 'promoted-tweet-1670648060425428994-3d6968d3eb7a7cc5'\n"
     ]
    },
    {
     "name": "stdout",
     "output_type": "stream",
     "text": [
      "Scraped Tweets: 111 for hashtag: Altcoin\n",
      "Scraped Tweets: 112 for hashtag: Altcoin\n",
      "Scraped Tweets: 113 for hashtag: Altcoin\n",
      "Scraped Tweets: 114 for hashtag: Altcoin\n",
      "Scraped Tweets: 115 for hashtag: Altcoin\n"
     ]
    },
    {
     "name": "stderr",
     "output_type": "stream",
     "text": [
      "Skipping unrecognised entry ID: 'promoted-tweet-1673374311325876245-3d6931d4cfb5ef80'\n",
      "Skipping unrecognised entry ID: 'promoted-tweet-1670648060425428994-3d695dc332fa285a'\n"
     ]
    },
    {
     "name": "stdout",
     "output_type": "stream",
     "text": [
      "Scraped Tweets: 116 for hashtag: Altcoin\n",
      "Scraped Tweets: 117 for hashtag: Altcoin\n",
      "Scraped Tweets: 118 for hashtag: Altcoin\n",
      "Scraped Tweets: 119 for hashtag: Altcoin\n",
      "Scraped Tweets: 120 for hashtag: Altcoin\n",
      "Scraped Tweets: 121 for hashtag: Altcoin\n"
     ]
    },
    {
     "name": "stderr",
     "output_type": "stream",
     "text": [
      "Skipping unrecognised entry ID: 'promoted-tweet-1673374311325876245-3d690ae150af9df9'\n"
     ]
    },
    {
     "name": "stdout",
     "output_type": "stream",
     "text": [
      "Scraped Tweets: 122 for hashtag: Altcoin\n",
      "Scraped Tweets: 123 for hashtag: Altcoin\n",
      "Scraped Tweets: 124 for hashtag: Altcoin\n",
      "Scraped Tweets: 125 for hashtag: Altcoin\n",
      "Scraped Tweets: 126 for hashtag: Altcoin\n"
     ]
    },
    {
     "name": "stderr",
     "output_type": "stream",
     "text": [
      "Skipping unrecognised entry ID: 'promoted-tweet-1673374311325876245-3d69b466fe45c303'\n"
     ]
    },
    {
     "name": "stdout",
     "output_type": "stream",
     "text": [
      "Scraped Tweets: 127 for hashtag: Altcoin\n",
      "Scraped Tweets: 128 for hashtag: Altcoin\n"
     ]
    },
    {
     "name": "stderr",
     "output_type": "stream",
     "text": [
      "Skipping unrecognised entry ID: 'promoted-tweet-1673374311325876245-3d6979290098d503'\n"
     ]
    },
    {
     "name": "stdout",
     "output_type": "stream",
     "text": [
      "Scraped Tweets: 129 for hashtag: Altcoin\n",
      "Scraped Tweets: 130 for hashtag: Altcoin\n"
     ]
    },
    {
     "name": "stderr",
     "output_type": "stream",
     "text": [
      "Skipping unrecognised entry ID: 'promoted-tweet-1673374311325876245-3d696697f0a9f3d8'\n"
     ]
    },
    {
     "name": "stdout",
     "output_type": "stream",
     "text": [
      "Scraped Tweets: 131 for hashtag: Altcoin\n",
      "Scraped Tweets: 132 for hashtag: Altcoin\n",
      "Scraped Tweets: 133 for hashtag: Altcoin\n",
      "Scraped Tweets: 134 for hashtag: Altcoin\n",
      "Scraped Tweets: 135 for hashtag: Altcoin\n",
      "Scraped Tweets: 136 for hashtag: Altcoin\n"
     ]
    },
    {
     "name": "stderr",
     "output_type": "stream",
     "text": [
      "Skipping unrecognised entry ID: 'promoted-tweet-1673374311325876245-3d6905a65d80e07e'\n"
     ]
    },
    {
     "name": "stdout",
     "output_type": "stream",
     "text": [
      "Scraped Tweets: 137 for hashtag: Altcoin\n",
      "Scraped Tweets: 138 for hashtag: Altcoin\n"
     ]
    },
    {
     "name": "stderr",
     "output_type": "stream",
     "text": [
      "Skipping unrecognised entry ID: 'promoted-tweet-1673374311325876245-3d69c3ba22b104bb'\n",
      "Skipping unrecognised entry ID: 'promoted-tweet-1670648060425428994-3d69d9f49809703b'\n",
      "Skipping unrecognised entry ID: 'promoted-tweet-1671907214187954178-3d690ca8d24e644e'\n"
     ]
    },
    {
     "name": "stdout",
     "output_type": "stream",
     "text": [
      "Scraped Tweets: 139 for hashtag: Altcoin\n",
      "Scraped Tweets: 140 for hashtag: Altcoin\n",
      "Scraped Tweets: 141 for hashtag: Altcoin\n",
      "Scraped Tweets: 142 for hashtag: Altcoin\n",
      "Scraped Tweets: 143 for hashtag: Altcoin\n",
      "Scraped Tweets: 144 for hashtag: Altcoin\n",
      "Scraped Tweets: 145 for hashtag: Altcoin\n",
      "Scraped Tweets: 146 for hashtag: Altcoin\n",
      "Scraped Tweets: 147 for hashtag: Altcoin\n",
      "Scraped Tweets: 148 for hashtag: Altcoin\n",
      "Scraped Tweets: 149 for hashtag: Altcoin\n"
     ]
    },
    {
     "name": "stderr",
     "output_type": "stream",
     "text": [
      "Skipping unrecognised entry ID: 'promoted-tweet-1673374311325876245-3d6946eb1a2f7305'\n"
     ]
    },
    {
     "name": "stdout",
     "output_type": "stream",
     "text": [
      "Scraped Tweets: 150 for hashtag: Altcoin\n",
      "Scraped Tweets: 151 for hashtag: Altcoin\n"
     ]
    },
    {
     "name": "stderr",
     "output_type": "stream",
     "text": [
      "Skipping unrecognised entry ID: 'promoted-tweet-1673374311325876245-3d6939d47232efdd'\n",
      "Skipping unrecognised entry ID: 'promoted-tweet-1673374311325876245-3d696b52ccee8f99'\n"
     ]
    },
    {
     "name": "stdout",
     "output_type": "stream",
     "text": [
      "Scraped Tweets: 152 for hashtag: Altcoin\n",
      "Scraped Tweets: 153 for hashtag: Altcoin\n"
     ]
    },
    {
     "name": "stderr",
     "output_type": "stream",
     "text": [
      "Skipping unrecognised entry ID: 'promoted-tweet-1673374311325876245-3d6984364e6bdeb5'\n"
     ]
    },
    {
     "name": "stdout",
     "output_type": "stream",
     "text": [
      "Scraped Tweets: 154 for hashtag: Altcoin\n",
      "Scraped Tweets: 155 for hashtag: Altcoin\n"
     ]
    },
    {
     "name": "stderr",
     "output_type": "stream",
     "text": [
      "Skipping unrecognised entry ID: 'promoted-tweet-1673374311325876245-3d69cd6a056b4a28'\n"
     ]
    },
    {
     "name": "stdout",
     "output_type": "stream",
     "text": [
      "Scraped Tweets: 156 for hashtag: Altcoin\n",
      "Scraped Tweets: 157 for hashtag: Altcoin\n",
      "Scraped Tweets: 158 for hashtag: Altcoin\n",
      "Scraped Tweets: 159 for hashtag: Altcoin\n"
     ]
    },
    {
     "name": "stderr",
     "output_type": "stream",
     "text": [
      "Stopping after 20 empty pages\n",
      "Skipping unrecognised entry ID: 'promoted-tweet-1651254815916281864-3d6ad5db6e839949'\n",
      "Skipping unrecognised entry ID: 'promoted-tweet-1673374311325876245-3d6aa4c0bb4f4835'\n"
     ]
    },
    {
     "name": "stdout",
     "output_type": "stream",
     "text": [
      "Scraped Tweets: 1 for hashtag: Bitcoin\n",
      "Scraped Tweets: 2 for hashtag: Bitcoin\n",
      "Scraped Tweets: 3 for hashtag: Bitcoin\n",
      "Scraped Tweets: 4 for hashtag: Bitcoin\n",
      "Scraped Tweets: 5 for hashtag: Bitcoin\n",
      "Scraped Tweets: 6 for hashtag: Bitcoin\n",
      "Scraped Tweets: 7 for hashtag: Bitcoin\n",
      "Scraped Tweets: 8 for hashtag: Bitcoin\n"
     ]
    },
    {
     "name": "stderr",
     "output_type": "stream",
     "text": [
      "Skipping unrecognised entry ID: 'promoted-tweet-1651254816876666882-3d6adc14a5c91de5'\n",
      "Skipping unrecognised entry ID: 'promoted-tweet-1673374311325876245-3d6ac90578257c3c'\n"
     ]
    },
    {
     "name": "stdout",
     "output_type": "stream",
     "text": [
      "Scraped Tweets: 9 for hashtag: Bitcoin\n",
      "Scraped Tweets: 10 for hashtag: Bitcoin\n",
      "Scraped Tweets: 11 for hashtag: Bitcoin\n"
     ]
    },
    {
     "name": "stderr",
     "output_type": "stream",
     "text": [
      "Skipping unrecognised entry ID: 'promoted-tweet-1651254816876666882-3d6a521de8097eef'\n"
     ]
    },
    {
     "name": "stdout",
     "output_type": "stream",
     "text": [
      "Scraped Tweets: 12 for hashtag: Bitcoin\n",
      "Scraped Tweets: 13 for hashtag: Bitcoin\n",
      "Scraped Tweets: 14 for hashtag: Bitcoin\n"
     ]
    },
    {
     "name": "stderr",
     "output_type": "stream",
     "text": [
      "Skipping unrecognised entry ID: 'promoted-tweet-1651254816876666882-3d6a09852bcc26ec'\n",
      "Skipping unrecognised entry ID: 'promoted-tweet-1673374311325876245-3d6aabb12b8958a2'\n"
     ]
    },
    {
     "name": "stdout",
     "output_type": "stream",
     "text": [
      "Scraped Tweets: 15 for hashtag: Bitcoin\n",
      "Scraped Tweets: 16 for hashtag: Bitcoin\n",
      "Scraped Tweets: 17 for hashtag: Bitcoin\n",
      "Scraped Tweets: 18 for hashtag: Bitcoin\n",
      "Scraped Tweets: 19 for hashtag: Bitcoin\n"
     ]
    },
    {
     "name": "stderr",
     "output_type": "stream",
     "text": [
      "Skipping unrecognised entry ID: 'promoted-tweet-1651254815916281864-3d6a4ac93ab5b716'\n",
      "Skipping unrecognised entry ID: 'promoted-tweet-1673374311325876245-3d6afaa71a93eced'\n",
      "Skipping unrecognised entry ID: 'promoted-tweet-1671907214187954178-3d6a847c31a7e950'\n"
     ]
    },
    {
     "name": "stdout",
     "output_type": "stream",
     "text": [
      "Scraped Tweets: 20 for hashtag: Bitcoin\n",
      "Scraped Tweets: 21 for hashtag: Bitcoin\n",
      "Scraped Tweets: 22 for hashtag: Bitcoin\n",
      "Scraped Tweets: 23 for hashtag: Bitcoin\n",
      "Scraped Tweets: 24 for hashtag: Bitcoin\n",
      "Scraped Tweets: 25 for hashtag: Bitcoin\n",
      "Scraped Tweets: 26 for hashtag: Bitcoin\n",
      "Scraped Tweets: 27 for hashtag: Bitcoin\n",
      "Scraped Tweets: 28 for hashtag: Bitcoin\n"
     ]
    },
    {
     "name": "stderr",
     "output_type": "stream",
     "text": [
      "Skipping unrecognised entry ID: 'promoted-tweet-1673374311325876245-3d6a2942dfc9487f'\n",
      "Skipping unrecognised entry ID: 'promoted-tweet-1651254816876666882-3d6a6c25235b3b7d'\n"
     ]
    },
    {
     "name": "stdout",
     "output_type": "stream",
     "text": [
      "Scraped Tweets: 29 for hashtag: Bitcoin\n",
      "Scraped Tweets: 30 for hashtag: Bitcoin\n",
      "Scraped Tweets: 31 for hashtag: Bitcoin\n",
      "Scraped Tweets: 32 for hashtag: Bitcoin\n",
      "Scraped Tweets: 33 for hashtag: Bitcoin\n",
      "Scraped Tweets: 34 for hashtag: Bitcoin\n",
      "Scraped Tweets: 35 for hashtag: Bitcoin\n",
      "Scraped Tweets: 36 for hashtag: Bitcoin\n"
     ]
    },
    {
     "name": "stderr",
     "output_type": "stream",
     "text": [
      "Skipping unrecognised entry ID: 'promoted-tweet-1651254815916281864-3d6af34fe681e286'\n"
     ]
    },
    {
     "name": "stdout",
     "output_type": "stream",
     "text": [
      "Scraped Tweets: 37 for hashtag: Bitcoin\n",
      "Scraped Tweets: 38 for hashtag: Bitcoin\n",
      "Scraped Tweets: 39 for hashtag: Bitcoin\n",
      "Scraped Tweets: 40 for hashtag: Bitcoin\n"
     ]
    },
    {
     "name": "stderr",
     "output_type": "stream",
     "text": [
      "Skipping unrecognised entry ID: 'promoted-tweet-1651254815916281864-3d6ad50bab957381'\n",
      "Skipping unrecognised entry ID: 'promoted-tweet-1673374311325876245-3d6a07cdd8284f30'\n",
      "Skipping unrecognised entry ID: 'promoted-tweet-1671907214187954178-3d6af3a01eb82fef'\n"
     ]
    },
    {
     "name": "stdout",
     "output_type": "stream",
     "text": [
      "Scraped Tweets: 41 for hashtag: Bitcoin\n",
      "Scraped Tweets: 42 for hashtag: Bitcoin\n",
      "Scraped Tweets: 43 for hashtag: Bitcoin\n",
      "Scraped Tweets: 44 for hashtag: Bitcoin\n",
      "Scraped Tweets: 45 for hashtag: Bitcoin\n",
      "Scraped Tweets: 46 for hashtag: Bitcoin\n",
      "Scraped Tweets: 47 for hashtag: Bitcoin\n",
      "Scraped Tweets: 48 for hashtag: Bitcoin\n",
      "Scraped Tweets: 49 for hashtag: Bitcoin\n"
     ]
    },
    {
     "name": "stderr",
     "output_type": "stream",
     "text": [
      "Skipping unrecognised entry ID: 'promoted-tweet-1651254816876666882-3d6aafb8b76cc03e'\n",
      "Skipping unrecognised entry ID: 'promoted-tweet-1673374311325876245-3d6a763237e521eb'\n"
     ]
    },
    {
     "name": "stdout",
     "output_type": "stream",
     "text": [
      "Scraped Tweets: 50 for hashtag: Bitcoin\n",
      "Scraped Tweets: 51 for hashtag: Bitcoin\n",
      "Scraped Tweets: 52 for hashtag: Bitcoin\n",
      "Scraped Tweets: 53 for hashtag: Bitcoin\n",
      "Scraped Tweets: 54 for hashtag: Bitcoin\n",
      "Scraped Tweets: 55 for hashtag: Bitcoin\n"
     ]
    },
    {
     "name": "stderr",
     "output_type": "stream",
     "text": [
      "Skipping unrecognised entry ID: 'promoted-tweet-1673374311325876245-3d6a205d95498183'\n",
      "Skipping unrecognised entry ID: 'promoted-tweet-1671907214187954178-3d6a2b1a8d0e2335'\n"
     ]
    },
    {
     "name": "stdout",
     "output_type": "stream",
     "text": [
      "Scraped Tweets: 56 for hashtag: Bitcoin\n",
      "Scraped Tweets: 57 for hashtag: Bitcoin\n",
      "Scraped Tweets: 58 for hashtag: Bitcoin\n",
      "Scraped Tweets: 59 for hashtag: Bitcoin\n",
      "Scraped Tweets: 60 for hashtag: Bitcoin\n",
      "Scraped Tweets: 61 for hashtag: Bitcoin\n",
      "Scraped Tweets: 62 for hashtag: Bitcoin\n",
      "Scraped Tweets: 63 for hashtag: Bitcoin\n"
     ]
    },
    {
     "name": "stderr",
     "output_type": "stream",
     "text": [
      "Skipping unrecognised entry ID: 'promoted-tweet-1651254816876666882-3d6afc7a3a203858'\n",
      "Skipping unrecognised entry ID: 'promoted-tweet-1673374311325876245-3d6a775a0b0d9c03'\n"
     ]
    },
    {
     "name": "stdout",
     "output_type": "stream",
     "text": [
      "Scraped Tweets: 64 for hashtag: Bitcoin\n",
      "Scraped Tweets: 65 for hashtag: Bitcoin\n",
      "Scraped Tweets: 66 for hashtag: Bitcoin\n",
      "Scraped Tweets: 67 for hashtag: Bitcoin\n",
      "Scraped Tweets: 68 for hashtag: Bitcoin\n"
     ]
    },
    {
     "name": "stderr",
     "output_type": "stream",
     "text": [
      "Skipping unrecognised entry ID: 'promoted-tweet-1673374814743019531-3d6a52cb07ce2a53'\n",
      "Skipping unrecognised entry ID: 'promoted-tweet-1663566778604355592-3d6a3f94ad8756d9'\n"
     ]
    },
    {
     "name": "stdout",
     "output_type": "stream",
     "text": [
      "Scraped Tweets: 69 for hashtag: Bitcoin\n",
      "Scraped Tweets: 70 for hashtag: Bitcoin\n",
      "Scraped Tweets: 71 for hashtag: Bitcoin\n",
      "Scraped Tweets: 72 for hashtag: Bitcoin\n",
      "Scraped Tweets: 73 for hashtag: Bitcoin\n",
      "Scraped Tweets: 74 for hashtag: Bitcoin\n"
     ]
    },
    {
     "name": "stderr",
     "output_type": "stream",
     "text": [
      "Skipping unrecognised entry ID: 'promoted-tweet-1651254816876666882-3d6a733becdce52e'\n"
     ]
    },
    {
     "name": "stdout",
     "output_type": "stream",
     "text": [
      "Scraped Tweets: 75 for hashtag: Bitcoin\n",
      "Scraped Tweets: 76 for hashtag: Bitcoin\n",
      "Scraped Tweets: 77 for hashtag: Bitcoin\n"
     ]
    },
    {
     "name": "stderr",
     "output_type": "stream",
     "text": [
      "Skipping unrecognised entry ID: 'promoted-tweet-1651254816876666882-3d6a5c021b68259f'\n",
      "Skipping unrecognised entry ID: 'promoted-tweet-1673374311325876245-3d6adaa4a9cec41b'\n"
     ]
    },
    {
     "name": "stdout",
     "output_type": "stream",
     "text": [
      "Scraped Tweets: 78 for hashtag: Bitcoin\n",
      "Scraped Tweets: 79 for hashtag: Bitcoin\n",
      "Scraped Tweets: 80 for hashtag: Bitcoin\n",
      "Scraped Tweets: 81 for hashtag: Bitcoin\n",
      "Scraped Tweets: 82 for hashtag: Bitcoin\n",
      "Scraped Tweets: 83 for hashtag: Bitcoin\n"
     ]
    },
    {
     "name": "stderr",
     "output_type": "stream",
     "text": [
      "Skipping unrecognised entry ID: 'promoted-tweet-1651254816876666882-3d6a879f3185fa0e'\n",
      "Skipping unrecognised entry ID: 'promoted-tweet-1673374311325876245-3d6addcc0cdeb290'\n"
     ]
    },
    {
     "name": "stdout",
     "output_type": "stream",
     "text": [
      "Scraped Tweets: 84 for hashtag: Bitcoin\n",
      "Scraped Tweets: 85 for hashtag: Bitcoin\n",
      "Scraped Tweets: 86 for hashtag: Bitcoin\n",
      "Scraped Tweets: 87 for hashtag: Bitcoin\n",
      "Scraped Tweets: 88 for hashtag: Bitcoin\n",
      "Scraped Tweets: 89 for hashtag: Bitcoin\n"
     ]
    },
    {
     "name": "stderr",
     "output_type": "stream",
     "text": [
      "Skipping unrecognised entry ID: 'promoted-tweet-1673374311325876245-3d6a56d30293f317'\n",
      "Skipping unrecognised entry ID: 'promoted-tweet-1671907214187954178-3d6ae4fbeaa0db9c'\n"
     ]
    },
    {
     "name": "stdout",
     "output_type": "stream",
     "text": [
      "Scraped Tweets: 90 for hashtag: Bitcoin\n",
      "Scraped Tweets: 91 for hashtag: Bitcoin\n",
      "Scraped Tweets: 92 for hashtag: Bitcoin\n",
      "Scraped Tweets: 93 for hashtag: Bitcoin\n",
      "Scraped Tweets: 94 for hashtag: Bitcoin\n"
     ]
    },
    {
     "name": "stderr",
     "output_type": "stream",
     "text": [
      "Skipping unrecognised entry ID: 'promoted-tweet-1651254815916281864-3d6a17e257522f7f'\n",
      "Skipping unrecognised entry ID: 'promoted-tweet-1673374311325876245-3d6a3982911f0573'\n"
     ]
    },
    {
     "name": "stdout",
     "output_type": "stream",
     "text": [
      "Scraped Tweets: 95 for hashtag: Bitcoin\n",
      "Scraped Tweets: 96 for hashtag: Bitcoin\n",
      "Scraped Tweets: 97 for hashtag: Bitcoin\n",
      "Scraped Tweets: 98 for hashtag: Bitcoin\n",
      "Scraped Tweets: 99 for hashtag: Bitcoin\n"
     ]
    },
    {
     "name": "stderr",
     "output_type": "stream",
     "text": [
      "Skipping unrecognised entry ID: 'promoted-tweet-1651254816876666882-3d6a2d8e1eb73d4a'\n",
      "Skipping unrecognised entry ID: 'promoted-tweet-1673374311325876245-3d6a995eeb469f32'\n"
     ]
    },
    {
     "name": "stdout",
     "output_type": "stream",
     "text": [
      "Scraped Tweets: 100 for hashtag: Bitcoin\n",
      "Scraped Tweets: 101 for hashtag: Bitcoin\n",
      "Scraped Tweets: 102 for hashtag: Bitcoin\n",
      "Scraped Tweets: 103 for hashtag: Bitcoin\n",
      "Scraped Tweets: 104 for hashtag: Bitcoin\n",
      "Scraped Tweets: 105 for hashtag: Bitcoin\n",
      "Scraped Tweets: 106 for hashtag: Bitcoin\n",
      "Scraped Tweets: 107 for hashtag: Bitcoin\n",
      "Scraped Tweets: 108 for hashtag: Bitcoin\n"
     ]
    },
    {
     "name": "stderr",
     "output_type": "stream",
     "text": [
      "Skipping unrecognised entry ID: 'promoted-tweet-1651254816876666882-3d6ad4b1c47bc9a5'\n",
      "Skipping unrecognised entry ID: 'promoted-tweet-1673374311325876245-3d6a9acffd024afb'\n"
     ]
    },
    {
     "name": "stdout",
     "output_type": "stream",
     "text": [
      "Scraped Tweets: 109 for hashtag: Bitcoin\n",
      "Scraped Tweets: 110 for hashtag: Bitcoin\n",
      "Scraped Tweets: 111 for hashtag: Bitcoin\n",
      "Scraped Tweets: 112 for hashtag: Bitcoin\n"
     ]
    },
    {
     "name": "stderr",
     "output_type": "stream",
     "text": [
      "Skipping unrecognised entry ID: 'promoted-tweet-1651254816876666882-3d6a246096b93a47'\n",
      "Skipping unrecognised entry ID: 'promoted-tweet-1671907214187954178-3d6a7eefc7d1e57a'\n",
      "Skipping unrecognised entry ID: 'promoted-tweet-1673374814743019531-3d6a130f8973416c'\n"
     ]
    },
    {
     "name": "stdout",
     "output_type": "stream",
     "text": [
      "Scraped Tweets: 113 for hashtag: Bitcoin\n",
      "Scraped Tweets: 114 for hashtag: Bitcoin\n",
      "Scraped Tweets: 115 for hashtag: Bitcoin\n",
      "Scraped Tweets: 116 for hashtag: Bitcoin\n",
      "Scraped Tweets: 117 for hashtag: Bitcoin\n",
      "Scraped Tweets: 118 for hashtag: Bitcoin\n",
      "Scraped Tweets: 119 for hashtag: Bitcoin\n",
      "Scraped Tweets: 120 for hashtag: Bitcoin\n",
      "Scraped Tweets: 121 for hashtag: Bitcoin\n"
     ]
    },
    {
     "name": "stderr",
     "output_type": "stream",
     "text": [
      "Skipping unrecognised entry ID: 'promoted-tweet-1651254815916281864-3d6a9f3710863bb0'\n"
     ]
    },
    {
     "name": "stdout",
     "output_type": "stream",
     "text": [
      "Scraped Tweets: 122 for hashtag: Bitcoin\n",
      "Scraped Tweets: 123 for hashtag: Bitcoin\n",
      "Scraped Tweets: 124 for hashtag: Bitcoin\n"
     ]
    },
    {
     "name": "stderr",
     "output_type": "stream",
     "text": [
      "Skipping unrecognised entry ID: 'promoted-tweet-1651254816876666882-3d6a4e073a1845b6'\n"
     ]
    },
    {
     "name": "stdout",
     "output_type": "stream",
     "text": [
      "Scraped Tweets: 125 for hashtag: Bitcoin\n",
      "Scraped Tweets: 126 for hashtag: Bitcoin\n"
     ]
    },
    {
     "name": "stderr",
     "output_type": "stream",
     "text": [
      "Skipping unrecognised entry ID: 'promoted-tweet-1651254816876666882-3d6abb39bae0f643'\n",
      "Skipping unrecognised entry ID: 'promoted-tweet-1673374311325876245-3d6abe414354a25d'\n"
     ]
    },
    {
     "name": "stdout",
     "output_type": "stream",
     "text": [
      "Scraped Tweets: 127 for hashtag: Bitcoin\n",
      "Scraped Tweets: 128 for hashtag: Bitcoin\n",
      "Scraped Tweets: 129 for hashtag: Bitcoin\n",
      "Scraped Tweets: 130 for hashtag: Bitcoin\n",
      "Scraped Tweets: 131 for hashtag: Bitcoin\n",
      "Scraped Tweets: 132 for hashtag: Bitcoin\n"
     ]
    },
    {
     "name": "stderr",
     "output_type": "stream",
     "text": [
      "Skipping unrecognised entry ID: 'promoted-tweet-1651254816876666882-3d6a68ea5aff61ac'\n"
     ]
    },
    {
     "name": "stdout",
     "output_type": "stream",
     "text": [
      "Scraped Tweets: 133 for hashtag: Bitcoin\n",
      "Scraped Tweets: 134 for hashtag: Bitcoin\n",
      "Scraped Tweets: 135 for hashtag: Bitcoin\n"
     ]
    },
    {
     "name": "stderr",
     "output_type": "stream",
     "text": [
      "Skipping unrecognised entry ID: 'promoted-tweet-1651254815916281864-3d6afd167b63119c'\n",
      "Skipping unrecognised entry ID: 'promoted-tweet-1673374311325876245-3d6ac532119a273e'\n"
     ]
    },
    {
     "name": "stdout",
     "output_type": "stream",
     "text": [
      "Scraped Tweets: 136 for hashtag: Bitcoin\n",
      "Scraped Tweets: 137 for hashtag: Bitcoin\n",
      "Scraped Tweets: 138 for hashtag: Bitcoin\n",
      "Scraped Tweets: 139 for hashtag: Bitcoin\n",
      "Scraped Tweets: 140 for hashtag: Bitcoin\n",
      "Scraped Tweets: 141 for hashtag: Bitcoin\n",
      "Scraped Tweets: 142 for hashtag: Bitcoin\n"
     ]
    },
    {
     "name": "stderr",
     "output_type": "stream",
     "text": [
      "Skipping unrecognised entry ID: 'promoted-tweet-1651254816876666882-3d6a7f73903f6c88'\n",
      "Skipping unrecognised entry ID: 'promoted-tweet-1673374311325876245-3d6a791028f89397'\n"
     ]
    },
    {
     "name": "stdout",
     "output_type": "stream",
     "text": [
      "Scraped Tweets: 143 for hashtag: Bitcoin\n",
      "Scraped Tweets: 144 for hashtag: Bitcoin\n",
      "Scraped Tweets: 145 for hashtag: Bitcoin\n",
      "Scraped Tweets: 146 for hashtag: Bitcoin\n",
      "Scraped Tweets: 147 for hashtag: Bitcoin\n",
      "Scraped Tweets: 148 for hashtag: Bitcoin\n"
     ]
    },
    {
     "name": "stderr",
     "output_type": "stream",
     "text": [
      "Skipping unrecognised entry ID: 'promoted-tweet-1651254815916281864-3d6a329eeda18c33'\n"
     ]
    },
    {
     "name": "stdout",
     "output_type": "stream",
     "text": [
      "Scraped Tweets: 149 for hashtag: Bitcoin\n",
      "Scraped Tweets: 150 for hashtag: Bitcoin\n"
     ]
    },
    {
     "name": "stderr",
     "output_type": "stream",
     "text": [
      "Skipping unrecognised entry ID: 'promoted-tweet-1651254816876666882-3d6a36d78b29c02b'\n"
     ]
    },
    {
     "name": "stdout",
     "output_type": "stream",
     "text": [
      "Scraped Tweets: 151 for hashtag: Bitcoin\n",
      "Scraped Tweets: 152 for hashtag: Bitcoin\n",
      "Scraped Tweets: 153 for hashtag: Bitcoin\n",
      "Scraped Tweets: 154 for hashtag: Bitcoin\n"
     ]
    },
    {
     "name": "stderr",
     "output_type": "stream",
     "text": [
      "Skipping unrecognised entry ID: 'promoted-tweet-1651254815916281864-3d6a64b906e084a4'\n",
      "Skipping unrecognised entry ID: 'promoted-tweet-1673374311325876245-3d6a87fb56517422'\n"
     ]
    },
    {
     "name": "stdout",
     "output_type": "stream",
     "text": [
      "Scraped Tweets: 155 for hashtag: Bitcoin\n",
      "Scraped Tweets: 156 for hashtag: Bitcoin\n",
      "Scraped Tweets: 157 for hashtag: Bitcoin\n",
      "Scraped Tweets: 158 for hashtag: Bitcoin\n",
      "Scraped Tweets: 159 for hashtag: Bitcoin\n",
      "Scraped Tweets: 160 for hashtag: Bitcoin\n",
      "Scraped Tweets: 161 for hashtag: Bitcoin\n",
      "Scraped Tweets: 162 for hashtag: Bitcoin\n"
     ]
    },
    {
     "name": "stderr",
     "output_type": "stream",
     "text": [
      "Skipping unrecognised entry ID: 'promoted-tweet-1651254815916281864-3d6a116654002343'\n",
      "Skipping unrecognised entry ID: 'promoted-tweet-1673374311325876245-3d6ad70372717485'\n"
     ]
    },
    {
     "name": "stdout",
     "output_type": "stream",
     "text": [
      "Scraped Tweets: 163 for hashtag: Bitcoin\n",
      "Scraped Tweets: 164 for hashtag: Bitcoin\n",
      "Scraped Tweets: 165 for hashtag: Bitcoin\n",
      "Scraped Tweets: 166 for hashtag: Bitcoin\n",
      "Scraped Tweets: 167 for hashtag: Bitcoin\n",
      "Scraped Tweets: 168 for hashtag: Bitcoin\n"
     ]
    },
    {
     "name": "stderr",
     "output_type": "stream",
     "text": [
      "Skipping unrecognised entry ID: 'promoted-tweet-1651254816876666882-3d6ab47a0543096b'\n",
      "Skipping unrecognised entry ID: 'promoted-tweet-1673374311325876245-3d6a72eab4754e21'\n",
      "Skipping unrecognised entry ID: 'promoted-tweet-1671907214187954178-3d6ab1604a1c1e42'\n"
     ]
    },
    {
     "name": "stdout",
     "output_type": "stream",
     "text": [
      "Scraped Tweets: 169 for hashtag: Bitcoin\n",
      "Scraped Tweets: 170 for hashtag: Bitcoin\n",
      "Scraped Tweets: 171 for hashtag: Bitcoin\n",
      "Scraped Tweets: 172 for hashtag: Bitcoin\n",
      "Scraped Tweets: 173 for hashtag: Bitcoin\n",
      "Scraped Tweets: 174 for hashtag: Bitcoin\n",
      "Scraped Tweets: 175 for hashtag: Bitcoin\n",
      "Scraped Tweets: 176 for hashtag: Bitcoin\n"
     ]
    },
    {
     "name": "stderr",
     "output_type": "stream",
     "text": [
      "Skipping unrecognised entry ID: 'promoted-tweet-1651254816876666882-3d6a88f87c818930'\n",
      "Skipping unrecognised entry ID: 'promoted-tweet-1673374311325876245-3d6a1b7b354d4cb6'\n",
      "Skipping unrecognised entry ID: 'promoted-tweet-1671907214187954178-3d6ac017c6a5dd0c'\n"
     ]
    },
    {
     "name": "stdout",
     "output_type": "stream",
     "text": [
      "Scraped Tweets: 177 for hashtag: Bitcoin\n",
      "Scraped Tweets: 178 for hashtag: Bitcoin\n",
      "Scraped Tweets: 179 for hashtag: Bitcoin\n",
      "Scraped Tweets: 180 for hashtag: Bitcoin\n",
      "Scraped Tweets: 181 for hashtag: Bitcoin\n",
      "Scraped Tweets: 182 for hashtag: Bitcoin\n",
      "Scraped Tweets: 183 for hashtag: Bitcoin\n",
      "Scraped Tweets: 184 for hashtag: Bitcoin\n",
      "Scraped Tweets: 185 for hashtag: Bitcoin\n"
     ]
    },
    {
     "name": "stderr",
     "output_type": "stream",
     "text": [
      "Skipping unrecognised entry ID: 'promoted-tweet-1673374311325876245-3d6a62e2ed30a249'\n",
      "Skipping unrecognised entry ID: 'promoted-tweet-1666316274106810368-3d6a242616ecdefd'\n"
     ]
    },
    {
     "name": "stdout",
     "output_type": "stream",
     "text": [
      "Scraped Tweets: 186 for hashtag: Bitcoin\n",
      "Scraped Tweets: 187 for hashtag: Bitcoin\n",
      "Scraped Tweets: 188 for hashtag: Bitcoin\n",
      "Scraped Tweets: 189 for hashtag: Bitcoin\n",
      "Scraped Tweets: 190 for hashtag: Bitcoin\n"
     ]
    },
    {
     "name": "stderr",
     "output_type": "stream",
     "text": [
      "Skipping unrecognised entry ID: 'promoted-tweet-1651254816876666882-3d6aa0c3c4f5f497'\n",
      "Skipping unrecognised entry ID: 'promoted-tweet-1673374311325876245-3d6a7b6da924c696'\n"
     ]
    },
    {
     "name": "stdout",
     "output_type": "stream",
     "text": [
      "Scraped Tweets: 191 for hashtag: Bitcoin\n",
      "Scraped Tweets: 192 for hashtag: Bitcoin\n",
      "Scraped Tweets: 193 for hashtag: Bitcoin\n",
      "Scraped Tweets: 194 for hashtag: Bitcoin\n",
      "Scraped Tweets: 195 for hashtag: Bitcoin\n"
     ]
    },
    {
     "name": "stderr",
     "output_type": "stream",
     "text": [
      "Skipping unrecognised entry ID: 'promoted-tweet-1651254816876666882-3d6ad9becffd2e23'\n"
     ]
    },
    {
     "name": "stdout",
     "output_type": "stream",
     "text": [
      "Scraped Tweets: 196 for hashtag: Bitcoin\n",
      "Scraped Tweets: 197 for hashtag: Bitcoin\n",
      "Scraped Tweets: 198 for hashtag: Bitcoin\n",
      "Scraped Tweets: 199 for hashtag: Bitcoin\n",
      "Scraped Tweets: 200 for hashtag: Bitcoin\n"
     ]
    },
    {
     "name": "stderr",
     "output_type": "stream",
     "text": [
      "Skipping unrecognised entry ID: 'promoted-tweet-1651254816876666882-3d6a781f7b820343'\n",
      "Skipping unrecognised entry ID: 'promoted-tweet-1673374311325876245-3d6a8ad8899a672e'\n",
      "Skipping unrecognised entry ID: 'promoted-tweet-1670648060425428994-3d6aee5a9c03cb38'\n"
     ]
    },
    {
     "name": "stdout",
     "output_type": "stream",
     "text": [
      "Scraped Tweets: 1 for hashtag: Coindesk\n",
      "Scraped Tweets: 2 for hashtag: Coindesk\n",
      "Scraped Tweets: 3 for hashtag: Coindesk\n",
      "Scraped Tweets: 4 for hashtag: Coindesk\n",
      "Scraped Tweets: 5 for hashtag: Coindesk\n",
      "Scraped Tweets: 6 for hashtag: Coindesk\n",
      "Scraped Tweets: 7 for hashtag: Coindesk\n"
     ]
    },
    {
     "name": "stderr",
     "output_type": "stream",
     "text": [
      "Skipping unrecognised entry ID: 'promoted-tweet-1651254816876666882-3d6a6e7aa92aaf74'\n",
      "Skipping unrecognised entry ID: 'promoted-tweet-1670648060425428994-3d6a6b17026dda8f'\n",
      "Skipping unrecognised entry ID: 'promoted-tweet-1673374814743019531-3d6a52d1db945ed9'\n"
     ]
    },
    {
     "name": "stdout",
     "output_type": "stream",
     "text": [
      "Scraped Tweets: 8 for hashtag: Coindesk\n",
      "Scraped Tweets: 9 for hashtag: Coindesk\n",
      "Scraped Tweets: 10 for hashtag: Coindesk\n"
     ]
    },
    {
     "name": "stderr",
     "output_type": "stream",
     "text": [
      "Skipping unrecognised entry ID: 'promoted-tweet-1673374311325876245-3d6a563e382266a2'\n"
     ]
    },
    {
     "name": "stdout",
     "output_type": "stream",
     "text": [
      "Scraped Tweets: 11 for hashtag: Coindesk\n"
     ]
    },
    {
     "name": "stderr",
     "output_type": "stream",
     "text": [
      "Skipping unrecognised entry ID: 'promoted-tweet-1651254816876666882-3d6a01ee0cb4aacb'\n"
     ]
    },
    {
     "name": "stdout",
     "output_type": "stream",
     "text": [
      "Scraped Tweets: 12 for hashtag: Coindesk\n",
      "Scraped Tweets: 13 for hashtag: Coindesk\n",
      "Scraped Tweets: 14 for hashtag: Coindesk\n",
      "Scraped Tweets: 15 for hashtag: Coindesk\n"
     ]
    },
    {
     "name": "stderr",
     "output_type": "stream",
     "text": [
      "Skipping unrecognised entry ID: 'promoted-tweet-1651254816876666882-3d6a6e51c7ea6094'\n",
      "Skipping unrecognised entry ID: 'promoted-tweet-1673374311325876245-3d6a0c91ee61b79e'\n"
     ]
    },
    {
     "name": "stdout",
     "output_type": "stream",
     "text": [
      "Scraped Tweets: 16 for hashtag: Coindesk\n",
      "Scraped Tweets: 17 for hashtag: Coindesk\n",
      "Scraped Tweets: 18 for hashtag: Coindesk\n",
      "Scraped Tweets: 19 for hashtag: Coindesk\n",
      "Scraped Tweets: 20 for hashtag: Coindesk\n",
      "Scraped Tweets: 21 for hashtag: Coindesk\n"
     ]
    },
    {
     "name": "stderr",
     "output_type": "stream",
     "text": [
      "Skipping unrecognised entry ID: 'promoted-tweet-1651254816876666882-3d6a83c3388a4fae'\n"
     ]
    },
    {
     "name": "stdout",
     "output_type": "stream",
     "text": [
      "Scraped Tweets: 22 for hashtag: Coindesk\n",
      "Scraped Tweets: 23 for hashtag: Coindesk\n",
      "Scraped Tweets: 24 for hashtag: Coindesk\n",
      "Scraped Tweets: 25 for hashtag: Coindesk\n"
     ]
    },
    {
     "name": "stderr",
     "output_type": "stream",
     "text": [
      "Skipping unrecognised entry ID: 'promoted-tweet-1651254815916281864-3d6a2712de3d2505'\n",
      "Skipping unrecognised entry ID: 'promoted-tweet-1673374311325876245-3d6a3f619ae8d36b'\n"
     ]
    },
    {
     "name": "stdout",
     "output_type": "stream",
     "text": [
      "Scraped Tweets: 26 for hashtag: Coindesk\n",
      "Scraped Tweets: 27 for hashtag: Coindesk\n",
      "Scraped Tweets: 28 for hashtag: Coindesk\n",
      "Scraped Tweets: 29 for hashtag: Coindesk\n"
     ]
    },
    {
     "name": "stderr",
     "output_type": "stream",
     "text": [
      "Skipping unrecognised entry ID: 'promoted-tweet-1651254816876666882-3d6a24148b7329fd'\n",
      "Skipping unrecognised entry ID: 'promoted-tweet-1673374311325876245-3d6a6ebfdc1994bf'\n"
     ]
    },
    {
     "name": "stdout",
     "output_type": "stream",
     "text": [
      "Scraped Tweets: 30 for hashtag: Coindesk\n",
      "Scraped Tweets: 31 for hashtag: Coindesk\n",
      "Scraped Tweets: 32 for hashtag: Coindesk\n",
      "Scraped Tweets: 33 for hashtag: Coindesk\n",
      "Scraped Tweets: 34 for hashtag: Coindesk\n",
      "Scraped Tweets: 35 for hashtag: Coindesk\n",
      "Scraped Tweets: 36 for hashtag: Coindesk\n"
     ]
    },
    {
     "name": "stderr",
     "output_type": "stream",
     "text": [
      "Skipping unrecognised entry ID: 'promoted-tweet-1651254816876666882-3d6a52dd045b1b10'\n",
      "Skipping unrecognised entry ID: 'promoted-tweet-1673374311325876245-3d6a2bad288279bb'\n",
      "Skipping unrecognised entry ID: 'promoted-tweet-1670648060425428994-3d6af1338e108bec'\n"
     ]
    },
    {
     "name": "stdout",
     "output_type": "stream",
     "text": [
      "Scraped Tweets: 37 for hashtag: Coindesk\n",
      "Scraped Tweets: 38 for hashtag: Coindesk\n",
      "Scraped Tweets: 39 for hashtag: Coindesk\n",
      "Scraped Tweets: 40 for hashtag: Coindesk\n",
      "Scraped Tweets: 41 for hashtag: Coindesk\n",
      "Scraped Tweets: 42 for hashtag: Coindesk\n",
      "Scraped Tweets: 43 for hashtag: Coindesk\n"
     ]
    },
    {
     "name": "stderr",
     "output_type": "stream",
     "text": [
      "Skipping unrecognised entry ID: 'promoted-tweet-1651254815916281864-3d6a3517a37e9688'\n",
      "Skipping unrecognised entry ID: 'promoted-tweet-1673374311325876245-3d6a884b10684250'\n",
      "Skipping unrecognised entry ID: 'promoted-tweet-1670648060425428994-3d6a9c270370efe9'\n"
     ]
    },
    {
     "name": "stdout",
     "output_type": "stream",
     "text": [
      "Scraped Tweets: 44 for hashtag: Coindesk\n",
      "Scraped Tweets: 45 for hashtag: Coindesk\n",
      "Scraped Tweets: 46 for hashtag: Coindesk\n",
      "Scraped Tweets: 47 for hashtag: Coindesk\n",
      "Scraped Tweets: 48 for hashtag: Coindesk\n",
      "Scraped Tweets: 49 for hashtag: Coindesk\n",
      "Scraped Tweets: 50 for hashtag: Coindesk\n"
     ]
    },
    {
     "name": "stderr",
     "output_type": "stream",
     "text": [
      "Skipping unrecognised entry ID: 'promoted-tweet-1651254816876666882-3d6aac16fcb5d8bf'\n",
      "Skipping unrecognised entry ID: 'promoted-tweet-1673374311325876245-3d6a41d0fd92c21a'\n",
      "Skipping unrecognised entry ID: 'promoted-tweet-1670648060425428994-3d6af200f967632a'\n"
     ]
    },
    {
     "name": "stdout",
     "output_type": "stream",
     "text": [
      "Scraped Tweets: 51 for hashtag: Coindesk\n",
      "Scraped Tweets: 52 for hashtag: Coindesk\n",
      "Scraped Tweets: 53 for hashtag: Coindesk\n",
      "Scraped Tweets: 54 for hashtag: Coindesk\n",
      "Scraped Tweets: 55 for hashtag: Coindesk\n",
      "Scraped Tweets: 56 for hashtag: Coindesk\n"
     ]
    },
    {
     "name": "stderr",
     "output_type": "stream",
     "text": [
      "Skipping unrecognised entry ID: 'promoted-tweet-1651254816876666882-3d6aab9e25eebf98'\n"
     ]
    },
    {
     "name": "stdout",
     "output_type": "stream",
     "text": [
      "Scraped Tweets: 57 for hashtag: Coindesk\n",
      "Scraped Tweets: 58 for hashtag: Coindesk\n",
      "Scraped Tweets: 59 for hashtag: Coindesk\n",
      "Scraped Tweets: 60 for hashtag: Coindesk\n"
     ]
    },
    {
     "name": "stderr",
     "output_type": "stream",
     "text": [
      "Skipping unrecognised entry ID: 'promoted-tweet-1651254816876666882-3d6a2a491ba3527b'\n"
     ]
    },
    {
     "name": "stdout",
     "output_type": "stream",
     "text": [
      "Scraped Tweets: 61 for hashtag: Coindesk\n",
      "Scraped Tweets: 62 for hashtag: Coindesk\n",
      "Scraped Tweets: 63 for hashtag: Coindesk\n",
      "Scraped Tweets: 64 for hashtag: Coindesk\n"
     ]
    },
    {
     "name": "stderr",
     "output_type": "stream",
     "text": [
      "Skipping unrecognised entry ID: 'promoted-tweet-1651254815916281864-3d6a9fa2f9378d51'\n"
     ]
    },
    {
     "name": "stdout",
     "output_type": "stream",
     "text": [
      "Scraped Tweets: 65 for hashtag: Coindesk\n",
      "Scraped Tweets: 66 for hashtag: Coindesk\n"
     ]
    },
    {
     "name": "stderr",
     "output_type": "stream",
     "text": [
      "Stopping after 20 empty pages\n"
     ]
    },
    {
     "name": "stdout",
     "output_type": "stream",
     "text": [
      "Scraped Tweets: 1 for hashtag: Cryptocurrency\n",
      "Scraped Tweets: 2 for hashtag: Cryptocurrency\n",
      "Scraped Tweets: 3 for hashtag: Cryptocurrency\n"
     ]
    },
    {
     "name": "stderr",
     "output_type": "stream",
     "text": [
      "Stopping after 20 empty pages\n",
      "Skipping unrecognised entry ID: 'promoted-tweet-1673374311325876245-3d6a31bd80112528'\n",
      "Skipping unrecognised entry ID: 'promoted-tweet-1666316274106810368-3d6ad11c2bf9838f'\n"
     ]
    },
    {
     "name": "stdout",
     "output_type": "stream",
     "text": [
      "Scraped Tweets: 1 for hashtag: Gold\n",
      "Scraped Tweets: 2 for hashtag: Gold\n",
      "Scraped Tweets: 3 for hashtag: Gold\n",
      "Scraped Tweets: 4 for hashtag: Gold\n",
      "Scraped Tweets: 5 for hashtag: Gold\n",
      "Scraped Tweets: 6 for hashtag: Gold\n",
      "Scraped Tweets: 7 for hashtag: Gold\n",
      "Scraped Tweets: 8 for hashtag: Gold\n",
      "Scraped Tweets: 9 for hashtag: Gold\n"
     ]
    },
    {
     "name": "stderr",
     "output_type": "stream",
     "text": [
      "Skipping unrecognised entry ID: 'promoted-tweet-1673374311325876245-3d6abbfe4f644e7c'\n",
      "Skipping unrecognised entry ID: 'promoted-tweet-1667350876229627904-3d6abe7deedeecbd'\n"
     ]
    },
    {
     "name": "stdout",
     "output_type": "stream",
     "text": [
      "Scraped Tweets: 10 for hashtag: Gold\n",
      "Scraped Tweets: 11 for hashtag: Gold\n",
      "Scraped Tweets: 12 for hashtag: Gold\n",
      "Scraped Tweets: 13 for hashtag: Gold\n",
      "Scraped Tweets: 14 for hashtag: Gold\n",
      "Scraped Tweets: 15 for hashtag: Gold\n",
      "Scraped Tweets: 16 for hashtag: Gold\n",
      "Scraped Tweets: 17 for hashtag: Gold\n",
      "Scraped Tweets: 18 for hashtag: Gold\n",
      "Scraped Tweets: 19 for hashtag: Gold\n",
      "Scraped Tweets: 20 for hashtag: Gold\n",
      "Scraped Tweets: 21 for hashtag: Gold\n"
     ]
    },
    {
     "name": "stderr",
     "output_type": "stream",
     "text": [
      "Skipping unrecognised entry ID: 'promoted-tweet-1673374814743019531-3d6a4a0f7e7120cb'\n",
      "Skipping unrecognised entry ID: 'promoted-tweet-1671521473335291905-3d6a0fd16b87330c'\n",
      "Skipping unrecognised entry ID: 'promoted-tweet-1666316274106810368-3d6aebe399aaa50e'\n"
     ]
    },
    {
     "name": "stdout",
     "output_type": "stream",
     "text": [
      "Scraped Tweets: 22 for hashtag: Gold\n",
      "Scraped Tweets: 23 for hashtag: Gold\n",
      "Scraped Tweets: 24 for hashtag: Gold\n",
      "Scraped Tweets: 25 for hashtag: Gold\n",
      "Scraped Tweets: 26 for hashtag: Gold\n",
      "Scraped Tweets: 27 for hashtag: Gold\n",
      "Scraped Tweets: 28 for hashtag: Gold\n",
      "Scraped Tweets: 29 for hashtag: Gold\n",
      "Scraped Tweets: 30 for hashtag: Gold\n",
      "Scraped Tweets: 31 for hashtag: Gold\n",
      "Scraped Tweets: 32 for hashtag: Gold\n"
     ]
    },
    {
     "name": "stderr",
     "output_type": "stream",
     "text": [
      "Skipping unrecognised entry ID: 'promoted-tweet-1673374311325876245-3d6a367023e40ffa'\n",
      "Skipping unrecognised entry ID: 'promoted-tweet-1666316274106810368-3d6a8c05eca48764'\n"
     ]
    },
    {
     "name": "stdout",
     "output_type": "stream",
     "text": [
      "Scraped Tweets: 33 for hashtag: Gold\n",
      "Scraped Tweets: 34 for hashtag: Gold\n",
      "Scraped Tweets: 35 for hashtag: Gold\n",
      "Scraped Tweets: 36 for hashtag: Gold\n",
      "Scraped Tweets: 37 for hashtag: Gold\n",
      "Scraped Tweets: 38 for hashtag: Gold\n",
      "Scraped Tweets: 39 for hashtag: Gold\n",
      "Scraped Tweets: 40 for hashtag: Gold\n",
      "Scraped Tweets: 41 for hashtag: Gold\n"
     ]
    },
    {
     "name": "stderr",
     "output_type": "stream",
     "text": [
      "Skipping unrecognised entry ID: 'promoted-tweet-1673374311325876245-3d6acda9bc2da38f'\n",
      "Skipping unrecognised entry ID: 'promoted-tweet-1666316274106810368-3d6a9059674bf8ec'\n"
     ]
    },
    {
     "name": "stdout",
     "output_type": "stream",
     "text": [
      "Scraped Tweets: 42 for hashtag: Gold\n",
      "Scraped Tweets: 43 for hashtag: Gold\n",
      "Scraped Tweets: 44 for hashtag: Gold\n",
      "Scraped Tweets: 45 for hashtag: Gold\n",
      "Scraped Tweets: 46 for hashtag: Gold\n",
      "Scraped Tweets: 47 for hashtag: Gold\n",
      "Scraped Tweets: 48 for hashtag: Gold\n",
      "Scraped Tweets: 49 for hashtag: Gold\n",
      "Scraped Tweets: 50 for hashtag: Gold\n"
     ]
    },
    {
     "name": "stderr",
     "output_type": "stream",
     "text": [
      "Skipping unrecognised entry ID: 'promoted-tweet-1673374311325876245-3d6ab635d2aa6f0f'\n",
      "Skipping unrecognised entry ID: 'promoted-tweet-1671521473335291905-3d6ac5d06a8e4fc1'\n"
     ]
    },
    {
     "name": "stdout",
     "output_type": "stream",
     "text": [
      "Scraped Tweets: 51 for hashtag: Gold\n",
      "Scraped Tweets: 52 for hashtag: Gold\n",
      "Scraped Tweets: 53 for hashtag: Gold\n",
      "Scraped Tweets: 54 for hashtag: Gold\n",
      "Scraped Tweets: 55 for hashtag: Gold\n",
      "Scraped Tweets: 56 for hashtag: Gold\n",
      "Scraped Tweets: 57 for hashtag: Gold\n",
      "Scraped Tweets: 58 for hashtag: Gold\n",
      "Scraped Tweets: 59 for hashtag: Gold\n"
     ]
    },
    {
     "name": "stderr",
     "output_type": "stream",
     "text": [
      "Skipping unrecognised entry ID: 'promoted-tweet-1673374311325876245-3d6a472b6ab17362'\n",
      "Skipping unrecognised entry ID: 'promoted-tweet-1666316274106810368-3d6a280ecfadffef'\n"
     ]
    },
    {
     "name": "stdout",
     "output_type": "stream",
     "text": [
      "Scraped Tweets: 60 for hashtag: Gold\n",
      "Scraped Tweets: 61 for hashtag: Gold\n",
      "Scraped Tweets: 62 for hashtag: Gold\n",
      "Scraped Tweets: 63 for hashtag: Gold\n"
     ]
    },
    {
     "name": "stderr",
     "output_type": "stream",
     "text": [
      "Skipping unrecognised entry ID: 'promoted-tweet-1673374311325876245-3d6a0f87f210647d'\n",
      "Skipping unrecognised entry ID: 'promoted-tweet-1666316274106810368-3d6ad47bb0d75148'\n"
     ]
    },
    {
     "name": "stdout",
     "output_type": "stream",
     "text": [
      "Scraped Tweets: 64 for hashtag: Gold\n",
      "Scraped Tweets: 65 for hashtag: Gold\n",
      "Scraped Tweets: 66 for hashtag: Gold\n",
      "Scraped Tweets: 67 for hashtag: Gold\n",
      "Scraped Tweets: 68 for hashtag: Gold\n",
      "Scraped Tweets: 69 for hashtag: Gold\n",
      "Scraped Tweets: 70 for hashtag: Gold\n",
      "Scraped Tweets: 71 for hashtag: Gold\n",
      "Scraped Tweets: 72 for hashtag: Gold\n",
      "Scraped Tweets: 73 for hashtag: Gold\n",
      "Scraped Tweets: 74 for hashtag: Gold\n"
     ]
    },
    {
     "name": "stderr",
     "output_type": "stream",
     "text": [
      "Skipping unrecognised entry ID: 'promoted-tweet-1673374311325876245-3d6a73a329b319fc'\n",
      "Skipping unrecognised entry ID: 'promoted-tweet-1667350876229627904-3d6a63dea213b0c2'\n",
      "Skipping unrecognised entry ID: 'promoted-tweet-1666316274106810368-3d6a2d75db69d272'\n"
     ]
    },
    {
     "name": "stdout",
     "output_type": "stream",
     "text": [
      "Scraped Tweets: 75 for hashtag: Gold\n",
      "Scraped Tweets: 76 for hashtag: Gold\n",
      "Scraped Tweets: 77 for hashtag: Gold\n",
      "Scraped Tweets: 78 for hashtag: Gold\n",
      "Scraped Tweets: 79 for hashtag: Gold\n",
      "Scraped Tweets: 80 for hashtag: Gold\n",
      "Scraped Tweets: 81 for hashtag: Gold\n",
      "Scraped Tweets: 82 for hashtag: Gold\n",
      "Scraped Tweets: 83 for hashtag: Gold\n",
      "Scraped Tweets: 84 for hashtag: Gold\n"
     ]
    },
    {
     "name": "stderr",
     "output_type": "stream",
     "text": [
      "Skipping unrecognised entry ID: 'promoted-tweet-1673374311325876245-3d6a019ee84223c7'\n"
     ]
    },
    {
     "name": "stdout",
     "output_type": "stream",
     "text": [
      "Scraped Tweets: 85 for hashtag: Gold\n",
      "Scraped Tweets: 86 for hashtag: Gold\n",
      "Scraped Tweets: 87 for hashtag: Gold\n",
      "Scraped Tweets: 88 for hashtag: Gold\n",
      "Scraped Tweets: 89 for hashtag: Gold\n",
      "Scraped Tweets: 90 for hashtag: Gold\n",
      "Scraped Tweets: 91 for hashtag: Gold\n",
      "Scraped Tweets: 92 for hashtag: Gold\n",
      "Scraped Tweets: 93 for hashtag: Gold\n"
     ]
    },
    {
     "name": "stderr",
     "output_type": "stream",
     "text": [
      "Skipping unrecognised entry ID: 'promoted-tweet-1673374311325876245-3d6af93ad9aa97ea'\n"
     ]
    },
    {
     "name": "stdout",
     "output_type": "stream",
     "text": [
      "Scraped Tweets: 94 for hashtag: Gold\n",
      "Scraped Tweets: 95 for hashtag: Gold\n",
      "Scraped Tweets: 96 for hashtag: Gold\n",
      "Scraped Tweets: 97 for hashtag: Gold\n",
      "Scraped Tweets: 98 for hashtag: Gold\n",
      "Scraped Tweets: 99 for hashtag: Gold\n",
      "Scraped Tweets: 100 for hashtag: Gold\n",
      "Scraped Tweets: 101 for hashtag: Gold\n",
      "Scraped Tweets: 102 for hashtag: Gold\n"
     ]
    },
    {
     "name": "stderr",
     "output_type": "stream",
     "text": [
      "Skipping unrecognised entry ID: 'promoted-tweet-1673374311325876245-3d6a145190643448'\n",
      "Skipping unrecognised entry ID: 'promoted-tweet-1666316274106810368-3d6a84b298e2356d'\n"
     ]
    },
    {
     "name": "stdout",
     "output_type": "stream",
     "text": [
      "Scraped Tweets: 103 for hashtag: Gold\n",
      "Scraped Tweets: 104 for hashtag: Gold\n",
      "Scraped Tweets: 105 for hashtag: Gold\n",
      "Scraped Tweets: 106 for hashtag: Gold\n",
      "Scraped Tweets: 107 for hashtag: Gold\n",
      "Scraped Tweets: 108 for hashtag: Gold\n",
      "Scraped Tweets: 109 for hashtag: Gold\n",
      "Scraped Tweets: 110 for hashtag: Gold\n"
     ]
    },
    {
     "name": "stderr",
     "output_type": "stream",
     "text": [
      "Skipping unrecognised entry ID: 'promoted-tweet-1673374311325876245-3d6a380fdb59e576'\n"
     ]
    },
    {
     "name": "stdout",
     "output_type": "stream",
     "text": [
      "Scraped Tweets: 111 for hashtag: Gold\n",
      "Scraped Tweets: 112 for hashtag: Gold\n",
      "Scraped Tweets: 113 for hashtag: Gold\n",
      "Scraped Tweets: 114 for hashtag: Gold\n",
      "Scraped Tweets: 115 for hashtag: Gold\n",
      "Scraped Tweets: 116 for hashtag: Gold\n",
      "Scraped Tweets: 117 for hashtag: Gold\n",
      "Scraped Tweets: 118 for hashtag: Gold\n"
     ]
    },
    {
     "name": "stderr",
     "output_type": "stream",
     "text": [
      "Skipping unrecognised entry ID: 'promoted-tweet-1673374311325876245-3d6ab1fdaac648fe'\n"
     ]
    },
    {
     "name": "stdout",
     "output_type": "stream",
     "text": [
      "Scraped Tweets: 119 for hashtag: Gold\n",
      "Scraped Tweets: 120 for hashtag: Gold\n",
      "Scraped Tweets: 121 for hashtag: Gold\n",
      "Scraped Tweets: 122 for hashtag: Gold\n",
      "Scraped Tweets: 123 for hashtag: Gold\n",
      "Scraped Tweets: 124 for hashtag: Gold\n",
      "Scraped Tweets: 125 for hashtag: Gold\n"
     ]
    },
    {
     "name": "stderr",
     "output_type": "stream",
     "text": [
      "Skipping unrecognised entry ID: 'promoted-tweet-1673374311325876245-3d6a5dfd5e15e7e5'\n"
     ]
    },
    {
     "name": "stdout",
     "output_type": "stream",
     "text": [
      "Scraped Tweets: 126 for hashtag: Gold\n",
      "Scraped Tweets: 127 for hashtag: Gold\n",
      "Scraped Tweets: 128 for hashtag: Gold\n",
      "Scraped Tweets: 129 for hashtag: Gold\n",
      "Scraped Tweets: 130 for hashtag: Gold\n",
      "Scraped Tweets: 131 for hashtag: Gold\n",
      "Scraped Tweets: 132 for hashtag: Gold\n",
      "Scraped Tweets: 133 for hashtag: Gold\n",
      "Scraped Tweets: 134 for hashtag: Gold\n"
     ]
    },
    {
     "name": "stderr",
     "output_type": "stream",
     "text": [
      "Skipping unrecognised entry ID: 'promoted-tweet-1673374311325876245-3d6a8307e179f9d2'\n",
      "Skipping unrecognised entry ID: 'promoted-tweet-1666316274106810368-3d6a4778bfa474e2'\n"
     ]
    },
    {
     "name": "stdout",
     "output_type": "stream",
     "text": [
      "Scraped Tweets: 135 for hashtag: Gold\n",
      "Scraped Tweets: 136 for hashtag: Gold\n",
      "Scraped Tweets: 137 for hashtag: Gold\n",
      "Scraped Tweets: 138 for hashtag: Gold\n",
      "Scraped Tweets: 139 for hashtag: Gold\n",
      "Scraped Tweets: 140 for hashtag: Gold\n",
      "Scraped Tweets: 141 for hashtag: Gold\n",
      "Scraped Tweets: 142 for hashtag: Gold\n",
      "Scraped Tweets: 143 for hashtag: Gold\n",
      "Scraped Tweets: 144 for hashtag: Gold\n"
     ]
    },
    {
     "name": "stderr",
     "output_type": "stream",
     "text": [
      "Skipping unrecognised entry ID: 'promoted-tweet-1673374311325876245-3d6ab357ecf828ac'\n",
      "Skipping unrecognised entry ID: 'promoted-tweet-1666316274106810368-3d6adf5a15d68466'\n"
     ]
    },
    {
     "name": "stdout",
     "output_type": "stream",
     "text": [
      "Scraped Tweets: 145 for hashtag: Gold\n",
      "Scraped Tweets: 146 for hashtag: Gold\n",
      "Scraped Tweets: 147 for hashtag: Gold\n",
      "Scraped Tweets: 148 for hashtag: Gold\n",
      "Scraped Tweets: 149 for hashtag: Gold\n",
      "Scraped Tweets: 150 for hashtag: Gold\n",
      "Scraped Tweets: 151 for hashtag: Gold\n",
      "Scraped Tweets: 152 for hashtag: Gold\n",
      "Scraped Tweets: 153 for hashtag: Gold\n"
     ]
    },
    {
     "name": "stderr",
     "output_type": "stream",
     "text": [
      "Skipping unrecognised entry ID: 'promoted-tweet-1673374311325876245-3d6a7c86e0d30e22'\n",
      "Skipping unrecognised entry ID: 'promoted-tweet-1667350876229627904-3d6a36a19ee5e008'\n",
      "Skipping unrecognised entry ID: 'promoted-tweet-1666316274106810368-3d6af815fe636634'\n"
     ]
    },
    {
     "name": "stdout",
     "output_type": "stream",
     "text": [
      "Scraped Tweets: 154 for hashtag: Gold\n",
      "Scraped Tweets: 155 for hashtag: Gold\n",
      "Scraped Tweets: 156 for hashtag: Gold\n",
      "Scraped Tweets: 157 for hashtag: Gold\n",
      "Scraped Tweets: 158 for hashtag: Gold\n",
      "Scraped Tweets: 159 for hashtag: Gold\n",
      "Scraped Tweets: 160 for hashtag: Gold\n",
      "Scraped Tweets: 161 for hashtag: Gold\n",
      "Scraped Tweets: 162 for hashtag: Gold\n",
      "Scraped Tweets: 163 for hashtag: Gold\n"
     ]
    },
    {
     "name": "stderr",
     "output_type": "stream",
     "text": [
      "Unavailable user in card on tweet 1673528220333776897\n",
      "User 1667612219654262789 not found in user refs in card on tweet 1673528220333776897\n",
      "Skipping unrecognised entry ID: 'promoted-tweet-1673374311325876245-3d6a6287bb5382b0'\n",
      "Skipping unrecognised entry ID: 'promoted-tweet-1666316274106810368-3d6a61016da05273'\n"
     ]
    },
    {
     "name": "stdout",
     "output_type": "stream",
     "text": [
      "Scraped Tweets: 164 for hashtag: Gold\n",
      "Scraped Tweets: 165 for hashtag: Gold\n",
      "Scraped Tweets: 166 for hashtag: Gold\n",
      "Scraped Tweets: 167 for hashtag: Gold\n",
      "Scraped Tweets: 168 for hashtag: Gold\n",
      "Scraped Tweets: 169 for hashtag: Gold\n",
      "Scraped Tweets: 170 for hashtag: Gold\n",
      "Scraped Tweets: 171 for hashtag: Gold\n",
      "Scraped Tweets: 172 for hashtag: Gold\n"
     ]
    },
    {
     "name": "stderr",
     "output_type": "stream",
     "text": [
      "Skipping unrecognised entry ID: 'promoted-tweet-1673374311325876245-3d6a66f979b50633'\n",
      "Skipping unrecognised entry ID: 'promoted-tweet-1667350876229627904-3d6a0b7363179d20'\n"
     ]
    },
    {
     "name": "stdout",
     "output_type": "stream",
     "text": [
      "Scraped Tweets: 173 for hashtag: Gold\n",
      "Scraped Tweets: 174 for hashtag: Gold\n",
      "Scraped Tweets: 175 for hashtag: Gold\n",
      "Scraped Tweets: 176 for hashtag: Gold\n",
      "Scraped Tweets: 177 for hashtag: Gold\n",
      "Scraped Tweets: 178 for hashtag: Gold\n",
      "Scraped Tweets: 179 for hashtag: Gold\n",
      "Scraped Tweets: 180 for hashtag: Gold\n",
      "Scraped Tweets: 181 for hashtag: Gold\n",
      "Scraped Tweets: 182 for hashtag: Gold\n"
     ]
    },
    {
     "name": "stderr",
     "output_type": "stream",
     "text": [
      "Skipping unrecognised entry ID: 'promoted-tweet-1673374311325876245-3d6a2bd564c242af'\n",
      "Skipping unrecognised entry ID: 'promoted-tweet-1666316274106810368-3d6aa9a48bfcbe21'\n"
     ]
    },
    {
     "name": "stdout",
     "output_type": "stream",
     "text": [
      "Scraped Tweets: 183 for hashtag: Gold\n",
      "Scraped Tweets: 184 for hashtag: Gold\n",
      "Scraped Tweets: 185 for hashtag: Gold\n",
      "Scraped Tweets: 186 for hashtag: Gold\n",
      "Scraped Tweets: 187 for hashtag: Gold\n",
      "Scraped Tweets: 188 for hashtag: Gold\n",
      "Scraped Tweets: 189 for hashtag: Gold\n",
      "Scraped Tweets: 190 for hashtag: Gold\n",
      "Scraped Tweets: 191 for hashtag: Gold\n"
     ]
    },
    {
     "name": "stderr",
     "output_type": "stream",
     "text": [
      "Skipping unrecognised entry ID: 'promoted-tweet-1673374311325876245-3d6a7f85d078679c'\n"
     ]
    },
    {
     "name": "stdout",
     "output_type": "stream",
     "text": [
      "Scraped Tweets: 192 for hashtag: Gold\n",
      "Scraped Tweets: 193 for hashtag: Gold\n",
      "Scraped Tweets: 194 for hashtag: Gold\n",
      "Scraped Tweets: 195 for hashtag: Gold\n",
      "Scraped Tweets: 196 for hashtag: Gold\n",
      "Scraped Tweets: 197 for hashtag: Gold\n",
      "Scraped Tweets: 198 for hashtag: Gold\n",
      "Scraped Tweets: 199 for hashtag: Gold\n",
      "Scraped Tweets: 200 for hashtag: Gold\n"
     ]
    },
    {
     "name": "stderr",
     "output_type": "stream",
     "text": [
      "Skipping unrecognised entry ID: 'promoted-tweet-1673374311325876245-3d6ae09798d8f3e4'\n",
      "Skipping unrecognised entry ID: 'promoted-tweet-1667350876229627904-3d6a8dcc5c23f834'\n",
      "Skipping unrecognised entry ID: 'promoted-tweet-1666316274106810368-3d6ad23dd2f0690e'\n"
     ]
    },
    {
     "name": "stdout",
     "output_type": "stream",
     "text": [
      "Scraped Tweets: 1 for hashtag: GOOG\n",
      "Scraped Tweets: 2 for hashtag: GOOG\n",
      "Scraped Tweets: 3 for hashtag: GOOG\n",
      "Scraped Tweets: 4 for hashtag: GOOG\n",
      "Scraped Tweets: 5 for hashtag: GOOG\n",
      "Scraped Tweets: 6 for hashtag: GOOG\n",
      "Scraped Tweets: 7 for hashtag: GOOG\n",
      "Scraped Tweets: 8 for hashtag: GOOG\n"
     ]
    },
    {
     "name": "stderr",
     "output_type": "stream",
     "text": [
      "Skipping unrecognised entry ID: 'promoted-tweet-1673374311325876245-3d6a010fcdb95841'\n",
      "Skipping unrecognised entry ID: 'promoted-tweet-1666316274106810368-3d6a7374e83359ee'\n"
     ]
    },
    {
     "name": "stdout",
     "output_type": "stream",
     "text": [
      "Scraped Tweets: 9 for hashtag: GOOG\n",
      "Scraped Tweets: 10 for hashtag: GOOG\n"
     ]
    },
    {
     "name": "stderr",
     "output_type": "stream",
     "text": [
      "Skipping unrecognised entry ID: 'promoted-tweet-1673374311325876245-3d6a6950f392f351'\n",
      "Skipping unrecognised entry ID: 'promoted-tweet-1666316274106810368-3d6addad3b61b4a8'\n"
     ]
    },
    {
     "name": "stdout",
     "output_type": "stream",
     "text": [
      "Scraped Tweets: 11 for hashtag: GOOG\n"
     ]
    },
    {
     "name": "stderr",
     "output_type": "stream",
     "text": [
      "Skipping unrecognised entry ID: 'promoted-tweet-1673374311325876245-3d6a8ebea3dbf3a1'\n",
      "Skipping unrecognised entry ID: 'promoted-tweet-1666316274106810368-3d6a419c99db50b3'\n"
     ]
    },
    {
     "name": "stdout",
     "output_type": "stream",
     "text": [
      "Scraped Tweets: 12 for hashtag: GOOG\n",
      "Scraped Tweets: 13 for hashtag: GOOG\n",
      "Scraped Tweets: 14 for hashtag: GOOG\n",
      "Scraped Tweets: 15 for hashtag: GOOG\n",
      "Scraped Tweets: 16 for hashtag: GOOG\n",
      "Scraped Tweets: 17 for hashtag: GOOG\n",
      "Scraped Tweets: 18 for hashtag: GOOG\n"
     ]
    },
    {
     "name": "stderr",
     "output_type": "stream",
     "text": [
      "Skipping unrecognised entry ID: 'promoted-tweet-1673374311325876245-3d6ac9f88385905b'\n",
      "Skipping unrecognised entry ID: 'promoted-tweet-1666316274106810368-3d6a1ac245f768d0'\n"
     ]
    },
    {
     "name": "stdout",
     "output_type": "stream",
     "text": [
      "Scraped Tweets: 19 for hashtag: GOOG\n",
      "Scraped Tweets: 20 for hashtag: GOOG\n",
      "Scraped Tweets: 21 for hashtag: GOOG\n",
      "Scraped Tweets: 22 for hashtag: GOOG\n",
      "Scraped Tweets: 23 for hashtag: GOOG\n",
      "Scraped Tweets: 24 for hashtag: GOOG\n",
      "Scraped Tweets: 25 for hashtag: GOOG\n",
      "Scraped Tweets: 26 for hashtag: GOOG\n"
     ]
    },
    {
     "name": "stderr",
     "output_type": "stream",
     "text": [
      "Skipping unrecognised entry ID: 'promoted-tweet-1673374311325876245-3d6acb5e92a0c8c2'\n",
      "Skipping unrecognised entry ID: 'promoted-tweet-1666316274106810368-3d6abbfde5087c3a'\n"
     ]
    },
    {
     "name": "stdout",
     "output_type": "stream",
     "text": [
      "Scraped Tweets: 27 for hashtag: GOOG\n",
      "Scraped Tweets: 28 for hashtag: GOOG\n",
      "Scraped Tweets: 29 for hashtag: GOOG\n",
      "Scraped Tweets: 30 for hashtag: GOOG\n",
      "Scraped Tweets: 31 for hashtag: GOOG\n",
      "Scraped Tweets: 32 for hashtag: GOOG\n",
      "Scraped Tweets: 33 for hashtag: GOOG\n",
      "Scraped Tweets: 34 for hashtag: GOOG\n",
      "Scraped Tweets: 35 for hashtag: GOOG\n",
      "Scraped Tweets: 36 for hashtag: GOOG\n",
      "Scraped Tweets: 37 for hashtag: GOOG\n"
     ]
    },
    {
     "name": "stderr",
     "output_type": "stream",
     "text": [
      "Skipping unrecognised entry ID: 'promoted-tweet-1673374311325876245-3d6a1cf5f5db9744'\n",
      "Skipping unrecognised entry ID: 'promoted-tweet-1666316274106810368-3d6a6ee82992ae75'\n",
      "Skipping unrecognised entry ID: 'promoted-tweet-1672978718996803584-3d6a44478e88477d'\n"
     ]
    },
    {
     "name": "stdout",
     "output_type": "stream",
     "text": [
      "Scraped Tweets: 38 for hashtag: GOOG\n",
      "Scraped Tweets: 39 for hashtag: GOOG\n",
      "Scraped Tweets: 40 for hashtag: GOOG\n",
      "Scraped Tweets: 41 for hashtag: GOOG\n",
      "Scraped Tweets: 42 for hashtag: GOOG\n",
      "Scraped Tweets: 43 for hashtag: GOOG\n",
      "Scraped Tweets: 44 for hashtag: GOOG\n",
      "Scraped Tweets: 45 for hashtag: GOOG\n",
      "Scraped Tweets: 46 for hashtag: GOOG\n",
      "Scraped Tweets: 47 for hashtag: GOOG\n",
      "Scraped Tweets: 48 for hashtag: GOOG\n"
     ]
    },
    {
     "name": "stderr",
     "output_type": "stream",
     "text": [
      "Skipping unrecognised entry ID: 'promoted-tweet-1673374311325876245-3d6a5097e4f33113'\n",
      "Skipping unrecognised entry ID: 'promoted-tweet-1666316274106810368-3d6aaf2df678c6bf'\n"
     ]
    },
    {
     "name": "stdout",
     "output_type": "stream",
     "text": [
      "Scraped Tweets: 49 for hashtag: GOOG\n",
      "Scraped Tweets: 50 for hashtag: GOOG\n",
      "Scraped Tweets: 51 for hashtag: GOOG\n",
      "Scraped Tweets: 52 for hashtag: GOOG\n",
      "Scraped Tweets: 53 for hashtag: GOOG\n",
      "Scraped Tweets: 54 for hashtag: GOOG\n",
      "Scraped Tweets: 55 for hashtag: GOOG\n",
      "Scraped Tweets: 56 for hashtag: GOOG\n"
     ]
    },
    {
     "name": "stderr",
     "output_type": "stream",
     "text": [
      "Skipping unrecognised entry ID: 'promoted-tweet-1673374311325876245-3d6a128041576a02'\n",
      "Skipping unrecognised entry ID: 'promoted-tweet-1666316274106810368-3d6aa82f69a3eae8'\n"
     ]
    },
    {
     "name": "stdout",
     "output_type": "stream",
     "text": [
      "Scraped Tweets: 57 for hashtag: GOOG\n",
      "Scraped Tweets: 58 for hashtag: GOOG\n",
      "Scraped Tweets: 59 for hashtag: GOOG\n",
      "Scraped Tweets: 60 for hashtag: GOOG\n",
      "Scraped Tweets: 61 for hashtag: GOOG\n"
     ]
    },
    {
     "name": "stderr",
     "output_type": "stream",
     "text": [
      "Skipping unrecognised entry ID: 'promoted-tweet-1673374311325876245-3d6ad9f2311416d7'\n",
      "Skipping unrecognised entry ID: 'promoted-tweet-1666316274106810368-3d6a7318ba333ad5'\n"
     ]
    },
    {
     "name": "stdout",
     "output_type": "stream",
     "text": [
      "Scraped Tweets: 62 for hashtag: GOOG\n",
      "Scraped Tweets: 63 for hashtag: GOOG\n",
      "Scraped Tweets: 64 for hashtag: GOOG\n",
      "Scraped Tweets: 65 for hashtag: GOOG\n",
      "Scraped Tweets: 66 for hashtag: GOOG\n",
      "Scraped Tweets: 67 for hashtag: GOOG\n",
      "Scraped Tweets: 68 for hashtag: GOOG\n"
     ]
    },
    {
     "name": "stderr",
     "output_type": "stream",
     "text": [
      "Skipping unrecognised entry ID: 'promoted-tweet-1673374311325876245-3d6ad16199b51a06'\n",
      "Skipping unrecognised entry ID: 'promoted-tweet-1666316274106810368-3d6aa57137dc2e0c'\n"
     ]
    },
    {
     "name": "stdout",
     "output_type": "stream",
     "text": [
      "Scraped Tweets: 69 for hashtag: GOOG\n",
      "Scraped Tweets: 70 for hashtag: GOOG\n",
      "Scraped Tweets: 71 for hashtag: GOOG\n",
      "Scraped Tweets: 72 for hashtag: GOOG\n",
      "Scraped Tweets: 73 for hashtag: GOOG\n",
      "Scraped Tweets: 74 for hashtag: GOOG\n",
      "Scraped Tweets: 75 for hashtag: GOOG\n",
      "Scraped Tweets: 76 for hashtag: GOOG\n",
      "Scraped Tweets: 77 for hashtag: GOOG\n"
     ]
    },
    {
     "name": "stderr",
     "output_type": "stream",
     "text": [
      "Skipping unrecognised entry ID: 'promoted-tweet-1673374814743019531-3d6a2d10d9144872'\n",
      "Skipping unrecognised entry ID: 'promoted-tweet-1667350876229627904-3d6ae12aef018959'\n",
      "Skipping unrecognised entry ID: 'promoted-tweet-1666316274106810368-3d6a012660466948'\n"
     ]
    },
    {
     "name": "stdout",
     "output_type": "stream",
     "text": [
      "Scraped Tweets: 78 for hashtag: GOOG\n",
      "Scraped Tweets: 79 for hashtag: GOOG\n",
      "Scraped Tweets: 80 for hashtag: GOOG\n",
      "Scraped Tweets: 81 for hashtag: GOOG\n",
      "Scraped Tweets: 82 for hashtag: GOOG\n",
      "Scraped Tweets: 83 for hashtag: GOOG\n",
      "Scraped Tweets: 84 for hashtag: GOOG\n"
     ]
    },
    {
     "name": "stderr",
     "output_type": "stream",
     "text": [
      "Skipping unrecognised entry ID: 'promoted-tweet-1673374814743019531-3d6a5d479e55774a'\n",
      "Skipping unrecognised entry ID: 'promoted-tweet-1666316274106810368-3d6aa905e95ea20b'\n"
     ]
    },
    {
     "name": "stdout",
     "output_type": "stream",
     "text": [
      "Scraped Tweets: 85 for hashtag: GOOG\n",
      "Scraped Tweets: 86 for hashtag: GOOG\n",
      "Scraped Tweets: 87 for hashtag: GOOG\n",
      "Scraped Tweets: 88 for hashtag: GOOG\n",
      "Scraped Tweets: 89 for hashtag: GOOG\n",
      "Scraped Tweets: 90 for hashtag: GOOG\n",
      "Scraped Tweets: 91 for hashtag: GOOG\n",
      "Scraped Tweets: 92 for hashtag: GOOG\n",
      "Scraped Tweets: 93 for hashtag: GOOG\n",
      "Scraped Tweets: 94 for hashtag: GOOG\n"
     ]
    },
    {
     "name": "stderr",
     "output_type": "stream",
     "text": [
      "Skipping unrecognised entry ID: 'promoted-tweet-1673374311325876245-3d6aa45129b8da6d'\n",
      "Skipping unrecognised entry ID: 'promoted-tweet-1666316274106810368-3d6a1b480872aab8'\n"
     ]
    },
    {
     "name": "stdout",
     "output_type": "stream",
     "text": [
      "Scraped Tweets: 95 for hashtag: GOOG\n",
      "Scraped Tweets: 96 for hashtag: GOOG\n",
      "Scraped Tweets: 97 for hashtag: GOOG\n",
      "Scraped Tweets: 98 for hashtag: GOOG\n",
      "Scraped Tweets: 99 for hashtag: GOOG\n",
      "Scraped Tweets: 100 for hashtag: GOOG\n",
      "Scraped Tweets: 101 for hashtag: GOOG\n"
     ]
    },
    {
     "name": "stderr",
     "output_type": "stream",
     "text": [
      "Skipping unrecognised entry ID: 'promoted-tweet-1673374311325876245-3d6a6a6ea5ec6cd9'\n",
      "Skipping unrecognised entry ID: 'promoted-tweet-1666316274106810368-3d6aaf7f5cd6dda0'\n"
     ]
    },
    {
     "name": "stdout",
     "output_type": "stream",
     "text": [
      "Scraped Tweets: 102 for hashtag: GOOG\n",
      "Scraped Tweets: 103 for hashtag: GOOG\n",
      "Scraped Tweets: 104 for hashtag: GOOG\n",
      "Scraped Tweets: 105 for hashtag: GOOG\n",
      "Scraped Tweets: 106 for hashtag: GOOG\n",
      "Scraped Tweets: 107 for hashtag: GOOG\n",
      "Scraped Tweets: 108 for hashtag: GOOG\n",
      "Scraped Tweets: 109 for hashtag: GOOG\n",
      "Scraped Tweets: 110 for hashtag: GOOG\n",
      "Scraped Tweets: 111 for hashtag: GOOG\n",
      "Scraped Tweets: 112 for hashtag: GOOG\n",
      "Scraped Tweets: 113 for hashtag: GOOG\n"
     ]
    },
    {
     "name": "stderr",
     "output_type": "stream",
     "text": [
      "Skipping unrecognised entry ID: 'promoted-tweet-1673374311325876245-3d6ae9f228742255'\n",
      "Skipping unrecognised entry ID: 'promoted-tweet-1666316274106810368-3d6aaefeaa3a60a1'\n"
     ]
    },
    {
     "name": "stdout",
     "output_type": "stream",
     "text": [
      "Scraped Tweets: 114 for hashtag: GOOG\n",
      "Scraped Tweets: 115 for hashtag: GOOG\n",
      "Scraped Tweets: 116 for hashtag: GOOG\n",
      "Scraped Tweets: 117 for hashtag: GOOG\n",
      "Scraped Tweets: 118 for hashtag: GOOG\n",
      "Scraped Tweets: 119 for hashtag: GOOG\n",
      "Scraped Tweets: 120 for hashtag: GOOG\n",
      "Scraped Tweets: 121 for hashtag: GOOG\n",
      "Scraped Tweets: 122 for hashtag: GOOG\n",
      "Scraped Tweets: 123 for hashtag: GOOG\n",
      "Scraped Tweets: 124 for hashtag: GOOG\n",
      "Scraped Tweets: 125 for hashtag: GOOG\n",
      "Scraped Tweets: 126 for hashtag: GOOG\n",
      "Scraped Tweets: 127 for hashtag: GOOG\n"
     ]
    },
    {
     "name": "stderr",
     "output_type": "stream",
     "text": [
      "Skipping unrecognised entry ID: 'promoted-tweet-1673374311325876245-3d6af5c5ce502b53'\n",
      "Skipping unrecognised entry ID: 'promoted-tweet-1667350876229627904-3d6a92df63a76151'\n",
      "Skipping unrecognised entry ID: 'promoted-tweet-1666316274106810368-3d6a70d185107e06'\n"
     ]
    },
    {
     "name": "stdout",
     "output_type": "stream",
     "text": [
      "Scraped Tweets: 128 for hashtag: GOOG\n",
      "Scraped Tweets: 129 for hashtag: GOOG\n",
      "Scraped Tweets: 130 for hashtag: GOOG\n",
      "Scraped Tweets: 131 for hashtag: GOOG\n",
      "Scraped Tweets: 132 for hashtag: GOOG\n",
      "Scraped Tweets: 133 for hashtag: GOOG\n",
      "Scraped Tweets: 134 for hashtag: GOOG\n",
      "Scraped Tweets: 135 for hashtag: GOOG\n",
      "Scraped Tweets: 136 for hashtag: GOOG\n",
      "Scraped Tweets: 137 for hashtag: GOOG\n",
      "Scraped Tweets: 138 for hashtag: GOOG\n",
      "Scraped Tweets: 139 for hashtag: GOOG\n",
      "Scraped Tweets: 140 for hashtag: GOOG\n",
      "Scraped Tweets: 141 for hashtag: GOOG\n"
     ]
    },
    {
     "name": "stderr",
     "output_type": "stream",
     "text": [
      "Skipping unrecognised entry ID: 'promoted-tweet-1673374311325876245-3d6a4da8894728a1'\n",
      "Skipping unrecognised entry ID: 'promoted-tweet-1666316274106810368-3d6a6d37a2f7ad7e'\n"
     ]
    },
    {
     "name": "stdout",
     "output_type": "stream",
     "text": [
      "Scraped Tweets: 142 for hashtag: GOOG\n",
      "Scraped Tweets: 143 for hashtag: GOOG\n",
      "Scraped Tweets: 144 for hashtag: GOOG\n",
      "Scraped Tweets: 145 for hashtag: GOOG\n",
      "Scraped Tweets: 146 for hashtag: GOOG\n",
      "Scraped Tweets: 147 for hashtag: GOOG\n",
      "Scraped Tweets: 148 for hashtag: GOOG\n",
      "Scraped Tweets: 149 for hashtag: GOOG\n",
      "Scraped Tweets: 150 for hashtag: GOOG\n",
      "Scraped Tweets: 151 for hashtag: GOOG\n",
      "Scraped Tweets: 152 for hashtag: GOOG\n",
      "Scraped Tweets: 153 for hashtag: GOOG\n",
      "Scraped Tweets: 154 for hashtag: GOOG\n",
      "Scraped Tweets: 155 for hashtag: GOOG\n"
     ]
    },
    {
     "name": "stderr",
     "output_type": "stream",
     "text": [
      "Skipping unrecognised entry ID: 'promoted-tweet-1673374311325876245-3d6a07f9944c16ea'\n",
      "Skipping unrecognised entry ID: 'promoted-tweet-1666316274106810368-3d6a4d60e8784225'\n"
     ]
    },
    {
     "name": "stdout",
     "output_type": "stream",
     "text": [
      "Scraped Tweets: 156 for hashtag: GOOG\n",
      "Scraped Tweets: 157 for hashtag: GOOG\n",
      "Scraped Tweets: 158 for hashtag: GOOG\n",
      "Scraped Tweets: 159 for hashtag: GOOG\n",
      "Scraped Tweets: 160 for hashtag: GOOG\n",
      "Scraped Tweets: 161 for hashtag: GOOG\n",
      "Scraped Tweets: 162 for hashtag: GOOG\n",
      "Scraped Tweets: 163 for hashtag: GOOG\n",
      "Scraped Tweets: 164 for hashtag: GOOG\n",
      "Scraped Tweets: 165 for hashtag: GOOG\n",
      "Scraped Tweets: 166 for hashtag: GOOG\n",
      "Scraped Tweets: 167 for hashtag: GOOG\n",
      "Scraped Tweets: 168 for hashtag: GOOG\n"
     ]
    },
    {
     "name": "stderr",
     "output_type": "stream",
     "text": [
      "Skipping unrecognised entry ID: 'promoted-tweet-1673374311325876245-3d6a63f92ffd7a15'\n",
      "Skipping unrecognised entry ID: 'promoted-tweet-1666316274106810368-3d6a61563234975e'\n",
      "Skipping unrecognised entry ID: 'promoted-tweet-1672617845711073280-3d6a702d543df72a'\n"
     ]
    },
    {
     "name": "stdout",
     "output_type": "stream",
     "text": [
      "Scraped Tweets: 169 for hashtag: GOOG\n",
      "Scraped Tweets: 170 for hashtag: GOOG\n",
      "Scraped Tweets: 171 for hashtag: GOOG\n",
      "Scraped Tweets: 172 for hashtag: GOOG\n",
      "Scraped Tweets: 173 for hashtag: GOOG\n",
      "Scraped Tweets: 174 for hashtag: GOOG\n",
      "Scraped Tweets: 175 for hashtag: GOOG\n",
      "Scraped Tweets: 176 for hashtag: GOOG\n",
      "Scraped Tweets: 177 for hashtag: GOOG\n",
      "Scraped Tweets: 178 for hashtag: GOOG\n",
      "Scraped Tweets: 179 for hashtag: GOOG\n",
      "Scraped Tweets: 180 for hashtag: GOOG\n",
      "Scraped Tweets: 181 for hashtag: GOOG\n",
      "Scraped Tweets: 182 for hashtag: GOOG\n"
     ]
    },
    {
     "name": "stderr",
     "output_type": "stream",
     "text": [
      "Skipping unrecognised entry ID: 'promoted-tweet-1673374311325876245-3d6ae73eac6cb4fa'\n",
      "Skipping unrecognised entry ID: 'promoted-tweet-1666316274106810368-3d6ae7b4f4b23859'\n"
     ]
    },
    {
     "name": "stdout",
     "output_type": "stream",
     "text": [
      "Scraped Tweets: 183 for hashtag: GOOG\n",
      "Scraped Tweets: 184 for hashtag: GOOG\n",
      "Scraped Tweets: 185 for hashtag: GOOG\n",
      "Scraped Tweets: 186 for hashtag: GOOG\n",
      "Scraped Tweets: 187 for hashtag: GOOG\n",
      "Scraped Tweets: 188 for hashtag: GOOG\n",
      "Scraped Tweets: 189 for hashtag: GOOG\n",
      "Scraped Tweets: 190 for hashtag: GOOG\n",
      "Scraped Tweets: 191 for hashtag: GOOG\n",
      "Scraped Tweets: 192 for hashtag: GOOG\n",
      "Scraped Tweets: 193 for hashtag: GOOG\n",
      "Scraped Tweets: 194 for hashtag: GOOG\n",
      "Scraped Tweets: 195 for hashtag: GOOG\n",
      "Scraped Tweets: 196 for hashtag: GOOG\n",
      "Scraped Tweets: 197 for hashtag: GOOG\n"
     ]
    },
    {
     "name": "stderr",
     "output_type": "stream",
     "text": [
      "Skipping unrecognised entry ID: 'promoted-tweet-1673374311325876245-3d6a3840cfbb2cc2'\n"
     ]
    },
    {
     "name": "stdout",
     "output_type": "stream",
     "text": [
      "Scraped Tweets: 198 for hashtag: GOOG\n",
      "Scraped Tweets: 199 for hashtag: GOOG\n",
      "Scraped Tweets: 200 for hashtag: GOOG\n"
     ]
    },
    {
     "name": "stderr",
     "output_type": "stream",
     "text": [
      "Skipping unrecognised entry ID: 'promoted-tweet-1673374311325876245-3d6afb46a7e323e5'\n",
      "Skipping unrecognised entry ID: 'promoted-tweet-1666316274106810368-3d6ae6a9bd638b10'\n"
     ]
    },
    {
     "name": "stdout",
     "output_type": "stream",
     "text": [
      "Scraped Tweets: 1 for hashtag: APPL\n",
      "Scraped Tweets: 2 for hashtag: APPL\n",
      "Scraped Tweets: 3 for hashtag: APPL\n",
      "Scraped Tweets: 4 for hashtag: APPL\n",
      "Scraped Tweets: 5 for hashtag: APPL\n",
      "Scraped Tweets: 6 for hashtag: APPL\n",
      "Scraped Tweets: 7 for hashtag: APPL\n",
      "Scraped Tweets: 8 for hashtag: APPL\n",
      "Scraped Tweets: 9 for hashtag: APPL\n",
      "Scraped Tweets: 10 for hashtag: APPL\n",
      "Scraped Tweets: 11 for hashtag: APPL\n"
     ]
    },
    {
     "name": "stderr",
     "output_type": "stream",
     "text": [
      "Skipping unrecognised entry ID: 'promoted-tweet-1673374311325876245-3d6acf8488e99110'\n",
      "Skipping unrecognised entry ID: 'promoted-tweet-1666316274106810368-3d6a1202e0d4b537'\n"
     ]
    },
    {
     "name": "stdout",
     "output_type": "stream",
     "text": [
      "Scraped Tweets: 12 for hashtag: APPL\n",
      "Scraped Tweets: 13 for hashtag: APPL\n",
      "Scraped Tweets: 14 for hashtag: APPL\n",
      "Scraped Tweets: 15 for hashtag: APPL\n"
     ]
    },
    {
     "name": "stderr",
     "output_type": "stream",
     "text": [
      "Skipping unrecognised entry ID: 'promoted-tweet-1673374311325876245-3d6a941305879001'\n",
      "Skipping unrecognised entry ID: 'promoted-tweet-1666316274106810368-3d6a386d52fc7790'\n",
      "Skipping unrecognised entry ID: 'promoted-tweet-1672978718996803584-3d6a1ef95aad3504'\n"
     ]
    },
    {
     "name": "stdout",
     "output_type": "stream",
     "text": [
      "Scraped Tweets: 16 for hashtag: APPL\n",
      "Scraped Tweets: 17 for hashtag: APPL\n",
      "Scraped Tweets: 18 for hashtag: APPL\n",
      "Scraped Tweets: 19 for hashtag: APPL\n",
      "Scraped Tweets: 20 for hashtag: APPL\n",
      "Scraped Tweets: 21 for hashtag: APPL\n",
      "Scraped Tweets: 22 for hashtag: APPL\n",
      "Scraped Tweets: 23 for hashtag: APPL\n",
      "Scraped Tweets: 24 for hashtag: APPL\n",
      "Scraped Tweets: 25 for hashtag: APPL\n",
      "Scraped Tweets: 26 for hashtag: APPL\n",
      "Scraped Tweets: 27 for hashtag: APPL\n",
      "Scraped Tweets: 28 for hashtag: APPL\n",
      "Scraped Tweets: 29 for hashtag: APPL\n"
     ]
    },
    {
     "name": "stderr",
     "output_type": "stream",
     "text": [
      "Skipping unrecognised entry ID: 'promoted-tweet-1673374311325876245-3d6a33b71878403c'\n",
      "Skipping unrecognised entry ID: 'promoted-tweet-1666316274106810368-3d6a785396d12621'\n"
     ]
    },
    {
     "name": "stdout",
     "output_type": "stream",
     "text": [
      "Scraped Tweets: 30 for hashtag: APPL\n",
      "Scraped Tweets: 31 for hashtag: APPL\n",
      "Scraped Tweets: 32 for hashtag: APPL\n",
      "Scraped Tweets: 33 for hashtag: APPL\n",
      "Scraped Tweets: 34 for hashtag: APPL\n",
      "Scraped Tweets: 35 for hashtag: APPL\n",
      "Scraped Tweets: 36 for hashtag: APPL\n",
      "Scraped Tweets: 37 for hashtag: APPL\n",
      "Scraped Tweets: 38 for hashtag: APPL\n",
      "Scraped Tweets: 39 for hashtag: APPL\n",
      "Scraped Tweets: 40 for hashtag: APPL\n",
      "Scraped Tweets: 41 for hashtag: APPL\n"
     ]
    },
    {
     "name": "stderr",
     "output_type": "stream",
     "text": [
      "Skipping unrecognised entry ID: 'promoted-tweet-1673374311325876245-3d6a8a919a32791f'\n"
     ]
    },
    {
     "name": "stdout",
     "output_type": "stream",
     "text": [
      "Scraped Tweets: 42 for hashtag: APPL\n",
      "Scraped Tweets: 43 for hashtag: APPL\n",
      "Scraped Tweets: 44 for hashtag: APPL\n",
      "Scraped Tweets: 45 for hashtag: APPL\n",
      "Scraped Tweets: 46 for hashtag: APPL\n",
      "Scraped Tweets: 47 for hashtag: APPL\n"
     ]
    },
    {
     "name": "stderr",
     "output_type": "stream",
     "text": [
      "Skipping unrecognised entry ID: 'promoted-tweet-1673374814743019531-3d6aa40d4949a01d'\n",
      "Skipping unrecognised entry ID: 'promoted-tweet-1666316274106810368-3d6a5d2d0534ee33'\n"
     ]
    },
    {
     "name": "stdout",
     "output_type": "stream",
     "text": [
      "Scraped Tweets: 48 for hashtag: APPL\n",
      "Scraped Tweets: 49 for hashtag: APPL\n",
      "Scraped Tweets: 50 for hashtag: APPL\n",
      "Scraped Tweets: 51 for hashtag: APPL\n",
      "Scraped Tweets: 52 for hashtag: APPL\n",
      "Scraped Tweets: 53 for hashtag: APPL\n",
      "Scraped Tweets: 54 for hashtag: APPL\n"
     ]
    },
    {
     "name": "stderr",
     "output_type": "stream",
     "text": [
      "Skipping unrecognised entry ID: 'promoted-tweet-1673374311325876245-3d6a345c05bd97d0'\n",
      "Skipping unrecognised entry ID: 'promoted-tweet-1666316274106810368-3d6a55a1edfba75d'\n",
      "Skipping unrecognised entry ID: 'promoted-tweet-1667350876229627904-3d6a01757ed7e1eb'\n"
     ]
    },
    {
     "name": "stdout",
     "output_type": "stream",
     "text": [
      "Scraped Tweets: 55 for hashtag: APPL\n",
      "Scraped Tweets: 56 for hashtag: APPL\n",
      "Scraped Tweets: 57 for hashtag: APPL\n",
      "Scraped Tweets: 58 for hashtag: APPL\n",
      "Scraped Tweets: 59 for hashtag: APPL\n",
      "Scraped Tweets: 60 for hashtag: APPL\n"
     ]
    },
    {
     "name": "stderr",
     "output_type": "stream",
     "text": [
      "Skipping unrecognised entry ID: 'promoted-tweet-1673374311325876245-3d6aa0c7625d4aa5'\n",
      "Skipping unrecognised entry ID: 'promoted-tweet-1666316274106810368-3d6acbfaba15d8c9'\n"
     ]
    },
    {
     "name": "stdout",
     "output_type": "stream",
     "text": [
      "Scraped Tweets: 61 for hashtag: APPL\n",
      "Scraped Tweets: 62 for hashtag: APPL\n",
      "Scraped Tweets: 63 for hashtag: APPL\n",
      "Scraped Tweets: 64 for hashtag: APPL\n",
      "Scraped Tweets: 65 for hashtag: APPL\n",
      "Scraped Tweets: 66 for hashtag: APPL\n",
      "Scraped Tweets: 67 for hashtag: APPL\n",
      "Scraped Tweets: 68 for hashtag: APPL\n",
      "Scraped Tweets: 69 for hashtag: APPL\n",
      "Scraped Tweets: 70 for hashtag: APPL\n",
      "Scraped Tweets: 71 for hashtag: APPL\n",
      "Scraped Tweets: 72 for hashtag: APPL\n",
      "Scraped Tweets: 73 for hashtag: APPL\n",
      "Scraped Tweets: 74 for hashtag: APPL\n",
      "Scraped Tweets: 75 for hashtag: APPL\n",
      "Scraped Tweets: 76 for hashtag: APPL\n",
      "Scraped Tweets: 77 for hashtag: APPL\n"
     ]
    },
    {
     "name": "stderr",
     "output_type": "stream",
     "text": [
      "Skipping unrecognised entry ID: 'promoted-tweet-1673374311325876245-3d6add7bbd5f0b72'\n",
      "Skipping unrecognised entry ID: 'promoted-tweet-1666316274106810368-3d6a9e647f5e615a'\n"
     ]
    },
    {
     "name": "stdout",
     "output_type": "stream",
     "text": [
      "Scraped Tweets: 78 for hashtag: APPL\n",
      "Scraped Tweets: 79 for hashtag: APPL\n",
      "Scraped Tweets: 80 for hashtag: APPL\n",
      "Scraped Tweets: 81 for hashtag: APPL\n",
      "Scraped Tweets: 82 for hashtag: APPL\n",
      "Scraped Tweets: 83 for hashtag: APPL\n",
      "Scraped Tweets: 84 for hashtag: APPL\n",
      "Scraped Tweets: 85 for hashtag: APPL\n",
      "Scraped Tweets: 86 for hashtag: APPL\n",
      "Scraped Tweets: 87 for hashtag: APPL\n"
     ]
    },
    {
     "name": "stderr",
     "output_type": "stream",
     "text": [
      "Skipping unrecognised entry ID: 'promoted-tweet-1673374311325876245-3d6a87fbd0b3b415'\n",
      "Skipping unrecognised entry ID: 'promoted-tweet-1666316274106810368-3d6ab3ee57a17265'\n"
     ]
    },
    {
     "name": "stdout",
     "output_type": "stream",
     "text": [
      "Scraped Tweets: 88 for hashtag: APPL\n",
      "Scraped Tweets: 89 for hashtag: APPL\n",
      "Scraped Tweets: 90 for hashtag: APPL\n",
      "Scraped Tweets: 91 for hashtag: APPL\n",
      "Scraped Tweets: 92 for hashtag: APPL\n",
      "Scraped Tweets: 93 for hashtag: APPL\n",
      "Scraped Tweets: 94 for hashtag: APPL\n",
      "Scraped Tweets: 95 for hashtag: APPL\n",
      "Scraped Tweets: 96 for hashtag: APPL\n",
      "Scraped Tweets: 97 for hashtag: APPL\n",
      "Scraped Tweets: 98 for hashtag: APPL\n"
     ]
    },
    {
     "name": "stderr",
     "output_type": "stream",
     "text": [
      "Skipping unrecognised entry ID: 'promoted-tweet-1673374311325876245-3d6a098bd0c7abf5'\n",
      "Skipping unrecognised entry ID: 'promoted-tweet-1666316274106810368-3d6a43d304e82c0c'\n"
     ]
    },
    {
     "name": "stdout",
     "output_type": "stream",
     "text": [
      "Scraped Tweets: 99 for hashtag: APPL\n",
      "Scraped Tweets: 100 for hashtag: APPL\n",
      "Scraped Tweets: 101 for hashtag: APPL\n",
      "Scraped Tweets: 102 for hashtag: APPL\n",
      "Scraped Tweets: 103 for hashtag: APPL\n",
      "Scraped Tweets: 104 for hashtag: APPL\n",
      "Scraped Tweets: 105 for hashtag: APPL\n",
      "Scraped Tweets: 106 for hashtag: APPL\n",
      "Scraped Tweets: 107 for hashtag: APPL\n",
      "Scraped Tweets: 108 for hashtag: APPL\n",
      "Scraped Tweets: 109 for hashtag: APPL\n",
      "Scraped Tweets: 110 for hashtag: APPL\n",
      "Scraped Tweets: 111 for hashtag: APPL\n",
      "Scraped Tweets: 112 for hashtag: APPL\n",
      "Scraped Tweets: 113 for hashtag: APPL\n",
      "Scraped Tweets: 114 for hashtag: APPL\n",
      "Scraped Tweets: 115 for hashtag: APPL\n",
      "Scraped Tweets: 116 for hashtag: APPL\n"
     ]
    },
    {
     "name": "stderr",
     "output_type": "stream",
     "text": [
      "Skipping unrecognised entry ID: 'promoted-tweet-1673374311325876245-3d6ad1fe1c696178'\n",
      "Skipping unrecognised entry ID: 'promoted-tweet-1666316274106810368-3d6a9c53363c2b6f'\n"
     ]
    },
    {
     "name": "stdout",
     "output_type": "stream",
     "text": [
      "Scraped Tweets: 117 for hashtag: APPL\n",
      "Scraped Tweets: 118 for hashtag: APPL\n",
      "Scraped Tweets: 119 for hashtag: APPL\n",
      "Scraped Tweets: 120 for hashtag: APPL\n",
      "Scraped Tweets: 121 for hashtag: APPL\n",
      "Scraped Tweets: 122 for hashtag: APPL\n",
      "Scraped Tweets: 123 for hashtag: APPL\n",
      "Scraped Tweets: 124 for hashtag: APPL\n",
      "Scraped Tweets: 125 for hashtag: APPL\n",
      "Scraped Tweets: 126 for hashtag: APPL\n",
      "Scraped Tweets: 127 for hashtag: APPL\n",
      "Scraped Tweets: 128 for hashtag: APPL\n",
      "Scraped Tweets: 129 for hashtag: APPL\n",
      "Scraped Tweets: 130 for hashtag: APPL\n",
      "Scraped Tweets: 131 for hashtag: APPL\n",
      "Scraped Tweets: 132 for hashtag: APPL\n"
     ]
    },
    {
     "name": "stderr",
     "output_type": "stream",
     "text": [
      "Skipping unrecognised entry ID: 'promoted-tweet-1673374311325876245-3d6a76090ee128ca'\n",
      "Skipping unrecognised entry ID: 'promoted-tweet-1666316274106810368-3d6ae149cd41af27'\n"
     ]
    },
    {
     "name": "stdout",
     "output_type": "stream",
     "text": [
      "Scraped Tweets: 133 for hashtag: APPL\n",
      "Scraped Tweets: 134 for hashtag: APPL\n",
      "Scraped Tweets: 135 for hashtag: APPL\n",
      "Scraped Tweets: 136 for hashtag: APPL\n",
      "Scraped Tweets: 137 for hashtag: APPL\n",
      "Scraped Tweets: 138 for hashtag: APPL\n",
      "Scraped Tweets: 139 for hashtag: APPL\n",
      "Scraped Tweets: 140 for hashtag: APPL\n",
      "Scraped Tweets: 141 for hashtag: APPL\n",
      "Scraped Tweets: 142 for hashtag: APPL\n"
     ]
    },
    {
     "name": "stderr",
     "output_type": "stream",
     "text": [
      "Skipping unrecognised entry ID: 'promoted-tweet-1673374311325876245-3d6aeacfa75d56fa'\n",
      "Skipping unrecognised entry ID: 'promoted-tweet-1666316274106810368-3d6ae81ef594eb8b'\n"
     ]
    },
    {
     "name": "stdout",
     "output_type": "stream",
     "text": [
      "Scraped Tweets: 143 for hashtag: APPL\n",
      "Scraped Tweets: 144 for hashtag: APPL\n",
      "Scraped Tweets: 145 for hashtag: APPL\n",
      "Scraped Tweets: 146 for hashtag: APPL\n",
      "Scraped Tweets: 147 for hashtag: APPL\n",
      "Scraped Tweets: 148 for hashtag: APPL\n",
      "Scraped Tweets: 149 for hashtag: APPL\n",
      "Scraped Tweets: 150 for hashtag: APPL\n",
      "Scraped Tweets: 151 for hashtag: APPL\n",
      "Scraped Tweets: 152 for hashtag: APPL\n",
      "Scraped Tweets: 153 for hashtag: APPL\n"
     ]
    },
    {
     "name": "stderr",
     "output_type": "stream",
     "text": [
      "Skipping unrecognised entry ID: 'promoted-tweet-1673374311325876245-3d6a582e16f328e2'\n",
      "Skipping unrecognised entry ID: 'promoted-tweet-1666316274106810368-3d6a140df2d72fac'\n"
     ]
    },
    {
     "name": "stdout",
     "output_type": "stream",
     "text": [
      "Scraped Tweets: 154 for hashtag: APPL\n",
      "Scraped Tweets: 155 for hashtag: APPL\n",
      "Scraped Tweets: 156 for hashtag: APPL\n",
      "Scraped Tweets: 157 for hashtag: APPL\n",
      "Scraped Tweets: 158 for hashtag: APPL\n",
      "Scraped Tweets: 159 for hashtag: APPL\n",
      "Scraped Tweets: 160 for hashtag: APPL\n",
      "Scraped Tweets: 161 for hashtag: APPL\n",
      "Scraped Tweets: 162 for hashtag: APPL\n",
      "Scraped Tweets: 163 for hashtag: APPL\n",
      "Scraped Tweets: 164 for hashtag: APPL\n",
      "Scraped Tweets: 165 for hashtag: APPL\n",
      "Scraped Tweets: 166 for hashtag: APPL\n"
     ]
    },
    {
     "name": "stderr",
     "output_type": "stream",
     "text": [
      "Skipping unrecognised entry ID: 'promoted-tweet-1673374311325876245-3d6a238de4ff80e9'\n",
      "Skipping unrecognised entry ID: 'promoted-tweet-1666316274106810368-3d6a3bfab1bee493'\n",
      "Skipping unrecognised entry ID: 'promoted-tweet-1667350876229627904-3d6a9299c2bc60ff'\n"
     ]
    },
    {
     "name": "stdout",
     "output_type": "stream",
     "text": [
      "Scraped Tweets: 167 for hashtag: APPL\n",
      "Scraped Tweets: 168 for hashtag: APPL\n",
      "Scraped Tweets: 169 for hashtag: APPL\n",
      "Scraped Tweets: 170 for hashtag: APPL\n",
      "Scraped Tweets: 171 for hashtag: APPL\n",
      "Scraped Tweets: 172 for hashtag: APPL\n",
      "Scraped Tweets: 173 for hashtag: APPL\n",
      "Scraped Tweets: 174 for hashtag: APPL\n",
      "Scraped Tweets: 175 for hashtag: APPL\n",
      "Scraped Tweets: 176 for hashtag: APPL\n",
      "Scraped Tweets: 177 for hashtag: APPL\n",
      "Scraped Tweets: 178 for hashtag: APPL\n"
     ]
    },
    {
     "name": "stderr",
     "output_type": "stream",
     "text": [
      "Skipping unrecognised entry ID: 'promoted-tweet-1673374311325876245-3d6a53ced817132d'\n",
      "Skipping unrecognised entry ID: 'promoted-tweet-1666316274106810368-3d6ae2a998fe5b9d'\n"
     ]
    },
    {
     "name": "stdout",
     "output_type": "stream",
     "text": [
      "Scraped Tweets: 179 for hashtag: APPL\n",
      "Scraped Tweets: 180 for hashtag: APPL\n",
      "Scraped Tweets: 181 for hashtag: APPL\n",
      "Scraped Tweets: 182 for hashtag: APPL\n",
      "Scraped Tweets: 183 for hashtag: APPL\n",
      "Scraped Tweets: 184 for hashtag: APPL\n",
      "Scraped Tweets: 185 for hashtag: APPL\n",
      "Scraped Tweets: 186 for hashtag: APPL\n",
      "Scraped Tweets: 187 for hashtag: APPL\n",
      "Scraped Tweets: 188 for hashtag: APPL\n",
      "Scraped Tweets: 189 for hashtag: APPL\n",
      "Scraped Tweets: 190 for hashtag: APPL\n",
      "Scraped Tweets: 191 for hashtag: APPL\n",
      "Scraped Tweets: 192 for hashtag: APPL\n",
      "Scraped Tweets: 193 for hashtag: APPL\n"
     ]
    },
    {
     "name": "stderr",
     "output_type": "stream",
     "text": [
      "Skipping unrecognised entry ID: 'promoted-tweet-1673374311325876245-3d6abcf230f70b56'\n",
      "Skipping unrecognised entry ID: 'promoted-tweet-1666316274106810368-3d6a48c377609aa5'\n"
     ]
    },
    {
     "name": "stdout",
     "output_type": "stream",
     "text": [
      "Scraped Tweets: 194 for hashtag: APPL\n",
      "Scraped Tweets: 195 for hashtag: APPL\n",
      "Scraped Tweets: 196 for hashtag: APPL\n",
      "Scraped Tweets: 197 for hashtag: APPL\n",
      "Scraped Tweets: 198 for hashtag: APPL\n",
      "Scraped Tweets: 199 for hashtag: APPL\n",
      "Scraped Tweets: 200 for hashtag: APPL\n"
     ]
    },
    {
     "name": "stderr",
     "output_type": "stream",
     "text": [
      "Skipping unrecognised entry ID: 'promoted-tweet-1673374311325876245-3d6ad79d9aaa864f'\n",
      "Skipping unrecognised entry ID: 'promoted-tweet-1666316274106810368-3d6ab36da096bf8e'\n",
      "Skipping unrecognised entry ID: 'promoted-tweet-1672617845711073280-3d6abead5ce49abc'\n"
     ]
    },
    {
     "name": "stdout",
     "output_type": "stream",
     "text": [
      "Scraped Tweets: 1 for hashtag: YHOO\n",
      "Scraped Tweets: 2 for hashtag: YHOO\n",
      "Scraped Tweets: 3 for hashtag: YHOO\n",
      "Scraped Tweets: 4 for hashtag: YHOO\n",
      "Scraped Tweets: 5 for hashtag: YHOO\n",
      "Scraped Tweets: 6 for hashtag: YHOO\n",
      "Scraped Tweets: 7 for hashtag: YHOO\n",
      "Scraped Tweets: 8 for hashtag: YHOO\n",
      "Scraped Tweets: 9 for hashtag: YHOO\n",
      "Scraped Tweets: 10 for hashtag: YHOO\n",
      "Scraped Tweets: 11 for hashtag: YHOO\n",
      "Scraped Tweets: 12 for hashtag: YHOO\n",
      "Scraped Tweets: 13 for hashtag: YHOO\n",
      "Scraped Tweets: 14 for hashtag: YHOO\n"
     ]
    },
    {
     "name": "stderr",
     "output_type": "stream",
     "text": [
      "Skipping unrecognised entry ID: 'promoted-tweet-1673374311325876245-3d6a988a4323bea8'\n",
      "Skipping unrecognised entry ID: 'promoted-tweet-1666316274106810368-3d6a1f36df1e72c3'\n",
      "Skipping unrecognised entry ID: 'promoted-tweet-1672617845711073280-3d6a300440f38890'\n"
     ]
    },
    {
     "name": "stdout",
     "output_type": "stream",
     "text": [
      "Scraped Tweets: 15 for hashtag: YHOO\n",
      "Scraped Tweets: 16 for hashtag: YHOO\n",
      "Scraped Tweets: 17 for hashtag: YHOO\n",
      "Scraped Tweets: 18 for hashtag: YHOO\n",
      "Scraped Tweets: 19 for hashtag: YHOO\n",
      "Scraped Tweets: 20 for hashtag: YHOO\n",
      "Scraped Tweets: 21 for hashtag: YHOO\n",
      "Scraped Tweets: 22 for hashtag: YHOO\n",
      "Scraped Tweets: 23 for hashtag: YHOO\n",
      "Scraped Tweets: 24 for hashtag: YHOO\n",
      "Scraped Tweets: 25 for hashtag: YHOO\n",
      "Scraped Tweets: 26 for hashtag: YHOO\n",
      "Scraped Tweets: 27 for hashtag: YHOO\n"
     ]
    },
    {
     "name": "stderr",
     "output_type": "stream",
     "text": [
      "Skipping unrecognised entry ID: 'promoted-tweet-1673374814743019531-3d6af3b11b56957c'\n",
      "Skipping unrecognised entry ID: 'promoted-tweet-1666316274106810368-3d6ab0dffb2a0d0b'\n"
     ]
    },
    {
     "name": "stdout",
     "output_type": "stream",
     "text": [
      "Scraped Tweets: 28 for hashtag: YHOO\n",
      "Scraped Tweets: 29 for hashtag: YHOO\n",
      "Scraped Tweets: 30 for hashtag: YHOO\n",
      "Scraped Tweets: 31 for hashtag: YHOO\n",
      "Scraped Tweets: 32 for hashtag: YHOO\n",
      "Scraped Tweets: 33 for hashtag: YHOO\n",
      "Scraped Tweets: 34 for hashtag: YHOO\n",
      "Scraped Tweets: 35 for hashtag: YHOO\n",
      "Scraped Tweets: 36 for hashtag: YHOO\n",
      "Scraped Tweets: 37 for hashtag: YHOO\n",
      "Scraped Tweets: 38 for hashtag: YHOO\n"
     ]
    },
    {
     "name": "stderr",
     "output_type": "stream",
     "text": [
      "Skipping unrecognised entry ID: 'promoted-tweet-1673374311325876245-3d6a8f960311df4c'\n",
      "Skipping unrecognised entry ID: 'promoted-tweet-1667350876229627904-3d6a6d98daaea512'\n",
      "Skipping unrecognised entry ID: 'promoted-tweet-1666316274106810368-3d6a8bd394c675a9'\n"
     ]
    },
    {
     "name": "stdout",
     "output_type": "stream",
     "text": [
      "Scraped Tweets: 39 for hashtag: YHOO\n",
      "Scraped Tweets: 40 for hashtag: YHOO\n",
      "Scraped Tweets: 41 for hashtag: YHOO\n",
      "Scraped Tweets: 42 for hashtag: YHOO\n",
      "Scraped Tweets: 43 for hashtag: YHOO\n",
      "Scraped Tweets: 44 for hashtag: YHOO\n",
      "Scraped Tweets: 45 for hashtag: YHOO\n",
      "Scraped Tweets: 46 for hashtag: YHOO\n",
      "Scraped Tweets: 47 for hashtag: YHOO\n",
      "Scraped Tweets: 48 for hashtag: YHOO\n",
      "Scraped Tweets: 49 for hashtag: YHOO\n",
      "Scraped Tweets: 50 for hashtag: YHOO\n",
      "Scraped Tweets: 51 for hashtag: YHOO\n",
      "Scraped Tweets: 52 for hashtag: YHOO\n",
      "Scraped Tweets: 53 for hashtag: YHOO\n"
     ]
    },
    {
     "name": "stderr",
     "output_type": "stream",
     "text": [
      "Skipping unrecognised entry ID: 'promoted-tweet-1673374814743019531-3d6a243bfd7b2c7c'\n",
      "Skipping unrecognised entry ID: 'promoted-tweet-1671907214187954178-3d6a66de2429cba0'\n"
     ]
    },
    {
     "name": "stdout",
     "output_type": "stream",
     "text": [
      "Scraped Tweets: 54 for hashtag: YHOO\n",
      "Scraped Tweets: 55 for hashtag: YHOO\n",
      "Scraped Tweets: 56 for hashtag: YHOO\n",
      "Scraped Tweets: 57 for hashtag: YHOO\n",
      "Scraped Tweets: 58 for hashtag: YHOO\n",
      "Scraped Tweets: 59 for hashtag: YHOO\n",
      "Scraped Tweets: 60 for hashtag: YHOO\n",
      "Scraped Tweets: 61 for hashtag: YHOO\n",
      "Scraped Tweets: 62 for hashtag: YHOO\n",
      "Scraped Tweets: 63 for hashtag: YHOO\n",
      "Scraped Tweets: 64 for hashtag: YHOO\n"
     ]
    },
    {
     "name": "stderr",
     "output_type": "stream",
     "text": [
      "Skipping unrecognised entry ID: 'promoted-tweet-1673374311325876245-3d6a468d6ca2a274'\n",
      "Skipping unrecognised entry ID: 'promoted-tweet-1666316274106810368-3d6a0f3d1b64690a'\n"
     ]
    },
    {
     "name": "stdout",
     "output_type": "stream",
     "text": [
      "Scraped Tweets: 65 for hashtag: YHOO\n",
      "Scraped Tweets: 66 for hashtag: YHOO\n",
      "Scraped Tweets: 67 for hashtag: YHOO\n",
      "Scraped Tweets: 68 for hashtag: YHOO\n",
      "Scraped Tweets: 69 for hashtag: YHOO\n",
      "Scraped Tweets: 70 for hashtag: YHOO\n",
      "Scraped Tweets: 71 for hashtag: YHOO\n",
      "Scraped Tweets: 72 for hashtag: YHOO\n",
      "Scraped Tweets: 73 for hashtag: YHOO\n",
      "Scraped Tweets: 74 for hashtag: YHOO\n",
      "Scraped Tweets: 75 for hashtag: YHOO\n",
      "Scraped Tweets: 76 for hashtag: YHOO\n",
      "Scraped Tweets: 77 for hashtag: YHOO\n"
     ]
    },
    {
     "name": "stderr",
     "output_type": "stream",
     "text": [
      "Skipping unrecognised entry ID: 'promoted-tweet-1673374311325876245-3d6afe77d2d549c4'\n",
      "Skipping unrecognised entry ID: 'promoted-tweet-1666316274106810368-3d6ada70c6df1c39'\n"
     ]
    },
    {
     "name": "stdout",
     "output_type": "stream",
     "text": [
      "Scraped Tweets: 78 for hashtag: YHOO\n",
      "Scraped Tweets: 79 for hashtag: YHOO\n",
      "Scraped Tweets: 80 for hashtag: YHOO\n",
      "Scraped Tweets: 81 for hashtag: YHOO\n",
      "Scraped Tweets: 82 for hashtag: YHOO\n",
      "Scraped Tweets: 83 for hashtag: YHOO\n",
      "Scraped Tweets: 84 for hashtag: YHOO\n",
      "Scraped Tweets: 85 for hashtag: YHOO\n",
      "Scraped Tweets: 86 for hashtag: YHOO\n",
      "Scraped Tweets: 87 for hashtag: YHOO\n",
      "Scraped Tweets: 88 for hashtag: YHOO\n",
      "Scraped Tweets: 89 for hashtag: YHOO\n",
      "Scraped Tweets: 90 for hashtag: YHOO\n",
      "Scraped Tweets: 91 for hashtag: YHOO\n",
      "Scraped Tweets: 92 for hashtag: YHOO\n"
     ]
    },
    {
     "name": "stderr",
     "output_type": "stream",
     "text": [
      "Skipping unrecognised entry ID: 'promoted-tweet-1673374311325876245-3d6aeaffcea20aee'\n",
      "Skipping unrecognised entry ID: 'promoted-tweet-1666316274106810368-3d6aea00b4c13ed1'\n"
     ]
    },
    {
     "name": "stdout",
     "output_type": "stream",
     "text": [
      "Scraped Tweets: 93 for hashtag: YHOO\n",
      "Scraped Tweets: 94 for hashtag: YHOO\n",
      "Scraped Tweets: 95 for hashtag: YHOO\n",
      "Scraped Tweets: 96 for hashtag: YHOO\n",
      "Scraped Tweets: 97 for hashtag: YHOO\n",
      "Scraped Tweets: 98 for hashtag: YHOO\n",
      "Scraped Tweets: 99 for hashtag: YHOO\n",
      "Scraped Tweets: 100 for hashtag: YHOO\n",
      "Scraped Tweets: 101 for hashtag: YHOO\n",
      "Scraped Tweets: 102 for hashtag: YHOO\n",
      "Scraped Tweets: 103 for hashtag: YHOO\n",
      "Scraped Tweets: 104 for hashtag: YHOO\n",
      "Scraped Tweets: 105 for hashtag: YHOO\n"
     ]
    },
    {
     "name": "stderr",
     "output_type": "stream",
     "text": [
      "Skipping unrecognised entry ID: 'promoted-tweet-1673374311325876245-3d6a92e366589bb8'\n",
      "Skipping unrecognised entry ID: 'promoted-tweet-1666316274106810368-3d6a7ac5656f4b90'\n",
      "Skipping unrecognised entry ID: 'promoted-tweet-1672617845711073280-3d6a8917f3a851f0'\n"
     ]
    },
    {
     "name": "stdout",
     "output_type": "stream",
     "text": [
      "Scraped Tweets: 106 for hashtag: YHOO\n",
      "Scraped Tweets: 107 for hashtag: YHOO\n",
      "Scraped Tweets: 108 for hashtag: YHOO\n",
      "Scraped Tweets: 109 for hashtag: YHOO\n",
      "Scraped Tweets: 110 for hashtag: YHOO\n",
      "Scraped Tweets: 111 for hashtag: YHOO\n",
      "Scraped Tweets: 112 for hashtag: YHOO\n",
      "Scraped Tweets: 113 for hashtag: YHOO\n",
      "Scraped Tweets: 114 for hashtag: YHOO\n",
      "Scraped Tweets: 115 for hashtag: YHOO\n",
      "Scraped Tweets: 116 for hashtag: YHOO\n",
      "Scraped Tweets: 117 for hashtag: YHOO\n",
      "Scraped Tweets: 118 for hashtag: YHOO\n",
      "Scraped Tweets: 119 for hashtag: YHOO\n",
      "Scraped Tweets: 120 for hashtag: YHOO\n",
      "Scraped Tweets: 121 for hashtag: YHOO\n"
     ]
    },
    {
     "name": "stderr",
     "output_type": "stream",
     "text": [
      "Skipping unrecognised entry ID: 'promoted-tweet-1673374311325876245-3d6add9502b5de65'\n",
      "Skipping unrecognised entry ID: 'promoted-tweet-1666316274106810368-3d6ae754d35c5c03'\n"
     ]
    },
    {
     "name": "stdout",
     "output_type": "stream",
     "text": [
      "Scraped Tweets: 122 for hashtag: YHOO\n",
      "Scraped Tweets: 123 for hashtag: YHOO\n",
      "Scraped Tweets: 124 for hashtag: YHOO\n",
      "Scraped Tweets: 125 for hashtag: YHOO\n",
      "Scraped Tweets: 126 for hashtag: YHOO\n",
      "Scraped Tweets: 127 for hashtag: YHOO\n",
      "Scraped Tweets: 128 for hashtag: YHOO\n",
      "Scraped Tweets: 129 for hashtag: YHOO\n",
      "Scraped Tweets: 130 for hashtag: YHOO\n",
      "Scraped Tweets: 131 for hashtag: YHOO\n",
      "Scraped Tweets: 132 for hashtag: YHOO\n",
      "Scraped Tweets: 133 for hashtag: YHOO\n",
      "Scraped Tweets: 134 for hashtag: YHOO\n",
      "Scraped Tweets: 135 for hashtag: YHOO\n",
      "Scraped Tweets: 136 for hashtag: YHOO\n"
     ]
    },
    {
     "name": "stderr",
     "output_type": "stream",
     "text": [
      "Skipping unrecognised entry ID: 'promoted-tweet-1673374311325876245-3d6a4ddba4108858'\n",
      "Skipping unrecognised entry ID: 'promoted-tweet-1666316274106810368-3d6a716ccf3bab33'\n"
     ]
    },
    {
     "name": "stdout",
     "output_type": "stream",
     "text": [
      "Scraped Tweets: 137 for hashtag: YHOO\n",
      "Scraped Tweets: 138 for hashtag: YHOO\n",
      "Scraped Tweets: 139 for hashtag: YHOO\n",
      "Scraped Tweets: 140 for hashtag: YHOO\n",
      "Scraped Tweets: 141 for hashtag: YHOO\n",
      "Scraped Tweets: 142 for hashtag: YHOO\n",
      "Scraped Tweets: 143 for hashtag: YHOO\n",
      "Scraped Tweets: 144 for hashtag: YHOO\n",
      "Scraped Tweets: 145 for hashtag: YHOO\n",
      "Scraped Tweets: 146 for hashtag: YHOO\n",
      "Scraped Tweets: 147 for hashtag: YHOO\n",
      "Scraped Tweets: 148 for hashtag: YHOO\n",
      "Scraped Tweets: 149 for hashtag: YHOO\n",
      "Scraped Tweets: 150 for hashtag: YHOO\n",
      "Scraped Tweets: 151 for hashtag: YHOO\n"
     ]
    },
    {
     "name": "stderr",
     "output_type": "stream",
     "text": [
      "Skipping unrecognised entry ID: 'promoted-tweet-1673374311325876245-3d6ac2e8ce02241e'\n",
      "Skipping unrecognised entry ID: 'promoted-tweet-1666316274106810368-3d6a0c665e686ef9'\n"
     ]
    },
    {
     "name": "stdout",
     "output_type": "stream",
     "text": [
      "Scraped Tweets: 152 for hashtag: YHOO\n",
      "Scraped Tweets: 153 for hashtag: YHOO\n",
      "Scraped Tweets: 154 for hashtag: YHOO\n",
      "Scraped Tweets: 155 for hashtag: YHOO\n",
      "Scraped Tweets: 156 for hashtag: YHOO\n",
      "Scraped Tweets: 157 for hashtag: YHOO\n",
      "Scraped Tweets: 158 for hashtag: YHOO\n",
      "Scraped Tweets: 159 for hashtag: YHOO\n",
      "Scraped Tweets: 160 for hashtag: YHOO\n",
      "Scraped Tweets: 161 for hashtag: YHOO\n",
      "Scraped Tweets: 162 for hashtag: YHOO\n",
      "Scraped Tweets: 163 for hashtag: YHOO\n"
     ]
    },
    {
     "name": "stderr",
     "output_type": "stream",
     "text": [
      "Skipping unrecognised entry ID: 'promoted-tweet-1673374814743019531-3d6aeb0ba4cae534'\n",
      "Skipping unrecognised entry ID: 'promoted-tweet-1667350876229627904-3d6ac233f684b757'\n",
      "Skipping unrecognised entry ID: 'promoted-tweet-1666316274106810368-3d6a13300e02ca21'\n"
     ]
    },
    {
     "name": "stdout",
     "output_type": "stream",
     "text": [
      "Scraped Tweets: 164 for hashtag: YHOO\n",
      "Scraped Tweets: 165 for hashtag: YHOO\n",
      "Scraped Tweets: 166 for hashtag: YHOO\n",
      "Scraped Tweets: 167 for hashtag: YHOO\n",
      "Scraped Tweets: 168 for hashtag: YHOO\n",
      "Scraped Tweets: 169 for hashtag: YHOO\n",
      "Scraped Tweets: 170 for hashtag: YHOO\n",
      "Scraped Tweets: 171 for hashtag: YHOO\n",
      "Scraped Tweets: 172 for hashtag: YHOO\n",
      "Scraped Tweets: 173 for hashtag: YHOO\n",
      "Scraped Tweets: 174 for hashtag: YHOO\n",
      "Scraped Tweets: 175 for hashtag: YHOO\n",
      "Scraped Tweets: 176 for hashtag: YHOO\n",
      "Scraped Tweets: 177 for hashtag: YHOO\n"
     ]
    },
    {
     "name": "stderr",
     "output_type": "stream",
     "text": [
      "Skipping unrecognised entry ID: 'promoted-tweet-1673374311325876245-3d6af1224b7c1742'\n",
      "Skipping unrecognised entry ID: 'promoted-tweet-1666316274106810368-3d6ad86684579bac'\n"
     ]
    },
    {
     "name": "stdout",
     "output_type": "stream",
     "text": [
      "Scraped Tweets: 178 for hashtag: YHOO\n",
      "Scraped Tweets: 179 for hashtag: YHOO\n",
      "Scraped Tweets: 180 for hashtag: YHOO\n",
      "Scraped Tweets: 181 for hashtag: YHOO\n",
      "Scraped Tweets: 182 for hashtag: YHOO\n",
      "Scraped Tweets: 183 for hashtag: YHOO\n",
      "Scraped Tweets: 184 for hashtag: YHOO\n",
      "Scraped Tweets: 185 for hashtag: YHOO\n",
      "Scraped Tweets: 186 for hashtag: YHOO\n",
      "Scraped Tweets: 187 for hashtag: YHOO\n",
      "Scraped Tweets: 188 for hashtag: YHOO\n",
      "Scraped Tweets: 189 for hashtag: YHOO\n",
      "Scraped Tweets: 190 for hashtag: YHOO\n"
     ]
    },
    {
     "name": "stderr",
     "output_type": "stream",
     "text": [
      "Skipping unrecognised entry ID: 'promoted-tweet-1673374311325876245-3d6a989085519476'\n",
      "Skipping unrecognised entry ID: 'promoted-tweet-1667350876229627904-3d6ab0ed56761def'\n",
      "Skipping unrecognised entry ID: 'promoted-tweet-1666316274106810368-3d6aaffc7d34a1b6'\n"
     ]
    },
    {
     "name": "stdout",
     "output_type": "stream",
     "text": [
      "Scraped Tweets: 191 for hashtag: YHOO\n",
      "Scraped Tweets: 192 for hashtag: YHOO\n",
      "Scraped Tweets: 193 for hashtag: YHOO\n",
      "Scraped Tweets: 194 for hashtag: YHOO\n",
      "Scraped Tweets: 195 for hashtag: YHOO\n",
      "Scraped Tweets: 196 for hashtag: YHOO\n",
      "Scraped Tweets: 197 for hashtag: YHOO\n",
      "Scraped Tweets: 198 for hashtag: YHOO\n",
      "Scraped Tweets: 199 for hashtag: YHOO\n",
      "Scraped Tweets: 200 for hashtag: YHOO\n"
     ]
    }
   ],
   "source": [
    "\n",
    "hashtag_list = [\n",
    "    \"Altcoin\",\n",
    "    \"Bitcoin\",\n",
    "    \"Coindesk\",\n",
    "    \"Cryptocurrency\",\n",
    "    \"Gold\",\n",
    "    \"GOOG\",\n",
    "    \"APPL\",\n",
    "    \"YHOO\"\n",
    "]\n",
    "\n",
    "tweet_limit = 200  # Set the desired limit of tweets per hashtag\n",
    "tweets = []  # Initialize an empty list to store the tweets\n",
    "\n",
    "for hashtag_query in hashtag_list:\n",
    "    count = 0  # Initialize a count variable for each hashtag\n",
    "    \n",
    "    for tweet in sntwitter.TwitterSearchScraper(hashtag_query).get_items():\n",
    "        if count == tweet_limit:  # Stop when the limit is reached for the current hashtag\n",
    "            break\n",
    "        else:\n",
    "            if tweet.lang == 'en':\n",
    "                count += 1\n",
    "                tweets.append([\n",
    "                    tweet.date,\n",
    "                    tweet.content,\n",
    "                    tweet.user.username,\n",
    "                    tweet.replyCount,\n",
    "                    tweet.retweetCount,\n",
    "                    tweet.likeCount,\n",
    "                    tweet.lang,\n",
    "                    tweet.source,\n",
    "                    tweet.retweetedTweet,\n",
    "                    tweet.hashtags\n",
    "                ])\n",
    "                print(\"Scraped Tweets:\", count, \"for hashtag:\", hashtag_query)\n",
    "                # Optional: Add a sleep time every 20 tweets\n",
    "                # if count % 20 == 0:\n",
    "                #     sleep_time = 60  # Set the desired sleep time in seconds\n",
    "                #     print(\"Going to sleep for\", sleep_time/60, \"minutes\")\n",
    "                #     time.sleep(sleep_time)\n",
    "\n"
   ]
  },
  {
   "cell_type": "code",
   "execution_count": 51,
   "id": "c88c920c",
   "metadata": {},
   "outputs": [
    {
     "name": "stdout",
     "output_type": "stream",
     "text": [
      "                          date  \\\n",
      "0    2023-06-27 03:08:26+00:00   \n",
      "1    2023-06-27 03:07:16+00:00   \n",
      "2    2023-06-27 03:06:42+00:00   \n",
      "3    2023-06-27 03:06:17+00:00   \n",
      "4    2023-06-27 03:04:28+00:00   \n",
      "...                        ...   \n",
      "1223 2023-06-26 11:43:33+00:00   \n",
      "1224 2023-06-26 11:23:46+00:00   \n",
      "1225 2023-06-26 11:32:26+00:00   \n",
      "1226 2023-06-26 11:17:28+00:00   \n",
      "1227 2023-06-26 11:16:45+00:00   \n",
      "\n",
      "                                          tweet_content        user_name  \\\n",
      "0     Operating on the Binance Smart Chain network a...        AIDtokenF   \n",
      "1     @unicorn_in72340 Hey!! They seem like a good p...  AltcoinGem1000X   \n",
      "2     @BushidoMoney Hey!! They seem like a good proj...  AltcoinGem1000X   \n",
      "3     @BushidoMoney Hey!! They seem like a good proj...  AltcoinGem1000X   \n",
      "4     @Xeenon_xyz @Titan_Node Hey!! They seem like a...  AltcoinGem1000X   \n",
      "...                                                 ...              ...   \n",
      "1223                           @City_Press Yhoo.. Champ  SetjhabaLetsel2   \n",
      "1224  @LwandoScotch Yhoo I boredom yabo ibathumela e...        nomhamha_   \n",
      "1225             @bonbonniemc Yhoo. What a shitty bank😭    IamBonkosi_SA   \n",
      "1226                           @Ayympandle Yhoo bathong       ZamakonkeK   \n",
      "1227  @marubiny2 @khuliso_Neels Always 🤣🤣 nne i can'...    Zwivhuya_mick   \n",
      "\n",
      "      tweet_reply_count  tweet_retweet_count  tweet_like_count tweet_language  \\\n",
      "0                     1                    0                 0             en   \n",
      "1                     0                    0                 0             en   \n",
      "2                     0                    0                 0             en   \n",
      "3                     0                    0                 0             en   \n",
      "4                     0                    0                 0             en   \n",
      "...                 ...                  ...               ...            ...   \n",
      "1223                  0                    0                 0             en   \n",
      "1224                  3                    0                29             en   \n",
      "1225                  0                    0                 0             en   \n",
      "1226                  0                    0                 1             en   \n",
      "1227                  0                    0                 0             en   \n",
      "\n",
      "     tweet_source rt_original_tweet_id  \\\n",
      "0            None                 None   \n",
      "1            None                 None   \n",
      "2            None                 None   \n",
      "3            None                 None   \n",
      "4            None                 None   \n",
      "...           ...                  ...   \n",
      "1223         None                 None   \n",
      "1224         None                 None   \n",
      "1225         None                 None   \n",
      "1226         None                 None   \n",
      "1227         None                 None   \n",
      "\n",
      "                                         tweet_hashtags  \n",
      "0     [Cryptocurency, token, aidfinance, crypto, DeF...  \n",
      "1                                                  None  \n",
      "2                                                  None  \n",
      "3                                                  None  \n",
      "4                                                  None  \n",
      "...                                                 ...  \n",
      "1223                                               None  \n",
      "1224                                               None  \n",
      "1225                                               None  \n",
      "1226                                               None  \n",
      "1227                                               None  \n",
      "\n",
      "[1228 rows x 10 columns]\n"
     ]
    }
   ],
   "source": [
    "df = pd.DataFrame(tweets, columns=[\n",
    "    'date',\n",
    "    #'tweet_url',\n",
    "    'tweet_content',\n",
    "    #'tweet_rendered_content',\n",
    "    #'tweet_id',\n",
    "    'user_name',\n",
    "    #'display_name',\n",
    "    #'user_id',\n",
    "    #'concatenated_profile_url',\n",
    "    #'user_description',\n",
    "    #'verified',\n",
    "    'tweet_reply_count',\n",
    "    'tweet_retweet_count',\n",
    "    'tweet_like_count',\n",
    "    #'tweet_quote_count',\n",
    "    'tweet_language',\n",
    "    'tweet_source',\n",
    "    'rt_original_tweet_id',\n",
    "    #'quoted_tweet_original_tweet_id',\n",
    "    #'tweet_mentioned_users',\n",
    "    'tweet_hashtags'\n",
    "])\n",
    "print(df)\n",
    "\n"
   ]
  },
  {
   "cell_type": "code",
   "execution_count": 60,
   "id": "18758f01",
   "metadata": {},
   "outputs": [],
   "source": [
    "df.to_csv('Twitter_data.csv')"
   ]
  },
  {
   "cell_type": "code",
   "execution_count": 61,
   "id": "f206cc43",
   "metadata": {
    "scrolled": true
   },
   "outputs": [
    {
     "data": {
      "text/html": [
       "<div>\n",
       "<style scoped>\n",
       "    .dataframe tbody tr th:only-of-type {\n",
       "        vertical-align: middle;\n",
       "    }\n",
       "\n",
       "    .dataframe tbody tr th {\n",
       "        vertical-align: top;\n",
       "    }\n",
       "\n",
       "    .dataframe thead th {\n",
       "        text-align: right;\n",
       "    }\n",
       "</style>\n",
       "<table border=\"1\" class=\"dataframe\">\n",
       "  <thead>\n",
       "    <tr style=\"text-align: right;\">\n",
       "      <th></th>\n",
       "      <th>Unnamed: 0</th>\n",
       "      <th>date</th>\n",
       "      <th>tweet_content</th>\n",
       "      <th>user_name</th>\n",
       "      <th>tweet_reply_count</th>\n",
       "      <th>tweet_retweet_count</th>\n",
       "      <th>tweet_like_count</th>\n",
       "      <th>tweet_language</th>\n",
       "      <th>tweet_source</th>\n",
       "      <th>rt_original_tweet_id</th>\n",
       "      <th>tweet_hashtags</th>\n",
       "    </tr>\n",
       "  </thead>\n",
       "  <tbody>\n",
       "    <tr>\n",
       "      <th>0</th>\n",
       "      <td>0</td>\n",
       "      <td>2023-06-27 03:08:26+00:00</td>\n",
       "      <td>Operating on the Binance Smart Chain network a...</td>\n",
       "      <td>AIDtokenF</td>\n",
       "      <td>1.0</td>\n",
       "      <td>0</td>\n",
       "      <td>0.0</td>\n",
       "      <td>en</td>\n",
       "      <td>NaN</td>\n",
       "      <td>NaN</td>\n",
       "      <td>['Cryptocurency', 'token', 'aidfinance', 'cryp...</td>\n",
       "    </tr>\n",
       "    <tr>\n",
       "      <th>1</th>\n",
       "      <td>1</td>\n",
       "      <td>2023-06-27 03:07:16+00:00</td>\n",
       "      <td>@unicorn_in72340 Hey!! They seem like a good p...</td>\n",
       "      <td>AltcoinGem1000X</td>\n",
       "      <td>0.0</td>\n",
       "      <td>0</td>\n",
       "      <td>0.0</td>\n",
       "      <td>en</td>\n",
       "      <td>NaN</td>\n",
       "      <td>NaN</td>\n",
       "      <td>NaN</td>\n",
       "    </tr>\n",
       "    <tr>\n",
       "      <th>2</th>\n",
       "      <td>2</td>\n",
       "      <td>2023-06-27 03:06:42+00:00</td>\n",
       "      <td>@BushidoMoney Hey!! They seem like a good proj...</td>\n",
       "      <td>AltcoinGem1000X</td>\n",
       "      <td>0.0</td>\n",
       "      <td>0</td>\n",
       "      <td>0.0</td>\n",
       "      <td>en</td>\n",
       "      <td>NaN</td>\n",
       "      <td>NaN</td>\n",
       "      <td>NaN</td>\n",
       "    </tr>\n",
       "    <tr>\n",
       "      <th>3</th>\n",
       "      <td>3</td>\n",
       "      <td>2023-06-27 03:06:17+00:00</td>\n",
       "      <td>@BushidoMoney Hey!! They seem like a good proj...</td>\n",
       "      <td>AltcoinGem1000X</td>\n",
       "      <td>0.0</td>\n",
       "      <td>0</td>\n",
       "      <td>0.0</td>\n",
       "      <td>en</td>\n",
       "      <td>NaN</td>\n",
       "      <td>NaN</td>\n",
       "      <td>NaN</td>\n",
       "    </tr>\n",
       "    <tr>\n",
       "      <th>4</th>\n",
       "      <td>4</td>\n",
       "      <td>2023-06-27 03:04:28+00:00</td>\n",
       "      <td>@Xeenon_xyz @Titan_Node Hey!! They seem like a...</td>\n",
       "      <td>AltcoinGem1000X</td>\n",
       "      <td>0.0</td>\n",
       "      <td>0</td>\n",
       "      <td>0.0</td>\n",
       "      <td>en</td>\n",
       "      <td>NaN</td>\n",
       "      <td>NaN</td>\n",
       "      <td>NaN</td>\n",
       "    </tr>\n",
       "  </tbody>\n",
       "</table>\n",
       "</div>"
      ],
      "text/plain": [
       "  Unnamed: 0                       date  \\\n",
       "0          0  2023-06-27 03:08:26+00:00   \n",
       "1          1  2023-06-27 03:07:16+00:00   \n",
       "2          2  2023-06-27 03:06:42+00:00   \n",
       "3          3  2023-06-27 03:06:17+00:00   \n",
       "4          4  2023-06-27 03:04:28+00:00   \n",
       "\n",
       "                                       tweet_content        user_name  \\\n",
       "0  Operating on the Binance Smart Chain network a...        AIDtokenF   \n",
       "1  @unicorn_in72340 Hey!! They seem like a good p...  AltcoinGem1000X   \n",
       "2  @BushidoMoney Hey!! They seem like a good proj...  AltcoinGem1000X   \n",
       "3  @BushidoMoney Hey!! They seem like a good proj...  AltcoinGem1000X   \n",
       "4  @Xeenon_xyz @Titan_Node Hey!! They seem like a...  AltcoinGem1000X   \n",
       "\n",
       "   tweet_reply_count tweet_retweet_count  tweet_like_count tweet_language  \\\n",
       "0                1.0                   0               0.0             en   \n",
       "1                0.0                   0               0.0             en   \n",
       "2                0.0                   0               0.0             en   \n",
       "3                0.0                   0               0.0             en   \n",
       "4                0.0                   0               0.0             en   \n",
       "\n",
       "  tweet_source  rt_original_tweet_id  \\\n",
       "0          NaN                   NaN   \n",
       "1          NaN                   NaN   \n",
       "2          NaN                   NaN   \n",
       "3          NaN                   NaN   \n",
       "4          NaN                   NaN   \n",
       "\n",
       "                                      tweet_hashtags  \n",
       "0  ['Cryptocurency', 'token', 'aidfinance', 'cryp...  \n",
       "1                                                NaN  \n",
       "2                                                NaN  \n",
       "3                                                NaN  \n",
       "4                                                NaN  "
      ]
     },
     "execution_count": 61,
     "metadata": {},
     "output_type": "execute_result"
    }
   ],
   "source": [
    "df.head()"
   ]
  },
  {
   "cell_type": "code",
   "execution_count": 62,
   "id": "7857fed1",
   "metadata": {},
   "outputs": [
    {
     "data": {
      "text/html": [
       "<div>\n",
       "<style scoped>\n",
       "    .dataframe tbody tr th:only-of-type {\n",
       "        vertical-align: middle;\n",
       "    }\n",
       "\n",
       "    .dataframe tbody tr th {\n",
       "        vertical-align: top;\n",
       "    }\n",
       "\n",
       "    .dataframe thead th {\n",
       "        text-align: right;\n",
       "    }\n",
       "</style>\n",
       "<table border=\"1\" class=\"dataframe\">\n",
       "  <thead>\n",
       "    <tr style=\"text-align: right;\">\n",
       "      <th></th>\n",
       "      <th>Unnamed: 0</th>\n",
       "      <th>date</th>\n",
       "      <th>tweet_content</th>\n",
       "      <th>user_name</th>\n",
       "      <th>tweet_reply_count</th>\n",
       "      <th>tweet_retweet_count</th>\n",
       "      <th>tweet_like_count</th>\n",
       "      <th>tweet_language</th>\n",
       "      <th>tweet_source</th>\n",
       "      <th>rt_original_tweet_id</th>\n",
       "      <th>tweet_hashtags</th>\n",
       "    </tr>\n",
       "  </thead>\n",
       "  <tbody>\n",
       "    <tr>\n",
       "      <th>1227</th>\n",
       "      <td>1223</td>\n",
       "      <td>2023-06-26 11:43:33+00:00</td>\n",
       "      <td>@City_Press Yhoo.. Champ</td>\n",
       "      <td>SetjhabaLetsel2</td>\n",
       "      <td>0.0</td>\n",
       "      <td>0</td>\n",
       "      <td>0.0</td>\n",
       "      <td>en</td>\n",
       "      <td>NaN</td>\n",
       "      <td>NaN</td>\n",
       "      <td>NaN</td>\n",
       "    </tr>\n",
       "    <tr>\n",
       "      <th>1228</th>\n",
       "      <td>1224</td>\n",
       "      <td>2023-06-26 11:23:46+00:00</td>\n",
       "      <td>@LwandoScotch Yhoo I boredom yabo ibathumela e...</td>\n",
       "      <td>nomhamha_</td>\n",
       "      <td>3.0</td>\n",
       "      <td>0</td>\n",
       "      <td>29.0</td>\n",
       "      <td>en</td>\n",
       "      <td>NaN</td>\n",
       "      <td>NaN</td>\n",
       "      <td>NaN</td>\n",
       "    </tr>\n",
       "    <tr>\n",
       "      <th>1229</th>\n",
       "      <td>1225</td>\n",
       "      <td>2023-06-26 11:32:26+00:00</td>\n",
       "      <td>@bonbonniemc Yhoo. What a shitty bank😭</td>\n",
       "      <td>IamBonkosi_SA</td>\n",
       "      <td>0.0</td>\n",
       "      <td>0</td>\n",
       "      <td>0.0</td>\n",
       "      <td>en</td>\n",
       "      <td>NaN</td>\n",
       "      <td>NaN</td>\n",
       "      <td>NaN</td>\n",
       "    </tr>\n",
       "    <tr>\n",
       "      <th>1230</th>\n",
       "      <td>1226</td>\n",
       "      <td>2023-06-26 11:17:28+00:00</td>\n",
       "      <td>@Ayympandle Yhoo bathong</td>\n",
       "      <td>ZamakonkeK</td>\n",
       "      <td>0.0</td>\n",
       "      <td>0</td>\n",
       "      <td>1.0</td>\n",
       "      <td>en</td>\n",
       "      <td>NaN</td>\n",
       "      <td>NaN</td>\n",
       "      <td>NaN</td>\n",
       "    </tr>\n",
       "    <tr>\n",
       "      <th>1231</th>\n",
       "      <td>1227</td>\n",
       "      <td>2023-06-26 11:16:45+00:00</td>\n",
       "      <td>@marubiny2 @khuliso_Neels Always 🤣🤣 nne i can'...</td>\n",
       "      <td>Zwivhuya_mick</td>\n",
       "      <td>0.0</td>\n",
       "      <td>0</td>\n",
       "      <td>0.0</td>\n",
       "      <td>en</td>\n",
       "      <td>NaN</td>\n",
       "      <td>NaN</td>\n",
       "      <td>NaN</td>\n",
       "    </tr>\n",
       "  </tbody>\n",
       "</table>\n",
       "</div>"
      ],
      "text/plain": [
       "     Unnamed: 0                       date  \\\n",
       "1227       1223  2023-06-26 11:43:33+00:00   \n",
       "1228       1224  2023-06-26 11:23:46+00:00   \n",
       "1229       1225  2023-06-26 11:32:26+00:00   \n",
       "1230       1226  2023-06-26 11:17:28+00:00   \n",
       "1231       1227  2023-06-26 11:16:45+00:00   \n",
       "\n",
       "                                          tweet_content        user_name  \\\n",
       "1227                           @City_Press Yhoo.. Champ  SetjhabaLetsel2   \n",
       "1228  @LwandoScotch Yhoo I boredom yabo ibathumela e...        nomhamha_   \n",
       "1229             @bonbonniemc Yhoo. What a shitty bank😭    IamBonkosi_SA   \n",
       "1230                           @Ayympandle Yhoo bathong       ZamakonkeK   \n",
       "1231  @marubiny2 @khuliso_Neels Always 🤣🤣 nne i can'...    Zwivhuya_mick   \n",
       "\n",
       "      tweet_reply_count tweet_retweet_count  tweet_like_count tweet_language  \\\n",
       "1227                0.0                   0               0.0             en   \n",
       "1228                3.0                   0              29.0             en   \n",
       "1229                0.0                   0               0.0             en   \n",
       "1230                0.0                   0               1.0             en   \n",
       "1231                0.0                   0               0.0             en   \n",
       "\n",
       "     tweet_source  rt_original_tweet_id tweet_hashtags  \n",
       "1227          NaN                   NaN            NaN  \n",
       "1228          NaN                   NaN            NaN  \n",
       "1229          NaN                   NaN            NaN  \n",
       "1230          NaN                   NaN            NaN  \n",
       "1231          NaN                   NaN            NaN  "
      ]
     },
     "execution_count": 62,
     "metadata": {},
     "output_type": "execute_result"
    }
   ],
   "source": [
    "df.tail()"
   ]
  },
  {
   "cell_type": "code",
   "execution_count": 63,
   "id": "9f854d45",
   "metadata": {},
   "outputs": [
    {
     "data": {
      "text/plain": [
       "(1232, 11)"
      ]
     },
     "execution_count": 63,
     "metadata": {},
     "output_type": "execute_result"
    }
   ],
   "source": [
    "df.shape"
   ]
  },
  {
   "cell_type": "code",
   "execution_count": 64,
   "id": "0fbe4ef8",
   "metadata": {},
   "outputs": [],
   "source": [
    "df = pd.read_csv('Twitter_data.csv')"
   ]
  },
  {
   "cell_type": "code",
   "execution_count": 65,
   "id": "9e7083e0",
   "metadata": {},
   "outputs": [
    {
     "data": {
      "text/plain": [
       "0"
      ]
     },
     "execution_count": 65,
     "metadata": {},
     "output_type": "execute_result"
    }
   ],
   "source": [
    "df.duplicated().sum()"
   ]
  },
  {
   "cell_type": "code",
   "execution_count": 66,
   "id": "676e5b6e",
   "metadata": {},
   "outputs": [
    {
     "name": "stdout",
     "output_type": "stream",
     "text": [
      "<class 'pandas.core.frame.DataFrame'>\n",
      "RangeIndex: 1232 entries, 0 to 1231\n",
      "Data columns (total 12 columns):\n",
      " #   Column                Non-Null Count  Dtype  \n",
      "---  ------                --------------  -----  \n",
      " 0   Unnamed: 0.1          1232 non-null   int64  \n",
      " 1   Unnamed: 0            1232 non-null   object \n",
      " 2   date                  1230 non-null   object \n",
      " 3   tweet_content         1230 non-null   object \n",
      " 4   user_name             1228 non-null   object \n",
      " 5   tweet_reply_count     1228 non-null   float64\n",
      " 6   tweet_retweet_count   1228 non-null   object \n",
      " 7   tweet_like_count      1226 non-null   float64\n",
      " 8   tweet_language        1226 non-null   object \n",
      " 9   tweet_source          2 non-null      object \n",
      " 10  rt_original_tweet_id  0 non-null      float64\n",
      " 11  tweet_hashtags        254 non-null    object \n",
      "dtypes: float64(3), int64(1), object(8)\n",
      "memory usage: 115.6+ KB\n"
     ]
    }
   ],
   "source": [
    "df.info()"
   ]
  },
  {
   "cell_type": "code",
   "execution_count": 68,
   "id": "2a25fda6",
   "metadata": {},
   "outputs": [],
   "source": [
    "text_total = \" \".join(df[\"tweet_content\"].astype(str))"
   ]
  },
  {
   "cell_type": "code",
   "execution_count": 69,
   "id": "4003f4d6",
   "metadata": {},
   "outputs": [
    {
     "data": {
      "text/plain": [
       "157127"
      ]
     },
     "execution_count": 69,
     "metadata": {},
     "output_type": "execute_result"
    }
   ],
   "source": [
    "len(text_total) # Length of text "
   ]
  },
  {
   "cell_type": "code",
   "execution_count": 70,
   "id": "63e014f5",
   "metadata": {},
   "outputs": [
    {
     "data": {
      "text/plain": [
       "\"Operating on the Binance Smart Chain network and powered by smart contracts, our project prioritizes security, stability, and transparency for every participant. 🛡️ #Cryptocurency #token #aidfinance #crypto #DeFi #altcoin https://t.co/pcSw65sNJf @unicorn_in72340 Hey!! They seem like a good project to me, can we talk? send me dm! 🚀📩 @BushidoMoney Hey!! They seem like a good project to me, can we talk? send me dm! 🚀📩 @BushidoMoney Hey!! They seem like a good project to me, can we talk? send me dm! 🚀📩 @Xeenon_xyz @Titan_Node Hey!! They seem like a good project to me, can we talk? send me dm! 🚀📩 @theomparticle DM me sir let's talk, I have a good proposal for your project 📥🚀 @SnoopMinerETH Hey!! They seem like a good project to me, can we talk? send me dm! 🚀📩 @kryptochay Hey!! They seem like a good project to me, can we talk? send me dm! 🚀📩 @imthebatman_eth DM me sir let's talk, I have a good proposal for your project 📥🚀 @B_RATEDComedy Excellent project! Let's work together ! send me dm 📩 @B_RATEDComedy DM me sir let's talk, I have a good proposal for your project 📥🚀 @B_RATEDComedy Hey!! They seem like a good project to me, can we talk? send me dm! 🚀📩 So far, #RHT has paid its holders $1272 in #USDT. No staking and not a reflection token. 1% of all trades goes to the investment Royalty Company portfolio made up of stocks, bonds, crypto etc. Earnings get paid every Sunday to the holders of $RHT. #Crypto #altcoin #CryptoNews https://t.co/oz1ohMfaF6 eh depend, \\n\\nnot shorting majority of altcoin since november 2022 is litteraly be a redard and underperform heavly the market, but that only if you also longed on the other side few  good coin, like bitcoin/tomochain\\n\\nthe most important part of shorting is you need a long or spot before it, otherwise the risk you taking is way to high and it's not be a chad in this case, it's being inconsider/immature trader #Swiss central bank announces plans for wholesale #CBDC pilot with ‘real money’ - https://t.co/631bDU8oIe #coinatory #Adoption #Altcoin #Bitcoin #Blockchain #Cryptocurrency #Cryptomarket #Cryptonewstoday #Ethereum #News #Regulations @CMOON_COIN Excellent project! Let's work together ! send me dm 📩 @CMOON_COIN Hey!! They seem like a good project to me, can we talk? send me dm! 🚀📩 @CMOON_COIN Hey!! They seem like a good project to me, can we talk? send me dm! 🚀📩 @CMOON_COIN DM me sir let's talk, I have a good proposal for your project 📥🚀 Missouri Legislative committee passes a bill protecting Node Running &amp;amp;amp;amp;amp;amp;amp;amp;amp;amp;  Crypto Mining | CryptoTvplus: DeFi, NFT, Bitcoin, Ethereum Altcoin,  Cryptocurrency &amp;amp;amp;amp;amp;amp;amp;amp;amp;amp; Blockchain News, Interviews, Research, Shows 🔥 Nero is shaking the crypto world with many accomplishments in just 1 month! That's why $NERO is the next 1.000x gem, WE'RE JUST GETTING STARTED! \\n\\nWe'll burn every FUD and HATER showing even more results!🔥\\n\\n📊Chart:\\nhttps://t.co/H0hKDfRJwr\\n\\n💻Telegram:\\nhttps://t.co/KqiZ3lxUaI https://t.co/648B3lyZFJ @Gemladybullish DM me sir let's talk, I have a good proposal for your project 📥🚀 @BlockSafu @FlippinLabs Hey!! They seem like a good project to me, can we talk? send me dm! 🚀📩 @FlippinLabs Excellent project! Let's work together ! send me dm 📩 #Crypto Predictions:  \\n\\n1) $AZERO will pull a $SOL in 2025  \\n\\n2) $TAO will becoming an AI giant  \\n\\n3) $KAS has the potential to enter the top 20 coins   \\n\\n4) #Altcoins like $TRIAS &amp; $VRA will BE X100  \\n\\n5) Interoperability will become more important - $QNT $CHNG $ROUTE\\n\\n#altcoin @VMinoko @BUBU_erc Hey!! They seem like a good project to me, can we talk? send me dm! 🚀📩 @VMinoko @BUBU_erc Let’s Talk 🔥🚀 @SerGalaChad @RibbitNation Hey!! They seem like a good project to me, can we talk? send me dm! 🚀📩 CRYPTO BREAKING NEWS\\nCelsius seeks to convert altcoins to BTC,  ETH in updated bankruptcy plan. Defunct crypto lender Celsius Network  has requested court approval to convert all altcoin holdings to Bitcoin  and Ethereum. Celsius announced the ... check us out @… https://t.co/p5s1gG4bum @shahh Exchange that 1 bitcoin to altcoin and wait for 24/25 bullrun. @learn_charles @Azuki 10e seems optimistic now with the number of Azuki in Blend facing cascading liquidation CRYPTO BREAKING NEWS\\nTop 10 Altcoins Show Strength With  Impressive Price Rises. The total altcoin market cap re-tested a key  support level during the past week. However, bulls were able to defend  the level, which resulted in m... check us out @ https://t.co/wsKm5ebH96 Stop🚦 mixing them up 🙂\\n\\nCoin: A digital currency that operates on its own independent blockchain, such as Bitcoin (BTC).\\n\\nAltcoin: Refers to all cryptocurrencies other than Bitcoin.\\n\\nToken: A digital asset that is built on top of an existing blockchain platform. https://t.co/9zeCEjY8op Shill me your favourite #altcoin gem for #500x when the next bull run starts📈 Missouri Legislative committee passes a bill protecting Node Running &amp;amp;amp;amp;amp;amp;amp;amp;amp;amp;  Crypto Mining | CryptoTvplus: D\""
      ]
     },
     "execution_count": 70,
     "metadata": {},
     "output_type": "execute_result"
    }
   ],
   "source": [
    "text_total[:5000]"
   ]
  },
  {
   "cell_type": "code",
   "execution_count": 71,
   "id": "2f4ae323",
   "metadata": {},
   "outputs": [
    {
     "name": "stdout",
     "output_type": "stream",
     "text": [
      "\n",
      "\r",
      " !\"#$%&'()*+,-./0123456789:;=?@ABCDEFGHIJKLMNOPQRSTUVWXYZ[]_abcdefghijklmnopqrstuvwxyz|~ ©­´ïابتدذرزعفكلمنهوกขดทนมยรหอะิีูไ่‍–—‘’“”•… ⃣─▪▶☆☮☺♀♂⚗⚠⚡✅✈✌✨✴✾❗❤➡⬆⬇⬛⭕いがさたつとなへりんアカットヒプマメリー上东乡亭件初华卡台合喘四国垣套女娇家射山州币帽康式当心投方极栖株桐永河洗津玩盯禹米繋绿者聊莉萝行裸视資速配钱银长陪霞频高게내년단민방브소스야에이일지타탄️￣𝐄𝐅𝐈𝐋𝐒𝐔🇦🇨🇯🇲🇵🇶🇷🇸🇺🇻🌎🌐🌑🌕🌙🌞🌩🍉🍎🍾🍿🎈🎯🏃🏅🏆🏢🏻🏼🏽🏾🐈🐌🐎👀👇👈👉👋👌👍👳💀💌💎💐💔💖💛💞💨💩💪💯💰💲💵💸💹💻💼📀📅📈📉📊📍📡📣📥📩📰📷🔄🔍🔑🔔🔗🔥🔮🔱🔴🕉🗯😁😂😄😅😈😉😊😋😍😎😑😘😜😟😡😢😥😨😩😫😬😭😰😱😲😳🙂🙃🙄🙆🙊🙌🙏🚀🚦🚨🚩🚮🛡🟢🟧🤌🤍🤎🤑🤓🤔🤝🤡🤣🤦🤧🤭🤮🤷🥇🥈🥉🥲🥴🥵🥹🦾🧍🧐🩵🩷🩸🪁🪙🪜🪦🫡🫣🫶\n",
      "424\n"
     ]
    }
   ],
   "source": [
    "chars = sorted(list(set(text_total)))#Unique characters in the text\n",
    "vocab_size = len(chars)#length of unique characters\n",
    "print(''.join(chars))\n",
    "print(vocab_size)"
   ]
  },
  {
   "cell_type": "code",
   "execution_count": 72,
   "id": "bcad3525",
   "metadata": {},
   "outputs": [],
   "source": [
    "df_new = df.copy()"
   ]
  },
  {
   "cell_type": "code",
   "execution_count": 83,
   "id": "72e9380e",
   "metadata": {},
   "outputs": [],
   "source": [
    "def cleaning_text(text):\n",
    "    if isinstance(text, str):\n",
    "        \n",
    "        print(text)\n",
    "        text = text.lower()  # Convert text to lowercase\n",
    "        text = re.sub(r'\\[.*?\\]', '', text)  # Remove square brackets\n",
    "        text = re.sub(r'https?://\\S+|www\\.\\S+', '', text)  # Remove URLs\n",
    "        text = re.sub(r'[^\\w\\s]', '', text)  # Remove alphanumeric characters excluding white spaces\n",
    "        text = re.sub(r'[%s]' % re.escape(string.punctuation), '', text)  # Remove punctuation marks\n",
    "        text = re.sub(r'[\\'\\\"\\.]+', '', text)  # Remove single quotes, double quotes, and periods\n",
    "        #text = emoji.get_emoji_regexp().sub('', text)  # Remove emojis\n",
    "        text = demoji.replace(text, '')\n",
    "    \n",
    "    return text\n",
    "\n",
    "cleaning = lambda x: cleaning_text(x)"
   ]
  },
  {
   "cell_type": "code",
   "execution_count": 84,
   "id": "3a99d9c9",
   "metadata": {},
   "outputs": [
    {
     "name": "stdout",
     "output_type": "stream",
     "text": [
      "Operating on the Binance Smart Chain network and powered by smart contracts, our project prioritizes security, stability, and transparency for every participant. 🛡️ #Cryptocurency #token #aidfinance #crypto #DeFi #altcoin https://t.co/pcSw65sNJf\n",
      "@unicorn_in72340 Hey!! They seem like a good project to me, can we talk? send me dm! 🚀📩\n",
      "@BushidoMoney Hey!! They seem like a good project to me, can we talk? send me dm! 🚀📩\n",
      "@BushidoMoney Hey!! They seem like a good project to me, can we talk? send me dm! 🚀📩\n",
      "@Xeenon_xyz @Titan_Node Hey!! They seem like a good project to me, can we talk? send me dm! 🚀📩\n",
      "@theomparticle DM me sir let's talk, I have a good proposal for your project 📥🚀\n",
      "@SnoopMinerETH Hey!! They seem like a good project to me, can we talk? send me dm! 🚀📩\n",
      "@kryptochay Hey!! They seem like a good project to me, can we talk? send me dm! 🚀📩\n",
      "@imthebatman_eth DM me sir let's talk, I have a good proposal for your project 📥🚀\n",
      "@B_RATEDComedy Excellent project! Let's work together ! send me dm 📩\n",
      "@B_RATEDComedy DM me sir let's talk, I have a good proposal for your project 📥🚀\n",
      "@B_RATEDComedy Hey!! They seem like a good project to me, can we talk? send me dm! 🚀📩\n",
      "So far, #RHT has paid its holders $1272 in #USDT. No staking and not a reflection token. 1% of all trades goes to the investment Royalty Company portfolio made up of stocks, bonds, crypto etc. Earnings get paid every Sunday to the holders of $RHT. #Crypto #altcoin #CryptoNews https://t.co/oz1ohMfaF6\n",
      "eh depend, \n",
      "\n",
      "not shorting majority of altcoin since november 2022 is litteraly be a redard and underperform heavly the market, but that only if you also longed on the other side few  good coin, like bitcoin/tomochain\n",
      "\n",
      "the most important part of shorting is you need a long or spot before it, otherwise the risk you taking is way to high and it's not be a chad in this case, it's being inconsider/immature trader\n",
      "#Swiss central bank announces plans for wholesale #CBDC pilot with ‘real money’ - https://t.co/631bDU8oIe #coinatory #Adoption #Altcoin #Bitcoin #Blockchain #Cryptocurrency #Cryptomarket #Cryptonewstoday #Ethereum #News #Regulations\n",
      "@CMOON_COIN Excellent project! Let's work together ! send me dm 📩\n",
      "@CMOON_COIN Hey!! They seem like a good project to me, can we talk? send me dm! 🚀📩\n",
      "@CMOON_COIN Hey!! They seem like a good project to me, can we talk? send me dm! 🚀📩\n",
      "@CMOON_COIN DM me sir let's talk, I have a good proposal for your project 📥🚀\n",
      "Missouri Legislative committee passes a bill protecting Node Running &amp;amp;amp;amp;amp;amp;amp;amp;amp;amp;  Crypto Mining | CryptoTvplus: DeFi, NFT, Bitcoin, Ethereum Altcoin,  Cryptocurrency &amp;amp;amp;amp;amp;amp;amp;amp;amp;amp; Blockchain News, Interviews, Research, Shows\n",
      "🔥 Nero is shaking the crypto world with many accomplishments in just 1 month! That's why $NERO is the next 1.000x gem, WE'RE JUST GETTING STARTED! \n",
      "\n",
      "We'll burn every FUD and HATER showing even more results!🔥\n",
      "\n",
      "📊Chart:\n",
      "https://t.co/H0hKDfRJwr\n",
      "\n",
      "💻Telegram:\n",
      "https://t.co/KqiZ3lxUaI https://t.co/648B3lyZFJ\n",
      "@Gemladybullish DM me sir let's talk, I have a good proposal for your project 📥🚀\n",
      "@BlockSafu @FlippinLabs Hey!! They seem like a good project to me, can we talk? send me dm! 🚀📩\n",
      "@FlippinLabs Excellent project! Let's work together ! send me dm 📩\n",
      "#Crypto Predictions:  \n",
      "\n",
      "1) $AZERO will pull a $SOL in 2025  \n",
      "\n",
      "2) $TAO will becoming an AI giant  \n",
      "\n",
      "3) $KAS has the potential to enter the top 20 coins   \n",
      "\n",
      "4) #Altcoins like $TRIAS &amp; $VRA will BE X100  \n",
      "\n",
      "5) Interoperability will become more important - $QNT $CHNG $ROUTE\n",
      "\n",
      "#altcoin\n",
      "@VMinoko @BUBU_erc Hey!! They seem like a good project to me, can we talk? send me dm! 🚀📩\n",
      "@VMinoko @BUBU_erc Let’s Talk 🔥🚀\n",
      "@SerGalaChad @RibbitNation Hey!! They seem like a good project to me, can we talk? send me dm! 🚀📩\n",
      "CRYPTO BREAKING NEWS\n",
      "Celsius seeks to convert altcoins to BTC,  ETH in updated bankruptcy plan. Defunct crypto lender Celsius Network  has requested court approval to convert all altcoin holdings to Bitcoin  and Ethereum. Celsius announced the ... check us out @… https://t.co/p5s1gG4bum\n",
      "@shahh Exchange that 1 bitcoin to altcoin and wait for 24/25 bullrun.\n",
      "@learn_charles @Azuki 10e seems optimistic now with the number of Azuki in Blend facing cascading liquidation\n",
      "CRYPTO BREAKING NEWS\n",
      "Top 10 Altcoins Show Strength With  Impressive Price Rises. The total altcoin market cap re-tested a key  support level during the past week. However, bulls were able to defend  the level, which resulted in m... check us out @ https://t.co/wsKm5ebH96\n",
      "Stop🚦 mixing them up 🙂\n",
      "\n",
      "Coin: A digital currency that operates on its own independent blockchain, such as Bitcoin (BTC).\n",
      "\n",
      "Altcoin: Refers to all cryptocurrencies other than Bitcoin.\n",
      "\n",
      "Token: A digital asset that is built on top of an existing blockchain platform. https://t.co/9zeCEjY8op\n",
      "Shill me your favourite #altcoin gem for #500x when the next bull run starts📈\n",
      "Missouri Legislative committee passes a bill protecting Node Running &amp;amp;amp;amp;amp;amp;amp;amp;amp;amp;  Crypto Mining | CryptoTvplus: DeFi, NFT, Bitcoin, Ethereum Altcoin,  Cryptocurrency &amp;amp;amp;amp;amp;amp;amp;amp;amp;amp; Blockchain News, Interviews, Research, Shows\n",
      "$ONLYUP is a game-changing asset, with fantastic potential. Don't miss out on this one. #crypto #altcoin\n",
      "✴️ The public #ApeCoin airdrop is now live\n",
      " 💰 Claim your $APE now\n",
      "\n",
      "👉 https://t.co/fibatHGJhp\n",
      "\n",
      "#trading #MONG #FOMC #ETH #WWDC23 #altcoin #Bincnce #SUI #Meta #BAYC #Giveaway #investment #ADA $ADA #money #litecoin #bitcoinmining https://t.co/8nlYx55dTC\n",
      "@ThreadGirl_eth Do you want to know the next #x1000GEM 🤑💵\n",
      "🚀🚀🚀🚀🚀🚀🚀 👇\n",
      "\n",
      "50 retweets and I'll release a document of #altcoin gams\n",
      "\n",
      "We will get the 💰🏆\n",
      "\n",
      "💪\n",
      "@Dobez_ @AltcoinDailyio @CryptoStache @RealFlokiInu Never judge a book by its cover. More is coming for floki. Mass adoption will happen. If u don't believe me then check out altcoin daily video on floki.\n",
      "@CarlaeWashi @MonstersCoins Certainly! $AERGO emerges as a highly promising low-cap altcoin with vast potential. Its decentralized blockchain platform unlocks possibilities in various sectors. By adopting an innovative approach $AERGO is primed to create substantial impact within the crypto space.\n",
      "@CryptoNacyz @DoseOfArt024 @OshikuruToken LFG.. it's just warming up🔥🚀\n",
      "$BTC seeing an uptick in chatter on 4chan over the last 24 hours\n",
      "0\n",
      "GM 🌞\n",
      "\n",
      "Start Crypto Trading Today!\n",
      "\n",
      "💰 https://t.co/JFvgU1EEp9\n",
      "#HotcoinGlobal #Bitcoin #Crypto #altcoin #MEMECOINSEASON2023\n",
      "@TreyDay_20 @FadeHubb The first shot was self defence , the shots after were just saving the tax payer some money\n",
      "@Prawnsswap i will put my 6 eth in this lets goo make me millionaire #altcoin #defi #ai coin #prawns #prawnsswap $prawns\n",
      "Ledger Nano X is the latest hardware wallet from Ledger brand. The Ledger Nano X is one of the best #Bitcoin #Ethereum and #altcoin wallets for secure management of your digital assets. https://t.co/Dx1qBR7oYk https://t.co/7a3PsZT0CG\n",
      "@TechnoPay_BSC Let’s Talk 🔥🚀\n",
      "⭕ The public #ApeCoin airdrop is now live\n",
      " 💰 Claim your $APE now\n",
      "\n",
      "👉 https://t.co/O2uh1PzvYY\n",
      "\n",
      "#cryptoartist #cryptoearnings #invest #artist #stocks #altcoin #polygon #cryptofree #bitcoinnews #nftgiveaway #pubgmobile https://t.co/4d0clYKgdJ\n",
      "At a conference in Zurich, Thomas Jordan, the head of the #Swiss National Bank (SNB), made an announcement regarding a project. Despite... - link in the next tweet #Adoption #Altcoin #Bitcoin #Cryptocurrency #Cryptomarket #Cryptonewstoday #Ethereum #Regulations https://t.co/Sm87HuLHbi\n",
      "@AzurSwap Hey!! They seem like a good project to me, can we talk? send me dm! 🚀📩\n",
      "@Maga4Justice Sorry but Carter and the democrats had destroyed the economy by 1980. I was there and I remember.\n",
      "@altcoin_casino @ingi_erlingsson The two most popular times can slug it out in an old fashioned greaser brawl in the alley behind the soda shoppe.\n",
      "ALTCOIN NEWS: Venture capital financing in crypto, explained | Tom Neway https://t.co/Tl6Bi55I1E\n",
      "CRYPTO BREAKING NEWS\n",
      "Bitcoin Hard Fork Altcoin $BCH Rose over  90% in the Past 7 Days. Bitcoin Hard Fork Altcoin $BCH Rose over 90% in  the Past 7 Days check us out @ https://t.co/mFi2tVJtiJ\n",
      "@AltcoinDailyio CZ LAUNCHEDD AA MASSIVE GlVE­AW­AY!\n",
      "\n",
      " bnbspot. net\n",
      "How to Buy Bitcoin With No KYC - Reviews - Altcoin Buzz - https://t.co/Lur37R4bP9\n",
      "@JirkaSaFuCalls Any low cap #altcoin I should know about _________ ??\n",
      "We got two for the price of one. https://t.co/KC0Yr2C38S\n",
      "Highest Bags in portfolio are: $BCH, $LTC, $SOL, $XRP, $MNW, $LINK, $VET, $INJ, $XMR and $RIO. But i am hoping to add $DOGE, $SHIB and $FLOKI to the list, so i diversify it with few memecoins.\n",
      "\n",
      "Let me know if i missed any. 🌑\n",
      "\n",
      "Shill me your 100x altcoin gems. 💎\n",
      "The Ledger Nano is built around a secure chip, ensuring optimal security. Your private keys, giving access to your assets, remain safe in a certified secure element https://t.co/Dx1qBR7oYk\n",
      "#Cryptocurrency #Crypto #BTC #Blockchain #Altcoin #Bitcoin #Ethereum https://t.co/4hsbfl8Lae\n",
      "Invest in $PEACE, a promising altcoin with great potential. Its strong market position and growth pattern set it apart from $FIL.\n",
      "@LayerTwoLabs #BCH #BitcoinCash is up 82% vs BTC this week. Unless you're saying BCH isn't an altcoin?\n",
      "@MonstersCoins You should know about $SYS which is an amazing altcoin with great potential as it remains a low market cap gem that offers low transaction cost\n",
      "The highest allocation in my portfolio is $RIO, $LINK, $SOL, $XRP, $VET, $ARB, $DOT, $PEPE, $BCH, $MONG, $BTC, and $ETH. But I am looking for a few meme coins to add to my portfolio.\n",
      "\n",
      "Let me know if I missed any. 💎\n",
      "\n",
      "Shill me your 100x altcoin gems. 🪙\n",
      "@WhaleChart No. Bitcoin has a lot more steam and this time altcoin pump and dump schemes are not the same. You won’t see a solana go from $1 to $200 again.\n",
      "@CryptoClash1 @InfiblueNFT I Am interested in discussing \"@InfiblueNFT \"Let's say I breed a hero and it will be NFT. \n",
      "Wouldn't that hero be intrinsically worthless if half a million other players also breed the same hero and also turn it into NFT?\n",
      "Or is each hero we developed unique and has its own value?\n",
      "@CryptoClash1 @InfiblueNFT Could you share with us some killer features of #InfiblueWorld project  that set it apart from its competitors? What competitive advantages does your platform have that you feel most confident in?\n",
      "@CryptoClash1 @InfiblueNFT The majority of initiatives like to talk about their long-term vision and mission, but what are your short-term goals? So,on what are you currently concentrating?Almost many investors hold tokens for a short period of time. What are the advantages of owning a #InfiblueNFT token?\n",
      "@CryptoClash1 @InfiblueNFT @InfiblueNFT is blockchain gaming. But in terms of community, there is still a large audience in the gaming world that has yet to meet the crypto and blockchain industry. What are your plans to reach these people and make your voice heard by all gamers?\n",
      "@CryptoClash1 @InfiblueNFT Launching projects in a bull run is much profitable than during the bear cycle. In a bear run where most of the projects fail and sometimes gone into oblivion, how will #InfiblueNFT stand the test of times?\n",
      "What strategies do the project employ to mitigate possible losses?\n",
      "@CryptoClash1 @InfiblueNFT P2E game is in its infancy and current projects are only fomo in the beginning. How can #InfiblueWorld keep investors for a long time without switching to another newer project?\n",
      "@CryptoClash1 @InfiblueNFT There always competition in the blockchain technology. How does @InfiblueNFT plan to be at the forefront of its innovative technology in gaming/NFTs field? What if in the coming years the whole market has falls due to little demand of the token, how will your ecosystem survive?\n",
      "Nice way to get all #crypto newbies to trade their coins on #KuCoin now they can get up to 3,200 $USDT rewards by completing certain tasks.\n",
      "Take a dive on the crypto space and #BUIDL on #Kucoin!\n",
      "\n",
      "#Altcoin #Memecoin #CEX #Shibarium $DYP $AMM $DARC $PPT $CHIBI $JESUS $GLF $GBK $GFT\n",
      "arbitrum simply showing insane strength\n",
      "arbitrum will lead the altcoin bull run\n",
      "it is the main thesis of the next run.\n",
      "OMG! You won't believe what just happened. A mermaid emerged on my sailor boat asking for my aid to find the @Tabi_NFT Trident.\n",
      "She whispered in my ear, promising a luminous pearl as compensation. Should I help her?\n",
      "https://t.co/h0ngWSgTvE\n",
      "⚡ 极速上币 - Express Listing\n",
      "\n",
      "Bull Doge (DOGE)\n",
      "https://t.co/M39QBvKK3z\n",
      "\n",
      "0x390e31c861dc413f36530fea950a9D95C0E3e8C2\n",
      "\n",
      "Liq: $854 | MC: $806\n",
      "\n",
      "#altcoin #memecoins @moontokofficial\n",
      "Tried to tell y’all. #Hedera has a governing counsel that seems to be a part of the global #cabal. Not one of the companies in the counsel came of against forced #jabs #vaccinations. \n",
      "\n",
      "#LG #Boeing #Google #IBM #BTC #ETH #Crypto #Altcoin https://t.co/bXj4ZdarCx\n",
      "$BCH working its way into the top 20 most mentioned on 4chan over the last 7 days\n",
      "1\n",
      "$Altcoin will pump hard one by one .\n",
      "Time to buy when they look horrible .\n",
      "Time to sell when they look beautiful .\n",
      "2️⃣ Catch the fomo\n",
      "\n",
      "$ARB, $MAGIC and $WOO are altcoin caps above 100M$ that have grown quite well in the last week. Now you can watch the broadcast again.\n",
      "\n",
      "Especially $ARB is a cap of more than 1B$ which increases the ranking of all other altcoins of the same rank.\n",
      "Looking for an alternative store of value on the Ethereum network? Check out Altcoin (ATC)! With a fixed supply of 21 million, it aims to provide the same scarcity as Bitcoin while utilizing Ethereum's powerful infrastructure. 💎 #Altcoin #ATC #Ethereum #StoreOfValue\n",
      "Altcoin WHALE ALERT: Millions bought by Crypto Whale! #shorts https://t.co/1lZDlXYqnz https://t.co/zJ63XJmC81\n",
      "#Altcoin is trending  👀\n",
      "\n",
      "$ATC #Altcoin #AltcoinSeason https://t.co/uFGHsViOZ1\n",
      "@SQU1NCH @ingi_erlingsson should funnel top 2 into a runoff poll, but the winner from round 1 can have home court advantage.\n",
      "If you enjoy finding 100x gems before the crowd like me then:\n",
      "\n",
      "1. Follow me @cryptofleh and turn notifications on so you don’t miss the next hot altcoin gem announcement 🔔 \n",
      "\n",
      "2. RT this post below to share this alpha with your audience 👇 \n",
      "\n",
      "https://t.co/nEHCrGKLRJ\n",
      "If you enjoy finding 100x gems before the crowd like me then:\n",
      "\n",
      "1. Follow me @cryptofleh and turn notifications on so you don’t miss the next hot altcoin gem announcement 🔔 \n",
      "\n",
      "2. RT this post below to share this alpha with your audience 👇 \n",
      "\n",
      "https://t.co/LgHkBliyT7\n",
      "Which #Altcoin we buying today? 😁\n",
      "🚀🚀📉📉📉\n",
      "\n",
      "#altcoin  OTHERS Marktecap 1w #Crypto\n",
      "#Crypto #BTC  #Bitcoin  #Ethereum #BTCUSD #BTCUSDT #Hanni #MarkTuan #TRINITY_TNT #xblushmagazinexbuild #عبدالله_بن_دفنا_مع_توم_كروز #ขอไม่ยินดี #ทีมหมูกระทะ https://t.co/kFWlzCjppA\n",
      "A total of $199 million from institutional investors poured into xrp funds last week. The altcoin is gearing up for a recovery coinshares reports the inflow was $240,000.\n",
      "This the vibe for outside wedding on the beach? https://t.co/VOWcwiq4db\n",
      "@NFTGANGBIZ @NUGGIESNFTs I have something special for this future top project 🚀Dm Me📥https://t.co/M7aB2wJMGS\n",
      "@ArbalestFinance I have something special for this future top project 🚀Dm Me📥https://t.co/M7aB2wJMGS\n",
      "@OmerOsman200 @KingBolton25 This is the right choice. Afghan food is delicious. Please definitely go to one of them @KingBolton25 @gtrentjr ❤️🙏\n",
      "I bought it as a different token, they rebranded promising an airdrop of the new token to holders but now they launched and we got nothing. Mega scam! #Crypto #altcoins #P2E #altcoin #scammers #investing\n",
      "@Hunger_Hunterz Hii ! A great project ! Let's make it trending 🌎\n",
      "Kindly DM 📥 for potential collab 🔥🔥https://t.co/M7aB2wJMGS\n",
      "@Velvet_Capital Bitcoin has been displaying tremendous resilience and improved its dominance level. While the altcoins have been struggling against it, I believe that the whole cryptocurrency market will behave bullishly. Altcoin should resume upward momentum. #hundrx\n",
      "✅ #PUMP $TOMO! +0.805% in 15 seconds\n",
      "Current price: 1.5022$!\n",
      "\n",
      "Follow and ❤️ for more signals!\n",
      "93 #USDT #cryptocommunity #btcusdt #altcoin #finance #binance #TOMO https://t.co/imQJdjL177\n",
      "What you supposed to wear to an outside wedding in Jamaica?\n",
      "✅ #PUMP $TOMO! +0.743% in 15 seconds\n",
      "Current price: 1.5046$!\n",
      "\n",
      "Follow and ❤️ for more signals!\n",
      "63 #USDC #cryptocurrency #bitcoin #altcoin #finance #binance #TOMO https://t.co/mvrcpI49hl\n",
      "✅ #PUMP $COMP! +1.665% in 15 seconds\n",
      "Current price: 37.85$!\n",
      "\n",
      "Follow and 💛 for more signals!\n",
      "80 #USDT #crypto #btcusdt #altcoin #finance #binance #COMP https://t.co/j9hAAEvY2W\n",
      "@OfficialTravlad Im bullish #BNB\n",
      "I just published Crypto Market Daily Update https://t.co/RYJLtdXLa1 \n",
      "\n",
      "#crypto\n",
      "#cryptonews\n",
      "#bitcoin\n",
      "#bitcoinnews\n",
      "#altcoin\n",
      "#altcoinnews\n",
      "@BitcoinMagazine @Bitman_bob Suits the building.\n",
      "@Bitcoin_burner1 Hey 👋!! Your project is really Amazing🚀🚀 Send me DM 📥 to discuss. I have a very attractive proposal for you !! 🚀🔥https://t.co/M7aB2wJMGS\n",
      "✅ #PUMP $COMP! +1.505% in 15 seconds\n",
      "Current price: 37.78$!\n",
      "\n",
      "Follow and ❤️ for more signals!\n",
      "80 #USDT #cryptocurrencies #btc #altcoin #finance #binance #COMP https://t.co/yNOddqyPOr\n",
      "Come on #KuCoin! #Airdrop those $MMM tokens now! 😁😁\n",
      "Really can't wait to receive it from the last #burningdrop event for $MMM wonder how much can this premiere go later #10xgem incoming?\n",
      "\n",
      "#ALTCOIN #NFT #crypto #EverStar $CTC $CTN $BEAST $POTION $GHX $HAVOC $DIE $NCT $NERO $HOBO\n",
      "@SPUGE_token I have something special for this future top project 🚀Dm Me📥https://t.co/M7aB2wJMGS\n",
      "LET'S SEE A HUGE #BITCOIN PUMP THIS WEEK TO GET #ALTCOIN SEASON STARTED AGAIN!\n",
      "@stillgray Coming home from a vacation in Ethiopia? shoes weigh more than her.\n",
      "The Power of Cryptocurrency Regulation: Why It Matters  Cryptocurrency regulation might not sound like the most exciting topic, but it's actually a big deal for the future of digital money.\n",
      "#Crypto\n",
      "#CryptoTwitter #Cryptocurrency #altcoin #bitcoin #btc 🚀🔥🔥 https://t.co/Tv7uObmz7b\n",
      "Been a super busy day, but wanted to respond to as many as your #altcoin ideas as I could before calling it a night. I've already analyzed and posted more than I had originally planned to do, but you guys have been so supportive, I'm going to crank out a few more. For those of you that sent your ideas in, thanks.  I'll get to as many as I can.  I'll retweet to the main channel so everyone can see them without having to drill down into the thread. \n",
      "\n",
      "Here's a #FireChart and analysis for #FET... https://t.co/6nOd0YnqsV\n",
      "@Trillionertoken The sky's the limit for @trillionertoken! With a total supply of 1,000,000,000 tokens, the project is poised for exponential growth. Don't miss this opportunity! #Trillioner #TLC #Altcoin\n",
      "@cryptojack Not on altcoin but a friggin MEME COIN called $STABLE..\n",
      "\n",
      "@sneighkamoto @stablecoinada https://t.co/fcpYq2m5qV\n",
      "@icebagz_ man a CFS is something I really miss from the USA. it's pretty much America on a plate (in a super unhealthy fashion)\n",
      "Which of these cryptocurrencies do you think will be the first to hit a new ATH? 🌑\n",
      "\n",
      "$BCH\n",
      "$LTC\n",
      "$RIO\n",
      "$XMR\n",
      "$ETH\n",
      "$SOL\n",
      "$INJ\n",
      "$DAG\n",
      "$MINA\n",
      "$WOO\n",
      "$VET\n",
      "\n",
      "Let me know in the comments. 🧐\n",
      "Marathon and Brink Join Forces to Raise $1 Million for Bitcoin Core Developers Bitcoin mining https://t.co/wYJH4cx0P2 #Fork #cryptocurrency #Altcoin #DeFiNews #Trading #Crypto #web3community #Altcoins #cryptoworld #Blockchain #DeFi #cryptocurrencies #Web3 #CryptoNews\n",
      "@GarethSoloway Do you have stock trading alert service @GarethSoloway ?\n",
      "@BowTiedBroke It's fascinating to see the ups and downs of your net worth over the years. It's a great reminder that financial growth is not always linear and there are external factors that can affect it.\n",
      "💎💎💎💎\"HERE WE GO AGAIN💎💎💎💎\n",
      "@el_crypto_chapo @TheGempad @gailyfin\n",
      "@_SmartLiquidity @BruceLe30262746\n",
      "@thebrianjung @btcnews999 @ageof_crypto\n",
      "@LeonNft87 @azami_iqbal2007 @ChazNFT\n",
      "@khaleed10 #gleektoken #gleekarmy #gleeknation https://t.co/6UPsXmbpUq\n",
      "@DeadlineWH @FrancesHaugen @NicolleDWallace It's concerning that Meta prioritizes investing in safety systems in the US but not abroad. Safety should be a priority everywhere.\n",
      "Guess who's back 🚀\n",
      "\n",
      "#Memes #crypto #CryptoTwitter #Cryptocurrency #altcoin #Bitcoin #BTC  #MemeCoin #CryptoNews #Crypto https://t.co/iOhpZhDYmW\n",
      "Ethereum sees major developments as analysts show optimism - https://t.co/flsbPaQyyZ\n",
      "\n",
      "Ethereum (ETH) is making significant strides despite the broader downturn in the crypto market. According to Altcoin ...\n",
      "🩸 #DUMP $BCH! -0.762% in 15 seconds\n",
      "Current price: 220.02$!\n",
      "\n",
      "Follow and ❤️ for more signals!\n",
      "35 #USDT #cryptocurrencies #bitcoin #altcoin #finance #binance #BCH https://t.co/jv9gEjXvNB\n",
      "@JakeGagain I believe $WMX and $LDO will pump in July! 💰\n",
      "Which #altcoin will be the winner over the next 24 months?\n",
      "@gem_krali 🔥🚀💎 Don't miss out on $WMX from @WombexFinance! 🚀💎🔥\n",
      "@WhaleChart Altcoin will start making you serious money after bitcoin hit new all time.\n",
      "\n",
      "Before this even bitcoin will remain the king!\n",
      "It's becoming more apparent Alt season is coming sooner than later. It looks like Altcoin dominance might have started its bottoming process. If I were to bet, I would say Defi will take the lead, it's been 3yrs since the Defi juggernauts have outperformed ETH.\n",
      "#Altseason https://t.co/kmbxPrvIyI\n",
      "©️ The public #ApeCoin airdrop is now live\n",
      " 💰 Claim your $APE now\n",
      "\n",
      "👉 https://t.co/fibatHGbrR\n",
      "\n",
      "#FEGtoken #ico #LOYAL #erc #token #HEX #airdrop #altcoin #cryptoexchange #technology #nft #ERC20 #cripto #CAPO #trade #BAYC https://t.co/VesyZ9zzQg\n",
      "which is your favorite #altcoin\n",
      "Here are 10 altcoin gems and their potential for the next bull run:\n",
      "\n",
      "$SOL 20-30x\n",
      "$PYR 50-60x\n",
      "$BCH 20-30x\n",
      "$RIO 80-100x\n",
      "$INJ 20-30x\n",
      "$DAG 40-50x\n",
      "$MNW 30-60x\n",
      "$KAS 25-50x\n",
      "$FTM 30-45x\n",
      "$MINA 20-30x\n",
      "The Trillioner crypto project is making waves in the industry! It’s  offering a comprehensive suite of financial services that cater to the needs of both worlds. Don’t miss out on this opportunity! #Trillioner #TLC #Altcoin #bullish @Trillionertoken\n",
      "Trillioner Token  including access to investment products as well as traditional fiat banking and financial services for blockchain businesses and individuals. Join us today! #TLC #Altcoin #bullish @Trillionertoken\n",
      "⚡ 极速上币 - Express Listing\n",
      "\n",
      "Donkey Kong (DK)\n",
      "https://t.co/VRWYdRGNdT\n",
      "\n",
      "0xFEa68D5501B8940b01A67210f6a3DF49Af30c05E\n",
      "\n",
      "Liq: $1,395 | MC: $1,747\n",
      "\n",
      "#altcoin #memecoins @Donkey_kong_Bsc @moontokofficial\n",
      "The Trillioner crypto project is revolutionizing finance! It’s bridging the gap between traditional finance and the crypto world by offering a comprehensive suite of financial services that cater to the needs of both worlds. Get in on the action today! #Trillioner #TLC #Altcoin\n",
      "Trillioner Token is a game-changer! offering financial services for crypto projects and private users, including access to investment products as well as traditional fiat banking  for blockchain businesses and individuals. Don’t miss out! #TLC #Altcoin #bullish @Trillionertoken\n",
      ".shibtoken records bullish altcoin momentum as positive sentiment permeates\n",
      "Altcoin Charities: Making a Positive Impact with Cryptocurrency https://t.co/imckCUiX7E https://t.co/oaVJM26NKR\n",
      "Crypto savings platform @finblox has announced collaborations with celebrities, crypto content creators, and #NFT communities in preparation for the launch of their pfp NFT collection dubbed @bloxies_xyz.\n",
      "\n",
      "Learn more in their announcement here: https://t.co/T3Cuqs3OnS\n",
      "\n",
      "#Bloxies\n",
      "we make the difference. join us and help the world of blockchain technology become a better place.\n",
      "$ALTT Utility will be mind blowing. get ready for altcoin Season2023 🚀🚀\n",
      "Don’t miss out on the Trillioner crypto project! It’s changing the game by bridging the gap between traditional finance and the crypto world. #Trillioner #TLC #Altcoin #bullish @Trillionertoken\n",
      "Radix will run like a beast $XRD will out perform any altcoin this season\n",
      "Many are posting their #Altcoin picks for the next #bullrun. Mine goes like this....\n",
      "\n",
      "1. $KAI\n",
      "2. $KAI\n",
      "3. $KAI\n",
      "\n",
      "Have you heard about @KardiaChain just getting added to @Wikipedia or the upcoming #KyoKai #hardfork physical + digital = #Phygital #Metaverse #web3 #gaming\n",
      "Shill me your potential #Altcoin that ready to the moooooooonnn 🔥 🌙\n",
      "The Trillioner crypto project is making waves in the industry! It’s offering investment products as well as traditional fiat banking and financial services for blockchain businesses and individuals. #Trillioner #TLC #Altcoin #bullish @Trillionertoken\n",
      "Exciting news for #Trillioner Token! It’s now listed on LBank Exchange. Get your hands on some TLC today! #TLC #Altcoin #bullish @Trillionertoken\n",
      "@Altcoin_Gold @verasitytech Thanks for the thread. Been looking at VRA and I’m about to DCA in.\n",
      "The future is bright for #Trillioner Token! It’s bridging the gap between traditional finance and the crypto world by offering financial services for both crypto projects and private users. #TLC #Altcoin #bullish @Trillionertoken\n",
      "Good morning GM GM\n",
      "drop your favorite #altcoin\n",
      "🌕🚀Holy altcoin! Just discovered $LINUX and feeling AMAZING TEAM 100x VIBES! HODL tight! #EVERMOON $FUMO @LINUX_ETH #ETH MOONSHOT.\n",
      "drop your favorite #altcoin\n",
      "🩸 #DUMP $KAVA! -0.981% in 15 seconds\n",
      "Current price: 1.0191$!\n",
      "\n",
      "Follow and ❤️ for more signals!\n",
      "46 #USDT #crypto #bitcoin #altcoin #finance #binance #KAVA https://t.co/phD4jAuhAZ\n",
      "@metalpaysme #metalpay the #altcoin that consistently gives +50% trades. Working on the next setup and might share it with #cryptotwitter.\n",
      "$RNDR will be big ⭕️🚀 \n",
      "\n",
      "#Crypto #Bitcoin #Binance #Altcoin #Apple #RNDR #OTOY #Render #VR #AI\n",
      "If I sent you 1000 USDT right now, which low-cap #altcoin 💎 would you scoop up?\n",
      "Bitcoin Price Prediction: BTC Faces Double Top Resistance at $31,000, Will Bearish Correction Follow? #altcoin https://t.co/JaqXdNQmYx\n",
      "“MOST Excited I’ve Ever Been” | Crypto Broker INX Makes HUGE Announcemen... \n",
      "\n",
      "Click HERE 👇\n",
      "https://t.co/COYC7qGrBg\n",
      "\n",
      "#Bitcoin #Cryptocurrency #News #Ethereum #Invest #Metaverse #Crypto #Cardano #Binance #Chainlink #Polygon #Altcoin #Altcoins #DeFi #coinkep https://t.co/gN5tFcufIe\n",
      "@TripleDogeDare Lmao, fuck! 🤣🤣🤣\n",
      "@chipgoines It's Florida we'll be lucky if they believe the earth is round.\n",
      "@shahh Looking how much it is yes (never knew bitcoin 1 was worth that much)\n",
      "@Altcoinbuzzio @tectumsocial Can you explain how Tectum's Bitcoin node and overlay network facilitate on-chain transfers with low fees and fast transaction times?@AhmedTakrim_BD\n",
      "🟧 @Bitcoin_Whales_\n",
      "🔥 10k series, powerful marketing, \n",
      "❗️ Follow the official tweet and grab the chance to get WLs\n",
      "@demexchange I have good ideas to discuss with you. Let's collaborate📩🚀\n",
      "@justh0dl @RyanMic87079594 Call it whatever you like, It's still competing to take market share. It's basically an evolved version of bitcoin, Which is capable of validating multi-token smart contracts in parallel.\n",
      "@keykobizzy you forcing yourself to love it\n",
      "Promising NFT collections on #Ordinals :\n",
      "\n",
      "❤️ @BeaRCmember   \n",
      "❤️ @OrdinalMaxiBiz\n",
      "❤️ @InscribedPepe\n",
      "❤️ @SeizeCTRL\n",
      "❤️ @Bitcoin_Whales_\n",
      "❤️ @GhostsBtc \n",
      "\n",
      "#bitcoin #BRC #BRC721 #BRC20Today #BRC20 https://t.co/OwUTgBjxMf\n",
      "@MasonVersluis @thebearablebull Elon owns Bitcoin\n",
      "@ChifoiCristian @MoheganBTC They could, but would all miners sell? Also that amount of cash could buy all bitcoin on earth and save the trouble...but then it would have no network value. It makes no sense, unless you're a bond villain who just wants chaos, not wealth.\n",
      "@bl0ckchainsavvy @Bitcoin_Whales_ @bl0ckchainsavvy any chance at all I can still get wet?\n",
      "Today Live Rate 49 ✌🏻Retweet this post &amp; enjoy trading, Keep connecting with BTRL exchange💐 #Btrl #Btc #Bitcoin #LTC #Ethereum #Btrlexchange #CoinMarketCap https://t.co/bPyuSkFkpF\n",
      "ICT Silver bullet\n",
      "\n",
      "#TRADINGTIPS #tradingstrategy #btc #bitcoin https://t.co/46VgUUFyUd\n",
      "‘Emphasis On Surfing And Bitcoin’ Attracts Investments To El Salvador via @forbes https://t.co/zA4fiFPmjF\n",
      "@SocialistMMA Amen\n",
      "@Popeye_BSC_ Please send a dm for promotion 🚀📈\n",
      "Today, I gave a speech on #Bitcoin Investment. Someone walked up to me after and told me they’re convinced and they now want to now invest a portion of $250,000,000…\n",
      "\n",
      "Don’t You Sleep On This Life Opportunity. Get In Now While You Still Can, We’re Still Early.. Don’t Be Left https://t.co/XTytZVS8gZ\n",
      "@JakeGagain $bitcoin\n",
      "@JonathanMirai @AvidCommentator Deflation is good for people with stacks of cash in savings cheap boats, cars and goods. 😊\n",
      "@Vanguard_PS Please send a dm for promotion 🚀📈\n",
      "@BitBolt_Labs The True Bitcoin Layer 2\n",
      "Today Live Rate 49✌🏻Retweet this post &amp; enjoy trading, Keep connecting with BTRL exchange💐 #Btrl #Btc #Bitcoin #LTC #Ethereum #Btrlexchange #AanchalGoel https://t.co/x0QlhUiJA9\n",
      "@Carlospaker03 @NickAdamsinUSA Mrs. Dave ahahahah. Did he transition while making you piles of money. Not that there is anything wrong with that, just odd that you'd out him. How much do you get paid for spreading these annoying bitcoin blathering posts?\n",
      "What do you think? $27 Trillion Expected to Flow into #bitcoin https://t.co/2wzoHK1VA2\n",
      "https://t.co/Ic2c3WGBKv Mariners' Eugenio Suarez cracks a massive homer in the bottom of the fourth against the Nationals ▶️ https://t.co/qwq5GEGtOp #Bitcoin #Sportsbook https://t.co/uTjq9ttQ4M\n",
      "https://t.co/ZJZ7ECiwDM Bitcoin Holders Remain Confident... #blockchain #Crypto #finances #candlefocus\n",
      "@VRAIerc Please send a dm for promotion 🚀📈\n",
      "ARK Invest claims it's at the forefront for a potential Bitcoin ETF approval, beating BlackRock to the punch. Cathie Wood's investment firm is ahead of the game, according to Bloomberg. #Basketball https://t.co/v3H24nmihB\n",
      "#CADCHF ALL targets hit! 70 pips profit✅🎯\n",
      "\n",
      "Join our FREE telegram channel. Link in the bio.\n",
      "\n",
      "#xauusd #eurusd #eurjpy #usdcad #usdjpy #gbpusd #nasdaq #dji #spx #msft #nvda #wmt #tsla #aapl #spy #forexsignals #btc #bitcoin #usoil #crudeoil https://t.co/lURpwmqCId\n",
      "@GraphFinancials @samcallah What happens when everyone wants insurance on the “real usage”? Inflation went from a definition in a textbook to worldwide headlines. The market for money is a winner take all environment. It might make sense to stack some bitcoin before the globe lives through a “real usage.”\n",
      "@heresyfinancial @Jen_Boudreau What if the articles of organization allow you take loans against #Bitcoin or #Gold? Is that income?\n",
      "@memetokenwloh Please send a dm for promotion 🚀📈\n",
      "@BushidoMoney Excellent project! Let's work together ! send me dm 📩\n",
      "So with great care since every Forum seems to want me silenced, it's harder to address The State of Cryptocurrency and To silence the Actual Creator of Bitcoin is A absolutely Inspiring Mutiny by the ones who brought you the fake Bitcoin site and additional Distractions\n",
      "@kylelangham The native integration of #IC with #bitcoin  is an important step in that direction\n",
      "@realDailyTrite @KariLake Thank you so much, friendly Trite. I make a lot, but I spend it all on fentynal and bitcoin.\n",
      "@TixElon Please send a dm for promotion 🚀📈\n",
      "@birdsrnotreal2 @storageMTL When being a stepper goes wrong 🤦🏽‍♂️\n",
      "@DogeU_ERC Please send a dm for promotion 🚀📈\n",
      "I have said over and over that CASHAPP is going to be the CATALYST for the BITCOIN BULLRUN\n",
      "\n",
      "We can't let anything fuck with that\n",
      "@ChadWilliamsCF @WallStreetSilv Bitcoin\n",
      "What is the exact number of $Gold stock, supply, and charts + facts to back it up? \n",
      "\n",
      "#Bitcoin\n",
      "SEC Fired a Bazooka at Crypto, Why Bitcoin Will Respond With $80,000 Price https://t.co/fyUM9PrDwT via @YouTube\n",
      "@IncomeSharks @WatcherGuru Well most are.\n",
      "@muskytoken2 Please send a dm for promotion 🚀📈\n",
      "@0x_Noticer @ProTheDoge @StonkyLeg69 #HarryPotterObamaSonic10Inu  \n",
      "ticker is $bitcoin\n",
      "@Altcoinbuzzio @tectumsocial Can you explain how Tectum's Bitcoin node and overlay network facilitate on-chain transfers with low fees and fast transaction times?@AhmedTakrim_BD\n",
      "@DancingPepegame Please send a dm for promotion 🚀📈\n",
      "@APompliano ha good luck trying to get the majority to agree on what it means to be a \"leader\". How about we teach how not to be greedy and how to talk about money and make it visible across the board. bitcoin is a step forward but the internet of inventory needs to be chained to it\n",
      "@0x_Noticer @ProTheDoge @StonkyLeg69 not the boomer bitcoin, THE PEOPLES BITCOIN. THE COIN WHO LIVED #HarryPotterObamaSonic10Inu https://t.co/zzePDhZd9Q\n",
      "Follow @BitMart_Futures + Join https://t.co/jc5dVMeww5\n",
      "Register now to get up $3,000 $USDT!\n",
      "https://t.co/EwhxZPSOmI #giveaway #airdrop #crypto #bitcoin    #memecoin\n",
      "@BrijMalToken Please send a dm for promotion 🚀📈\n",
      "The #BullMarket is thriving and it's exciting to see both traditional stocks like $DOGE as well as digital currencies such as #Bitcoin leading the pack. Kudos to @Bitcoin and @cryptodonalt for their continued efforts in advancing this financial evolution.\n",
      "@BrainHarrington @RussellOkung Bitcoin is trying to  separate money from state. Let's not worry about influencers complaining they can't buy groceries with btc. Collectible&gt;asset&gt;method of payment, remember? You want to go out of order and have another fiasco like the blocksize war?\n",
      "NEWS :  OKCoin Next on US Regulator's Radar, Here's What's New: US FDIC has accused OKCoin of making false representations to customers #Bitcoin #Crypto #Nft\n",
      "@McRefundToken Please send a dm for promotion 🚀📈\n",
      "@RampCapitalLLC Because I don’t want to…. https://t.co/AbtLFjO09k\n",
      "While \"Bitcoin Accepted Here\" artwork is pretty easy to find on the Interwebs, \"Pay With Bitcoin\" (and \"Pay With Lightning\") artwork is few and far between. So I made my own.\n",
      "\n",
      "#Bitcoin #LightningNetwork https://t.co/1tD0HoWZf5\n",
      "Escape the madness! MOVE 🇸🇻 HERE!! \n",
      "\n",
      "👉 @asobitcoin @acceleratesv_io\n",
      "\n",
      "#ElSalvador was the first country to make #Bitcoin legal tender \n",
      "\n",
      "… and now, with the new law, trading NFT’s and all other unregistered shitcoins like XRP, ETH, ADA, + 20,000 others - is outlawed to protect consumers from toxic crypto scams, and shitcoiners. \n",
      "\n",
      "👉 Our #Bitcoin Only focus and brand is leading the world toward hyperbitcoinization and world peace ✌️ We Are The Savior!! \n",
      "\n",
      "😩 Shitcoins 💩 & fiat money 💵promote war, violence, misery and poverty. \n",
      "\n",
      "#Bitcoin Only - monetizes peace ☮️ love ❤️ & Perfect Money. \n",
      "\n",
      "Move here! Escape the madness! \n",
      "\n",
      "👉 @asobitcoin @acceleratesv_io\n",
      "@ChadWilliamsCF @WallStreetSilv Bitcoin\n",
      "@DogecoinRide Absolutely right if you have one Bitcoin you have everything 😉\n",
      "@Baby8888666 Please send a dm for promotion 🚀📈\n",
      "@girls_bitcoin @ChrisKnight407 100% running away from a bear usually triggers predatory instincts. You want to be like \"hey do you want to come F aroubd and find out?\"\n",
      "Who is manipulating this market and why? #bitcoin\n",
      "@GiveAwayHost @Shiba_Bitcoin done https://t.co/UcRrmdoxqf\n",
      "Fiat price is what you pay, #bitcoin value is what you get.\n",
      "@FloshinX Please send a dm for promotion 🚀📈\n",
      "The buzz around Streamer inu is fueling its widespread adoption.@SorianoFlorent @BuboNFT\n",
      "@ChadWilliamsCF @WallStreetSilv As a risk taker I have to go with Bitcoin.\n",
      "@poomemeeth Please send a dm for promotion 🚀📈\n",
      "@ProTheDoge @StonkyLeg69 The peoples $bitcoin is the only bitcoin\n",
      "#HarryPotterObamaSonic10Inu\n",
      "@TrendyDefi Hey 👋!! Your project is really Amazing🚀🚀 Send me DM 📥 to discuss. I have a very attractive proposal for you !! 🚀🔥\n",
      "@frensOfElon Please send a dm for promotion 🚀📈\n",
      "#Cryptocurrency at the moment \n",
      "👇#bitcoin  currently above $30K. https://t.co/4vASxpdPBP\n",
      "Bitcoin Price Aims Higher But 100 SMA Is The Key https://t.co/L3RHlOl05s\n",
      "@avicii_maq Please send a dm for promotion 🚀📈\n",
      "@niyabandsx Lemme get some bitcoin 😭\n",
      "@raptorgodcoin Please send a dm for promotion 🚀📈\n",
      "@ChadWilliamsCF @WallStreetSilv Let me sell one percent now and I'll take the bitcoin… I think I can live on 16 million for 5 to 10 years.\n",
      "@p2ptrades @JirsaRandy my buddy J knows what's up with metaverse on BTC.\n",
      "@lifofifo Congrats! 🍾🫡\n",
      "@tweettruth2me Both taxation and inflation is theft. Don't let anyone dilute your savings further. #Bitcoin\n",
      "@NoahsArkBC Please send a dm for promotion 🚀📈\n",
      "MetaExplorer offers complete transparency. MetaCoin and MetaWallet provide an easy-to-use interface to manage all digital assets in one place. https://t.co/6PpiUypWqq #Metatime #Crypto\n",
      "@ChadWilliamsCF @WallStreetSilv Definitely Bitcoin. It’s far more volatile!\n",
      "@benjamindean @MoheganBTC Saylor debunks that one on @Breedlove22 's podcast. I wish I'd timestamped it. He had a simple explanation of how stupid it is, due astronomical costs, resources &amp; logistics.  Found this one w similar response https://t.co/l7W3eLgbyK\n",
      "@messi2miami Please send a dm for promotion 🚀📈\n",
      "@AlaFokov67285 @matt_barrie 🤣🤣🤣🤣 if the global financial system implodes, bitcoin won't be your saving grace.\n",
      "\n",
      "Water, canned foods, a bunker and a 12 gauge would be much better 🤣🤣🤣\n",
      "#Bitcoin is psychedelic financing #StudyBitcoin psychonauts\n",
      "#Bitcoin's correlation with the tech-heavy Nasdaq 100 index fell to just 3% in June, its lowest level in nearly three years. Bitcoin has outperformed tech stocks this month, rising nearly 14 percent compared to a 3 percent rise in the Nasdaq 100. https://t.co/hwhTnovnSA\n",
      "Okafor was a post machine tho 🔥 https://t.co/xgZ6Jd9Ks6\n",
      "Bitcoin Mining in Alberta: Powering Innovation &amp; Economic Growth event in Calgary July.5-9.  We can generate new provincial revenue, jobs, technology innovation #canadablockchain\n",
      "\n",
      "Click here for more information - https://t.co/Qxa81OSdtt\n",
      "\n",
      "Our website - https://t.co/BZtUk9FK2U https://t.co/iDXtYSyAaj\n",
      "#Bitcoin's correlation with the tech-heavy Nasdaq 100 index fell to just 3% in June, its lowest level in nearly three years. Bitcoin has outperformed tech stocks this month, rising nearly 14 percent compared to a 3 percent rise in the Nasdaq 100. https://t.co/c4wz2zu2SH\n",
      "@Shiba_Bitcoin Please send a dm for promotion 🚀📈\n",
      "Latest #crypto prices:\n",
      "\n",
      "Bitcoin $30,480.30\n",
      "Ethereum $1,875.35\n",
      "Dogecoin $0.065397\n",
      "Solana $16.37\n",
      "\n",
      "#bitcoin #cryptocurrency\n",
      "#BTCDomain Pioneers Era of On-Chain Websites with Breakthrough Upgrade and Enhanced UX/UI #Bitcoin \n",
      "\n",
      "https://t.co/wGz2XJSSz6 https://t.co/dZ0GPfX3XM\n",
      "MetaChain - The most efficient form of technology of the future. https://t.co/6PpiUypWqq #MetatimeCoin #Crypto\n",
      "@MusicPePeCoin Please send a dm for promotion 🚀📈\n",
      "@barnes_law After seeing she may have had an affair with Biden's son I wonder if she leveraged that info knowing she had no allies in Newsom or Pelosi to further her 'career'.\n",
      "Going to have to make my ig private cause these Bitcoin fake accounts not giving me an ease up at all 🥴\n",
      "Just an appreciation tweet for @natbrunell . Thank you for everything you do for #bitcoin\n",
      "\"⚠️ Brace yourselves, #Crypto enthusiasts! Capo, the renowned trader, has predicted a stormy future for #Bitcoin, #Ethereum &amp; #altcoins. 🌩️ Are you ready to face the downturn? Sound your thoughts in the comments below &amp; #retweet to spread the word! #cryptocurrency #blockchain\" https://t.co/33RFId9gGt\n",
      "@Bumblebee_fans Please send a dm for promotion 🚀📈\n",
      "Updated Bitcoin transaction fees: \n",
      "    \n",
      "BCH Next Block: $0.0011 \n",
      "BCH Weekly Median: $0.0008 \n",
      "\n",
      "BTC Next Block: $2.06 \n",
      "BTC Weekly Median: $1.04\n",
      "@businessmaneth @vibelandwtf 🫡This artist is very famous in China!!! @xiaomao812\n",
      "$500 Bitcoin In 24 Hours With Payment Proof Free Bitcoin Mining Site 2023 https://t.co/XB8JkcA8iJ #ethereummining\n",
      "@alienwhips @DOJALLAH i’m actually crying doja your bestie and you tryna use coke drags man i’m gone. #itsgivintMETH\n",
      "@Bumblebee_fans Please send a dm for promotion 🚀📈\n",
      "Click on link to Buy Now NFT On Opensea For 0.00555 WETH (10$) \n",
      "\n",
      "NFT Link Given Below\n",
      "https://t.co/ctjCohiNEw\n",
      "\n",
      "Collection Link\n",
      "https://t.co/ivG9gjGWtu\n",
      "\n",
      "Profile Link\n",
      "https://t.co/WQGUYjrupd\n",
      "\n",
      "#BETAwards #gistlover #EltonJohn #Glastonbury #Barbie #Ukraine #BetAwards2023 #Bitcoin https://t.co/eIjmCjCSNM\n",
      "@Croesus_BTC @bradleychambers @btcis4everybody @w_s_bitcoin @CarlBMenger I guess you need someone with a paid Glassnode account.\n",
      "We are hiding a bitcoin key on our server https://t.co/m4W7tSYiIN 👀 🔑\n",
      "@cryptocom Bitcoin has surpassed $50,000 mark for the first time in three months. #crypto #bitcoin\n",
      "Just realized @ZssBecker is part of the Matrix \n",
      "\n",
      "#Matrix #Bitcoin #AndrewTate #TopG #tate\n",
      "Gainers in Top 100 (24h) 📈\n",
      "Bitcoin Cash - $BCH | 12.96%\n",
      "$224.09\n",
      "Radix - $XRD | 9.68%\n",
      "$0.0849\n",
      "Bitcoin SV - $BSV | 6.32%\n",
      "$37.73\n",
      "NEAR Protocol - $NEAR | 6.24%\n",
      "$1.50\n",
      "Injective - $INJ | 4.08%\n",
      "$7.36\n",
      "@Altcoinbuzzio @tectumsocial Can you explain how Tectum's Bitcoin node and overlay network facilitate on-chain transfers with low fees and fast transaction times?@AhmedTakrim_BD\n",
      "@Davincij15 Girlfriend so I can fuck someone instead fucked by bitcoin every time .\n",
      "@ps5_expert_play @rationalaussie My apologies for that mistake\n",
      "\n",
      "However if you can appreciate how often global currencies have failed and will fail due to poor management and manipulation then you should be able to appreciate the point and value of bitcoin: a currency unable to be manipulated and able to be...\n",
      "@WhaleChart Commodities are not a currency but can be used in trade bitcoin is a commodity not a currency\n",
      "If you missed Bitcoin don't miss Pi coin Dawnload pi network Applications and start get Pi coin for free Refferal code or invitation code is: tritam36386879 https://t.co/XLZ7FPpiHG\n",
      "@ChrisKnight407 Well I don’t know what the hell he’s doing but if you ran from that bear right then you dead no matter what\n",
      "Today we launched the #RIO #Airdrop for our community!\n",
      "\n",
      "Check eligibility and claim on our site:\n",
      "🔗 https://t.co/6vAfUQoCzN\n",
      "\n",
      "$GALA $KAS $CAPO $VET #BAYC #MAYC #Uniswap #Airdrop #DOGE $USDT $PEPE $BEN $LOYAL #NFTs $BCH $SBB #WEB3 $MONG #Kucoin #ETH #BTC #Bitcoin #MetatimeCoin https://t.co/64mUVA0q5u\n",
      "$CFX #Bitcoin in it's highest peak right now. \n",
      "https://t.co/b8PtWWOJr0\n",
      "\n",
      "$BTC $ETH $DOGE $SOL $CRV $ATH $SL $ALGO $MATIC $FIB $S $BOA $GME $TNT $H $AMC $CT $TP $MACD https://t.co/JdfgUQoouW\n",
      "@MoheganBTC #bitcoin fixes trash rap music.\n",
      "@StonkyLeg69 @ProTheDoge #HarryPotterObamaSonic10Inu \n",
      "ticker is $bitcoin https://t.co/KvsX1lHVnw\n",
      "@skeef_25 @HeartandSoil_ What kind of tobacco do you smoke?\n",
      "You can now find $BAG on Discord come and join in the rare $PEPE party \n",
      "\n",
      "https://t.co/T47PRo8jgv\n",
      "\n",
      "#pepe #rarepepe #bitcoin #counterparty https://t.co/GbGiZxWmdr\n",
      "watch now .\n",
      "\n",
      "https://t.co/jnaML9eArs\n",
      "\n",
      "#Airdrop \n",
      "#bitcoin \n",
      "#GGEM\n",
      "HSBC, Hong Kong's largest bank, now enables customers to trade #bitcoin and #Ethereum ETFs on the local exchange.\n",
      "Why should we be excited about OCM Dimensions?\n",
      "\n",
      "“What we did for OCM Dimensions 300 can never be repeated, it was like doing a moon landing on Bitcoin. No one else could have done it, or did it, we did it, and it cannot be repeated” - @huuep\n",
      "\n",
      "\"These techniques will lead to a host of future applications, use cases and development on top of Bitcoin beyond the art that we see today. OCM Dimensions is a groundbreaking art collection, a culmination of years of work, one of the highest quality digital artifacts, and a foundation for future Ordinal inscriptions on Bitcoin. Through composability, Dimensions provides the foundation for the future to be built on Bitcoin. Future inscriptions can use compression, and the code libraries in Dimensions to build higher and higher on Bitcoin.\" - @OnChainMonkey\n",
      "@KeepBlazing85 The black American 🇺🇸 way\n",
      "🚨 NEW AIRDROP ALERT 🚨\n",
      "\n",
      "CLAIM YOUR $APE AIRDROP NOW !! 👇\n",
      "\n",
      "🔗 https://t.co/iItlXB3NXo\n",
      "\n",
      "#usdt #SEC #DOGE $PSYOP $xrp #bullrun #Floki $BEN #PEPE #100x $SHIB #bitcoin $link $hex #ben Pauly #LUNC $ben Yuga Labs #NFTs #Blockchain $pepe $MANA #kucoin #WEB3 $PEPE #HEX #airdrops https://t.co/uOIbMQaemz\n",
      "@0x_Noticer @ProTheDoge @StonkyLeg69 The peoples BITCOIN.\n",
      "\n",
      "#HarryPotterObamaSonic10Inu \n",
      "#SprotoGremlins https://t.co/0M2XZYEGsz\n",
      "@AutoMattock Every time I encounter a Honda https://t.co/4tuJDDeDfV\n",
      "@krakenfx it's obvious #bitcoin\n",
      "@EarnMayo Bitcoin is overrated.\n",
      "@babeswhobitcoin @Bitcoin_CLT @BtcpayServer nice shirt!\n",
      "OMG! You won't believe what just happened. A mermaid emerged on my sailor boat asking for my aid to find the @Tabi_NFT Trident.\n",
      "She whispered in my ear, promising a luminous pearl as compensation. Should I help her?\n",
      "https://t.co/X9M6gMJpzv\n",
      "When Will Bitcoin Bull Market Start! (This Is The Signal) https://t.co/RFLg1WfwMv via @YouTube\n",
      "Bitcoin Price Aims Higher But 100 SMA Is The Key\n",
      "\n",
      "https://t.co/SkryG8tTCJ\n",
      "Blackrock’s spot bitcoin ETF renews optimism, sparks wave of new filings https://t.co/fHfccsUsFY $BLK #BTC $BTC #cryptocurrency #crypto\n",
      "The bitcoin arms race likely already started.\n",
      "XRP BULL RUN PRICE Based on Elliott Wave Triangle and Past vs 2021 Bitcoin\n",
      "\n",
      "$10-$13 or $25\n",
      "\n",
      " https://t.co/ax3QzsG37Z\n",
      "Very good and strong project \n",
      "This project future will bright. All the best\n",
      "\n",
      "@MdTamim15378490\n",
      "@Imran78107\n",
      "@Alim48572030\n",
      "\n",
      "#Airdrops #Bitcoin    #GGEM #AirdropDet\n",
      "NEWS :  Tether to start bitcoin mining in Uruguay; Tradecurve, a DeFi platform, will be available globally: Tradecurve, a hybrid crypto exchange, will be available globally. Meanwhile, the issuer of Tether (USDT) is setting up a… #Sponsored #sponsored\n",
      "Now Please send me my Bitcoin !!! https://t.co/ErrHZ5Z5h5\n",
      "NEWS : ARK Invest, Led by Cathie Wood, Poised to Lead Spot Bitcoin ETF Approval Race, Beating BlackRock - Bloomberg\n",
      "Bitcoin is everything gold claims to be.\n",
      "Will BTC close above US$31,000 by the end of this week?\n",
      "#Cryptocurency #bitcoin #WEB3 #DeFi #investment #NFT #MONEY\n",
      "OCM Dimensions = Sexy Tech\n",
      "\n",
      "Dimensions pioneers the use of powerful techniques that will soon be standard for future inscriptions on Bitcoin: (1) parent-child provenance, (2) generative coding, (3) recursion, (4) composability, and (5) compression.\n",
      "\n",
      "“We created OCM Dimensions to show the power of Ordinals, and achieved many industry firsts.” - @OnChainMonkey\n",
      "\n",
      "For example, OCM Dimensions is the first cursed and recursive collection. Not only that, but OCM Dimensions was the first ever on-chain reveal on Bitcoin. Not enough innovation? OCM Dimensions is the first to enable compression and widely used libraries (p5.js, Three.js), all on-chain on Bitcoin for future creators to use. Worried about spam on the Bitcoin blockchain? OCM Dimensions uses less than1 kilobyte of block space per Dimensions ordinal and was inscribed on 300 consecutive satoshis from block 78 (the third day of Bitcoin), ordered on-chain by their satoshi numbers in ascending order and matching their Dimensions number. (mic drop)\n",
      "\n",
      "“OCM Dimensions is significant in these 10 Dimensions: 1. Recursion 2. Code Libs 3. Generative Code 4. File Size 5. Parent-Child Provenance 6. On-chain randomization 7. Reinscription 8. 3D animated art 9. Streaming from a satoshi, infinite resolution 10. Unique sat manipulation” - @huuep\n",
      "\n",
      "“Code is art. Part of the art of OCM Dimensions is showing the power of recursion and composability on Bitcoin. Dimensions contains code that builders can use in their work, including a decompression library, and the popular creative coding libraries of p5.js and three.js. Dimensions is created by code that is compressed on Bitcoin, and can decompress when viewed by a browser, access the libraries, and render the Dimensions interactive art, all automatically within the Ordinals protocol. Dimensions is both the art and the foundation for future builders to be able to use the powers of compression, and the p5.js and three.js libraries. And this is all on-chain on Bitcoin, immutable, stored for all time, and open for everyone to view and use in future applications on top of Bitcoin.” - @OnChainMonkey\n",
      "\n",
      "What can this do? - @huuep - https://t.co/XSkbwn89FS\n",
      "\n",
      "Also, this is cool: OCM Dimensions can scale up to any resolution automatically to fit the display size. The bigger the display, the more amazing Dimensions become.\n",
      "JPMorgan revealed that Bitcoin miners who can access inexpensive electricity from sustainable sources are more likely to thrive amidst intensifying competition. According to a research report they made.\n",
      "\n",
      "https://t.co/VKodS33F1V \n",
      "\n",
      "#Bitcoin #crypto #cryptocurrency\n",
      "@Dashing4Bitcoin We will wait for your DM 😊📩\n",
      "Bitcoin Group Bitcoin Dollar BTD Short-Term (Sell/Withdrawal) Encashment Project.\n",
      "BTD to the moon 🚀🚀🚀\n",
      "\n",
      "https://t.co/K2I2sxLTQA\n",
      "@btc_charlie One of my friend scam worldwide ! He told me about bitcoin we scam ppl and convert money into btc and withdraw all shit🫡  so I started searching about btc and here im\n",
      "Ex-Dividend today: HKG:0270 GD Invest.\n",
      "🟢 yield : 8%\n",
      "🟢 P/E : 9\n",
      "https://t.co/NVxSB3McdA\n",
      "#hongkong #HKEx #china #dividends #wealthmanagement #stockmarket #stockstowatch #passiveincome #bitcoin #personalfinance #money #financialfreedom\n",
      "@Davincij15 No Bitcoin means no girlfriend.\n",
      "“nObOdY uSeS bItCoIn” https://t.co/VSSbGuMxNX\n",
      "📰 Crypto News Hoy: Japanese Crypto Issuers Won't Pay Taxes on Unrealized Gains, Govt. Clarifies https://t.co/DgQ2wc6RLO #bitcoin #news #blockchain #web3 #crypto #IA #AI\n",
      "Thread: RBI's e-Rupee: A New Era of Digital Currency in India\n",
      "\n",
      "#RBI #eRupee #CBDC #DigitalCurrency #Regulation #Stability #ValueParity #DigitalRupee #Efficiency #CostSavings #Privacy #Security #AML #KYC #FinancialInclusion #DigitalEconomy #Cryptocurency #Crypto #bitcoin https://t.co/bAJzxLFqUE\n",
      "#Cryptocurrency at the moment 👇\n",
      "#Bitcoin  currently above $30K. https://t.co/xBGjZcvtnf\n",
      "Why is that bitcoin not dumping ?\n",
      "More:\n",
      "@Croesus_BTC @bradleychambers @btcis4everybody @w_s_bitcoin @CarlBMenger There may be metrics other than this to measure the kind of absorption that you are looking for here. \n",
      "\n",
      "Particularly those that look at how many coins or addresses don’t move for different periods of time. \n",
      "\n",
      "Glassnode has a pile of them.\n",
      "Bitcoin Value Goals Greater However 100 SMA Is The Key - https://t.co/sMVXmPcKfd\n",
      "How many stanky backwoods was going in there 💨💨💨💨💨💨💨💨\n",
      "#EURGBP ALL targets hit! 85 pips profit🎯🎯\n",
      "\n",
      "Join our FREE telegram channel. Link in the bio.\n",
      "\n",
      "#xauusd #eurusd #eurjpy #usdcad #usdjpy #gbpusd #msft #nvda #wmt #btc #bitcoin #forexsignals #usoil #crudeoil #tsla #aapl #spy #forextrading https://t.co/WfXMQlgTp4\n",
      "event overly small micropayments like that. \n",
      "Bitcoin is practical for smaller transactions than are practical with existing payment methods.  Small enough to include what you might call the top of the micropayment range.  But it doesn't claim to be practical for arbitrarily small\n",
      "Using blockchain to enhance your business.\n",
      "\n",
      "Have any questions or feeling ready to start learning? We're here to make blockchain simple together. Contact us here: https://t.co/eoYcWo8Dva    \n",
      "\n",
      "#Cryptocurrency #Bitcoin #Ethereum #SmartContracts #DeFi #CryptoWallets #NFTs https://t.co/jFKJwfNlfz\n",
      "@thebutchercoin Please send a dm for promotion 🚀📈\n",
      "Bitcoin Price Signals Downside Correction Before Fresh Increase via @newsbtc https://t.co/lQTpE0JFbp\n",
      "@alienwhips @DOJALLAH you weren’t using this video before me.\n",
      "I'm learning about the basics of Bitcoin and Ethereum in @layer3xyz's Fundamentals of #CryptoHistory Quest!\n",
      "@LocalFox8 Here's the tweet about recent crypto stuff: \n",
      "\n",
      "#Latest: Bitcoin soars past $60,000 for the first time in 2 weeks #cryptocurrency\n",
      "Easiest money you can make in #crypto!\n",
      "If this happens #bitcoin runs to $45k! #Lifechangingmoney is coming!\n",
      "Learn2Trade both ways! \n",
      "$BTC\n",
      "\n",
      "https://t.co/8yRQgQM8H7\n",
      "@Shiba_Bitcoin Let’s talk more about it 📩\n",
      "@mikeroche I have a question for you, how long have you been investing in bitcoin and can I learn about bitcoin from you?\n",
      "Why should we be excited about Ordinals?\n",
      "\n",
      "\"The potential of the Ordinals Protocol is still largely untapped, yet it holds the promise to spur a wave of innovation and new applications for the Bitcoin ecosystem. Ordinals has brought excitement back to developing on Bitcoin.\" - @OnChainMonkey \n",
      "\n",
      "“Bitcoin Ordinals is a big deal. I’ve been building on Bitcoin for over ten years, and Ordinals is the most significant development in recent years.” - @huuep -  https://t.co/DhSazjgg6A\n",
      "\n",
      "“Bitcoin Ordinals introduce a higher level of functionality to digital artifacts, outclassing your typical JPEG NFTs! A standout feature is RECURSION. Let's dive into recursive inscriptions, their importance, practical applications, and how recursion works with OCM Dimensions.” - @huuep - https://t.co/UriBqIBOV1\n",
      "@zerohedge Obviously https://t.co/7uDpCjDLDW\n",
      "[1h] #Bitcoin market is weakly trending up current momentum suggests the market is neutral. #foreignexchange #cryptocurrency #money visit: https://t.co/yuSljvM9Fq for more!\n",
      "@kmoney_69 @patty_fi Bitcoin appetite but a Solana wallet\n",
      "@Emilia_NFTs Bitcoin\n",
      "Bitcoin Frog #5425 sold for 0.03779 BTC ($1152.00) on Magic Eden \n",
      "\n",
      "https://t.co/ymZNYil0Ql https://t.co/YkM6wOFRmf\n",
      "@FTAweb3 Ah yea this is very good indeed #HarryPotterObamaSonic10Inu $Bitcoin @hpos10iETH https://t.co/yUuJ8aytWH\n",
      "@eToroUS Lol Elon Musk co-hosted Saturday Night Live,  he was asked about bitcoin, he responded,  lol, it's a con. Y'all  been hearing about BRIC lately\n",
      "Bitcoin is a scam that does nothing useful for the world and society... all it does do is waste a massive amount of energy/electricity just to keep running... and is only going to worsen.\n",
      "NEWS :  We asked Google Bard what will be Tesla, Rivian, Lucid end of 2023 stock prices: Tesla (NASDAQ: TSLA), the renowned electric vehicle (EV) manufacturer, has captivated investors and onlookers alike with its remarkable rebound… #Bitcoin #Crypto #Nft\n",
      "@1bdclub Please send a dm for promotion 🚀📈\n",
      "It’s possible that A.I. chooses Bitcoin.\n",
      "@CbingoR @thevivafrei I don’t recall Pierre telling anybody to “ invest “ in Bitcoin.  I remember him saying we should have the “ freedom “ to make purchases with Bitcoin.  I could be wrong I admit. Anyway they’re all globalist crooks who care nothing for everyday Canadians.  Pierre is just 💩 eau blu\n",
      "LTF $BTC looking pretty strong above $30k after a brief wick below to start the week, might not even see $29.6k\n",
      "\n",
      "Scalp trigger doesn't like it but spot #bitcoin bags love it\n",
      "\n",
      "Above $30.8k reduces the odds of seeing any lower before next leg https://t.co/V34yMnUXh2\n",
      "One of the CDEZ Telegram community members created an online store using Catawba Law and the bitcoin lightning network as payment method. You can visit the online store in the link below.  \n",
      "https://t.co/x5hNlmz3uF https://t.co/LN6Qgw8v3X\n",
      "Bitcoin cash just surpassed $4+billion market cap\n",
      "#BitcoinCash \n",
      "#Crypto\n",
      "@AdustKitten237 @YocoSapph @lilyingthings SADLY\n",
      "I was getting my car keys when my roblox free robux gift card and metamask wallet fell out of my fortnite vbucks card and I can't connect to bitcoin stock trade showing provider error?\n",
      "@TAlanHorne Bitcoin is a scam that does nothing useful for the world and society... all it does do is waste a massive amount of energy/electricity just to keep running... and is only going to worsen.\n",
      "@GeorgeGammon Any thoughts on which #ISO20022 blockchains will be used?\n"
     ]
    },
    {
     "name": "stdout",
     "output_type": "stream",
     "text": [
      "@PippiLS Please send a dm for promotion 🚀📈\n",
      "what if $Dyl bridge to BRC-20 ? 👀\n",
      "\n",
      "after #Bitcoin presale…maybe!\n",
      "$BTC Price: $30,477 \n",
      "#Bitcoin #BTC #BitcoinPrice #Crypto https://t.co/pNRmd7jGLf\n",
      "@bitcoin_minion If you mean from https://t.co/UWgBvLkDqc the answer is no. If you mean locally running ckpool, running it in info level or above (6+) will show all shares in the pool logs. There is also a share logging facility.\n",
      "#computerart #creativecoding #generativeart :\n",
      "#bitcoin #blockchain 's\n",
      "LAST Block, Height : 796095\n",
      "[ See more on https://t.co/p7nE81m7aK ] https://t.co/TQbmvbXsK3\n",
      "🟧[TOP BRC-20 COINS BY MARKET CAP][LOADING...LAST 7D]\n",
      "\n",
      "🥇$ORDI\n",
      "🥈$OXBT\n",
      "🥉$OSHI\n",
      "\n",
      "🏅$VMPX\n",
      "🏅$WHEE\n",
      "🏅$OG\n",
      "🏅$PEPE\n",
      "🏅$CNCL\n",
      "🏅$TRAC\n",
      "🏅$PIZA\n",
      "\n",
      "OSHI is in the top 3 this week! Tell us your fav below 👇\n",
      "\n",
      "#Ordinal_Allday #BRC20\n",
      "#Ordinals #Bitcoin https://t.co/aF78hVSi9m\n",
      "@CoinDesk Remotely, with a strong wifi signal, anywhere on the planet 🌎📡\n",
      "@JohnPompliano @APompliano RT @CoinDesk: Bitcoin reaches new all-time high of $64k as more institutional investors show interest in crypto. Market cap exceeds $1 trillion for the first time #cryptocurrency\n",
      "@amitaryan238 @AkhilSakhi @bitbns @RBI @FinMinIndia @nsitharaman @PMOIndia @CoinDesk @CryptooIndia Yesterday night it showed wallet maintenance from 12:30 am to 2:30 am but still getting like this hope it will be back\n",
      "CFTC Charges Man With Fraud in ‘Pig Butchering’ #Crypto Romance Scam - CoinDesk https://t.co/C5yfthCIbr https://t.co/5uC4iDVS5B\n",
      "@CoinDesk @thesamreynolds Institutional interest in ether is definitely on the rise! Exciting times ahead. ✨\n",
      "@johndoe146035 @CoinDesk @jesseahamilton Exactly. Cause the money was there the whole time… just like it basically says in the article… not to mention all customers could go to Huobi and check their balances.\n",
      "@Stevie_Satoshi @CoinDesk @jesseahamilton Did you read the article? https://t.co/XcmvymB5jb\n",
      "First Mover Asia: Bitcoin Could Experience Price Turbulence as $30K Is Tested - CoinDesk https://t.co/hSeutPiGlI\n",
      "@Schzprnc @Credzilla @Aizcalibur @CoinDesk @Azuki You're eligible for Elementals! https://t.co/vDoRQEuErV\n",
      "@Credzilla @Aizcalibur @CoinDesk @Azuki Yo,  congrats Charlie!!!\n",
      "First Mover Asia: Bitcoin Could Experience Price Turbulence as $30K Is Tested via @coindesk\n",
      "\n",
      "📍Also follow us at\n",
      "https://t.co/XjzMoVTMj4\n",
      "\n",
      "https://t.co/1JVoiXZSii\n",
      "@ProofOfPR @cryptokelley @camgthompson HURRRY-UP!!!\n",
      "\n",
      "  BNBCAP. NET\n",
      "@chainalysis @IanAndrewsDC @BangOlufsen @CoinDeskStudios It happeneddd today!\n",
      "\n",
      " BNBCAP. NET\n",
      "@consensus2024 @Web3athon_xyz CZ havee l­au­nched aa neww even­t!\n",
      "\n",
      " bnbcap. net\n",
      "@consensus2024 @Web3athon_xyz Neww event thiss year!\n",
      "\n",
      " BNBCAP. NET\n",
      "@consensus2024 @Web3athon_xyz CZ LAUNCHED AA MASSIVEE GlVE­AW­AY!\n",
      "\n",
      " BNBCAP. NET\n",
      "@consensus2024 @Web3athon_xyz Great\n",
      "\n",
      "  bnbcap. net\n",
      "@consensus2024 @Web3athon_xyz Newss Newsss News\n",
      "\n",
      "  bnbcap. net\n",
      "@Sairam950 @AkhilSakhi @bitbns @RBI @FinMinIndia @nsitharaman @PMOIndia @CoinDesk @CryptooIndia Same for me too\n",
      "@CoinDesk @RepMaxineWaters @GaryGensler @SecYellen @LizKNapolitano Retire already boomer. Smh\n",
      "@digitalpoundfdn @FireblocksHQ @CoinDesk @FoJAk3 this puzzle piece looks familiar, you know it?\n",
      "Please note that our privacy policy, terms of use, cookies, and do not sell my personal information has been updated.The leader in news and information on cryptocurrency, digital assets and the futureof money, CoinDesk is a media outlet that strives #\n",
      "\n",
      "https://t.co/bPPUO6FftP https://t.co/c1l0KyhEuo\n",
      "@AkhilSakhi @bitbns @RBI @FinMinIndia @nsitharaman @PMOIndia @CoinDesk @CryptooIndia For me also ,its showing zero balance😭😭\n",
      "Now on that note, I also think Coindesk reporting is 💩 and anonymous reporting is also 💩\n",
      "#DailyCryptoNews \n",
      "\n",
      "Japanese Crypto Issuers Won't Pay Taxes on Unrealized Gains, Govt. Clarifies https://t.co/mxiZ8ENfbj via @coindesk\n",
      "@CoinDesk @thesamreynolds Visitt this day\n",
      "\n",
      "  BNBCAP. NET\n",
      "@CoinDesk @thesamreynolds Visitt thiss day\n",
      "\n",
      "  BNBCAP. NET\n",
      "As Asia's trading day began, bitcoin was trading sideways at about $30,230. An analyst noted that ether has experienced substantial institutional trading activity. \n",
      "\n",
      "@TheSamReynolds writes\n",
      "\n",
      "https://t.co/EaD8LpWJwh\n",
      "@cbnewswire @NEARProtocol @alibaba_cloud On Near's twitter but I found an article on Coindesk https://t.co/w53PbZ2HuO\n",
      "@pixelynx_io @CoinDesk @RealVision @anotherblock_io @a2im adding @animocabrands\n",
      "@AkhilSakhi @bitbns @RBI @FinMinIndia @nsitharaman @PMOIndia @CoinDesk @CryptooIndia Yes bro my total account is zero\n",
      "@CoinDesk Anywhere. Few.\n",
      "@ari_bartell @CoinDesk @coinbase @brian_armstrong Literally no chance this happens\n",
      "@AkhilSakhi @bitbns @RBI @FinMinIndia @nsitharaman @PMOIndia @CoinDesk @CryptooIndia I'm also seeing zero in my account.\n",
      "Dear @bitbns can you please respond is it a service issue or something bad happened?\n",
      "@CoinDesk You should add \"Internet\" 🥹 plsss\n",
      "@bitbns Guys red alert. Now the money vanished from my account. Tag all media and Government entities here. These guys are stealing our money. @RBI @FinMinIndia @nsitharaman @PMOIndia @CoinDesk @CryptooIndia\n",
      "@APompliano RT @CoinDesk: Bitcoin crosses $60,000 as Coinbase prepares to go public #crypto #bitcoin\n",
      "Uniswap v4 and the future of crypto regulation discussed by @haydenzadams in an interview with CoinDesk. Exciting times ahead for the world of decentralized finance! 💰🚀\n",
      "Bitcoin starts week above $30,000 ─ ETF optimism drives continued rise | CoinDesk JAPAN | CoinDesk Japan\n",
      "@CoinDesk @RepMaxineWaters @GaryGensler @SecYellen @LizKNapolitano She didn’t ask her sweetie SBF??\n",
      "@CoinDesk @santimentfeed @sndr_krisztian Coinddesk is now blocked for promoting a scam.\n",
      "@CoinDesk @FTX_Official @SBF_FTX @jesseahamilton Ask SBF mum where the rest of the money is\n",
      "@CoinDesk @DeribitExchange @godbole17 Understanding the players in the space is key and how they behave around these large expiries.\n",
      "\n",
      "https://t.co/81ordgRNmg\n",
      "Please note that our privacy policy, terms of use, cookies, and do not sell my personal information has been updated.The leader in news and information on cryptocurrency, digital assets and the futureof money, CoinDesk is a media outlet that strives #\n",
      "\n",
      "https://t.co/lPiMh4tAqG https://t.co/gIj3zfGVWp\n",
      "@CoinDesk Damn sure ain’t the US\n",
      "Breaking: FTX execs were aware of a nearly $9 billion deficit as early as August 2022, and allegedly concealed it under a fake account called \"our Korean friend’s account.\" Discover more in CoinDesk's report.\n",
      "German Intelligence Agency Releases NFT Collection to Recruit Talent https://t.co/wL2RCNDDY8 via @coindesk\n",
      "@pixelynx_io @CoinDesk @RealVision @anotherblock_io @a2im and anyone else who have featured this kind of content. please work to help nip this in the bud.\n",
      "@CoinDesk @jesseahamilton I laughed...as a SRO under scrutiny of who knows how many agencies.. I cracked up on this.\n",
      "@CoinDesk @santimentfeed @sndr_krisztian Only to dump in retailers.\n",
      "Cryptocurrency CEO Donated Second-Largest Amount to Joe Biden's Campaign https://t.co/h1PC82b49V via @coindesk\n",
      "@CoinDesk @davidzmorris There are reasons why USDT is called stablecoins.\n",
      "@JohnPompliano @APompliano RT @CoinDesk: Bitcoin reaches new all-time high of $64k as more institutional investors show interest in crypto. Market cap exceeds $1 trillion for the first time #cryptocurrency\n",
      "@CoinDesk @HSBC @JamieCrawleyCD The money will flow to where it is allowed.\n",
      "@jcpwrites @CoinDesk @HSBC @JamieCrawleyCD The money will flow to where it is allowed.\n",
      "@CoinDesk @santimentfeed @sndr_krisztian Newcomers getting confused 🙃\n",
      "@CoinDesk Congratulations Gary Gensler 👍\n",
      "\n",
      "Amazing job promoting Dubai\n",
      "@CoinDesk @santimentfeed @sndr_krisztian Think weve seen this a few times before…  wonder what happens next?  🤷🏻‍♂️😂.  grab some 🍿 https://t.co/xUpCoNsFFr\n",
      "@CoinDesk Wonder why Miami didn't make the list?\n",
      "Good to read up on different utilities in this article by @CoinDesk\n",
      "\n",
      "https://t.co/HxfBF0Paqq\n",
      "\n",
      "#bitcoin #web3 #investor #eth #cryptocrash #Authentickator #bullmarket #bearmarket #digitalassets #nfts\n",
      "@CoinDesk @Apple @damusapp @AppStore @jb55 @FrederickMunawa I will switch for android. Apple you can take off my freedom and push me to way what is good for you. Apple is becoming the biggest bullshit with this.\n",
      "Crypto ETFs debuted on the HKEX with the listing of the CSOP Bitcoin Futures ETF (3066) and CSOP Ether Futures ETF (3068). \n",
      "\n",
      "Hong Kong's HSBC Allows Customers to Trade Bitcoin, Ether ETFs but That's Not Really News https://t.co/9UIr1dhh90 via @coindesk\n",
      "@CoinDesk #Dubaï but also the #swiss #Crypto Valley and Liechtenstein with @LCX.\n",
      "@CoinDesk cape town\n",
      "🤔 We want to know what you think ... 🤔\n",
      "\n",
      "Where is the top place to live and work in the crypto industry? \n",
      "\n",
      "Choose one 👇 or tell us your pick.\n",
      "\n",
      "And be sure to check back tomorrow as we reveal our inaugural #CryptoHubs2023 rankings.\n",
      "@CoinDesk @Apple @damusapp @AppStore @jb55 @FrederickMunawa they are saying that if there is a app that could enable a content creator to be \"paid\" by its fans, without apple's \"in-app-purchase\" haircut, THAT APP SHALL NOT EXISTS IN THE ECOSYSTEM RULED BY APPLE; or in other words you cannot influence anyone without their tax first........\n",
      "@Pampadalampa @cryptocom @Csilla_cro Tough for Egypt as the country prohibits crypto and the Islamic legislation sees cryptocurrency as haram.\n",
      "Cryptocurrency platforms have an absolute DEATH GRIP on me!\n",
      "Every element needs to be so @#$! precise and perfect...or else. Diligent and wise thinking doesn't prevent any of this from going away.\n",
      "Ahhhhhhh!!!!!!!!\n",
      "Exciting times in the crypto world!  $ETH, $SOL, and $ADA are proving to be top contenders for long-term growth. Don´t miss out on these promising projects! ✨ #cryptocurrency #ethereum #solana #cardano #blockchain #investing\n",
      "@pokilpo REAL\n",
      "@deva72727 I went through all his years and the only \n",
      "times he led NL Catchers in Def were 2005, 2006, and 2010\n",
      "\n",
      "Very unsurprisingly he didn’t even win gold glove in 05 or 06 lmao\n",
      "@MrTopStep We left the gold standard.\n",
      "@CryptoVonDoom This fake account has a gold check https://t.co/DNo793E6h1\n",
      "@PendantCody “ she’s the poor man’s gold\n",
      "She’s the anarchists crucible \n",
      "Flyin’ in the face of the despot cannibal\n",
      "Pretty Pink rose…”\n",
      "#TheGoldProbeKE reveals that the gold scammers strategically sought the services of CRJ Amadi's reputable law firm, knowing that the involvement of Britons in the scam would make them vulnerable. https://t.co/PYriX49jcs\n",
      "Just watched diz Pinoy Classic Oro Plata, Mata (Gold, Silver, Death/Bad Luck) OMG, this is d most bloody n brutal Filipino fiml I've watched. Indeed a classic in terms of acting n story. How golden old Ph movies are. Amazed.💞💞\n",
      "#OroPlataMata\n",
      "#ClassicPinoyMovies https://t.co/UxI2hAzaex\n",
      "Gallantry Cross, Gold of the Republic of Venda\n",
      "@Variety the iphone-feminista Dworkinette trolls under the bridge at Variety,\n",
      "in their last bitter gasp at raising this trashy hag\n",
      "from the career dead.  \n",
      "comedy zircons.\n",
      "@mart1n4rt @Shad0w__dragon yeah it would be kinda cute but funny at the same time\n",
      "\"RUN\" by BTS has been certified RIAJ Gold for 50 million streams 📀🇯🇵\n",
      "\n",
      "©charts_k\n",
      "#방탄소년단 #BTS #info\n",
      "✾• tele: @BTSDailyInfo_Update •✾ 🐈‍⬛\n",
      "@Michaelrpggamer Good evening! I'm good just relaxing \n",
      "\n",
      "How about you?\n",
      "@bigcatfx @wasrichnowbroke @stackingsats I'm not really a 'bounces off me an sticks to you' kind of guy, but you really are very accurately describing yourself and your reaction to all this 🤷🏽‍♀️.\n",
      "Ohtani homers in the 4th inning to give him 14 fantasy points cashing his over.✅\n",
      "\n",
      "#prizepicks #gamblingtwitter https://t.co/a3aJtwfufC\n",
      "How’d I do? 14k Cuban, 22”, 156g, think like 9mm thick if I recall correctly? https://t.co/p6JnLHMpam\n",
      "@MattBrownEP It hasn’t been that long since Florida won FB/MBB in the same academic year, but I looked it up and baseball was meh while WBB was dreadful.\n",
      "Gold!\n",
      "@TheBigDoink_ Surely you jest talking about Civil Rights Activist and Gold Star Parent President Joe Brandon, Mr 2 Terms.\n",
      "I see a gold glove for india in the near future\n",
      "Was a great combine today, thank you to all the coaches that came out to watch the Impact Gold Organization! @AggieSoftball @OU_Softball @MizzouSoftball @RazorbackSB @CycloneSB @CycloneSB @umichsoftball @ImpactGoldSoliz @ImpactGoldOrg\n",
      "#MCM\n",
      "#Barware\n",
      "#Mancave\n",
      "\n",
      "Check out Mid Century Modern Shelton Ware Ice Bucket Faux Alligator Gold Bamboo Accents  https://t.co/PdEBAl3OAQ #eBay via @eBay\n",
      "@AuronMacintyre Perfect example of the Americanization of all global discourse.\n",
      "APEX LEGEND-BACK LATE NIGHT WITH RANKED ARENAS? https://t.co/cGmC0kvbdb via @YouTube\n",
      "Uniquely formed, Watermelon Tourmalines are natural gemstones that are part red and part green just like the fruit 🍉! \n",
      "\n",
      "Set in 750 white gold band with a diamond halo for added sparkle, this ring will surely be a conversation piece.\n",
      "\n",
      "Ring code: LE4225780623\n",
      "\n",
      "#HABIB #HABIBJewels https://t.co/PFJ3QCwHW4\n",
      "@eveoart Gold fish\n",
      "Dolphin mothers use ‘baby talk’ with their calves, recordings show https://t.co/BB8VjmjfZt\n",
      "@ayanab__ Lol I don’t really care who did it before. We should all get gold! Just crazy that achievement went forgotten considering the treble-threepeat of it all ☺️\n",
      "@UbisoftSupport The DLC already shows as purchased in the Nintendo eshop but once I go to the redownload section, nothing is being shown. Maybe because my gold edition is a physical version that came with a 16 character code?  \n",
      "\n",
      "I also tried to update the game but it is already updated.\n",
      "@gabyeatzbrainz Yeah I think so\n",
      "Gold Coast Highway, Palm Beach - Crash, Northbound is now CLEARED.\n",
      "@ChadWilliamsCF Gold\n",
      "@DeltyThe73rd This increases my hope that Yushura's cape is white and gold.\n",
      "@gabyeatzbrainz Yeah I think so\n",
      "Dolphin mothers use ‘baby talk’ with their calves, recordings show https://t.co/BB8VjmjfZt\n",
      "Gold Coast Highway, Palm Beach - Crash, Northbound is now CLEARED.\n",
      "👇 Just got my Gold pepe $GPEPE airdrop for free, guys get yours asap! 🎈jo 💰 $PEPE $BOB $ROPE $LOYAL $PSALE $GMFAM $MONG $ETH $BTC $GPEPE $JESUS $BEN $RFD\n",
      "The Perpetrators involved in the Gold scandal knew that Britons would give in easily if they had a reputable kenyan law firm.\n",
      "CRJ Amadi\n",
      "#TheGoldProbeKE https://t.co/XkHiNMd6V5\n",
      "LSU sports going crazy now lmao\n",
      "Bite me; remains seductivelyflashing and glinting untilthe gold bursts are revealed\n",
      "OUNASS_PROMO_COUPON_NON_KSA_NAMSHI_CODE_ONAS_DISCOUNT_ONASS_NOON_OUNAS https://t.co/rEHwBnmmro\n",
      "@ChadWilliamsCF Gold. I’m not greedy\n",
      "point on, we will be under Gold Standard Protocols.\n",
      "\n",
      "*Either Sat. 10 July or Sun. 23 July would be theInauguration of Pres. Donald J. Trump and his VP, JFK Jr. in a celebration where those in the World Protection Program would come out.\n",
      "\n",
      "*Tues. 25 July was Queen Diana’s...\n",
      "@ninaturner Unicorns should be free \n",
      "A leprechaun pot of gold should be free  \n",
      "\n",
      "Wow, this is a fun game for children under 5. 🙄\n",
      "@diced_gold omo make all man stay house😂🤣\n",
      "Look at this distinguished gentleman 💎✨\n",
      "((I love making gold and gems yESSSS)) https://t.co/P76XC5jOkx\n",
      "Gold's Gym - a history rooted in Strength https://t.co/wVn3eQP82j  \n",
      "LIKE▪️SHARE▪️COMMENT\n",
      "@krisispiss GOOOOOOOOOLD GOLD AND PURPLE ARE SO CHOICE\n",
      "I love seeing purple and gold down my timeline 🙂\n",
      "And she, that lighted form of blue and gold, \n",
      "#栖霞 #永康 #桐乡 #华亭 #东方 https://t.co/sbUTKZRU5H\n",
      "yo en menos de dos semanas cuando suene better than gold knowing damn right what’s coming my way https://t.co/tiQnKv6r22\n",
      "@RowlandRIVALS The fans have a right for demanding the gold standard at Kentucky from their lifetime contract coach.\n",
      "yo en menos de dos semanas cuando suene better than gold knowing damn right what’s coming my way https://t.co/tiQnKv6r22\n",
      "@obeymarxos @solomonster Besides Sammy and Gunther there wasn't great wrestling\n",
      "@IkuzoCoffee Haha this one. Not a gold one https://t.co/MEvpKXqyzx\n",
      "883K TO 91M\n",
      "\n",
      "지민 (Jimin) 'Set Me Free Pt.2' Official MV https://t.co/49tXZX9MVT via @YouTube\n",
      "Dear @Twitch @TwitchCon &amp; Everyone,\n",
      "\n",
      "I've always wanted to stream in the Glass Boxes at TwitchCon. Where I can be live and someone can walk by.\n",
      "\n",
      "Is this something that you need to be invited to do? \n",
      "Or Do you need to apply?\n",
      "\n",
      "I've tried looking and I can't find anything on it 😭\n",
      "also...fellas....any slice of mean that has \"gold\" in any way shape or form is a rip off.\n",
      "\n",
      "Just get a ribeye and if they can't do that.....pay less\n",
      "10 minutes of GOLD. Please watch how Lukashenko destroyed the west (British, America, EU). Same constant interference by the west is seen in India too. Indian PM @narendramodi MUST rip apart the western intellectuals now. It will be great to watch.🕉️🚩\n",
      "@Omolere23 @diced_gold But but \"I don't know why men always objectify and commodify women and not treat us with dignity. Men are the pr0blem of the world\"\n",
      "My gold dress from Saturday scratched my arms all up 😫😫\n",
      "@Omolere23 @diced_gold But but \"I don't know why men always objectify and commodify women and not treat us with dignity. Men are the pr0blem of the world\"\n",
      "i have a heart of GOLD how can u do some flaw shit to me??\n",
      "@scrotinni @AxelMerk @JonErlichman That’s gold lmao\n",
      "⚠️ There's an obvious fake Azuki account with a gold check already trying to scam people. @Azuki @ZAGABOND #Azuki #Elementals https://t.co/8XvbALci9f\n",
      "Gold Dust Woman\n",
      "i finished a show and now have no more shows to watch…….send the flood!!!!!!\n",
      "@Dacryptowurld @GawsStiph66 @OshikuruToken I believe this is a faithful Project.The projector h#BSCas a lot of affractions so hopefully the project will be best in the future.\n",
      "I’ve got a heart full of gold im trying to pour into you 🩵🔱 https://t.co/NqTyVYXa4K\n",
      "@gladwin_love @urstruly_vamsi @urstrulysai07 And since almost every woman is a gold digger,he generalised it as 'Woman'..\n",
      "ee context lo kuda woman ani ante andharooo vaccheyyaru..woman ee kaadu,ee word/text ainaa..\n",
      "Adhi ardham cheskokapovadam Mee buddhi Leni thanam..\n",
      "@VASTROPHEL @AsherPeony @ZR3009 @CYBERKITNOIR @Corycantstopme @cloudystormy98 @R0CK3T_DEV @saltedfluff @MagentaAris @0nly_Lil4c @inkuiry_\n",
      "\n",
      "*Bzz* swat team section avm/a   permission to drop, over *bzz*\n",
      "@GrantLavac Gold!\n",
      "@ChadWilliamsCF @WallStreetSilv Gold is everywhere in the universe.\n",
      "@Dacryptowurld @GawsStiph66 @Tamakittycoin I believe this is a faithful Project.The projector h#BSCas a lot of affractions so hopefully the project will be best in the future.\n",
      "You're not real.\n",
      "#gold \n",
      "#الذهب \n",
      "Yesteday:\n",
      "H: 1933\n",
      "L: 1921\n",
      "Tgts: 1933  1921\n",
      "\n",
      "Today:  L so far= 1 9 2 0\n",
      "Tgt= 1 9 2 0\n",
      "= no 1920-\n",
      "\n",
      "From 1920:\n",
      "Last price: 1928\n",
      "\n",
      "Next:\n",
      "B-\n",
      "1920-\n",
      "\n",
      "B+=\n",
      "1930+\n",
      "1933\n",
      "1935\n",
      "1937\n",
      "Best: 1940+\n",
      "Bigger .. rgets= 1950+\n",
      "\n",
      "Next update: 1935+/1920-\n",
      "@ChadWilliamsCF @WallStreetSilv BTC for sure imho but gold will always have a place I think at least\n",
      "@_demiaa I just started back Friday 😂\n",
      "I will take #Gold over BTC any day!🤣😘\n",
      "@ChadWilliamsCF @WallStreetSilv Gold\n",
      "Actual first time of me reaching diamond before the first balance patch ever released, the game really awards you for abusing 1-3 comps without getting punished, I usually wait out for 1 or 2 patches on gold or plat before continuing to climb to diamond https://t.co/pEOerstk09\n",
      "@Darren16C @thedirtGR @Gold_Rush Good fever is real ! Lol\n",
      "\n",
      "For sure I’ll message you sometime and we can go!\n",
      "Closing prices for crude oil, gold and other commodities https://t.co/MkV4UVv6uC\n",
      "@snobbish_lions Hey mates! I need to talk with you! I have a proposal! 🗯️👉📩\n",
      "...\"Gold, Lead, Copper, Jet, Diamond, Radium, Sapphire, Silver and Steel. Sapphire and Steel have been assigned\"\"\n",
      "@Salihbigdreamz @welcome2culture @tariqnasheed while posting a guy wearing conspicuous gold bling?\n",
      "Mountain #视频裸聊 #陪玩 #女S #娇喘 https://t.co/Nm4cZLTHep\n",
      "@Ryoguy2013 Me too.\n",
      "HBO’s “The Weight of Gold,” : Michael Phelps is great at a lot of things. Narrating movies not be it\n",
      "@DanLeNatural send me some canned white cougar gold.\n",
      "@ChadWilliamsCF @WallStreetSilv I’d have to see the real gold first before making the decision! 👀💀🤣\n",
      "behold my new costume https://t.co/Hh3PCe5Ldt\n",
      "#Two beautiful examples of@patekphilippe\n",
      "reference models that have caught the eye of many vintage collectors - the 3970. one in white gold with a contrasting black dial, the other in platinum with a clean silver dial. #patekphilippe, #watches #rubber https://t.co/0G3HjucwZQ https://t.co/CIJcMp7Wi1\n",
      "@keller_gold @maxfawcett PMJT, bought a pipeline, is twinning a pipeline, building a LNG distribution in Kitimat, approved an offshore project on the east coast.\n",
      "Quebec will never allow pipelines through their province so a west to east pipeline won't work.\n",
      "The Cons had a decade to do something, did nada\n",
      "@BillyGribbin Only those fair as gold!\n",
      "@keller_gold @maxfawcett PMJT, bought a pipeline, is twinning a pipeline, building a LNG distribution in Kitimat, approved an offshore project on the east coast.\n",
      "Quebec will never allow pipelines through their province so a west to east pipeline won't work.\n",
      "The Cons had a decade to do something, did nada\n",
      "#Two beautiful examples of@patekphilippe\n",
      "reference models that have caught the eye of many vintage collectors - the 3970. one in white gold with a contrasting black dial, the other in platinum with a clean silver dial. #patekphilippe, #watches #rubber https://t.co/0G3HjucwZQ https://t.co/CIJcMp7Wi1\n",
      "@strike_ic this bar (Market overview Bar)can be used to display Nifty, Banknifty, BSE, VIX and gold and crude https://t.co/eaaJkys7MN\n",
      "@ChadWilliamsCF @WallStreetSilv Gold in hand vs virtual coins that can disappear any second ?\n",
      "\n",
      "Gold for sure !\n",
      "15 Fantasy Football Breakout Players - Sports Gambling Podcast\n",
      "\n",
      "Who are your favorite #FantasyFootball Breakouts for 2023?\n",
      "\n",
      "✅Which 1st year starter breaks out?\n",
      "✅Alexander Mattison Breakout of Fool’s gold?\n",
      "✅Can Garrett Wilson finish top 10?\n",
      "✅Chig Szn? https://t.co/rsNp1kz6Bh\n",
      "@ElonMuskAOC Yes. Depending on the quality of their work, from the top down, it should be be every from a \"Gold Ribbon\" to a \"Puckering Anal Star!\"\n",
      "@melodramaton The verb aspect is throwing me off, so I feel like they turn into something that turns OTHER things into gold. So a weregild turns into an alchemist maybe?  ⚗️😂\n",
      "gonna be wild when we’re all 80 and giving each other fist bumps\n",
      "A Gold Coast man is wishing he could turn back time after he was arrested for allegedly tampering with the odometers of used cars, to hide how many kilometres the vehicles had really clocked up.\n",
      "\n",
      "https://t.co/xOkcCDTS6k\n",
      "@solomonster Thumbs up probably Gareth and Wrestle Junkie voting 209 times\n",
      "@Mudex_Gold @FabrizioRomano Where is starting is guaranteed\n",
      "@ChadWilliamsCF If it was only 50k, BTC. \n",
      "But 1.6bln in gold is enough to never worry about anything. \n",
      "So the whole thought experiment is flawed.\n",
      "From the grip of the Sorcerer, Gold, \n",
      "#禹州 #长垣 #合山 #东台 #河津 https://t.co/OQGDSqlnNZ\n",
      "Rider Alert: Light rail service is impacted due to power outage from down tree at 12th &amp; P streets. A bus bridge is in place on Blue Line between Globe &amp; City College stations and on Gold Line between 29th Street &amp; Sacramento Valley stations. Check Alert SacRT App for updates.\n",
      "@n0tsw4ggy And gold\n",
      "'I can't say, but it's the ‘C word': Will Skelton reveals missing ingredient in Eddie's Wallabies squad - and what he loves about 'pest' Arnold\n",
      "\n",
      "**\n",
      "Huge inclusion. Plus, he finally has a training camp to get up to speed before pulling on the gold jersey.\n",
      "\n",
      "https://t.co/dvteEav01Z\n",
      "@heresyfinancial @Jen_Boudreau What if the articles of organization allow you take loans against #Bitcoin or #Gold? Is that income?\n",
      "#Gold could be forming a Triple Top along with a Shooting Star on quarterly charts. \n",
      "\n",
      "#gold #mcx #commodity #learning #trading #investing #tripletop #candlestick #patterns https://t.co/Tfdy0wlkqo\n",
      "@gilliangracee @_kelseybrownlee @gold_literary oh i'll be SO seated omg\n",
      "Zechariah Tan struck Gold after competing in Web Technologies at #WorldSkillsSG 2023. He competed in WSS2021 and attained a Medallion for Excellence. Now, he's representing #TeamSG in Web Technologies at #WSA2023. #SkillsProud [Post by Alora Tan &amp; Ryan Yeo, @temasekpoly] https://t.co/KCOQuoqSuQ\n",
      "Vintage Collectible Handpainted Platter Teal Gold Purple Floral Tones https://t.co/YeNjYQQRgz via @Etsy\n",
      "@ChadWilliamsCF @WallStreetSilv Gold.\n",
      "@stirgussa @Variety she deserves an ongoing rock-strewn tumble into even more irrelevance than now,\n",
      "is probably what you meant.\n",
      "@designerofevery @AgentLoyalist @RichardHanania Guy from the UK has opinions about what constitutes a \"shit country.\"\n",
      "@lsdres @PoliticoAnomaly @space_kadettt @dr_jon_l Show us all those gold standard double blind placebo vaccine testing studies completed? I’ll wait.\n",
      "More highlights from 2️⃣0️⃣2️⃣4️⃣ UNCOMMITTED @paigerandazzo! ⬇️⬇️ @ImpactRetweets @toppreps @EastCoastFP @nowd1\n",
      "@LunarShiba_eth Hey mate! Do you want to grow your project? 💯🚀I have Best offer for you💌🤝 Dm me once📩📩\n",
      "me who gave you this gold watch?\"  #绿帽 #盯射 #萝莉 https://t.co/36W6DuFLaQ\n",
      "@SpectralAurora_ good news is that the mirror is way more accurate so if you like how you look in the mirror you like how you actually look\n",
      "A night sky theme inspired by the “subconscious” concept\n",
      "\n",
      "Gold stars because VAV always shine\n",
      "\n",
      "Pink hearts full of love for VAV’s music\n",
      "\n",
      "Silver because Ace is a cool summer mute prince who best suits silver 🤍\n",
      "\n",
      "#VAV #브이에이브이 #Designer #Designer_이게내스타일이야 https://t.co/CTHAZ7kZoI\n",
      "@ChadWilliamsCF I'd prefer platinum over the gold, but gold will do.  $1.6 bn in platinum would crush inventory.\n",
      "@iam_agg Donkey Kong Circus\n",
      "Donkey Kong Jr. (Panorama Screen)\n",
      "Gold Cliff\n",
      "Mario The Juggler\n",
      "Mario's Bombs Away\n",
      "Mickey Mouse (Panorama Screen)\n",
      "Micro Vs. System - Boxing\n",
      "Safe Buster\n",
      "Spitball Sparky\n",
      "Super Mario Bros. (Crystal Screen)\n",
      "Tropical Fish\n",
      "Zelda\n",
      "@pikopatron Nah this is gold\n",
      "@astamcloud Great thread!\n",
      "What is the exact number of $Gold stock, supply, and charts + facts to back it up? \n",
      "\n",
      "#Bitcoin\n",
      "👇Guys hurry go claim your free Gold pepe tokens before listing🤑 🪁moo $PEPE $BOB $ROPE $LOYAL $PSALE $GMFAM $MONG $ETH $BTC $GPEPE $JESUS $BEN $RFD\n",
      "@Outkick @TomiLahren Hey Tomi.  Zelensky is risking his life defending his country. You got your hair done for this shitcast.\n",
      "Today's results at the 2023 CONCACAF Gold Cup 🏆 - \n",
      "\n",
      "Group C:\n",
      "Costa Rica 🇨🇷 1-2 Panama 🇵🇦\n",
      "El Salvador 🇸🇻 1-2 Martinique 🇲🇶\n",
      "@hipsterelectron The 1 oz palladium and platinum coins are definitely epic flexes, lol.\n",
      "\n",
      "Just feels odd to do 1oz gold coins at a fixed 100 USD nominal value when the gold is worth 15x that. Like, that'd devalue the gold and by extension your currency that is backed by gold?\n",
      "@YesAmSage Appreciate it 😁, I'm legit almost there, just hit S1 if i win s fee more it's for sure promos then Uber in there in gold 🥇\n",
      "@gladwin_love @urstruly_vamsi @urstrulysai07 Women : in that context,referred to women who are gold diggers..and 99% of women care your money,status,looks ..\n",
      "You can't change the fact..\n",
      "Aa kani nenu aa type kadhu, there are good women ane vallu andharoo gold diggers ee..\n",
      "Okappudu chala thakkuva,ippudu vipareethanga ekkuva.\n",
      "Brian &amp; Tony Gold - My Baby  [My Baby]\n",
      "Hadley #视频裸聊 #陪玩 #女S #娇喘 https://t.co/M2xeYxddsS\n",
      "@Jonesfan43_4 I got the gold one to the left lol\n",
      "@Atticus59914029 @gaetormom @MrsEmilyFinch Orange and Blue through and through. Respect from the Purple and Gold.\n",
      "@piecutieley @DTCahill @BigFryMedia @ayyapim @KanalD @FOXTurkiye Your hande is gold digger .. \n",
      "Focus on her and her coming video.\n",
      "@ChadWilliamsCF Gold\n",
      "I only sold pot, and not that much.\n",
      "\n",
      "Eli Lilly sells us back our own toxic waste and subsidizes it. They went from France to Canada to here whole we punished Baghdad and now they're in Italy\n",
      "\n",
      "First do no harm or you're not a doctor, and now you're competing with child molesters. https://t.co/CyYKWb4BMm\n",
      "lers banana, walki    II along the garden trail , gold bamboo greet me eyes, I always wanted to do no t uin https://t.co/zdIBnRKqGU\n",
      "@EarlOfEnough It’s something to flirt with when you are disgusting.\n",
      "@SpectralAurora_ cameras actively distort your face, your photos are actually worse than your face in the mirror\n",
      "PREMIUM ACCOUNT \n",
      "\n",
      "Netflix 🌙\n",
      "Youtube 🌙\n",
      "Disney plus 🌙\n",
      "Viu ph 🌙\n",
      "Spotify 🌙\n",
      "Grammarly 🌙\n",
      "Picsart Gold 🌙\n",
      "Canva pro 🌙\n",
      "Quillbot 🌙\n",
      "\n",
      "mop : gcash\n",
      "prem account ph https://t.co/nhlMnRKzPB\n",
      "@aria_gerson @aude1128 @PatrickS615 They’re not, otherwise teams wouldn’t be allowed to have security cameras in the clubhouse.  And employers pretty routinely record terminations as a CYA.\n",
      "\n",
      "*Publishing* the recording without consent is a different matter though.\n",
      "@ChayaRaichik10 I’m in a real bind here. I don’t want to give her a follow, but that stuff is comedy gold! https://t.co/Ytwbe0pBUK\n",
      "@MindConnectt_ Hey mate! Do you want to grow your project? 💯🚀I have Best offer for you💌🤝 Dm me once📩📩\n",
      "@I_Am_The_ICT God bless you #ICT your “One Trading Setup For Life” is gold and I think it’s enigma 😄😄🙏🏾🙏🏾\n",
      "@phuckcoin Hey mate! Do you want to grow your project? 💯🚀I have Best offer for you💌🤝 Dm me once📩📩\n",
      "A Gold Coast man who fought alongside Islamic terror groups in Syria and posted about “chopping off” heads has been jailed https://t.co/Vbg8RvOv1y\n",
      "@ShabbaThaHut Oh I’d for sure buy them from ya 😎 but the illustrator skwovet, Kingambit, great tusk ex and Koraidon ex. Full art Katy and Miriam. Gold rare candy and nest ball😅\n",
      "@ChadWilliamsCF Gold 🪙\n",
      "A Gold Coast man who fought alongside Islamic terror groups in Syria and posted about “chopping off” heads has been jailed https://t.co/Vbg8RvOv1y\n",
      "@phuckcoin Hey mate! Do you want to grow your project? 💯🚀I have Best offer for you💌🤝 Dm me once📩📩\n",
      "@ShabbaThaHut Oh I’d for sure buy them from ya 😎 but the illustrator skwovet, Kingambit, great tusk ex and Koraidon ex. Full art Katy and Miriam. Gold rare candy and nest ball😅\n",
      "9286  9286 \n",
      " surprise gold? covert \n",
      " #四件套 #银行卡 \n",
      " die began God \n",
      "#四件套 #洗钱 https://t.co/nIpJBSaW6f\n",
      "@ChadWilliamsCF @WallStreetSilv Gold all day and every day\n",
      "A 1948 Italian neorealist drama film directed by Vittorio De Sica.\n",
      "\n",
      "I've heard about it for years, but this is my first time watching it. https://t.co/1qfmZSraBX\n",
      "Check out this listing I just added to my #Poshmark closet: Mango black leather with gold buckle sandal. https://t.co/fV0IRa14uK #shopmycloset @poshmarkapp\n",
      "@StanUsmnt @herculezg Like it or not this is exactly what we should be doing with all our positions. I hate the experience argument to this answer especially in a Gold Cup that doesn’t really matter. You know how to get younger player’s experience? Play them…not that hard.\n",
      "@jamescham Shhhh. \n",
      "\n",
      "You can’t just tweet away gold. Control yourself.\n",
      "@dubzyxbt This show is comedy gold\n",
      "Me with the emerald gold my man bought me, fav necklace 😋\n",
      "LITERALLY SHUT UP UR SK CRUEL GVF\n",
      "@shelbejewled where’d you get your gold letters from\n",
      "@NASASpaceflight @AlgerSurre81716 7318564,All that glitters is not gold. Every cloud has a silver lining.\n",
      "@Jack_N_Me I actually agree with you. We live in an Archon/Chimera controlled matrix. We were created by the Annuaki as a GMO hybrid slave race to mine gold.\n",
      "👇 $GPEPE is the only memecoin with Gold badge here, feeling good about this one! 🪁moo 💰 $PEPE $BOB $ROPE $LOYAL $PSALE $GMFAM $MONG $ETH $BTC $GPEPE $JESUS $BEN $RFD\n",
      "Wall Street was mixed on Monday and gold prices rose on lingering concerns over the rate hike path of the U.S. Federal Reserve as investors largely shrugged off the aborted Russian mutiny over the weekend. https://t.co/LlkbThlzll\n",
      "@The_Trump_Train Wtf will it take for you to see what a traitor conman and evil POS trump truly is? You’re the kind of blind sycophantic m0r0n who supported Hitler up to the point he killed himself in the bunker. And probably after that too. YOU ARE THE TRAITOR NOW.\n",
      "@dickmasterson I wonder if he felt silly with that helmet on in his last moments. Did he not have enough money for a helmet and a vest? \"ah I knew I should've got the vest, why did I pick the helmet??\"\n",
      "Check out SYMMETALIC STERLING SILVER 14K OVERLAY BRACELET GOLD TONE 7.25 INCHES LONG https://t.co/XGFvLEDAfD #eBay via @eBay\n",
      "why always me ?\n",
      "📣 MARKET IMPACT\n",
      "Chinese Premier Li: Will Roll Out More Practical, Effective Measures To Open Up  - Expects China Q2 Growth To Be Faster Than Q1\n",
      "$gold #preciousmetals https://t.co/Gq0LCLoOCP\n",
      "👇 Just got my Gold pepe $GPEPE airdrop for free, guys get yours asap! 🪁moo 💰 $PEPE $BOB $ROPE $LOYAL $PSALE $GMFAM $MONG $ETH $BTC $GPEPE $JESUS $BEN $RFD\n",
      "@requiame YOURS IS SO GOOD HOLY \n",
      "\n",
      "mine’s just okay, but I didn’t need to spend more gold today anyway 😭 would consider the venom but no need after buying the Fiona bundle https://t.co/G4onXoti7X\n",
      "@eveoart Gold fish! https://t.co/Hmm3vwbSmu\n",
      "El Salvador 1-2 Martinique \n",
      "Costa Rica 1-2 Panama\n",
      "\n",
      "Martinique and Panama kick off Group C of the Gold Cup with wins 💪 https://t.co/V00PEqdemC\n",
      "@CheriJacobus This works really well, The Springs Preserve here in Las Vegas has this.\n",
      "We've now seen 5 \"legendary\" cards! Ruby got the special treatment early, but 1) how many legendary cards do you expect to see, per ink, in set 1?\n",
      "\n",
      "2) Based on existing themes, what characters do you expect to see in that gold slot for sapphire / amethyst? \n",
      "\n",
      "#disney #lorcana #tcg https://t.co/E6cY8q3gR9\n",
      "made of solid gold. That\n",
      "however\n",
      "_USE_OUNAS_OUNASS_CODE_ONASS_COUPON_DISCOUNT_ONAS_PROMO_TOYOU_ https://t.co/2dUE966rJP\n",
      "📣 MARKET IMPACT\n",
      "Chinese Premier Li: Will Roll Out More Practical, Effective Measures To Open Up  - Expects China Q2 Growth To Be Faster Than Q1\n",
      "$gold #preciousmetals https://t.co/Gq0LCLoOCP\n",
      "👇 Just got my Gold pepe $GPEPE airdrop for free, guys get yours asap! 🪁moo 💰 $PEPE $BOB $ROPE $LOYAL $PSALE $GMFAM $MONG $ETH $BTC $GPEPE $JESUS $BEN $RFD\n",
      "@requiame YOURS IS SO GOOD HOLY \n",
      "\n",
      "mine’s just okay, but I didn’t need to spend more gold today anyway 😭 would consider the venom but no need after buying the Fiona bundle https://t.co/G4onXoti7X\n",
      "@eveoart Gold fish! https://t.co/Hmm3vwbSmu\n",
      "El Salvador 1-2 Martinique \n",
      "Costa Rica 1-2 Panama\n",
      "\n",
      "Martinique and Panama kick off Group C of the Gold Cup with wins 💪 https://t.co/V00PEqdemC\n",
      "@CheriJacobus This works really well, The Springs Preserve here in Las Vegas has this.\n",
      "We've now seen 5 \"legendary\" cards! Ruby got the special treatment early, but 1) how many legendary cards do you expect to see, per ink, in set 1?\n",
      "\n",
      "2) Based on existing themes, what characters do you expect to see in that gold slot for sapphire / amethyst? \n",
      "\n",
      "#disney #lorcana #tcg https://t.co/E6cY8q3gR9\n",
      "why always me ?\n",
      "@LS1963_ @con_national I hope that 2nd district is majority black.This is gold! \n",
      "\n",
      "I think you can submit Alabama maps to @RedistrictNet\n",
      "@AnonymousHog @SECNetwork @LSUbaseball @LSUwbkb True, you guys are mega losers at the moment BUT this is a very good take. The “sports” that these omelet making, house cleaning machines participate in hold no value because they’re god awful athletes. I at 57 could hold my own against Sid from Ice Age in purple &amp; gold! 🤡 🤡\n",
      "@ChadWilliamsCF @WallStreetSilv Gold\n",
      "I got the new gold booth in Pls Donate! (who wants?) https://t.co/13m70nPMxB\n",
      "@TransBratAlexis did it on my mage and only got a gold again level 3 also... no mount tho\n",
      "@DenverUlland I hope you are not talking about the Vatican?\n",
      "\n",
      "Military took thar over years ago. Remember they were closed for renovation? How do you think all the gold hidden there was retrieved?\n",
      "\n",
      "You still do not know who is Babylon. But I guarantee you it isn't America.\n",
      "@BushidoMoney I want to discuss something special come to inbox please 📩\n",
      "@ChadWilliamsCF Gold\n",
      "@VixiaChick Thank you! 😂😂😂\n",
      "@The_Kyle_Mann @TheBabylonBee @elonmusk People watch hundreds of shorts, easily. They can not create real revenue. The views are inherently mostly worthless. There is no gold in them hills.\n",
      "Why does the goog doc need ME to stop being empty?\n",
      "$goog  Top analyst price target for next week 📈 🔗https://t.co/HESZDtPLGk\n",
      "Another bear flag detected on $GOOG that takes it down to 114/115.\n",
      "The 50sma comes in at 117 &amp; could be supportive but short term this is probably something to hedge if you're holding further dated longs. \n",
      "Currently: 119 https://t.co/PhS3ACasGw\n",
      "Think 'Bridge'. \n",
      "\n",
      "GOOG. \n",
      "\n",
      "FB. \n",
      "\n",
      "TWITTER.\n",
      "\n",
      " IG. \n",
      "\n",
      "'Central' algorithm.  \n",
      "\n",
      "The stage had to be set.\n",
      "$GOOG    Top analyst-price target for today  💹🚀    https://t.co/L2PBdeZ90n\n",
      "Biggest Mega-Cap Losers for Jun 26, 2023:\n",
      "\r",
      "$TSLA -6.06%\n",
      "$NVDA -3.74%\n",
      "$PFE -3.68%\n",
      "$META -3.55%\n",
      "$GOOGL -3.27%\n",
      "$GOOG -3.19%\n",
      "$MSFT -1.92%\n",
      "$TSM -1.77%\n",
      "$ORCL -1.57%\n",
      "$AMZN -1.55%\n",
      "\n",
      "Research on https://t.co/jp9ZDekuoV\n",
      "$AAPL $TSLA $AMZN $FB $GOOG \n",
      "\n",
      "$NFLX $AMD $SPY $MSFT $BABA $NIO     Top analyst price target for next week.📈💯             ➡ https://t.co/rBaHwaqwQl https://t.co/okn5RGXX68\n",
      "(5/7) moved to Los Angeles. Despite earning minimum wage and supporting two children, he committed to DCA $500 per month into the S&amp;P 500 index fund ($SPY) starting from 2005. Then in 2012 he expanded his portfolio by allocating $500 to fractional shares of $AAPL, $NFLX, $GOOG,\n",
      "$GOOG    Watch live Stocks &amp; options trading signals here.💹   https://t.co/L2PBdeZ90n\n",
      "@darewecan @garyblack00 Except people don't die when AAPL or GOOG testing fails.\n",
      "@Ggarrettmann FR THEY PISS ME OFF LIKE BRO JUST GROW\n",
      "@eyym_eyym Goog\n",
      "#GBPCHF ALL targets done! 120+ pips profit.✅🎯\n",
      "\n",
      "Join our FREE telegram channel. Link in the bio.\n",
      "\n",
      "#xauusd #eurusd #eurjpy #usdcad #usdjpy #gbpusd #msft #nvda #wmt #btc #bitcoin #forexsignals #usoil #crudeoil #amzn #qqq #goog #tsla #aapl #spy https://t.co/lEv3F4bqYW\n",
      "🔥 Realtime AI News Scanner 🔥\n",
      "🔗 https://t.co/AZfMSgCcTp\n",
      "#MSFT #AMZN #GOOGL #GOOG $MSFT $AMZN $GOOGL $GOOG  #News #StockNews #Stocks #Sentiment #SentimentAnalysis https://t.co/OnbCG04z9Q\n",
      "@spine1692 @JaneLeeHunz @googalathu1 Goog and I have been saying it's already over generally. At least, we're at the point where outcomes are known.\n",
      "#GBPCHF ALL targets done! 120+ pips profit.✅🎯\n",
      "\n",
      "Join our FREE telegram channel. Link in the bio.\n",
      "\n",
      "#xauusd #eurusd #eurjpy #usdcad #usdjpy #gbpusd #nasdaq #dji #spx #msft #nvda #wmt #amzn #qqq #goog #forexsignals #usoil #crudeoil #eth #nfts #crypto https://t.co/8Zfmo4AHLV\n",
      "TOP20 Trading Volume:\n",
      "$TSLA $NVDA $AAPL $AMZN $AMD $MSFT $META $BRK.A $GOOGL $GOOG $PEF $NFLX $AVGO $CCL $ADBE $UBER $XOM $LLY $UNH $HD\n",
      "\n",
      "Another major Wall Street firm downgrades rating within two weeks, causing $TSLA to plummet over 6%, marking the largest decline in over two months.\n",
      "#stocks #investing\n",
      "@laceyena GOOG, HOW AREYOUU??? HOPE UR DOING WELL LOVE\n",
      "Goog morning all miners #celiaexchange \n",
      "\n",
      "Don't forget click mint Celia and get 0.5 $celia per day. \n",
      "\n",
      "Start Mining Celia with your Smart phone, sign up now 👇\n",
      "\n",
      "https://t.co/5EDR5x8syK\n",
      "\n",
      "And Use Refferal code OT1BWYCLT https://t.co/Lcsw7DVg9S\n",
      "@MeganFoxWriter @TeamYouTube Even Standard Oil’s breakup pales in comparison to what should be done to GOOG.\n",
      "#NZDJPY ALL targets hit! 180 pips profit🎯\n",
      "\n",
      "Join our FREE telegram channel. Link in the bio.\n",
      "\n",
      "#xauusd #eurusd #eurjpy #usdcad #usdjpy #gbpusd #nasdaq #dji #spx #eth #nfts #crypto #amzn #qqq #goog #forexsignals #msft #nvda #wmt #usoil #crudeoil https://t.co/SzMYllGyXN\n",
      "👳‍♂️WATCH THEM JUNE 27/23👳‍♂️ $BIOL $AVTX $ASTC $GRI $AEL $IHT $GREEL $SOND $SRGA $AREN $VIEW $RGTI $RSLS $HYZN $RKDA $YGMZ $SIEN $UFAB $NAVB $IDEX $CISO $JSPR $GSUN $CDIO $APRN $PACW $TSLA $MSFT $GOOG $INTL $AAPL $META $AMZN $BCOM $ADBE $GME $AMC $INTC $RBLX $BB $HCNWF $LCID $CVNA https://t.co/5wpjNLL9lv\n",
      "@RNCResearch Bullish for GOOG, AAPL and MSFT\n",
      "29-Aug-23 - 31-Aug-23\n",
      "Google Cloud Next 23\n",
      "$GOOG $GOOGL\n",
      "https://t.co/0ONQ3QbWyo\n",
      "@Writer_CathSA You’re a good person who prioritizes others above herself and sometimes you deserve something for you. Buy the mic. \n",
      "\n",
      "(If you can afford it. And if it’s good.)\n",
      "That’s laughable and even you know it. The top ten income is Top 10% income: $230,107. 👈🏻according to the Goog. So….they’re trying to snow you into believing only wealthy people pay that 12 per 1. Let’s get real fake senator. The top income earners won’t pay a dime. It will be the $230k peeps.\n",
      "@notgrayr very goog very goog this is how we do it\n",
      "@TripleDTrader $GOOG has some more room to go🤑\n",
      "#GBPCHF ALL targets done! 120+ pips profit.✅🎯\n",
      "\n",
      "Join our FREE telegram channel. Link in the bio.\n",
      "\n",
      "#xauusd #eurusd #eurjpy #usdcad #usdjpy #gbpusd #msft #nvda #wmt #btc #bitcoin #forextrading #usoil #crudeoil #amzn #qqq #goog #nasdaq #dji #spx https://t.co/2lmRQMmkVu\n",
      "@egirlgiveaway goog luck everyone  👍👍👍👍👍\n",
      "*SCHEDULED TWEET*\n",
      "Don’t you love when you’re in the bedroom with Freddie faz bear and he won’t stop calling you a whore whore whore whore whore hor hor whore whore whore. #freddyfazbear https://t.co/jEJl2k4MzW\n",
      "#GBPCHF ALL targets done! 120+ pips profit.✅🎯\n",
      "\n",
      "Join our FREE telegram channel. Link in the bio.\n",
      "\n",
      "#xauusd #eurusd #eurjpy #usdcad #usdjpy #gbpusd #usoil #crudeoil #btc #bitcoin #tsla #aapl #spy #forextrading #amzn #qqq #goog https://t.co/L759ANXndX\n",
      "AI related stocks update:  \n",
      " $NVDA 405.91 -3.84% \n",
      "$TSLA 240.2 -6.39% \n",
      "$MSFT 328.9 -1.82% \n",
      "$SNOW 170.03 -4.63% \n",
      "$AI 31.96 -4.28% \n",
      "$AMD 107.45 -2.31% \n",
      "$PLTR 14 -0.29% \n",
      "$GOOG 119.12 -3.17%\n",
      "Best Motherboard for budget Xtraders Join this discord link\n",
      "\n",
      "https://t.co/n3ZDCLpLpg\n",
      "\n",
      "$AAPL $GOOG $GLD $QQQ $SPY $VFF $TLRY $KBH $LEN $GE $T $F $GM $TSLA $HTSC $GRNF $MTCH $RIOT $MARA $IRRZF $KOAN $INTC $IBO https://t.co/ojjzehZbYz\n",
      "@goofy_tuber Tthis games hates me because enemies Clash are goog braindead but teammates Clash are braindead braindead\n",
      "Things aren't as they seem at a cabin in the MD mountains. Throw in gold coins and there's a murder to add to the family history mystery\n",
      "https://t.co/8znxQs98gh\n",
      "https://t.co/Gi2TiNkL6D\n",
      "Nook https://t.co/RotEVbnoWx\n",
      "Kobo https://t.co/gFPi7Ijep7\n",
      "Goog https://t.co/4WHIRnnzbX\n",
      "Goog moning\n",
      "It’s a really amazing Place, Lot of thanks to this community \n",
      "\n",
      "https://t.co/daYpzjkMPO\n",
      "\n",
      "$GOOG $AAPL $SPY $AMZN $TDOC $TSLA $COST $BA $NFLX $NVDA $TWTR $ZM $BABA $FB $DOW $MSFT $QQQ $BB $NOK $AYRO $NKLA https://t.co/OYP5HRE1NR\n",
      "#GBPCHF ALL targets done! 120+ pips profit.✅🎯\n",
      "\n",
      "Join our FREE telegram channel. Link in the bio.\n",
      "\n",
      "#xauusd #eurusd #eurjpy #usdcad #usdjpy #gbpusd #usoil #crudeoil #amzn #qqq #goog #tsla #aapl #spy #forextrading #eth #nfts #crypto https://t.co/KsBEaSLUTb\n",
      "Asia markets mixed after Wall Street sees tech sell-off. Nikkei in red\n",
      "$MSFT $GOOG $META ...down big, 1m lows\n",
      "Crude 69, 74. Bitcoin above 30000\n",
      "Nifty 18691. Dojistar undecided. Set for sideways / time correction. Holiday tomorrow. Monthly F&amp;O expiry week\n",
      "https://t.co/HfRSzTYrKt\n",
      "@XposeTrophyHunt @PeterEgan6 @ProtectWldlife @_AnimalAdvocate @louisa1000 @hilltopgina @LiftForever67 @Cshells33Wells @VMallarino @RobRobbEdwards @DidiFrench Biggest and best generally are the oldest/largest though. Definitely do a quick goog on it.\n",
      "\n",
      "I'm not saying I entirely agree with the practice but it does seem to be the best option. 1 animal funds hundreds. \n",
      "\n",
      "Real issue is poachers, but they're usually starving... tough world.\n",
      "$TSLA TINY FLOAT. 1000%+ gains possible. Unknown 💸✈      \n",
      "\n",
      "https://t.co/Jq2DZjpBXs\n",
      "\n",
      "$SPY $QQQ $BOXL $HMHC $AYRO $GOOG $NOVN $NIO $RRD $MARA $BKYI $ADMP https://t.co/X2hXqevYyh\n",
      "@brown_eyed_gal1 Lol. That was goog\n",
      "#GBPAUD ALL targets hit! 185 pips profit✅🎯\n",
      "\n",
      "Join our FREE telegram channel. Link in the bio.\n",
      "\n",
      "#xauusd #eurusd #eurjpy #usdcad #usdjpy #gbpusd #nasdaq #dji #spx #msft #nvda #wmt #btc #bitcoin #usoil #crudeoil #amzn #qqq #goog #forexsignals https://t.co/iS3jleiBZ9\n",
      "@babybunkoo__ but it was jy prk that was bullied by armys🤔 it was mostly solos of other members who bullied goog and armys are fighting back to defend koo\n",
      "Hey #investors! Don't miss out on the big move ahead for $GOOGL and $GOOG. And while you're at it, download TEMU - the #1 app in AppStore for cash rewards on your search. Use my code &lt;209079099&gt; to get up to $20 in rewards. It's like hitting the jackpot twice! 😜💰 #TEMUCash https://t.co/GPes0kmjdA\n",
      "@ReturnsJourney @atelicinvest Value is everywhere... In the large us  caps left for dead (like NFLX in june22 or goog in dec22)microcap growing slowly and gen.cas .. net net from Japan.. ultra high growth small cap\n",
      "Most mentioned tickers in #WSB in last 1H\n",
      "\n",
      "1. $TSLA (11)\n",
      "2. $SPY (6)\n",
      "3. $SHOP (5)\n",
      "4. $HOOD (5)\n",
      "5. $TOP (4)\n",
      "6. $WISH (4)\n",
      "7. $LCID (4)\n",
      "8. $GOOG (3)\n",
      "9. $LMAO (3)\n",
      "10. $LULU (3)\n",
      "\n",
      "https://t.co/InT5oXXyaY https://t.co/QAjzdwWhOl\n",
      "@mrkstructure Took $GOOG short as it rejected the 21ema/day and 21ema/15min. Easy https://t.co/RyMGcFt2N2\n",
      "My alerts for LARGE caps. Here's the result of buying when H% is low. What's my win rate?\n",
      "\n",
      "*updated*\n",
      "$TSLA $NVDA $MSFT $AAPL $MU $QCOM $AMD $CPNG $RIVN $CRM $PLTR $PARA $PINS $ENPH $TTD $CLF $GOOG $GOOGL $MP $AMZN $COIN $SPY $QQQ $IWM $VOO $ARKK https://t.co/gDJ475Jvev\n",
      "#GBPAUD ALL targets hit! 185 pips profit✅🎯\n",
      "\n",
      "Join our FREE telegram channel. Link in the bio.\n",
      "\n",
      "#xauusd #eurusd #eurjpy #usdcad #usdjpy #gbpusd #forexsignals #usoil #crudeoil #eth #nfts #crypto #amzn #qqq #goog #nasdaq #dji #spx https://t.co/j6q7SstZfE\n",
      "Bernstein downgrading $BABA and $GOOG tonight.\n",
      "ALWAYS zoom out the chart to see what’s really going on. \n",
      "https://t.co/1PcrkKjScY\n",
      "\n",
      "$LCID $AMZN $MSFT $HCMC $AAPL $SPY $TSLA $FB $GOOG $BABA $SQ $NFLX $NVDA $BTC $SHOP $AMC $IGU https://t.co/L25n4llQWZ\n",
      "If this does not scare the living crap out of people, piling money into $nvda $klac $lrcx $amd $intc $mrvl $aapl $amzn $goog $meta $tsla $nflx $amzn $msft $wqq $rty $iwm $swks $twlo $amat $avgo $swks $my $nxpi etc., I don’t know what will\n",
      "The POWER of DCA (Dollar Cost Averaging) !!\n",
      "https://t.co/1PcrkKjScY\n",
      "\n",
      "$LCID $AMZN $MSFT $HCMC $AAPL $SPY $TSLA $FB $GOOG $BABA $SQ $NFLX $NVDA $BTC $SHOP $AMC $JASMY https://t.co/VOpu8uvv7H\n",
      "@IlkayGuendogan @ManCity Your first and last goal @ManCity was assisted by @KevinDeBruyne he welcomed you the same way he said his goog bye\n",
      "India’s Prime Minister Modi with the AI play on words —&gt; America and India, strengthening relations…\n",
      "\n",
      "Doesn’t hurt to have Satya Nadella $MSFT CEO, Sundar Pichai $GOOG CEO, Shantanu Narayen $ADBE CEO, and Arvind Krishna $IBM CEO to call on!\n",
      "\n",
      "$NVDA $AI $MSFT $GOOG https://t.co/B4gLh7Cxmf\n"
     ]
    },
    {
     "name": "stdout",
     "output_type": "stream",
     "text": [
      "@ZidAndZniw @littlesofts oh my gosh!! SO CUTE!!!!!!!! 💖💖💖💖💖\n",
      "ALWAYS zoom out the chart to see what’s really going on. \n",
      "https://t.co/b8PtWWOJr0\n",
      "\n",
      "$LCID $AMZN $MSFT $HCMC $AAPL $SPY $TSLA $FB $GOOG $BABA $SQ $NFLX $NVDA $BTC $SHOP $AMC $IGU https://t.co/NdMGRRKE6B\n",
      "The POWER of DCA (Dollar Cost Averaging) !!\n",
      "https://t.co/b8PtWWOJr0\n",
      "\n",
      "$LCID $AMZN $MSFT $HCMC $AAPL $SPY $TSLA $FB $GOOG $BABA $SQ $NFLX $NVDA $BTC $SHOP $AMC $JASMY https://t.co/FOv8Xy8rij\n",
      "#ArtificialIntelligence Co., Lantern, Data Published Demonstrating Antitumor Potency In Non-Hodgkin’s Lymphomas - $LTRN \n",
      "\n",
      "https://t.co/saiHkxEuRB\n",
      "\n",
      "$AI $NVDA $INVO $GOOG $IBB $XBI #stocks #trading #investing #TuesdayFeeling #lowfloat #SwingTrading #Motivation\n",
      "My 10 Key Stocks Action Summary: Mon 6/26/23\n",
      "\n",
      "  $TSLA:Long/Add\n",
      "  $NVDA:Long/Add\n",
      "  $META:Long/Add\n",
      "  $NFLX:Long/Add\n",
      "  $AAPL:Long/Add\n",
      "  $AMZN:Long/Add\n",
      "  $MSFT:Long/Add\n",
      "  $BABA:Long/Hold\n",
      "  $GOOG:Out/Short\n",
      "  $AMD:Out/Short\n",
      "you  know  you  can  just  goog——ah  …  i  don’t  know.  no  idea.\n",
      "Most mentioned tickers in #WSB in last 1H\n",
      "\n",
      "1. $NVDA (11)\n",
      "2. $TSLA (10)\n",
      "3. $LMAO (6)\n",
      "4. $SPY (6)\n",
      "5. $META (4)\n",
      "6. $CCL (3)\n",
      "7. $SPCE (3)\n",
      "8. $LCID (3)\n",
      "9. $AMZN (2)\n",
      "10. $GOOG (2)\n",
      "\n",
      "https://t.co/InT5oXXyaY https://t.co/hB1zJrXkqM\n",
      "#NZDJPY ALL targets hit! 180 pips profit🎯\n",
      "\n",
      "Join our FREE telegram channel. Link in the bio.\n",
      "\n",
      "#xauusd #eurusd #eurjpy #usdcad #usdjpy #gbpusd #usoil #crudeoil #eth #nfts #crypto #tsla #aapl #spy #amzn #qqq #goog #nasdaq #dji #spx #forextrading https://t.co/9JGpxOnWse\n",
      "Goog Mohg\n",
      "I sleeby now :3 https://t.co/9DcHmAuPrR\n",
      "I am glad that someone like him is taking this public. Pedophilia and molestation needs to be exposed. It has hit close to hoke with my granddaughter.  And if I find this pos, we'll it may be the last time you here from me.  Until that day, I will live with thought of that.\n",
      "#CloudedStocks Issue #163 - JULY RIP OR R.I.P.?\n",
      "🦾Housewares\n",
      "👀Mega-cap flu\n",
      "💎@Scot1andT &amp; Steve Nash\n",
      "🙏Like❤️/Share🔄\n",
      "$SPY $QQQ $ARKK $AAPL $NVDA $TSLA $META $AMZN $NFLX $GOOG $MSFT #FinTwit #stocks #stockmarkets #trading \n",
      "𝐅𝐔𝐋𝐋 𝐈𝐒𝐒𝐔𝐄:\n",
      "👇\n",
      "https://t.co/hxRRmkkj9W https://t.co/YFXiKurHz6\n",
      "INVO BIOSCIENCE $INVO STOCK SOARED 81.7% DESPITE LACK OF NEWS https://t.co/HPpdFbRbUB\n",
      "\n",
      "$AI $GOOG\n",
      "THE KING GOD DOES\n",
      "\n",
      "https://t.co/tfVqemjtMv\n",
      "$SPY $QQQ $NDX $DIA $IWM $NFLX $FB $INTC $SMH $AAPL $NVDA $TSLA $ES $YM $AMZN $BA $GS $JPM $IBM $LRCX $C $GOOG \n",
      "Stay at home safe and earn money at home by trading marketplace safe.\n",
      "Click here:https://t.co/rFUdY4OUr5 https://t.co/fwI3T3rPll\n",
      "@HiannariVT OOOOOFFF. BOF\n",
      "HAHAHHAHAA. WE CAN HAVE A STAGED BEEF TO DRUM UP SOME BUSINESS\n",
      "Learn To Trade While You're Working From Home&gt;https://t.co/rFUdY4OUr5\n",
      "\n",
      "$AAPL $AMZN $BTC $ETH $FB $GOOG $MSFT $QQQ $SPY $TSLA $EPR $WYND $LIVN $BBU $SPR $APLE $PK $M $CUK $CAR $CPA $EHTH $SHOO $CORT $EPZM https://t.co/IgsWqI9dp8\n",
      "#EURGBP ALL targets hit! 85 pips profit🎯🎯\n",
      "\n",
      "Join our FREE telegram channel. Link in the bio.\n",
      "\n",
      "#xauusd #eurusd #eurjpy #usdcad #usdjpy #gbpusd #amzn #qqq #goog #usoil #crudeoil #tsla #aapl #spy #forexsignals #msft #nvda #wmt #forextrading https://t.co/16ejw1N7bt\n",
      "+moomoo-demo-trade. 182775373R1NUp89. \n",
      "log:2023-6-27am7. https://t.co/SIPWK0omDn ., \n",
      "USD: 969,397.79:Google(GOOG. US). 3572.70/30. Google(GOOGL. US). 3550.20/30. Microsoft(MSFT. US). 9858.00/30. Apple(AAPL. US). 5558.10/30. BASEInc(https://t.co/IAcrHjUHa0). 58950.00/30000. Shopify(https://t.co/MVLK3Jb3EH). 632500.00/10000. \n",
      "JPY: 19,758,987.00:BASE(https://t.co/sJqLczpvJB). 795000.00/30000. \n",
      "HKD: 981,683.28:BASECARE-B(https://t.co/iPipiYSFU5). 159500.00/50000. \n",
      "CNY: 956,940.37:Micro-Tech(https://t.co/FmMGfdrClF). 715,230.00/9000. \n",
      "SGD: 998,986.03:NoonTalkMedia(https://t.co/gpluLaZMsG). 13000.00/100000.\n",
      "@ParrotStock Down 1.15% today, top position $MSFT $GOOG got hammered\n",
      "Was frustrating with the shorts but finally paying off n up pretty good $$$. Reduced shorts a bit today but still short $NDX futures, short $TSLA, long $QQQ August puts. Actually added back some $AMD and $GOOG today I had sold higher.\n",
      "@Shumaila0_ Damn girl you look so yummy and need a goog session keep it up\n",
      "50 DMA Pull Back: $AMD $AVDL $BBIO $CRM $DOCN $ENVX $FLNC $FLYW $FMS $FSLY $FTAI $FTDR $FTNT $GE $GFL $GOOG $GOOGL $HLIT $IAS $KTOS $MSFT $MSTR $NNOX $ONON $PACB $PNT $RMBS $SSYS $STNE $SWAV $TXG $WWE via @Deepvue \n",
      "\n",
      "New scan will be published daily in the report.\n",
      "AI related stocks update:   \n",
      "$NVDA 405.91 -3.84%\n",
      "$TSLA 240.2 -6.39%\n",
      "$MSFT 328.9 -1.82%\n",
      "$SNOW 170.03 -4.63%\n",
      "$AI 31.96 -4.28%\n",
      "$AMD 107.45 -2.31%\n",
      "$PLTR 14 -0.29%\n",
      "$GOOG 119.12 -3.17%\n",
      "\n",
      "AI related stocks taking a much needed breather, with #NDX finishing down -1.36%\n",
      "$GOOG $GOOGL - Google Working on Another Game Streaming Service, Report Says https://t.co/fUXSQZNdXf\n",
      "$AAPL $GOOG $GLD $QQQ $SPY $VFF $TLRY $KBH $LEN $GE $T $F $GM $TSLA $HTSC $GRNF $MTCH $RIOT $MARA $IRRZF $KOAN $INTC $IBO\n",
      "\n",
      "Best discordgroup for the traders join here https://t.co/rFUdY4OUr5 https://t.co/Kg6DqDaWrH\n",
      "@OfficialDJam1 NOT THE ANGEY BIRB MOVIE\n",
      "@albert12798 Drink it.\n",
      "SHOULD #POTUS #BIDEN NOT be relieved of duties for saying this???? I am serious!!!!!!\n",
      ".\n",
      "I AM NOT a #Democrat &amp; for darn sure NOT a #RINO #REPUBLICAN \n",
      ".\n",
      "$TSLA $QQQ $NFLX #ETH #BTC📷 $AAPL $SNOW $MSFT $META $ARKK $AMC $GME $NVDA $GOOG $AMD\n",
      "@PManDudeGuyLol @PicturesFoIder Yes I am smart (lie)\n",
      "@ronjonbSaaS Thanks for your frequent update. I am only in $TSLA and Lithium stocks. Trying to understand Saas stocks, do you think MSFT or AMZN or GOOG have started offering anything that can take marketshare of ZS, CRWD or SNOW?\n",
      "@Summit_Trading \"yes, we know.\" - $META $GOOG $GOOGL\n",
      "Get instant updates and free trials join here \n",
      "https://t.co/rFUdY4OUr5\n",
      "\n",
      "$AMC $GME $NOK  $SPY $RH $BB $RKT $AAPL $AAL  $AMZN $GOOG $TSLA https://t.co/NcSVojacED\n",
      "Follow us for free market analysis. $GOOG What the Smart Investors Know About Alphabet https://t.co/3LSu1wWYyg #GOOG #Technology #Software #wallstreet #investment #trading\n",
      "That is why I wouldn't bet against $GOOG, as it will turn out that being correct (at scale) is as important as being credible as a wildly adopted test.\n",
      "@AKBrews Warning - do NOT do an image search on the Goog for headcheese. Disturbing. https://t.co/xzj9mzBydV\n",
      "What Happened Today in the US Stock Market? | June 26\n",
      "\n",
      "https://t.co/k6CoidSQ4T\n",
      "\n",
      "$BXP $ARE $NWL $WRK $WELL $CCL $TSLA $KMX $ETSY $ILMN $AAPL $AMZN $GOOG $MSFT $META $SNAP $TSLA $NIO $INTC $NVDA $AMD $JPM $V $MA $PYPL $SHOP $NFLX $DIS $BABA $TLRY $F $MRNA $SPX $SPY $NDX $QQQ\n",
      "Join the most profitable trading group \n",
      "https://t.co/rFUdY4OUr5\n",
      "\n",
      "$GOOG $AAPL $SPY $AMZN $TDOC $TSLA $COST $BA $NFLX $NVDA $TWTR $ZM $BABA $FB $DOW $MSFT  $BBAR $STNG $GLUU $ZNGA $AAL $CACC $ESE $SPCE $FCEL $TRIP $BYND $MRNA https://t.co/RJIAS2MH2e\n",
      "🔥 Realtime AI News Scanner 🔥\n",
      "🔗 https://t.co/Y4wZ1chwhu\n",
      "#AAPL #DJIA #MSFT #SPX #GOOGL #GOOG $AAPL $DJIA $MSFT $SPX $GOOGL $GOOG  #News #StockNews #Stocks #Sentiment #SentimentAnalysis https://t.co/IjabNcYLOb\n",
      "🔥 Realtime AI News Scanner 🔥\n",
      "🔗 https://t.co/IMsumQu0B4\n",
      "#AAPL #DJIA #MSFT #COMP #GOOGL #GOOG $AAPL $DJIA $MSFT $COMP $GOOGL $GOOG  #News #StockNews #Stocks #Sentiment #SentimentAnalysis https://t.co/gGMpxZT5Un\n",
      "$CLNV -  Announces $4M Financing To Fund Global Expansion\n",
      "https://t.co/AyK9T1j9Vz\n",
      "\n",
      "$UBER $FISV $SYMC $SWKS $CA $STX $CMCSA $SBUX $SNOW $PLAY $NKLA $MULN $INO $PTON $WKHS $SPAQ $BA $BBIG $AMZN $TSLA $WMT $TGT $NVDA $SPY $GLD $EBAY $AAPL $META $BABA $GS $S $GOOG $DIS $IBM $MSFT\n",
      "#NASDAQ100 down 1.36% today. 47 stocks up/53 down. Still up 34.3% YTD. Uptrend holding.Leaders: #GFS #CHTR #AMAT #BKR #ODFL #PAYX #QCOM #SIRI Laggards: #AMD #GEHC #GOOG #GOOGL #ILMN #MELI #META #MNST #NVDA #TEAM #TSLA Biggest market cap stocks hogging the 'red' today. Hmmm. https://t.co/qDHE7WsoXD\n",
      "$CLNV - Clean Vision Completes Acquisition to Establish \"Clean-Seas Morocco\" And Begin Rapid Capacity Expansion\n",
      "https://t.co/LzfgsyS424\n",
      "\n",
      "$MEGL $AI $MARK $GCT $STBX $HKD $AMTD $APRN $GNS $GME $AMC $GLD $EBAY $AAPL $META $TWTR $GS $S $GOOG $DIS $IBM $MSFT $GOOGL $BIDU $VZ\n",
      "$CLNV -  Signs Services Agreement with ASU's Walton Sustainability Solutions Service; \n",
      "https://t.co/xL8xD93mE7\n",
      "\n",
      "$WMT $TGT $NVDA $SPY $GLD $EBAY $AAPL $META $TWTR $GS $S $GOOG $DIS $IBM $MSFT $GOOGL $BIDU $VZ $ADBE $AMAT $ADSK $AVGO $BABA $CDNS $CAVM $CERN $PCLN $NFLX $CHTR $FOXA\n",
      "WHAT DID just #POTUS #BIDEN SAY???????\n",
      ".\n",
      "$TSLA $QQQ $NFLX #ETH #BTC📷 $AAPL $SNOW $MSFT $META $ARKK $AMC $GME $NVDA $GOOG $AMD #Democrats &amp; #Republicans\n",
      "$CLNV News - Clean Vision CEO Issues Mid-Year 2023 Letter to Shareholders\n",
      "\n",
      "https://t.co/yVqAel30f3\n",
      "\n",
      "$AMZN $TSLA $WMT $TGT $NVDA $SPY $GLD $EBAY $AAPL $META $TWTR $GS $S $GOOG $DIS $IBM $MSFT $GOOGL $BIDU $VZ $ADBE $AMAT $ADSK $AVGO $BABA $CDNS $CAVM $CERN $PCLN $NFLX $CHTR $FOXA\n",
      "@rickasaurus @nabeelqu NVDA, AMD, TSMC, ASML, GOOG, META, MSFT is decent exposure with very liquid high caps.\n",
      "#CADCHF ALL targets hit! 70 pips profit✅🎯\n",
      "\n",
      "Join our FREE telegram channel. Link in the bio.\n",
      "\n",
      "#xauusd #eurusd #eurjpy #usdcad #usdjpy #gbpusd #nasdaq #dji #spx #msft #nvda #wmt #amzn #qqq #goog #forexsignals #usoil #crudeoil #eth #nfts #crypto https://t.co/qc4h5sCtMy\n",
      "New vibe https://t.co/3oz8RirzC0\n",
      "Largest Changes in Market Cap since Previous Close:\n",
      " $GOOGL  -49.1B\n",
      " $GOOG  -48.7B\n",
      " $TSLA  -46.4B\n",
      " $MSFT  -46.4B\n",
      " $NVDA  -37.6B\n",
      "7️⃣ Companies Make Up Over 50% of the NASDAQ 100\n",
      "\n",
      "$MSFT\n",
      "$APPL\n",
      "$GOOGL Class A\n",
      "$GOOG Class C\n",
      "$AMZN\n",
      "$NVDA\n",
      "$META\n",
      "$TSLA https://t.co/uucPFFcbLE\n",
      "Monitor over 5k resolution.\n",
      "Tickers in this order.\n",
      "SPY IXIC DJI DIA UPRO SPXU TQQQ SQQQ WEBS UDOW SDOW VIX VXX UVXY SVIX SOXS SOXL AAPL MSFT TSLA NVDA GOOG AMZN NFLX META COIN GM JPM TSLQ V BTCUSD ETHUSD BTCUSD TSM LABU GUSH DRIP BOIL DAX HSI BABA DRN REK ERX .\n",
      "should be good.\n",
      "New vibe https://t.co/o9lqzsHI5O\n",
      "#CADCHF ALL targets hit! 70 pips profit✅🎯\n",
      "\n",
      "Join our FREE telegram channel. Link in the bio.\n",
      "\n",
      "#xauusd #eurusd #eurjpy #usdcad #usdjpy #gbpusd #btc #bitcoin #nasdaq #dji #spx #usoil #crudeoil #amzn #qqq #goog #tsla #aapl #spy https://t.co/WFFwTUNp3c\n",
      "#HotOptions Report For End Of Day, June 26, 2023 – $TSLA, $NVDA, $AMZN, $AAPL, $AMD, $CCL, $META, $AMC, $GOOGL, $MSFT, $LCID, $PLTR, $INTC, $MARA, $PFE, $COIN, $SOFI, $GOOG, $UBER, $BAC    https://t.co/GFdFbeZq56\n",
      "70% of $SPX/ $SPY was bullish today, yet these four companies still dragged the cash index lower. \n",
      "\n",
      "Market cap distortion at its finest! \n",
      "\n",
      "$GOOG $META $TSLA $NVDA https://t.co/5d6UsdSDIB\n",
      "Almost everyone is content to sit on their $AAPL (32 P/E), $AMZN (298 P/E), $MSFT (36 P/E), $GOOG (27 P/E), $META (35 P/E), and $NVDA (225 P/E) in their brokerage accounts and ride them forever. There is very little perceived risk to any of these names at the moment.\n",
      "@PManDudeGuyLol @Memeulous 1 year 2 months\n",
      "#EURGBP ALL targets hit! 85 pips profit🎯🎯\n",
      "\n",
      "Join our FREE telegram channel. Link in the bio.\n",
      "\n",
      "#xauusd #eurusd #eurjpy #usdcad #usdjpy #gbpusd #msft #nvda #wmt #amzn #qqq #goog #forexsignals #eth #nfts #crypto #tsla #aapl #spy #usoil #crudeoil https://t.co/pBeUX2bfRK\n",
      "@dobbin_enda millionstarturn\n",
      "$goog *Top analyst price target for next week 📈📉🚀  https://t.co/8EFa5JiuOY\n",
      "$goog *Top analyst price target for next week 📈📉🚀 https://t.co/QpLTfsurBe\n",
      "After multiple trades throughout the day for $MAG $PLTR $PTON our fund's performance was:          \n",
      "\n",
      "Return for 6/26/2023:\n",
      "@TrevelFund: +2.04%            \n",
      "S&amp;P 500: -0.45%                        \n",
      "\n",
      "$TSLA $SPY $AAPL $AMZN $QQQ $PLTR $TQQQ $NVDA $META $ARKK $ICE $GOOG $GM $MSFT $GOOG https://t.co/OtIIEnL2RX\n",
      "The Empire Talks Back…Google  plans to surpass ChatGPT. \n",
      "#Tech #AI #LLMAI #ChatGPT @OpenAI $MSFT $GOOG \n",
      "\n",
      "https://t.co/2UDi1d8Rt7 https://t.co/RU2CRd22nD\n",
      "@KING_GOOG Appreciate it fam.  It’s right as fuck 😂. I really never tweet. I need to engage more over here. Maybe I’ll post some hot takes and start some Twitter beefs\n",
      "@SportspunTCome @The__Goog @HulkaMatt Oh for sure.\n",
      "\n",
      "People are going to get more out of certain experiences based on history.  That much isn't up for question.\n",
      "\n",
      "That said, that moment was for everyone.  What they take away from it going to be unique.  Apparently Danielson didn't know they got it until the theme hit.\n",
      "@RealAriados @The__Goog @HulkaMatt Tldr: wrestling is for everyone; not everyone will be equally moved by same things; that's actually good\n",
      "🔥 Realtime AI News Scanner 🔥\n",
      "🔗 https://t.co/HJuJgzpmpU\n",
      "#AAPL #DJIA #MSFT #SPX #AMZN #GOOG $AAPL $DJIA $MSFT $SPX $AMZN $GOOG  #News #StockNews #Stocks #Sentiment #SentimentAnalysis https://t.co/Ly08ykgGY0\n",
      "@cryp_uno THIS DOESNT SEEM RIGHT !! ??HAHA. YOU ARE A LEGEND\n",
      "@RealAriados @The__Goog @HulkaMatt even a comparatively unfamiliar fan like me thought it was incredible and this isn't gatekeeping \"cool moment!\" But (imo) there's a level of \"this was special to me because of specific experiences\" that will give someone chills or tears of joy beyond average fan's adrenaline rush\n",
      "@chigrl There's actually volume starting to show up on $600 -$700 range Year-End $SPY Calls&gt;Some $630 CALLS @ $.02 just for good measure &amp; entertainment(nothing big though)&amp; some $AMC 🍿popcorn for the ride $QQQ $RUT $AAPL $AMZN $GOOG $TSLA $NVDA $MSFT $HUBC $APE https://t.co/wXCCzaL7SR\n",
      "🔥 Realtime AI News Scanner 🔥\n",
      "🔗 https://t.co/PAO7Bz2Y9i\n",
      "#AAPL #DJIA #MSFT #COMP #META #GOOG $AAPL $DJIA $MSFT $COMP $META $GOOG  #News #StockNews #Stocks #Sentiment #SentimentAnalysis https://t.co/19116YFKv5\n",
      "@JoshMoe7 @jamesbulltard7 Add $GOOG down almost 4%…\n",
      "$goog  *Top analyst price target for next week 📈📉&gt;   🔗https://t.co/D0AdFVByt2\n",
      "@RikOostenbroek \n",
      "@TomiiFN \n",
      "@MrMarcoThunder \n",
      "Goog\n",
      "$goog  \"Top analyst price target for next week\n",
      "https://t.co/nRPFqGpUzG\n",
      "$GOOG Top analyst price target for next  week,,//.,\n",
      "https://t.co/V8rqFHf46d\n",
      "1/2 Half of the expected S&amp;P 500 earnings growth in Q4 2023 comes from just 4 companies. In its June 9th Earnings Insight report, @FactSet found that 4.0 percentage points of the 8.2% expected Q4 index earnings growth came from $META, $NVDA, $GOOG, &amp; $AMZN... https://t.co/b8hzO8bx4T\n",
      "if you dont want a community where you can speak about Christ dont play roblox because this is what they will do https://t.co/Pdnaf1z7XZ\n",
      "and this stuff https://t.co/k5XJfTYghh\n",
      "@bitgetglobal @metatimecom Very goog project bro..lets go to the moon🚀 i support #metatime ❤\n",
      "1. S&amp;P 500 Closes 0.4% Lower, Real Estate Sector Weakest with 1.4% Loss\n",
      "2. CIR Jumps 98% in June, Trading Wizard Algorithm Flashes Sell Signal\n",
      "3. Monster Beverage Up 2.2%, Our Algorithm Signals Buy Recommendation $CIR $MNST $GOOG $IXI $MRK https://t.co/0KA4eaqTM0\n",
      "@JasonRaznick Tell me you had GOOG puts😎. Beautiful chart\n",
      "$goog *Top analyst price target for next week 📈📉🚀  https://t.co/pvD1Xohb9z\n",
      "$goog *Top analyst price target for next week 📈📉🚀 https://t.co/FgLq1vUJps\n",
      "$GOOG Alphabet Has Helped Drive the Nasdaq; Here's Where to Buy the Dip\n",
      "\n",
      "https://t.co/dIpF4537c5\n",
      "while they stuff like this https://t.co/7mdp0JuqQc\n",
      "i suppose this is roblox's community now\n",
      "people deciding to ruin and grief crosses for no reason but because its \"funny\" like i wasn't expecting the community to be this harsh https://t.co/CLh6AW10Dq\n",
      "#NZDJPY ALL targets hit! 180 pips profit🎯\n",
      "\n",
      "Join our FREE telegram channel. Link in the bio.\n",
      "\n",
      "#xauusd #eurusd #eurjpy #usdcad #usdjpy #gbpusd #nasdaq #dji #spx #msft #nvda #wmt #amzn #qqq #goog #forexsignals #usoil #crudeoil #eth #nfts #crypto https://t.co/J2IWmxaE6f\n",
      "they keep on continuing and no one is helping https://t.co/diQQVLyb39\n",
      "@Sharpshooter_TA Tsla goog nflx all formed similar bearish candle today.\n",
      "literally trying to make a cross in rawblockys game for his banner and this happens https://t.co/1iL7H7Nkrq\n",
      "The Usual Suspects\n",
      "5 out of 6 range bust bars (red/black)\n",
      "$GOOG is the weak stock few are mentioning.\n",
      "$AMZN $TSLA $NVDA $MSFT $AAPL https://t.co/Xdhd0jJqHk\n",
      "#GBPCHF ALL targets done! 120+ pips profit.✅🎯\n",
      "\n",
      "Join our FREE telegram channel. Link in the bio.\n",
      "\n",
      "#xauusd #eurusd #eurjpy #usdcad #usdjpy #gbpusd #forexsignals #usoil #crudeoil #btc #bitcoin #nasdaq #dji #spx #amzn #qqq #goog https://t.co/fLSqG6Ye9n\n",
      "$QQQ&lt;$SPY,$AMZN,$GOOG,$META,$AAPL: Bearish Closes\n",
      "So, what's it going to be $GOOG. Are you going to confirm the Head &amp; Shoulder (H&amp;S) by breaking the rising wedge, then drop $116 &amp; perhaps fill the gap at $112 before going on that massive run for Wave 3?\n",
      "#GOOG https://t.co/WfUAmmMpII\n",
      "$goog *Top analyst price target for next week 📈📉🚀 https://t.co/9gwBpdrqHS\n",
      "she’s so chart obsessed i know she be refreshing chart data tweets\n",
      "$goog *Top analyst price target for next week 📈📉🚀  https://t.co/QoyIsOqai7\n",
      "Our stance on the MAJOR AVERAGES.  \n",
      "\n",
      "Notes: S&amp;P 500, Nasdaq Comp &amp; Naz 100 cooling nicely over the past week, however -2 and - 3  conditions still remain.\n",
      "\n",
      "#etf #Nasdaq #NYSE $QQQ $SPX #stocks #DJIA $NVDA $MSFT $AAPL $WMT $AXP $AMZN $GOOG $TSLA $BRKB $XOM $UNH $JNJ https://t.co/Vkx3hr5vrk\n",
      "Today was perfect from open here’s why\n",
      "$QQQ $TSLA $NVDA $SPY $AMZN $AMD $META $IWM $XOM $GOOG $AAPL 🩸🎯😋 https://t.co/rb8EwPu5C4\n",
      "$GOOGL / $GOOG Today:\n",
      "\n",
      "Close: 🔴 $118.34 ( Change: ($4.00) -3.27% )\n",
      "\n",
      "Volume: 🔴 31,188,108 ( -2.81% compared to the 20-day ADTV )\n",
      "\n",
      "YTD: 🟢 +34.13%\n",
      "@LolloPollo04786 @howaaboutnooo :) goog luck for you\n",
      "Nice print for $GOOG Size: 2960731 Price: 119.09 Amount: $352,593,454.79 Time: 1600\n",
      "See more: https://t.co/pdoBZ38otT\n",
      "Join https://t.co/JWvlYbdLod to get REAL TIME prints.\n",
      "Runners 📈: https://t.co/VC1LdPHaJR\n",
      "Losers 📉: https://t.co/9MWV4THfhQ\n",
      "Gappers 🪜: https://t.co/bHQKF1W40n\n",
      "$GOOG Strike: 140.00 Expiration: 2025-12-19 Call .GOOG251219C140 Price: 19.00 Size: 1100 Time: 2023-06-26 3:59:04PM\n",
      "Premium: $2,090,000.00\n",
      "$META benefiting more for AI than $GOOG? I don't think so.\n",
      "#USDCHF ALL targets hit precisely! 185 pips profit🎯\n",
      "\n",
      "Join our FREE telegram channel. Link in the bio.\n",
      "\n",
      "#xauusd #eurusd #eurjpy #usdcad #usdjpy #gbpusd #usoil #crudeoil #amzn #qqq #goog #tsla #aapl #spy #eth #nfts #crypto #btc #bitcoin https://t.co/3yL8Ca1rZY\n",
      "TOP 10 Market Cap Companies \n",
      "1979 — 2021 🪦 \n",
      "\n",
      "“The only constant, is change …” 🤔\n",
      "\n",
      "$AAPL $MSFT $GE $T $XOM $IBM\n",
      "$NVDA $INTC $GOOG $AMZN $TSLA\n",
      "\n",
      "🐎 🐎 🐎 🐎 🐎 \n",
      "\n",
      "Nice Video Visual 👇\n",
      "\n",
      "https://t.co/Joz482z75H\n",
      "$GOOG $SNDL $SNAP Real-time stock analyst ratings and target your prices!!! ➡️https://t.co/aL8GaoGaEA\n",
      "@metatimecom @metatimecoin Goog job\n",
      "top level domain goog?!?\n",
      "\n",
      "ok:\n",
      "\n",
      "https://t.co/vU41QKOfh1\n",
      "$GOOG $SNDL $SNAP Real-time stock analyst ratings and target your prices!! ➡️https://t.co/aL8GaoGaEA\n",
      "In love Chinese teacher tik tokers. They r so funny https://t.co/HfIPPgoFUl\n",
      "#GBPAUD ALL targets hit! 185 pips profit✅🎯\n",
      "\n",
      "Join our FREE telegram channel. Link in the bio.\n",
      "\n",
      "#xauusd #eurusd #eurjpy #usdcad #usdjpy #gbpusd #nasdaq #dji #spx #usoil #crudeoil #amzn #qqq #goog #tsla #aapl #spy #forextrading #eth #nfts #crypto https://t.co/zjIDrUTQ8x\n",
      "Join the most profitable trading group \n",
      "https://t.co/rFUdY4OUr5\n",
      "\n",
      "$GOOG $AAPL $SPY $AMZN $TDOC $TSLA $COST $BA $NFLX $NVDA $TWTR $ZM $BABA $FB $DOW $MSFT  $BBAR $STNG $GLUU $ZNGA $AAL $CACC $ESE $SPCE $FCEL $TRIP $BYND $MRNA https://t.co/IiWyF69Ki3\n",
      "#TECH\n",
      "$GOOG Alphabet quietly amassing #RealEstate in #Manhattan #NYC\n",
      "$GOOGL Google to crack down on office attendance asks remote workers to reconsider $SLG $META $AAPL $BXP $ESRT $FLIC $JPM $UBS $PGRE $RJF $PNC $GS $BX $KKR $CG $APO $MS $BAM $BMO $TD $RBC https://t.co/ajosLapqi6\n",
      "🔥 Realtime AI News Scanner 🔥\n",
      "🔗 https://t.co/mEEdGkJKqm\n",
      "#GOOGL #GOOG $GOOGL $GOOG  #News #StockNews #Stocks #Sentiment #SentimentAnalysis https://t.co/vrD7zAtmur\n",
      "#DraganflyInc and VEDTS join hands to provide specialized #Drone training for Canadian veterans. Opening doors to diverse use cases and industry applications. \n",
      "\n",
      "$AMD $DPRO $GOOG\n",
      "SUPPORT MY BROTHERS @ReinforcedStee1 ( @KWAM_IZ_ILL AND @langkimvo )\n",
      "\n",
      "https://t.co/US0dht96N0\n",
      "$GOOG $SNDL $SNAP Real-time stock analyst ratings and target your prices! ➡️https://t.co/aL8GaoGaEA\n",
      "Goog\n",
      "SUPPORT ARTISTS\n",
      "\n",
      "https://t.co/tfVqemjtMv\n",
      "The slope of hope is here $msft $goog $aapl $nvda $qqq\n",
      "Google slept on AI and now playing catchup!\n",
      "\n",
      "Google has more than 10x people on AI vs. OpenAI\n",
      "\n",
      "Who will win this race?\n",
      "\n",
      "$GOOG #ChatGPT https://t.co/BqjWq7FINC\n",
      "$GOOG $SNDL $SNAP Real-time stock analyst ratings and target your prices&lt;&gt; ➡️https://t.co/aL8GaoGaEA\n",
      "unlike the goog/fb salaries of the bygone era, openai salaries seem to be targeted at founder-engineer types to make them feel a fiduciary duty to take the job instead of building their own thing\n",
      "THE U.S #WELFARE #NATION needs to learn from this #MAN. So do #Democrats &amp; #Republicans\n",
      ".\n",
      "$TSLA $QQQ $NFLX #ETH #BTC📷 $AAPL $SNOW $MSFT $META $ARKK $AMC $GME $NVDA $GOOG $AMD\n",
      "$GOOG $SNDL $SNAP Real-time stock analyst ratings and target your prices&gt;&gt;&gt; ➡️https://t.co/aL8GaoGaEA\n",
      "Mostly risk off today. Don’t like price action. Scalped these $SPY 432p twice and probably done for the day. Much love everyone ❤️ \n",
      "\n",
      "$SNAP $RBLX $META $TSLA $BABA $NVDA $AMD $AAPL $VIX $PLUG $QQQ $SPX $DIS $NFLX $TLT $BTC $ETH $NQ $MSFT $AMZN $IWM $GOOG $BA $PFE $DJI $UPST $SHOP $ZM $ORCL $HD $MCD $RIVN $ES_F\n",
      "$AAPL $GOOG $GLD $QQQ $SPY $VFF $TLRY $KBH $LEN $GE $T $F $GM $TSLA $HTSC $GRNF $MTCH $RIOT $MARA $IRRZF $KOAN $INTC $IBO\n",
      "\n",
      "Best discordgroup for the traders join here https://t.co/rFUdY4OUr5 https://t.co/5dhPBOmx62\n",
      "YOU TOO GOD\n",
      "@KING_GOOG all good, just showed me the kind of guy he is lol, hope you have a great day\n",
      "I just opened long positions on $TSLA and $LSDI planning to swing trade them.\n",
      "$GOOG $NVDA $MEDS $LCID $MLTX $SNOW $CCL $BCH.X $BMEA $SLG $KHC $XHV.X #Blackhawks #Russia\n",
      "$GOOG $SNDL $SNAP Real-time stock analyst ratings and target your prices&gt;&gt; ➡️https://t.co/aL8GaoGaEA\n",
      "Of the MANGMAN or magnificent 7, I see more valuation risk than reward on $NVDA $AAPL $MSFT $NFLX and $AMZN. $GOOG and $META have fair valuations. There are just so many better stocks to own at this juncture than these.\n",
      "COT DAMN GURL  WHY YOU STUNTED SO HARD ON THESE NIGGAS!?!?!?!\n",
      "$GOOG $SNDL $SNAP Real-time stock analyst ratings and target your prices&gt; ➡️https://t.co/aL8GaoGaEA\n",
      "@eip1559 Some of these are really good productivity boosters on the consumer side though right? recently saw a meeting note summarized by https://t.co/aRVqbELXVw . Impressive to say the least. Am sure, $GOOG $MSFT and $ZM will soon have their versions of it.\n",
      "Get instant updates and free trials join here \n",
      "https://t.co/rFUdY4OUr5\n",
      "\n",
      "$AMC $GME $NOK  $SPY $RH $BB $RKT $AAPL $AAL  $AMZN $GOOG $TSLA https://t.co/d9aOYcmlDY\n",
      "@planetgraves @celesteranae_ THE KING GOD ALSO HATES THE WORD \"SURE\"\n",
      "\n",
      "LIKE YES OR NO NIGGA YES OR NO!!\n",
      "$GOOG $SNDL $SNAP Real-time stock analyst ratings and target your prices.. ➡️https://t.co/aL8GaoGaEA\n",
      "$SPY $QQQ $NDX $DIA $IWM $NFLX $FB $INTC $SMH $AAPL $NVDA $TSLA $ES $YM $AMZN $BA $GS $JPM $IBM $LRCX $C $GOOG \n",
      "Stay at home safe and earn money at home by trading marketplace safe.\n",
      "Click here:https://t.co/rFUdY4OUr5 https://t.co/UZYezAovGv\n",
      "Appl normal\n",
      "@Deuce6ix @DaUnreleasedGo2 Look up the Kanye tracker... Hurricane has like 40 versions\n",
      "im not in writers block AND i have an ao3 acc now. this means sbi angst coming kind of.. somewhat soon. felt silly :3\n",
      "#LSA_Highlight: [Research Article] Broadband picometer-scale resolution on-chip spectrometer with reconfigurable photonics. @Cambridge_Uni #Imaging_and_sensing #Integrated_optics\n",
      "https://t.co/b5OJjQFFA9 https://t.co/C351sBiN4H\n",
      "#LSA_Highlight: [Research Article] Expanding chiral metamaterials for retrieving fingerprints via vibrational circular dichroism. @NUSingapore @astar_research #Circular_dichroism #Infrared_spectroscopy #Metamaterials #Mid-infrared_photonics \n",
      "https://t.co/9zoEKtgXd7 https://t.co/Ku0jw0IfPa\n",
      "#LSA_Highlight: [Research Article] Efficient X-ray luminescence imaging with ultrastable and eco-friendly copper(I)-iodide cluster microcubes. @NPUintl @NKU1919 @Iunist @nupt_unofficial #CAS #Nanjing Tech  #Optical_materials_and_structures #X-rays\n",
      "https://t.co/3ukk2fnjmZ https://t.co/vvcvLfa83Q\n",
      "This is like me when the people I start out despising become my bffs\n",
      "heres an appreciation post for fnf artists \n",
      "\n",
      "I love the silly drawings of silly beboop guy and all those creatures and things, keep doin you funky guy!\n",
      "on chapter four and slowly remembering what happens. regretting choices :D -70\n",
      "me /j   I hate myself\n",
      "reading my source material before i get bullied by spectra again -70 https://t.co/PowMOmxU29\n",
      "https://t.co/uC3r0sH1MX\n",
      "\n",
      "$APPL update\n",
      "My love language is feel acknowledged when people eat the things I cook cause I think of cooking as one of my hobbies and it’s nice to know people enjoy something I put effort in https://t.co/PtKhqfdvU5\n",
      "You see. I will challenge bulduk ramen again. I won’t let it beat me\n",
      "i think its silly that my partner doesnt get the concept of gender identities, and when he doesnt understand things he asks so many questions and when i ask why he just says \"because i wanna understand.. modern day type stuff.. is that what its called?\" n i just :(((/pos -70\n",
      "@SillyBuffCat the EYES\n",
      "This is the best thing that happened to me today https://t.co/g12bJHdihT\n",
      "@spidercian STOP I FEEL SO OLD\n",
      "@LynnePelser @CaptPiccard @GenuaMary lol what?! Wow\n",
      "@CTSXinvest @tedcruz @StephenKing How exactly is King self-entitled?  Do you know what you're talking about? Didn't millions of people buy his books because they think he's a great author? Have you ever written a book?  Have you ever 'read' a book?  Even one?  I thought not.\n",
      "@EepyArc yea if they dont know the flag it just looks like colors\n",
      "@hearts4vienna hello! im trying to be more active on here lol\n",
      "@BCOBB1925 @tedcruz @StephenKing You guess?  Well that must make it true. Show me something where King says that he's a journalist. Can't find anything?  I thought not.\n",
      "@ProfPea2020 @tedcruz @StephenKing I believe he writes fiction. Do you understand the difference between fiction and non-fiction?  When Texans were freezing to death and Cruz ran to Mexico, that was non-fiction - that was true. See the difference.\n",
      "bang energy makes me shake and now i'm on that anch grind\n",
      "@poodwattle so real i customize my character and im like wait do my eyes look like\n",
      "@NormalFnGuy @tedcruz @StephenKing Ted writes?  I don't think so. Maybe he 'organizes' child orgies in Mexico, where he isn't recognized?\n",
      "@MarkKendall_GW @tedcruz @StephenKing What is socialism? Do you know? Or is it just a catchy praise that someone told you about? What socialist policies have the dems enacted?  What would you call the Republicans who want government to ban books and to tell women what to do with their own bodies - Communists?\n",
      "@LatchinOnn @ImCoffeeMug that 😈 emoji says otherwise 🤓\n",
      "@FoxNews So why and how did Jared Kushner get TWO BILLION dollars from the Saudi's? The same Saudi prince who ordered the murder and chopping up of the American reporter. Any MAGAts think that this stinks to high heaven? And Jared was an employee of the White House. Hunter was not.\n",
      "@LatchinOnn @ImCoffeeMug something tells me you wont\n",
      "@FoxNews BREAKING:  Fat Donny Trump now has his tit in the wringer - and he put it there himself.  CNN playing tapes they just received with fat donny explaining to 'guests' how the classified document he's showing them hasn't been de-classified, but he's showing it to them anyways.\n",
      "@dominoziee they/he most likely\n",
      "@Nosipho_Mqamu @RK_Mayekisa Square shoes😭😭😂\n",
      "@ItsMaybeMadi discord by living tombstone!\n",
      "my fav slimecicle twitch chatter ong https://t.co/bj1CD7Yc7D\n",
      "🚨 ALERTS FROM TODAY 🚨 \n",
      "4 TRADES \n",
      "WIN RATIO 4/4\n",
      "$SPY 431P 38%  🟢\n",
      "$COST 535C 85% 🟢\n",
      "$APPL 190C 70%🟢\n",
      "$APPL 190C 25%🟢\n",
      "\n",
      "JOIN BELOW FOR ANOTHER BANGER WEEK 👇\n",
      "\n",
      "https://t.co/z6KrLXrEha https://t.co/DpRjlAC2nS\n",
      "@Floating_Megane you are so pretty handsome omg happy birthday!\n",
      "@Sinkdraws2 stop i can feel my bones decaying I'm not even actually old\n",
      "Hey, I'm live. Come join for some fun. https://t.co/qV7SGoRfaa #twitch\n",
      "$APPL some rejection off the upper trendline\n",
      "\n",
      "Break below 181 would further confirm a probable top is in place for the short term atleast\n",
      "\n",
      "Imp next few sessions to watch out for 👀 \n",
      "\n",
      "$NDX $QQQ $DJIA $SPX https://t.co/8R2V6xP22l\n",
      "@AlmanacTrader history says continued  #tech rally incoming…? 🔮⬆️ \n",
      "\n",
      "#tech #ai $APPL $AMZN $TSLA $MSFT $NDVA $META $QQQ $NDX #stocks #StockMarket\n",
      "@ACTBrigitte I do not\n",
      "Everyone Wednesday. I’m gonna wake up to this ringtone https://t.co/HqCb9ZBQDi\n",
      "@partnersinsin aww so sweet of you!! i was also really admiring your forehead 🙄🫶🏼\n",
      "in our next phase of matching pfp's 😎 https://t.co/wgtU2geota\n",
      "I’m dead serious when I say I’ve had several big cries then went out and paid seventeen’s bills. It’s not a crutch it just makes me happy https://t.co/0qsfRKQ7KD\n",
      "@ChawhatFennec Appl 🍎\n",
      "@AdamNoecker @Appl__ee okay mean girls the musical i see you\n",
      "Francisco Sarmiento is following in his father's footsteps, not only as a farm worker, but now as a fruit farming educator in the world's apple capital, Wenatchee, Washington.\n",
      "\n",
      "Watch more: https://t.co/FIhtK6SeQw\n",
      "\n",
      "@cisco1110 @Washington_Appl @WATreeFruit @WAFarmBureau https://t.co/rvX2CTC0Z6\n",
      "@TheRainBowNavy2 Does anyone think they come back? Where in Russia, / Euro would they be? Hum? Does anyone have an  appl pod on these 2? And for god sake is it true that kari lake is staying at MARALARDO?\n",
      "Trending #Apple News 🤓\n",
      "\n",
      "U.S. Supreme Court spurns Apple-Broadcom challenge to Caltech patents\n",
      "\n",
      "#cryptonews #crypto #cryptocurrency $APPL #APPL\n",
      "\n",
      "Follow for more 👇 https://t.co/Z13TeDIvnt\n",
      "Trending #Apple News 🤓\n",
      "\n",
      "Apple Inc. [AAPL] Revenue clocked in at $385.10 billion, up 43.68% YTD: What’s Next?\n",
      "\n",
      "#cryptonews #crypto #cryptocurrency $APPL #APPL\n",
      "\n",
      "Follow for more 👇 https://t.co/euFMMtAUnz\n",
      "Trending #Apple News 🤓\n",
      "\n",
      "Apple reportedly plans new Apple Watch Ultra with iPhone 15 this fall\n",
      "\n",
      "#cryptonews #crypto #cryptocurrency $APPL #APPL\n",
      "\n",
      "Follow for more 👇 https://t.co/vuMgmK00EA\n",
      "@d0pedave @shaunking How does that matter? They should’ve been doing their job.\n",
      "Great to hear the progress made in #HTA collaboration in different parts of the world. Plenty more work to do! #HTAi2023Adelaide\n",
      "@Makeabuck2 To someone starting new, $GOOGL, $APPL, $AMZN and others are trading in 100’s range. Let that sink in before starting a whole conversation about multiples and valuations.\n",
      "@cyrgelman @ACTBrigitte Trump has been arrested twice in last 12 months…\n",
      "Options + Stock Alerts\n",
      "discordlink below\n",
      "\n",
      "https://t.co/rFUdY4OUr5\n",
      "\n",
      "$APT $JAKK $DYNT $SPV $LMND $GNUS $GRAF $BIOL $NOVN $CHFS $AYRO  $CARV $SPY $SOLO $W $JAGX $INO  $BYFC $TSLA $SPCE $BOXL $AAPL $AYRO $BNGO $DKNG $APPL https://t.co/FkGUNqPJEJ\n",
      "@ri1eypaige thats crazy i just made a dunkin deez nuts joke i need that shirt\n",
      "@solarkarii bro i remember when he broke his everyday streak i was so lost 💀\n",
      "A fear that engenders respect, not retribution.\n",
      "@sndkdksbd lets go wasn't too far off\n",
      "@sndkdksbd they/he ngl\n",
      "This Wook flu is no joke, I feel like ass and haven’t been this sick in a long time 🥲\n",
      "@simonateba @DailyCaller How do they think to achieve their “normal” success in this kind of wipe out? It takes more than the “standard” delete button, besides appl; they got the button bigger.\n",
      "Bought and quickly sold a call on $SPY today. Lost $1. Also bought a call on $APPL for 6/30. Took a quick dip but think it could rebound as the expiration comes closer.\n",
      "Is this just a money drop for Biden?\n",
      "I guess at least we are the hot ones?\n",
      "Seriously, did you expect honesty? Come on man...\n",
      "@HAL9m @hussmanjp Isn't the average P/E for blue chip companies 15, and yet appl trades at 30. Buying appl right now is like saying you think earnings are going to double.\n",
      "@Leo_messii_7 wrong. he would've if be cared to\n",
      "Ever found yourself tied to a pole with your pants down and an angry mob choking your ass out and just contemplated the life choices that led you here? \n",
      "Yeah, me neither but he sure as hell did.\n",
      "Just unlinked my debit card to my cashapp. Won’t get me 🤣🤣🤣\n",
      "Exciting times for the NFTGame community!  Making moves with top coins like #DOT, #ADA, and #USDT. Join the revolution now  #crypto #blockchain #investing\n",
      "HEAT MAP-US major Index / Stocks (2023.06.26)      https://t.co/wkb8iQUw1j #米国株 #ヒートマップ #株式投資 #米国株投資 #米国株ヒートマップ #アメリカ株 #VTI #VOO #QQQ #VT #GOOGL #APPL #高配当 #ETF #投資初心者 #投資家と繋がりたい #投資家さんとつながりたい #投資初心者と繋がりたい https://t.co/QzBOhmF6tn\n",
      "@IdahoBaldwin @Arizona_LP Profit/loss incentive does that.\n",
      "@ctidudeagain @GSwaim @Apple $appl doesn't take on many things that don't work, give it a chance, better then last year where I couldn't watch games since I don't live on west coast! https://t.co/x5wB7p6mIB Apple TV is built right into streaming tv's like $roku LG Sony and available on cable services\n",
      "hmmm. $APPL and $SPY are not aligned together anymore. Something is not right with any of this rally up since their lows.\n",
      "@MorbiusDevo Calling \"cis\" a slur is reptophobic.\n",
      "@IdahoBaldwin @Arizona_LP And the government has little incentive to hold contractors accountable.\n",
      "Bear cope until most assets pump to new ATHs\n",
      "\n",
      "$APPL is just leading the pack…\n",
      "\n",
      "Wait until speculative tech + crypto really wake up \n",
      "\n",
      "A “catch up” rally that most don’t see coming but in hindsight it’s so obvious…\n",
      "\n",
      "🫣🫡\n",
      "@yeozi__ @Appl__ee @boysloveblove lmaoooo this made me truly lol\n",
      "@AdamNoecker @Appl__ee @boysloveblove probably still younger than ksoul\n",
      "@yeozi__ @Appl__ee @boysloveblove live footage of me https://t.co/VjFXllqqFq\n",
      "@vivobsidian Mind share your stories later? ;)\n",
      "@AdamNoecker @Appl__ee @boysloveblove bros going through menopause\n",
      "@AdamNoecker @boysloveblove You’re that old?\n",
      "@Appl__ee @boysloveblove i’ve already served hunny https://t.co/ugbpu83QI9\n",
      "@amandaglitterzz biggest afab man alive bro\n",
      "@Appl__ee please do not steal my cat.\n",
      "@yeozi__ OMG 😱😱😱. Guys. My wife is hot. And I’m not gonna steal their cat I promise\n",
      "@Appl__ee please dont\n",
      "@Appl__ee lolz https://t.co/UpIkOnreaO\n",
      "@yeozi__ Well it’s fine. I guess I won’t steal your cat\n",
      "@Appl__ee TO GET TO A FLIGHT THAT DORS GO TO MICHIGAB????\n",
      "@yeozi__ HOLY SHIT REALLY!!!! That does make me feel a lot better.\n",
      "@yeozi__ WELL WHY WOULD YOU GO PAST MICHIGAN\n",
      "@Appl__ee if it makes you feel better im currently wearing the aro alpaca\n",
      "@Appl__ee THERES NI DIRECT FLIGHT TO MICHIGAN????\n",
      "I remember when this was stuck in my head for a solid week\n",
      "we engage in very normal bonding time https://t.co/ytN0p1WCHU\n",
      "People keep drawing skz as spidermen. I’m enjoying myself greatly\n",
      "@yeozi__ WHY ARE YOU GOING TO NEW YORK.\n",
      "Yesterday or whatevaaaa 🩷🤎 https://t.co/LXM1N7w9Sv\n",
      "@Appl__ee ITS NOT MY FAJLT WE HAVE A LAYOVER IN NEW YORK\n",
      "LETSSS GOOOOOOOOOOOOOOOOO. A solid tenth of that was me. JUST SAYING\n",
      "@yeozi__ TOMORROW?!??!!??!??!??!!??!???!???!???!! NOOOOOOOOOOOOOOOOOOO. I’m totally gonna steal your cat in spite\n",
      "@Appl__ee update: 7pm tuesday\n",
      "@eyediccolo @Appl__ee @yeozi__ exactly imagine walter white crying about maria withdrawals\n",
      "@eyediccolo @Appl__ee @yeozi__ you don’t understand idy you dont read alys tweets as if it were walter white typing them\n",
      "@StocksAfterDark Tesla was downgraded, someone downgrade nvda and appl so this AI madness ends\n",
      "@Up2N0G00D9 @tb121965 @RushBabe49 @VivekGRamaswamy *part\n",
      "@eyediccolo @Appl__ee @yeozi__ NO BUT ALYS WAY OF TYPING READS SO MONOTONE TO ME ITS SO FUNNY\n",
      "@Up2N0G00D9 @tb121965 @RushBabe49 @VivekGRamaswamy Just so we’re clear; that was never paste of the debate. His opponent brought up an unrelated post from this kid’s past.\n",
      "@boysloveblove @AdamNoecker NOOOO ADAM IS GONNA HAVE TO LEAVE FOR MILITARY SERVICE 😢😢😢😢\n",
      "@Appl__ee @yeozi__ YOU SAID OVERJOYED. AND THEN YOU SOUNDED DISAPPOINTED. YOUR WORDS DO NOT ADD UP ALY\n",
      "@l8wer @yeozi__ I think you know the answer\n",
      "@Appl__ee @yeozi__ well yes\n",
      "there's nothing to be seen here look away...\n",
      "@l8wer @yeozi__ Well do you find my lonely life amusing\n",
      "whales are so cool\n",
      "Their growth over the years has been exponential. As of my last update, NVIDIA was valued over $1 Trillion company, reflecting their critical role in powering the future of technology.\n",
      "\n",
      "Along with $APPL $MSFT $GOOGL $AMZN \n",
      "\n",
      "6/7\n",
      "@Appl__ee @yeozi__ are you overjoyed or disappointed\n",
      "@partnersinsin just staring lovingly into each other's eyes nothing more than that 👀\n",
      "It's all scripted... https://t.co/oL8xKS56to\n",
      "@l8wer @yeozi__ I’m overjoyed by the fact you are laughing at my pain. Do you find my lonely life amusing?\n",
      "@Appl__ee @yeozi__ like this is peak comedy to me\n",
      "@Appl__ee @yeozi__ aly you typing with perfect grammar seeming all serious and everything while being ill over maria is actually so funny\n",
      "@yeozi__ It’s the withdrawals. They’re messing with my head\n",
      "@yeozi__ FUCK. I will be your plane. Vroom Vroom\n",
      "@l8wer @yeozi__ She is basically in another country. Do you see the withdrawal symptoms. I’m worsening each second\n",
      "@Appl__ee idk but my flight got delayed so\n",
      "@Appl__ee i regret to inform you i am still technically in the united states\n",
      "@Appl__ee @yeozi__ hawaii is in the united states\n",
      "@T1kvin Hazzah it works congrats\n",
      "Anyone noticed their Apple Watch has stopped fast charging (and in fact seems to charge slower than normal) after the latest watchOS update? \n",
      "\n",
      "I’m on watchOS 9.5.2\n",
      "@yeozi__ I’m literally having Maria withdrawals. I can feel you entering the country. Slowly. What time will you be back. Just so I know when to leave your house\n",
      "gonna be back in michigan soon @Appl__ee hold on just a little bit longer\n",
      "btoh main carrds were updated, main the host and cohost carrds changed and the disclaimers changed a bit\n",
      "please read them\n",
      "https://t.co/to7CcyAvqD\n",
      "https://t.co/tbXpuzgDmf\n",
      "7️⃣ Companies Make Up Over 50% of the NASDAQ 100\n",
      "\n",
      "$MSFT\n",
      "$APPL\n",
      "$GOOGL Class A\n",
      "$GOOG Class C\n",
      "$AMZN\n",
      "$NVDA\n",
      "$META\n",
      "$TSLA https://t.co/uucPFFcbLE\n",
      "why is karl so zesty in the fic im reading -syrect https://t.co/X9EiIsgzEy\n",
      "@ReviewsPossum What makes you so sure? \n",
      "\n",
      "Do you know fires personally? Have you talked to any and asked if they've been brutalized by riot police?\n",
      "\n",
      "I thought not (￣へ￣)\n",
      "@pockyfr0g scrunkly\n",
      "@solarkarii i would die a happy man\n",
      "@griancraft them running to the button or the scene where the lights turn red and it zooms on ran's face before the box closes\n",
      "Was sent this by my daughter . This is a hot minute my church , where we shop &amp; live in M. Outraged  whoever  this complete loser is !! \n",
      "\n",
      "Deserves a tuneup &amp; free burial ! More confirmation in $Tsla short.\n",
      "@cowzillaahhh I LOVED THE OCTONAUTS\n",
      "@solecitoalpha his little vocal stims or mannerisms i always pick up. when i first started watching him i was constantly doing his \"oo man\" and \"wuh oh\"\n",
      "@Nynekay9k my dad and I would try out fancy cheeses for a while, I tried an Irish cheese i think\n",
      "@dosheinemer @SiphonHarapeco show proof\n",
      "Our first $APPL #Apple device arrived days ago and now I get this from a totally different company $L @LoblawsON \n",
      "\n",
      "Is this any good to bother and activate? https://t.co/s6xD4T5CN6\n",
      "yes I had a hyperobsession of cheese for a while.. like I was tryin wack ass cave cheese and shit\n",
      "@Nynekay9k I had cave cheese one time, it was really good. It was aged in a cave and was crunchy cause it had bits of minerals that formed in it.\n",
      "@lamuliz pls bro i can't take it pls his face https://t.co/CW7S1TqxGi\n",
      "@Vetrox360 Symmetry and balance is great to have but conflicting elements would not be preferable if the functions don't match. Great work though, it looks awesome\n",
      "@sinceisaw my mlm friend is questioning so this bouta be us lol\n",
      "@Nynekay9k what is your favorite kind of cheese\n",
      "@Sinkdraws2 a miku themed hawaiian shirt\n",
      "@dosheinemer @SiphonHarapeco MY WIFE WOULD NEVER 😲😱😨😰😟\n",
      "@j_gallojr @EdKrassen @Engel_Booking Maybe when they were raided by the DOJ. They’re twin grifters.\n",
      "@EdKrassen @Engel_Booking You make your living scamming people on the internet. You’re doing fine.\n",
      "@PardonMyTake Ferrari Red not even an honorable mention was atrocious\n",
      "Join Direxion at the @MoneyShow Virtual Expo for \"Leveraging the Volatility in Tech.\" Discover how our ETFs, including CWEB, UBOT, SOXL/SOXS, TECL/TECS, APPU/APPL, MSFU/MSFD, can help traders attempt to capitalize on tech market fluctuations\n",
      "\n",
      "Direxion ➡️ https://t.co/siANsadt9G https://t.co/bBljaVpFDy\n",
      "@InsideWithPsaki @jrpsaki What is clear is that nothing is clear in Putin's Russia. Was this really a rebellion, or was this a grand deception? Prigozhin and his troops 'supposedly exiled to Belarus where, on Putin's behalf, they will reorganize and attempt a direct assault on Kiev which is only 60 miles\n",
      "@Nosipho_Mqamu 😂haikhona..we are married we just don’t know it yet\n",
      "Check out these trending coins! #SHIBA, #UNI, and #TRX are making waves in the NFT market. Discover their unique features and potential. Don´t miss out! #cryptocurrency #investing\n",
      "@newtgingrich And if you're fat donny trump, you go to jail!\n",
      "@johnrich Why only panning 10 or 15 degrees?  Crowd that small?\n",
      "Order Here 👇👇\n",
      "🔗: https://t.co/gauvFSoqGB\n",
      "\n",
      "@cmoorefrog @RoundRockFB @MrMasonCochran @LeonardKevMoore @hayden_hnath @hank_appl @rockhardball @coachcarr1118 @Aidenwalker1813 @RRFBBooster https://t.co/VvVgviE1ai\n",
      "I don't know if this is legit or not but I do have questions.  Is it at all possible that people who saw a 'plane' hit the Pentagon actually saw a cruise missile? At those speeds, it probably looks like a plane?\n",
      "Excited to share our last study published at ACS Appl Bio Mater... check it out!\n",
      "\n",
      "Biosensors Based on Graphene Oxide Functionalized with Benzothiadiazole-Derived Ligands for the Detection of Cholesterol | ACS Applied Bio Materials https://t.co/DXw25YjRSL\n",
      "There is no company is despise more than $APPL maybe I do a deep dive TA on it anyone interested&gt;\n",
      "I just woke up why is she looking at me like this what did I do https://t.co/5kt5Xe5sOn\n",
      "He's such a pathetic asswipe. Sorry.\n",
      "The Feds pretend to be white supremacists to imbed themselves in a protest and he's sympathizing. Tells you everything you need to know, right?\n",
      "@krassenstein Perfect example of what the F is wrong with this country. Excusing the inexcusable just to score points and win an argument.\n",
      "Thanks for the enlightenment. FYI, kids seeing a father naked is NOTHING like seeing a stranger naked in public. You lose on ALL counts.\n",
      "https://t.co/t6kVcSK6IH\n",
      "\n",
      "Stock market:\n",
      "$QCOM +3.24% 📈\n",
      "$CVX +2.28% 📈\n",
      "$HD +2.25% 📈\n",
      "$PALLAD +2.23% 📈\n",
      "\n",
      "$TSLA -4.38% 📉\n",
      "$PFE -3.88% 📉\n",
      "\n",
      "#QCOM #CVX #HD #PALLAD #TSLA #PFE #TSLA #APPL #stocks #trading #investing https://t.co/RWsHQV0OTK\n",
      "Options + Stock Alerts\n",
      "discordlink below\n",
      "\n",
      "https://t.co/rFUdY4OUr5\n",
      "\n",
      "$APT $JAKK $DYNT $SPV $LMND $GNUS $GRAF $BIOL $NOVN $CHFS $AYRO  $CARV $SPY $SOLO $W $JAGX $INO  $BYFC $TSLA $SPCE $BOXL $AAPL $AYRO $BNGO $DKNG $APPL https://t.co/0m3WPsh85j\n",
      "@LatchinOnn @ImCoffeeMug no youll hurt him :[[\n",
      "🔍 Seeking Opportunities as a Sr. Specialized IT Consultant 🔍\n",
      "\n",
      "🏢 Step by Step Professional Services Inc. | 💼 Toronto, ON | ⚡️ Hybrid\n",
      "\n",
      "📅 Available: 06/30/2023 | 📅 Contract: 9 months (Maximum extension: 1)\n",
      "\n",
      "💲 Rate: CA$120/hr - CA$135/hr | 🌐 Easy Appl…https://t.co/ZJilFPKYHz\n",
      "Globally invariant behavior of oncogenes and random genes at population but not at single cell level. \n",
      "\n",
      "npj Syst Biol Appl 9, 28 (24 June 2023)\n",
      "\n",
      "https://t.co/ZRDMGtDQKO https://t.co/PEDAtic9Ti\n",
      "@BAltintasMD @EPeeps @BiosenseWebster @ihtanboga @alikaragozmd @cardio_scopy RV but two of them related with incomplate mapping and the other one unstability of cath. No, I did not map Cusp because signal was great and PVC immediately dissapeared with RF appl.\n",
      "@CryptoStache $ pouring into web3 gaming from like Animoca Brands. Highly anticipated games like Shrapnel, Deadrop &amp; ILV will crossover web2 gamers. APPL, META &amp; SONY mix reality headsets will be used in metaverse gaming. GTA, Fortnite &amp; Only Up introduced NFT elements. Dev's are in demand!\n",
      "@glwilbur i miss the unicorn chair ;-;\n",
      "@Sinkdraws2 since march 2021! i'm insane! :D\n",
      "@_marshmallord_ @jiwoongiez I will cry if my two albums show up and it’s just the same photos just in black and white\n",
      "me? this is my love language\n",
      "@Investingcom These 7 companies make up over 50% of the Nasdaq, they are also the sole reason the S&amp;P500 is up +13% YTD and not FLAT.  \n",
      "1. $MSFT\n",
      "2. $APPL\n",
      "3. $GOOGL\n",
      "4. $AMZN\n",
      "5. $NVDA\n",
      "6. $META\n",
      "7. $TSLA\n",
      "These 7 companies make up over 50% of the Nasdaq, they are also the sole reason the S&amp;P500 is up +13% YTD and not FLAT.\n",
      "\n",
      "1. $MSFT\n",
      "2. $APPL\n",
      "3. $GOOGL\n",
      "4. $AMZN\n",
      "5. $NVDA\n",
      "6. $META\n",
      "7. $TSLA\n",
      "\n",
      "https://t.co/qfe33llIJw\n",
      "@serenadebur who? /j\n",
      "@velvetchapel appl.e dumpl.e :((( https://t.co/jcStINoug9\n",
      "@eyediccolo I still love you too. Even if you are old 🫶\n",
      "@knsoq mcr, icp, james marriott, ptv, and green day :3\n",
      "@eyediccolo Yea it would. I can’t read.\n",
      "@eyediccolo Very healthy\n",
      "@eyediccolo Alyaa1008\n",
      "GUYS IDY IS OLD!!!!! 07 NERD!!!!!\n",
      "Guess who now has a horrible fear of their dead pet crawling out from the grave?\n",
      "@dosheinemer STOP BEING HORNY\n",
      "GUYS I HAVE TO FIND SEVENTEEN https://t.co/kMQkh7P6U8\n",
      "@akhiwhatever @Eok09 proceeds to conclude despite having no authority 💀\n",
      "I need a break..yhoo  my body is just ready for shutdown\n",
      "@zito142 Yhoo mbore because what is this camera man 🤦🏽‍♀️\n",
      "@theadoredsam yhoo when is this booty getting shagged ? we need a sex video  now\n",
      "@Supreme_Sne Yhoo SNE KUMANDI bra ePhondweni. We must never listen to the lies they say about the EC mchana. There is serious potential ePhondweni mchana that is what I discovered.\n",
      "Second book of the Starlight series is coming out today yhoo kunini ngilindile... Just knowing ukuthi when I wake up it will be available\n",
      "@Teemah_xxx @VivianNagaba @MmeliMoves Being fans of fans will have you tweeting and quoting lies and looking foolish yhoo people's capacity to reason is embarrassing.\n",
      "@prettyboyzeze @AdvoBarryRoux Yhoo😭\n",
      "😂😂😂😂😂 Yhoo\n",
      "@nqabile_ yhoo we are tired😭😭\n",
      "@_____shenice Yhoo the fake Frederic malle promise bottle is called promise land 🤣🤣🤣🔥💀\n",
      "Yhoo fear men\n",
      "@Thando_Mabaso_ Yhoo the way these two fan bases are ALWAYS in OUR BUSINESS yhuuu sana 😭😭😭😩🤧 https://t.co/zbSBFyAwTY\n",
      "Yhoo This!!!!!\n",
      "Yhoo kante how old is Samke guys? The reasoning capacity 🤦🏽‍♀️🤦🏽‍♀️🤦🏽‍♀️\n",
      "@molokomphaho1 Yhoo so many people on space😂 and its midnight yhoo im sleepy\n",
      "Yhoo🚮\n",
      "Co-ask because yhoo I don’t. I just keep it moving as the syndrome keeps impostoring😭😭.\n",
      "Yhoo bathong, Ty is gonna break my baby girl’s little precious heart 😭💔\n",
      "Ayikho into eyesi stress njenge payday 💔😡😡Yhoo\n",
      "Currently going through that. I am tired of blocking them Caz Yhoo😭 https://t.co/wWHT1awaA3\n",
      "Yhoo 😩\n",
      "Damn!! Tate is crazy yhoo\n",
      "@Moitsheki14 Imagine someone was cool with you post show only to have mouth diarrhea ka reunion, yhoo Doyin ong tenne 😬😭\n",
      "@ChrisExcel102 @Ori_RSA Yhoo 🤣🤣🤣🤣🤣\n",
      "Yhoo. I'd go crazy 😭😭\n",
      "@officiallebza Yhoo long overdue\n",
      "@Tumi213 Yhoo😭😭😭\n",
      "@khumbuziile These people will stress you yhoo\n",
      "Oil pulling is the girl she thinks she is! My teeth feel so fresh yhoo ✨\n",
      "I know the mum things really triggered and hurt him. Yhoo 💔💔\n",
      "2 years back I dated a hun with big ass feet size 8  yhoo hee she made me feel small each and every time I would look at her feet\n",
      "Super proud of @cooper_pabi for being nominated for the #BetAwards2023 she represented our country well❤.She is so young but she is already making it big in the music industry i love that for her😍.Pabi ke star yhoo🔥 my fighter, from Pitori to Lefatshe. https://t.co/thieVzjdKc\n"
     ]
    },
    {
     "name": "stdout",
     "output_type": "stream",
     "text": [
      "Yhoo Ty will hit her with \" I never said we are boyfriend and girlfriend, I only said I am closed off coz I could see you had feelings for me\" after Casa sana 😩😩😭\n",
      "@Khaya__Khumalo It looks fake yhoo R50 and R200😂😂.. They say R20 looks like Zim money😭\n",
      "@destinyzee @BoyJacobs2 Yhoo!!\n",
      "\n",
      "Zakhala very fast, quick in a hurry https://t.co/nwBF10OFlD\n",
      "@JuicyJay_Siya @soldinblaq Yhoo 🔥🔥🔥🔥\n",
      "@TimesLIVE Yhoo https://t.co/RUynXhMeU9\n",
      "Catherine man Yhoo❤️\n",
      "@PalesaMeme25 Yhoo andifuni lahla themba sana, need a bombshell for her ndizombona uzothini.\n",
      "@SeapointO Yhoo!🥹 I'm glad to hear that you quit 🥹❤️ that was really bad\n",
      "@Hope_Nemushiru @Zeenclaire14 Yhoo, that'll be a new avenue 🤔🙆 https://t.co/Pkf0nedH3T\n",
      "Yhoo hai Kenny doesn't a F&amp;@k 🤣🤣🤣🤣🤣🤣🤣🤣🤣🤣🤣🤣\n",
      "@Thee_Phoebe Dizziness ya 2 seconds 🤭🤭🤭. Yhoo Thato 🤣🤣\n",
      "@DustinhoSA Yhoo bruh...🤧😅😅\n",
      "~Can't Return ☆☆☆☆☆🤌🔥\n",
      "@Motso_Ramaite Yhoo indlu iwile😭😭😭😭😭\n",
      "@_AfricanSoil Kholela yhoo is the most dishonest woman who is appointment was to protect Cyril's criminal activities and attack the opponents.\n",
      "@DDT_PM @Thomas89869935 @BIndlovukazi @Christi63110792 Some people are evil out there yhoo\n",
      "Happiness is free, just like to drop this here to night 🌙 yhoo...\n",
      "\n",
      "Good evening to everyone..... https://t.co/O19FJ1fpbG\n",
      "@M_I_Moahlodi83 That one is a pandemic yhoo\n",
      "To open Twitter in public yhoo\n",
      "@Authentic_R03 Yhoo 😅\n",
      "@ps_mosh She is yhoo ..I love her❤️\n",
      "@ST_Mahlangu Yhoo\n",
      "Mandizithobe and text this person 😭😭😭 https://t.co/ZiQT6fwQx4\n",
      "@phutimojela Yhoo I’m ready for an upgrade, I can’t do this anymore\n",
      "I remember 14 year old me being forced to read the tomb stone yhoo\n",
      "@LwandoScotch My brothers are here I'm hiding the snacks in the wardrobe cause they finish everything even before I get to my bedroom. Yhoo ha a\n",
      "Yhoo. 😭😭\n",
      "Birthday week with a negative bank balance? Yhoo😭💔\n",
      "How are his kids and wife going  to look at him yhoo #ReaTsotellaMonday\n",
      "damn i just checked their site. Yhoo its expensive for real that restaurant 👀👀😫😫😫\n",
      "@mizar Yhoo this app https://t.co/YC5jrVxO7a\n",
      "@Maletsapa1 Beautiful yhoo\n",
      "Yhoo🤣🤣🤣\n",
      "They loed and said they  wanted model only for them  to get her nudes yhoo #ReaTsotellaMonday\n",
      "@l_dakkie It looks like it needs to be warmed Yhoo hayi 😭😭\n",
      "@MabiluReneilwe Bathong. I could not stop saying Yhoo.. 😂😂 such lies. Or a ra bona botse?\n",
      "Tonights Episode is deep yhoo #ReaTsotellaMonday\n",
      "Yhoo ingatshona fast inantsika😭\n",
      "@lihlelelogmail1 Yhoo honestly\n",
      "@_melanin23 @Bellar263 Yhoo she’s too pretty\n",
      "@anelisa_tuswa @EdwardMaps 😂😂Yhoo\n",
      "@adtrey_Utd @Afia_Dimple Yhoo\n",
      "These people are still running this scam in 2023 https://t.co/0DqtLOnenP\n",
      "@destinyzee Yhoo..thiza!🙆🏾‍♂️\n",
      "@TheeAzanian Wait the whole time Khosi was in the bathroom look at lil miss blondie while they're talking about her😳😳\n",
      "Yhoo Khosi has reasons for not speaking to the girls. https://t.co/7dGGU4W5ED\n",
      "@Mawrongz_Jnr @SavageMaveriick Being white Yhoo hay I hate myself for that\n",
      "yhoo. Le strict gore.\n",
      "I get it but yhoo\n",
      "@Yandisagoba Yhoo but I ended up use to it mna https://t.co/NgDq14Kur3\n",
      "@uPeace_ 😩Yhoo hade…\n",
      "@mdlozman @Thabang4real @CliffShiko The gadget which is the instrument/tool she uses to install her information, just use your Google next time for empowerment and avoid embarrassing yourself😂😂😂 yhoo social media!!! https://t.co/H7E5qz6KVl\n",
      "@Nkinki_ Yhoo and I thought they were talking about a real Coach\n",
      "@heybhu Yhoo! Also,what’s up with this wanting to “come over”🥴🥴akuyekwe guys Yhoo!\n",
      "@maro_roji 🤣🤣🤣Yhoo andsoyiki\n",
      "@OMokgolela Yhoo wena😊😂. That means you fart a lot moss neh\n",
      "@Zintathu_L Yhoo same,\n",
      "@RefilweSeboko @Mashego__Lebo oversharing yhoo be secretive man\n",
      "@ShowmaxOnline @PhumezaMdabe @Shota_AfroRaw Yhoo I’m watching this show nd I’m enjoying it 😍😍\n",
      "@KjMarakalla @NomaguguSamke Yhoo what happened to your friend?\n",
      "@Awesomewriter4 Yhoo aa hle. Thato and questions. And her sister is not this random. I was dizzy for a second 🤣🤣🤣\n",
      "@BallantinesSA What a gorgeous hamper!!!! Yhoo 🥵🥹🔥🔥🔥🔥 \n",
      "\n",
      "#Ballantines7 #StayTrue \n",
      "\n",
      "@ratolaka27 \n",
      "@LindiNyembe\n",
      "@Pale_Entle2 Yhoo no balance shem\n",
      "@AdvoBarryRoux Thanks to 2020 yhoo 😂🤣 look at them results of the Curfews 🤣😂\n",
      "@mizar All I can say is \"Yhoo\" 😳😂\n",
      "Motho o ka re has escaped teenage pregnancy to become a stepmother Yhoo\n",
      "@similooooo 2k people? yhoo nah 😭😭😭\n",
      "Especially 4x4 ! Yhoo 😩\n",
      "@j_lepheane @RealTshemedi 🤣 🤣 🤣 Yhoo\n",
      "@tshepiso_lowla Yhoo the way I hid my face with the pillow😭😭😭💔\n",
      "@snowey_ls Porn and I have to be spiritualy clean yhoo thixo onofefe\n",
      "@Ntombet19802095 Hey wena.. That scene stressed me so much,i also hope they shoot at a door or something.. Yhoo imagine Pitsi killing Bushang, it will be like father like son 😱\n",
      "@dlaminithobeka_ yhoo\n",
      "@Jude_Mugabi @viquebm @ManOfSteel_UG I see it in the second frame yhoo\n",
      "Yhoo why do I feel like cuddles okanye ndiyagowa ?\n",
      "@LuckyEvansChair Yhoo these boys I’m so scared, the worst part is that o wanted Matlatse to handbot over to Babeile 😭\n",
      "So pitsi has not been saying and doing anything on skeem saam because they were training him to discover a serial killer yhoo from zero to hero this pitsi boy!!!#SkeemSaam\n",
      "@mizar Yhoo wena\n",
      "Rato is so gorgeous yhoo 🥹🥹\n",
      "@mckobola Mina😁I do not even bother myself yhoo😂 open-doors will always be opened for someone to vanish shame😂Can't live like I am in person huh!\n",
      "@tshepho_bee Yhoo https://t.co/1ZvPvOrOrM\n",
      "@thisha_omuhle Yhoo he had so many redflags. “As a man I must take my stand”😭😭 if he was the last person to text I must also text even when there was no need to continue with the conversation.\n",
      "Such beauty bafwethu  👌👌👌yhooo yhoo.❤️❤️ https://t.co/EogQBlgG2m\n",
      "Rathebe yhoo ae #SkeemSaam https://t.co/Lze5JxmNVX\n",
      "@AdvoBarryRoux Drugs are bad Shem yhoo\n",
      "@lempapison Capitec is expensive yhoo\n",
      "The arrogance in this cow yhoo you d swear that he owns the hospital #skeemsaam https://t.co/na7B5QVC9G\n",
      "i am so obsessed with this lady and all her meals yhoo\n",
      "They spend all their times watching clips yhoo they couldn’t wait for reunion\n",
      "@MtshaliKhekhzin People are going through the most yhoo 🤣🤣🤣\n",
      "@AdvoBarryRoux Yhoo🙄🤭🤭🤭\n",
      "🤣🤣🤣🤣🤣Yhoo\n",
      "@Beautifufz Yhoo 😥😥😥\n",
      "@adthedoll Yhoo they will crumble for what they did to this couple😭😭😭😭\n",
      "Yhoo\n",
      "@KanagaJnr I love you yhoo 😭😭😭😭😭 https://t.co/DM7idKyziU\n",
      "@Zee_Nomji 😂yhoo😭\n",
      "Load shedding is back?😭 yhoo ha.a\n",
      "@hugep_live Had this position last year in Dec.. did I not end up crying ngoba everyone was on my case. I'll never do it again shem yhoo 😭😭😭😭\n",
      "@LessaThenji Yhoo 😭😭😭\n",
      "@FrankAllDay_ @Boity Yhoo\n",
      "@lee_snoocums @SeapointO Yhoo 😂😂😂😂\n",
      "@Rele_Glo Yhoo I'm one of the boyfriends and they are so delicious.\n",
      "The hardest thing should be dating a bad artists that you know will never blow and you are low key forced to support his dreams. Yhoo i'd scream.\n",
      "@BobMM99 @dtee_dtebz @Bantu_Mthabela Yhoo,Don't know the name of the street, but its behind MTN rank, those mini shops owned by our fellow africans\n",
      "Yhoo💔\n",
      "Kwanele is just a lot to deal with yhoo 😑, whatever that he says goes...that time he's the one who has been telling Julius that he must give khanyi a chance but then he can't do the same with Tremaine. The most ARROGANT!, IGNORANT &amp; BOSSY human being I've seen.\n",
      "#SjolaSonke\n",
      "yhoo hayi😂😂\n",
      "is everything fine Sis?\n",
      "Work wants me to go to Cape Town this week and I really don't want to. Yhoo ha.a ndidikwe finish!\n",
      "🤣🤣🤣 yhoo hay!!\n",
      "@BonganiNtuli No 10..Yhoo ha.a\n",
      "@FabrizioRomano From almost PSG to Saudi yhoo\n",
      "@Bongi_Ka_Mafaku @DonknowMcgrego @__T_touch Yhoo! These mobile fridges makes people go crazy🤣🤣🤣\n",
      "bro im not joking, i need to be functional\n",
      "\n",
      "how to get rid of wtv this feeling is yhoo answers\n",
      "@NewHouse_NM @Garvsta14 Yhoo Hai Dame is desperate for attention ngok \n",
      "Bro ever since may 30th I've been seeing Dame and his interest to go and play for Miami \n",
      "Jiki jiki Dame is staying in Portland \n",
      "Jiki jiki he is showing interest in Miami \n",
      "Hai votsek \n",
      "This is like Ben Simmons every off-season\n",
      "@Anelefumba Yhoo andisedikwe yilo Agenda.... I'm running out of patience 😭😭😭\n",
      "@DRMaradonaMazwi Yhoo mina I what to understand 🤣🤣maybe ke over communicator\n",
      "@kwets11 Yhoo lamacherrie abrave especially with all the stories we here. Bathembe ntoni?\n",
      "@uNomandlaa Yhoo that's so true😭 mina I don't plan on seeing them anymore. Sesihlangana ngephutha😂\n",
      "@_ThabisileM @jerajessie2603 @Zeenclaire14 @TvblogbyMLU @1MagicTV Yhoo. Okay guys, we are all friends.🙊😅🏃‍♀️🏃‍♀️🏃‍♀️🤍🤍🤍 https://t.co/52vyV2iagE\n",
      "ikhona cherry bindi gcinise Ice tropez Saturday yhoo bendizi guard(e) with my life 😂🤣, I’ve seen so many ice tropez fights clubini\n",
      "@lempapison @Emily_Tshego @Humbu30 😂😂 Yhoo!!\n",
      "@instablog9ja Yhoo 😂😂😂😂😂 who did y'all date😂😂😂😂😂🙌🙌\n",
      "@myNSFAS Yhoo unisa isn't paying our allowance till now we've been waiting for so long now yhoo\n",
      "Yhoo\n",
      "@StandardBankZA nina,  run debit orders of 25th even if it is on a sunday. My services are disconnected from mtn cause they have not been paid. Yhoo niuangidina ke nje manje\n",
      "@JuicyJay_Siya @soldinblaq Zintle yhoo \n",
      "\n",
      "JUICY JAY X SOLDINBLAQ \n",
      "JUICY JAY ON YOUTUBE \n",
      "\n",
      "JUICY JAY X SOLDINBLAQ \n",
      "JUICY JAY ON YOUTUBE \n",
      "\n",
      "#SiyamthandaJwacu \n",
      "#JuicyJayTheBrand\n",
      "@MBSVUDU Yhoo 🤣🤣🤣\n",
      "Lol. Yhoo🤦🏽‍♀️ 🐌\n",
      "@Mokgadi_Heart Yhoo go to Randburg taxi rank myt find nice oranges.\n",
      "Yhoo ah you people are crazy\n",
      "Lol reminded of this other ex of mine!! Yhoo lawyers are horrible partners!\n",
      "@LullabyWeb3 500$ would be a life hanger. I cannot imagine 50k$.\n",
      "@Mhayise Yhoo!😂😂😂\n",
      "Bakery ya P&amp;P ya Teemane mall 🤮, tried their croissants and the apple pie slice yhoo aneva!\n",
      "@TimesLIVE Yhoo\n",
      "Sister bethina? Yhoo Chomi🧍🏾‍♂️\n",
      "Lo omunye can't walk yhoo they stress me\n",
      "@Buhlebendalo__M Yhoo byeee\n",
      "@SavageMaveriick Lol yhoo\n",
      "Yhoo fuck everything. I need a drink\n",
      "@leethando__ Yhoo I miss them 😩😩😭\n",
      "@ZintleDiko Gambling yhoo you are starting a problem for yourself 😭\n",
      "@nalediontweet Yhoo 😂😂😂\n",
      "Been in bed the whole day. Yhoo hai, it’s cold! 😩\n",
      "@IWatchTrashNow Yhoo! Me too. It’s so sad\n",
      "@boooneigh @_Kig3n @KokiWabule Yhoo 😂\n",
      "Yhoo😭 https://t.co/pFmUr6wtrM\n",
      "Ya'll begged for a Rosemary Ndlovu Documentary. Well @ShowmaxOnline has deliverd. Yhoo mina ngiyamusaba ku Rosemary shame, like how you stab someone 76 times? 😳 https://t.co/Ra8mrKkI3R\n",
      "@Mokgadi_Heart Ke bofefe betsa gore o invent words that make no sense at all.... Yhoo cherry tsa South Africa baye Nigeria and bako Nigeria batle kwano...😂🤣\n",
      "@Sine_MacGowing Yhoo the best yhoo\n",
      "@_Aura_K 😭😭😭😭😭😭😭😭😭😭Yhooo, yhoo, then Omphile ebe are “kgale ke mo sola. This explains why na nwa my juice box tsa skhaftin when I was 9.”\n",
      "@EphraimSbudda Yhoo! She needs to find solace in the Lord\n",
      "This maintenance is killing us yhoo 8am to 4pm is too much hai ngeke @CityPowerJhb\n",
      "@Ashcryptoreal in 2 weeks BTC will be 40k yhoo\n",
      "@DimpledRega @NeliswaZenani Yhoo 😭😭😭\n",
      "@NeliswaZenani Yhoo 😭😭\n",
      "@uNomandlaa Yhoo that woman shem hated me and she didnt hide it and I didnt have a choice cause I wanted an education and my parents didnt have a choice but to let me stay with her. Each time I fail i hear her voice saying \"soze ube nto, u useless\" Im afraid of failure because of her..\n",
      "@sncura Yhoo🤭\n",
      "Yhoo 😍😍😍\n",
      "Yhoo\n",
      "@ApheleleJody 🤣🤣🤣🤣 yhoo\n",
      "@lavitosoul Yhoo look who's talking, the first defender of nonsense https://t.co/jcBDcIHZSR\n",
      "@OPTsongaPoppins Yhoo\n",
      "@kanya_mpefu Iphi iself love? Yhoo nizingcolele\n",
      "@City_Press Yhoo.. Champ\n",
      "@LwandoScotch Yhoo I boredom yabo ibathumela ekhabhathini. Buy fruits and snacks, lots of them otherwise they will snack nge cheese\n",
      "@bonbonniemc Yhoo. What a shitty bank😭\n",
      "@Ayympandle Yhoo bathong\n",
      "@marubiny2 @khuliso_Neels Always 🤣🤣 nne i can't keep my eyes open yhoo\n"
     ]
    }
   ],
   "source": [
    "df_new['Cleaned_tweets_Data'] = df_new.tweet_content.apply(cleaning)"
   ]
  },
  {
   "cell_type": "code",
   "execution_count": 85,
   "id": "3480e91d",
   "metadata": {},
   "outputs": [
    {
     "data": {
      "text/html": [
       "<div>\n",
       "<style scoped>\n",
       "    .dataframe tbody tr th:only-of-type {\n",
       "        vertical-align: middle;\n",
       "    }\n",
       "\n",
       "    .dataframe tbody tr th {\n",
       "        vertical-align: top;\n",
       "    }\n",
       "\n",
       "    .dataframe thead th {\n",
       "        text-align: right;\n",
       "    }\n",
       "</style>\n",
       "<table border=\"1\" class=\"dataframe\">\n",
       "  <thead>\n",
       "    <tr style=\"text-align: right;\">\n",
       "      <th></th>\n",
       "      <th>Unnamed: 0.1</th>\n",
       "      <th>Unnamed: 0</th>\n",
       "      <th>date</th>\n",
       "      <th>tweet_content</th>\n",
       "      <th>user_name</th>\n",
       "      <th>tweet_reply_count</th>\n",
       "      <th>tweet_retweet_count</th>\n",
       "      <th>tweet_like_count</th>\n",
       "      <th>tweet_language</th>\n",
       "      <th>tweet_source</th>\n",
       "      <th>rt_original_tweet_id</th>\n",
       "      <th>tweet_hashtags</th>\n",
       "      <th>Cleaned_tweets_Data</th>\n",
       "    </tr>\n",
       "  </thead>\n",
       "  <tbody>\n",
       "    <tr>\n",
       "      <th>0</th>\n",
       "      <td>0</td>\n",
       "      <td>0</td>\n",
       "      <td>2023-06-27 03:08:26+00:00</td>\n",
       "      <td>Operating on the Binance Smart Chain network a...</td>\n",
       "      <td>AIDtokenF</td>\n",
       "      <td>1.0</td>\n",
       "      <td>0</td>\n",
       "      <td>0.0</td>\n",
       "      <td>en</td>\n",
       "      <td>NaN</td>\n",
       "      <td>NaN</td>\n",
       "      <td>['Cryptocurency', 'token', 'aidfinance', 'cryp...</td>\n",
       "      <td>operating on the binance smart chain network a...</td>\n",
       "    </tr>\n",
       "    <tr>\n",
       "      <th>1</th>\n",
       "      <td>1</td>\n",
       "      <td>1</td>\n",
       "      <td>2023-06-27 03:07:16+00:00</td>\n",
       "      <td>@unicorn_in72340 Hey!! They seem like a good p...</td>\n",
       "      <td>AltcoinGem1000X</td>\n",
       "      <td>0.0</td>\n",
       "      <td>0</td>\n",
       "      <td>0.0</td>\n",
       "      <td>en</td>\n",
       "      <td>NaN</td>\n",
       "      <td>NaN</td>\n",
       "      <td>NaN</td>\n",
       "      <td>unicornin72340 hey they seem like a good proje...</td>\n",
       "    </tr>\n",
       "    <tr>\n",
       "      <th>2</th>\n",
       "      <td>2</td>\n",
       "      <td>2</td>\n",
       "      <td>2023-06-27 03:06:42+00:00</td>\n",
       "      <td>@BushidoMoney Hey!! They seem like a good proj...</td>\n",
       "      <td>AltcoinGem1000X</td>\n",
       "      <td>0.0</td>\n",
       "      <td>0</td>\n",
       "      <td>0.0</td>\n",
       "      <td>en</td>\n",
       "      <td>NaN</td>\n",
       "      <td>NaN</td>\n",
       "      <td>NaN</td>\n",
       "      <td>bushidomoney hey they seem like a good project...</td>\n",
       "    </tr>\n",
       "    <tr>\n",
       "      <th>3</th>\n",
       "      <td>3</td>\n",
       "      <td>3</td>\n",
       "      <td>2023-06-27 03:06:17+00:00</td>\n",
       "      <td>@BushidoMoney Hey!! They seem like a good proj...</td>\n",
       "      <td>AltcoinGem1000X</td>\n",
       "      <td>0.0</td>\n",
       "      <td>0</td>\n",
       "      <td>0.0</td>\n",
       "      <td>en</td>\n",
       "      <td>NaN</td>\n",
       "      <td>NaN</td>\n",
       "      <td>NaN</td>\n",
       "      <td>bushidomoney hey they seem like a good project...</td>\n",
       "    </tr>\n",
       "    <tr>\n",
       "      <th>4</th>\n",
       "      <td>4</td>\n",
       "      <td>4</td>\n",
       "      <td>2023-06-27 03:04:28+00:00</td>\n",
       "      <td>@Xeenon_xyz @Titan_Node Hey!! They seem like a...</td>\n",
       "      <td>AltcoinGem1000X</td>\n",
       "      <td>0.0</td>\n",
       "      <td>0</td>\n",
       "      <td>0.0</td>\n",
       "      <td>en</td>\n",
       "      <td>NaN</td>\n",
       "      <td>NaN</td>\n",
       "      <td>NaN</td>\n",
       "      <td>xeenonxyz titannode hey they seem like a good ...</td>\n",
       "    </tr>\n",
       "    <tr>\n",
       "      <th>...</th>\n",
       "      <td>...</td>\n",
       "      <td>...</td>\n",
       "      <td>...</td>\n",
       "      <td>...</td>\n",
       "      <td>...</td>\n",
       "      <td>...</td>\n",
       "      <td>...</td>\n",
       "      <td>...</td>\n",
       "      <td>...</td>\n",
       "      <td>...</td>\n",
       "      <td>...</td>\n",
       "      <td>...</td>\n",
       "      <td>...</td>\n",
       "    </tr>\n",
       "    <tr>\n",
       "      <th>1227</th>\n",
       "      <td>1227</td>\n",
       "      <td>1223</td>\n",
       "      <td>2023-06-26 11:43:33+00:00</td>\n",
       "      <td>@City_Press Yhoo.. Champ</td>\n",
       "      <td>SetjhabaLetsel2</td>\n",
       "      <td>0.0</td>\n",
       "      <td>0</td>\n",
       "      <td>0.0</td>\n",
       "      <td>en</td>\n",
       "      <td>NaN</td>\n",
       "      <td>NaN</td>\n",
       "      <td>NaN</td>\n",
       "      <td>citypress yhoo champ</td>\n",
       "    </tr>\n",
       "    <tr>\n",
       "      <th>1228</th>\n",
       "      <td>1228</td>\n",
       "      <td>1224</td>\n",
       "      <td>2023-06-26 11:23:46+00:00</td>\n",
       "      <td>@LwandoScotch Yhoo I boredom yabo ibathumela e...</td>\n",
       "      <td>nomhamha_</td>\n",
       "      <td>3.0</td>\n",
       "      <td>0</td>\n",
       "      <td>29.0</td>\n",
       "      <td>en</td>\n",
       "      <td>NaN</td>\n",
       "      <td>NaN</td>\n",
       "      <td>NaN</td>\n",
       "      <td>lwandoscotch yhoo i boredom yabo ibathumela ek...</td>\n",
       "    </tr>\n",
       "    <tr>\n",
       "      <th>1229</th>\n",
       "      <td>1229</td>\n",
       "      <td>1225</td>\n",
       "      <td>2023-06-26 11:32:26+00:00</td>\n",
       "      <td>@bonbonniemc Yhoo. What a shitty bank😭</td>\n",
       "      <td>IamBonkosi_SA</td>\n",
       "      <td>0.0</td>\n",
       "      <td>0</td>\n",
       "      <td>0.0</td>\n",
       "      <td>en</td>\n",
       "      <td>NaN</td>\n",
       "      <td>NaN</td>\n",
       "      <td>NaN</td>\n",
       "      <td>bonbonniemc yhoo what a shitty bank</td>\n",
       "    </tr>\n",
       "    <tr>\n",
       "      <th>1230</th>\n",
       "      <td>1230</td>\n",
       "      <td>1226</td>\n",
       "      <td>2023-06-26 11:17:28+00:00</td>\n",
       "      <td>@Ayympandle Yhoo bathong</td>\n",
       "      <td>ZamakonkeK</td>\n",
       "      <td>0.0</td>\n",
       "      <td>0</td>\n",
       "      <td>1.0</td>\n",
       "      <td>en</td>\n",
       "      <td>NaN</td>\n",
       "      <td>NaN</td>\n",
       "      <td>NaN</td>\n",
       "      <td>ayympandle yhoo bathong</td>\n",
       "    </tr>\n",
       "    <tr>\n",
       "      <th>1231</th>\n",
       "      <td>1231</td>\n",
       "      <td>1227</td>\n",
       "      <td>2023-06-26 11:16:45+00:00</td>\n",
       "      <td>@marubiny2 @khuliso_Neels Always 🤣🤣 nne i can'...</td>\n",
       "      <td>Zwivhuya_mick</td>\n",
       "      <td>0.0</td>\n",
       "      <td>0</td>\n",
       "      <td>0.0</td>\n",
       "      <td>en</td>\n",
       "      <td>NaN</td>\n",
       "      <td>NaN</td>\n",
       "      <td>NaN</td>\n",
       "      <td>marubiny2 khulisoneels always  nne i cant keep...</td>\n",
       "    </tr>\n",
       "  </tbody>\n",
       "</table>\n",
       "<p>1232 rows × 13 columns</p>\n",
       "</div>"
      ],
      "text/plain": [
       "      Unnamed: 0.1 Unnamed: 0                       date  \\\n",
       "0                0          0  2023-06-27 03:08:26+00:00   \n",
       "1                1          1  2023-06-27 03:07:16+00:00   \n",
       "2                2          2  2023-06-27 03:06:42+00:00   \n",
       "3                3          3  2023-06-27 03:06:17+00:00   \n",
       "4                4          4  2023-06-27 03:04:28+00:00   \n",
       "...            ...        ...                        ...   \n",
       "1227          1227       1223  2023-06-26 11:43:33+00:00   \n",
       "1228          1228       1224  2023-06-26 11:23:46+00:00   \n",
       "1229          1229       1225  2023-06-26 11:32:26+00:00   \n",
       "1230          1230       1226  2023-06-26 11:17:28+00:00   \n",
       "1231          1231       1227  2023-06-26 11:16:45+00:00   \n",
       "\n",
       "                                          tweet_content        user_name  \\\n",
       "0     Operating on the Binance Smart Chain network a...        AIDtokenF   \n",
       "1     @unicorn_in72340 Hey!! They seem like a good p...  AltcoinGem1000X   \n",
       "2     @BushidoMoney Hey!! They seem like a good proj...  AltcoinGem1000X   \n",
       "3     @BushidoMoney Hey!! They seem like a good proj...  AltcoinGem1000X   \n",
       "4     @Xeenon_xyz @Titan_Node Hey!! They seem like a...  AltcoinGem1000X   \n",
       "...                                                 ...              ...   \n",
       "1227                           @City_Press Yhoo.. Champ  SetjhabaLetsel2   \n",
       "1228  @LwandoScotch Yhoo I boredom yabo ibathumela e...        nomhamha_   \n",
       "1229             @bonbonniemc Yhoo. What a shitty bank😭    IamBonkosi_SA   \n",
       "1230                           @Ayympandle Yhoo bathong       ZamakonkeK   \n",
       "1231  @marubiny2 @khuliso_Neels Always 🤣🤣 nne i can'...    Zwivhuya_mick   \n",
       "\n",
       "      tweet_reply_count tweet_retweet_count  tweet_like_count tweet_language  \\\n",
       "0                   1.0                   0               0.0             en   \n",
       "1                   0.0                   0               0.0             en   \n",
       "2                   0.0                   0               0.0             en   \n",
       "3                   0.0                   0               0.0             en   \n",
       "4                   0.0                   0               0.0             en   \n",
       "...                 ...                 ...               ...            ...   \n",
       "1227                0.0                   0               0.0             en   \n",
       "1228                3.0                   0              29.0             en   \n",
       "1229                0.0                   0               0.0             en   \n",
       "1230                0.0                   0               1.0             en   \n",
       "1231                0.0                   0               0.0             en   \n",
       "\n",
       "     tweet_source  rt_original_tweet_id  \\\n",
       "0             NaN                   NaN   \n",
       "1             NaN                   NaN   \n",
       "2             NaN                   NaN   \n",
       "3             NaN                   NaN   \n",
       "4             NaN                   NaN   \n",
       "...           ...                   ...   \n",
       "1227          NaN                   NaN   \n",
       "1228          NaN                   NaN   \n",
       "1229          NaN                   NaN   \n",
       "1230          NaN                   NaN   \n",
       "1231          NaN                   NaN   \n",
       "\n",
       "                                         tweet_hashtags  \\\n",
       "0     ['Cryptocurency', 'token', 'aidfinance', 'cryp...   \n",
       "1                                                   NaN   \n",
       "2                                                   NaN   \n",
       "3                                                   NaN   \n",
       "4                                                   NaN   \n",
       "...                                                 ...   \n",
       "1227                                                NaN   \n",
       "1228                                                NaN   \n",
       "1229                                                NaN   \n",
       "1230                                                NaN   \n",
       "1231                                                NaN   \n",
       "\n",
       "                                    Cleaned_tweets_Data  \n",
       "0     operating on the binance smart chain network a...  \n",
       "1     unicornin72340 hey they seem like a good proje...  \n",
       "2     bushidomoney hey they seem like a good project...  \n",
       "3     bushidomoney hey they seem like a good project...  \n",
       "4     xeenonxyz titannode hey they seem like a good ...  \n",
       "...                                                 ...  \n",
       "1227                               citypress yhoo champ  \n",
       "1228  lwandoscotch yhoo i boredom yabo ibathumela ek...  \n",
       "1229                bonbonniemc yhoo what a shitty bank  \n",
       "1230                            ayympandle yhoo bathong  \n",
       "1231  marubiny2 khulisoneels always  nne i cant keep...  \n",
       "\n",
       "[1232 rows x 13 columns]"
      ]
     },
     "execution_count": 85,
     "metadata": {},
     "output_type": "execute_result"
    }
   ],
   "source": [
    "df_new"
   ]
  },
  {
   "cell_type": "code",
   "execution_count": 86,
   "id": "5699ba44",
   "metadata": {},
   "outputs": [
    {
     "data": {
      "text/plain": [
       "(1232, 13)"
      ]
     },
     "execution_count": 86,
     "metadata": {},
     "output_type": "execute_result"
    }
   ],
   "source": [
    "df_new.shape"
   ]
  },
  {
   "cell_type": "code",
   "execution_count": 87,
   "id": "1dd41847",
   "metadata": {},
   "outputs": [],
   "source": [
    "from nltk.corpus import stopwords\n",
    "stop = stopwords.words('english')"
   ]
  },
  {
   "cell_type": "code",
   "execution_count": 90,
   "id": "4b928be3",
   "metadata": {},
   "outputs": [],
   "source": [
    "def remove_stopwords(text):\n",
    "    if isinstance(text, str):\n",
    "        text = ' '.join([word for word in text.split() if word.lower() not in stop])\n",
    "    return text"
   ]
  },
  {
   "cell_type": "code",
   "execution_count": 91,
   "id": "a5e39d29",
   "metadata": {},
   "outputs": [],
   "source": [
    "df_new['Cleaned_tweets_Data'] = df_new['Cleaned_tweets_Data'].apply(remove_stopwords)"
   ]
  },
  {
   "cell_type": "code",
   "execution_count": 92,
   "id": "1273fe6e",
   "metadata": {},
   "outputs": [
    {
     "data": {
      "text/html": [
       "<div>\n",
       "<style scoped>\n",
       "    .dataframe tbody tr th:only-of-type {\n",
       "        vertical-align: middle;\n",
       "    }\n",
       "\n",
       "    .dataframe tbody tr th {\n",
       "        vertical-align: top;\n",
       "    }\n",
       "\n",
       "    .dataframe thead th {\n",
       "        text-align: right;\n",
       "    }\n",
       "</style>\n",
       "<table border=\"1\" class=\"dataframe\">\n",
       "  <thead>\n",
       "    <tr style=\"text-align: right;\">\n",
       "      <th></th>\n",
       "      <th>Unnamed: 0.1</th>\n",
       "      <th>Unnamed: 0</th>\n",
       "      <th>date</th>\n",
       "      <th>tweet_content</th>\n",
       "      <th>user_name</th>\n",
       "      <th>tweet_reply_count</th>\n",
       "      <th>tweet_retweet_count</th>\n",
       "      <th>tweet_like_count</th>\n",
       "      <th>tweet_language</th>\n",
       "      <th>tweet_source</th>\n",
       "      <th>rt_original_tweet_id</th>\n",
       "      <th>tweet_hashtags</th>\n",
       "      <th>Cleaned_tweets_Data</th>\n",
       "    </tr>\n",
       "  </thead>\n",
       "  <tbody>\n",
       "    <tr>\n",
       "      <th>0</th>\n",
       "      <td>0</td>\n",
       "      <td>0</td>\n",
       "      <td>2023-06-27 03:08:26+00:00</td>\n",
       "      <td>Operating on the Binance Smart Chain network a...</td>\n",
       "      <td>AIDtokenF</td>\n",
       "      <td>1.0</td>\n",
       "      <td>0</td>\n",
       "      <td>0.0</td>\n",
       "      <td>en</td>\n",
       "      <td>NaN</td>\n",
       "      <td>NaN</td>\n",
       "      <td>['Cryptocurency', 'token', 'aidfinance', 'cryp...</td>\n",
       "      <td>operating binance smart chain network powered ...</td>\n",
       "    </tr>\n",
       "    <tr>\n",
       "      <th>1</th>\n",
       "      <td>1</td>\n",
       "      <td>1</td>\n",
       "      <td>2023-06-27 03:07:16+00:00</td>\n",
       "      <td>@unicorn_in72340 Hey!! They seem like a good p...</td>\n",
       "      <td>AltcoinGem1000X</td>\n",
       "      <td>0.0</td>\n",
       "      <td>0</td>\n",
       "      <td>0.0</td>\n",
       "      <td>en</td>\n",
       "      <td>NaN</td>\n",
       "      <td>NaN</td>\n",
       "      <td>NaN</td>\n",
       "      <td>unicornin72340 hey seem like good project talk...</td>\n",
       "    </tr>\n",
       "    <tr>\n",
       "      <th>2</th>\n",
       "      <td>2</td>\n",
       "      <td>2</td>\n",
       "      <td>2023-06-27 03:06:42+00:00</td>\n",
       "      <td>@BushidoMoney Hey!! They seem like a good proj...</td>\n",
       "      <td>AltcoinGem1000X</td>\n",
       "      <td>0.0</td>\n",
       "      <td>0</td>\n",
       "      <td>0.0</td>\n",
       "      <td>en</td>\n",
       "      <td>NaN</td>\n",
       "      <td>NaN</td>\n",
       "      <td>NaN</td>\n",
       "      <td>bushidomoney hey seem like good project talk s...</td>\n",
       "    </tr>\n",
       "    <tr>\n",
       "      <th>3</th>\n",
       "      <td>3</td>\n",
       "      <td>3</td>\n",
       "      <td>2023-06-27 03:06:17+00:00</td>\n",
       "      <td>@BushidoMoney Hey!! They seem like a good proj...</td>\n",
       "      <td>AltcoinGem1000X</td>\n",
       "      <td>0.0</td>\n",
       "      <td>0</td>\n",
       "      <td>0.0</td>\n",
       "      <td>en</td>\n",
       "      <td>NaN</td>\n",
       "      <td>NaN</td>\n",
       "      <td>NaN</td>\n",
       "      <td>bushidomoney hey seem like good project talk s...</td>\n",
       "    </tr>\n",
       "    <tr>\n",
       "      <th>4</th>\n",
       "      <td>4</td>\n",
       "      <td>4</td>\n",
       "      <td>2023-06-27 03:04:28+00:00</td>\n",
       "      <td>@Xeenon_xyz @Titan_Node Hey!! They seem like a...</td>\n",
       "      <td>AltcoinGem1000X</td>\n",
       "      <td>0.0</td>\n",
       "      <td>0</td>\n",
       "      <td>0.0</td>\n",
       "      <td>en</td>\n",
       "      <td>NaN</td>\n",
       "      <td>NaN</td>\n",
       "      <td>NaN</td>\n",
       "      <td>xeenonxyz titannode hey seem like good project...</td>\n",
       "    </tr>\n",
       "    <tr>\n",
       "      <th>...</th>\n",
       "      <td>...</td>\n",
       "      <td>...</td>\n",
       "      <td>...</td>\n",
       "      <td>...</td>\n",
       "      <td>...</td>\n",
       "      <td>...</td>\n",
       "      <td>...</td>\n",
       "      <td>...</td>\n",
       "      <td>...</td>\n",
       "      <td>...</td>\n",
       "      <td>...</td>\n",
       "      <td>...</td>\n",
       "      <td>...</td>\n",
       "    </tr>\n",
       "    <tr>\n",
       "      <th>1227</th>\n",
       "      <td>1227</td>\n",
       "      <td>1223</td>\n",
       "      <td>2023-06-26 11:43:33+00:00</td>\n",
       "      <td>@City_Press Yhoo.. Champ</td>\n",
       "      <td>SetjhabaLetsel2</td>\n",
       "      <td>0.0</td>\n",
       "      <td>0</td>\n",
       "      <td>0.0</td>\n",
       "      <td>en</td>\n",
       "      <td>NaN</td>\n",
       "      <td>NaN</td>\n",
       "      <td>NaN</td>\n",
       "      <td>citypress yhoo champ</td>\n",
       "    </tr>\n",
       "    <tr>\n",
       "      <th>1228</th>\n",
       "      <td>1228</td>\n",
       "      <td>1224</td>\n",
       "      <td>2023-06-26 11:23:46+00:00</td>\n",
       "      <td>@LwandoScotch Yhoo I boredom yabo ibathumela e...</td>\n",
       "      <td>nomhamha_</td>\n",
       "      <td>3.0</td>\n",
       "      <td>0</td>\n",
       "      <td>29.0</td>\n",
       "      <td>en</td>\n",
       "      <td>NaN</td>\n",
       "      <td>NaN</td>\n",
       "      <td>NaN</td>\n",
       "      <td>lwandoscotch yhoo boredom yabo ibathumela ekha...</td>\n",
       "    </tr>\n",
       "    <tr>\n",
       "      <th>1229</th>\n",
       "      <td>1229</td>\n",
       "      <td>1225</td>\n",
       "      <td>2023-06-26 11:32:26+00:00</td>\n",
       "      <td>@bonbonniemc Yhoo. What a shitty bank😭</td>\n",
       "      <td>IamBonkosi_SA</td>\n",
       "      <td>0.0</td>\n",
       "      <td>0</td>\n",
       "      <td>0.0</td>\n",
       "      <td>en</td>\n",
       "      <td>NaN</td>\n",
       "      <td>NaN</td>\n",
       "      <td>NaN</td>\n",
       "      <td>bonbonniemc yhoo shitty bank</td>\n",
       "    </tr>\n",
       "    <tr>\n",
       "      <th>1230</th>\n",
       "      <td>1230</td>\n",
       "      <td>1226</td>\n",
       "      <td>2023-06-26 11:17:28+00:00</td>\n",
       "      <td>@Ayympandle Yhoo bathong</td>\n",
       "      <td>ZamakonkeK</td>\n",
       "      <td>0.0</td>\n",
       "      <td>0</td>\n",
       "      <td>1.0</td>\n",
       "      <td>en</td>\n",
       "      <td>NaN</td>\n",
       "      <td>NaN</td>\n",
       "      <td>NaN</td>\n",
       "      <td>ayympandle yhoo bathong</td>\n",
       "    </tr>\n",
       "    <tr>\n",
       "      <th>1231</th>\n",
       "      <td>1231</td>\n",
       "      <td>1227</td>\n",
       "      <td>2023-06-26 11:16:45+00:00</td>\n",
       "      <td>@marubiny2 @khuliso_Neels Always 🤣🤣 nne i can'...</td>\n",
       "      <td>Zwivhuya_mick</td>\n",
       "      <td>0.0</td>\n",
       "      <td>0</td>\n",
       "      <td>0.0</td>\n",
       "      <td>en</td>\n",
       "      <td>NaN</td>\n",
       "      <td>NaN</td>\n",
       "      <td>NaN</td>\n",
       "      <td>marubiny2 khulisoneels always nne cant keep ey...</td>\n",
       "    </tr>\n",
       "  </tbody>\n",
       "</table>\n",
       "<p>1232 rows × 13 columns</p>\n",
       "</div>"
      ],
      "text/plain": [
       "      Unnamed: 0.1 Unnamed: 0                       date  \\\n",
       "0                0          0  2023-06-27 03:08:26+00:00   \n",
       "1                1          1  2023-06-27 03:07:16+00:00   \n",
       "2                2          2  2023-06-27 03:06:42+00:00   \n",
       "3                3          3  2023-06-27 03:06:17+00:00   \n",
       "4                4          4  2023-06-27 03:04:28+00:00   \n",
       "...            ...        ...                        ...   \n",
       "1227          1227       1223  2023-06-26 11:43:33+00:00   \n",
       "1228          1228       1224  2023-06-26 11:23:46+00:00   \n",
       "1229          1229       1225  2023-06-26 11:32:26+00:00   \n",
       "1230          1230       1226  2023-06-26 11:17:28+00:00   \n",
       "1231          1231       1227  2023-06-26 11:16:45+00:00   \n",
       "\n",
       "                                          tweet_content        user_name  \\\n",
       "0     Operating on the Binance Smart Chain network a...        AIDtokenF   \n",
       "1     @unicorn_in72340 Hey!! They seem like a good p...  AltcoinGem1000X   \n",
       "2     @BushidoMoney Hey!! They seem like a good proj...  AltcoinGem1000X   \n",
       "3     @BushidoMoney Hey!! They seem like a good proj...  AltcoinGem1000X   \n",
       "4     @Xeenon_xyz @Titan_Node Hey!! They seem like a...  AltcoinGem1000X   \n",
       "...                                                 ...              ...   \n",
       "1227                           @City_Press Yhoo.. Champ  SetjhabaLetsel2   \n",
       "1228  @LwandoScotch Yhoo I boredom yabo ibathumela e...        nomhamha_   \n",
       "1229             @bonbonniemc Yhoo. What a shitty bank😭    IamBonkosi_SA   \n",
       "1230                           @Ayympandle Yhoo bathong       ZamakonkeK   \n",
       "1231  @marubiny2 @khuliso_Neels Always 🤣🤣 nne i can'...    Zwivhuya_mick   \n",
       "\n",
       "      tweet_reply_count tweet_retweet_count  tweet_like_count tweet_language  \\\n",
       "0                   1.0                   0               0.0             en   \n",
       "1                   0.0                   0               0.0             en   \n",
       "2                   0.0                   0               0.0             en   \n",
       "3                   0.0                   0               0.0             en   \n",
       "4                   0.0                   0               0.0             en   \n",
       "...                 ...                 ...               ...            ...   \n",
       "1227                0.0                   0               0.0             en   \n",
       "1228                3.0                   0              29.0             en   \n",
       "1229                0.0                   0               0.0             en   \n",
       "1230                0.0                   0               1.0             en   \n",
       "1231                0.0                   0               0.0             en   \n",
       "\n",
       "     tweet_source  rt_original_tweet_id  \\\n",
       "0             NaN                   NaN   \n",
       "1             NaN                   NaN   \n",
       "2             NaN                   NaN   \n",
       "3             NaN                   NaN   \n",
       "4             NaN                   NaN   \n",
       "...           ...                   ...   \n",
       "1227          NaN                   NaN   \n",
       "1228          NaN                   NaN   \n",
       "1229          NaN                   NaN   \n",
       "1230          NaN                   NaN   \n",
       "1231          NaN                   NaN   \n",
       "\n",
       "                                         tweet_hashtags  \\\n",
       "0     ['Cryptocurency', 'token', 'aidfinance', 'cryp...   \n",
       "1                                                   NaN   \n",
       "2                                                   NaN   \n",
       "3                                                   NaN   \n",
       "4                                                   NaN   \n",
       "...                                                 ...   \n",
       "1227                                                NaN   \n",
       "1228                                                NaN   \n",
       "1229                                                NaN   \n",
       "1230                                                NaN   \n",
       "1231                                                NaN   \n",
       "\n",
       "                                    Cleaned_tweets_Data  \n",
       "0     operating binance smart chain network powered ...  \n",
       "1     unicornin72340 hey seem like good project talk...  \n",
       "2     bushidomoney hey seem like good project talk s...  \n",
       "3     bushidomoney hey seem like good project talk s...  \n",
       "4     xeenonxyz titannode hey seem like good project...  \n",
       "...                                                 ...  \n",
       "1227                               citypress yhoo champ  \n",
       "1228  lwandoscotch yhoo boredom yabo ibathumela ekha...  \n",
       "1229                       bonbonniemc yhoo shitty bank  \n",
       "1230                            ayympandle yhoo bathong  \n",
       "1231  marubiny2 khulisoneels always nne cant keep ey...  \n",
       "\n",
       "[1232 rows x 13 columns]"
      ]
     },
     "execution_count": 92,
     "metadata": {},
     "output_type": "execute_result"
    }
   ],
   "source": [
    "df_new"
   ]
  },
  {
   "cell_type": "code",
   "execution_count": 93,
   "id": "ccd83e43",
   "metadata": {},
   "outputs": [
    {
     "data": {
      "text/plain": [
       "[WordList(['xeenonxyz']),\n",
       " WordList(['titannode']),\n",
       " WordList(['hey']),\n",
       " WordList(['seem']),\n",
       " WordList(['like']),\n",
       " WordList(['good']),\n",
       " WordList(['project']),\n",
       " WordList(['talk']),\n",
       " WordList(['send']),\n",
       " WordList(['dm'])]"
      ]
     },
     "execution_count": 93,
     "metadata": {},
     "output_type": "execute_result"
    }
   ],
   "source": [
    "TextBlob(df_new['Cleaned_tweets_Data'][4]).ngrams(1) #Unigrams"
   ]
  },
  {
   "cell_type": "code",
   "execution_count": 94,
   "id": "9e600c7e",
   "metadata": {},
   "outputs": [
    {
     "data": {
      "text/plain": [
       "[WordList(['bushidomoney', 'hey']),\n",
       " WordList(['hey', 'seem']),\n",
       " WordList(['seem', 'like']),\n",
       " WordList(['like', 'good']),\n",
       " WordList(['good', 'project']),\n",
       " WordList(['project', 'talk']),\n",
       " WordList(['talk', 'send']),\n",
       " WordList(['send', 'dm'])]"
      ]
     },
     "execution_count": 94,
     "metadata": {},
     "output_type": "execute_result"
    }
   ],
   "source": [
    "TextBlob(df_new['Cleaned_tweets_Data'][2]).ngrams(2) #Bigrams"
   ]
  },
  {
   "cell_type": "code",
   "execution_count": 95,
   "id": "8223223b",
   "metadata": {},
   "outputs": [
    {
     "ename": "ValueError",
     "evalue": "np.nan is an invalid document, expected byte or unicode string.",
     "output_type": "error",
     "traceback": [
      "\u001b[0;31m---------------------------------------------------------------------------\u001b[0m",
      "\u001b[0;31mValueError\u001b[0m                                Traceback (most recent call last)",
      "\u001b[0;32m/var/folders/gh/nmrrxy557874dyj8h3gjnmrw0000gn/T/ipykernel_19040/1973165338.py\u001b[0m in \u001b[0;36m<module>\u001b[0;34m\u001b[0m\n\u001b[1;32m      1\u001b[0m \u001b[0;32mfrom\u001b[0m \u001b[0msklearn\u001b[0m\u001b[0;34m.\u001b[0m\u001b[0mfeature_extraction\u001b[0m\u001b[0;34m.\u001b[0m\u001b[0mtext\u001b[0m \u001b[0;32mimport\u001b[0m \u001b[0mCountVectorizer\u001b[0m\u001b[0;34m\u001b[0m\u001b[0;34m\u001b[0m\u001b[0m\n\u001b[1;32m      2\u001b[0m \u001b[0mvectorizer\u001b[0m \u001b[0;34m=\u001b[0m \u001b[0mCountVectorizer\u001b[0m\u001b[0;34m(\u001b[0m\u001b[0mmin_df\u001b[0m\u001b[0;34m=\u001b[0m\u001b[0;36m1\u001b[0m\u001b[0;34m,\u001b[0m \u001b[0mmax_df\u001b[0m\u001b[0;34m=\u001b[0m\u001b[0;36m0.9\u001b[0m\u001b[0;34m)\u001b[0m\u001b[0;34m\u001b[0m\u001b[0;34m\u001b[0m\u001b[0m\n\u001b[0;32m----> 3\u001b[0;31m \u001b[0mX\u001b[0m \u001b[0;34m=\u001b[0m \u001b[0mvectorizer\u001b[0m\u001b[0;34m.\u001b[0m\u001b[0mfit_transform\u001b[0m\u001b[0;34m(\u001b[0m\u001b[0mdf_new\u001b[0m\u001b[0;34m[\u001b[0m\u001b[0;34m'Cleaned_tweets_Data'\u001b[0m\u001b[0;34m]\u001b[0m\u001b[0;34m)\u001b[0m\u001b[0;34m\u001b[0m\u001b[0;34m\u001b[0m\u001b[0m\n\u001b[0m\u001b[1;32m      4\u001b[0m \u001b[0mword_freq_df\u001b[0m \u001b[0;34m=\u001b[0m \u001b[0mpd\u001b[0m\u001b[0;34m.\u001b[0m\u001b[0mDataFrame\u001b[0m\u001b[0;34m(\u001b[0m\u001b[0;34m{\u001b[0m\u001b[0;34m'term'\u001b[0m\u001b[0;34m:\u001b[0m \u001b[0mvectorizer\u001b[0m\u001b[0;34m.\u001b[0m\u001b[0mget_feature_names\u001b[0m\u001b[0;34m(\u001b[0m\u001b[0;34m)\u001b[0m\u001b[0;34m,\u001b[0m \u001b[0;34m'occurrences'\u001b[0m\u001b[0;34m:\u001b[0m \u001b[0mnp\u001b[0m\u001b[0;34m.\u001b[0m\u001b[0masarray\u001b[0m\u001b[0;34m(\u001b[0m\u001b[0mX\u001b[0m\u001b[0;34m.\u001b[0m\u001b[0msum\u001b[0m\u001b[0;34m(\u001b[0m\u001b[0maxis\u001b[0m\u001b[0;34m=\u001b[0m\u001b[0;36m0\u001b[0m\u001b[0;34m)\u001b[0m\u001b[0;34m)\u001b[0m\u001b[0;34m.\u001b[0m\u001b[0mravel\u001b[0m\u001b[0;34m(\u001b[0m\u001b[0;34m)\u001b[0m\u001b[0;34m}\u001b[0m\u001b[0;34m)\u001b[0m\u001b[0;34m\u001b[0m\u001b[0;34m\u001b[0m\u001b[0m\n\u001b[1;32m      5\u001b[0m \u001b[0mword_freq_df\u001b[0m\u001b[0;34m[\u001b[0m\u001b[0;34m'frequency'\u001b[0m\u001b[0;34m]\u001b[0m \u001b[0;34m=\u001b[0m \u001b[0mword_freq_df\u001b[0m\u001b[0;34m[\u001b[0m\u001b[0;34m'occurrences'\u001b[0m\u001b[0;34m]\u001b[0m \u001b[0;34m/\u001b[0m \u001b[0mnp\u001b[0m\u001b[0;34m.\u001b[0m\u001b[0msum\u001b[0m\u001b[0;34m(\u001b[0m\u001b[0mword_freq_df\u001b[0m\u001b[0;34m[\u001b[0m\u001b[0;34m'occurrences'\u001b[0m\u001b[0;34m]\u001b[0m\u001b[0;34m)\u001b[0m\u001b[0;34m\u001b[0m\u001b[0;34m\u001b[0m\u001b[0m\n",
      "\u001b[0;32m~/opt/anaconda3/lib/python3.9/site-packages/sklearn/feature_extraction/text.py\u001b[0m in \u001b[0;36mfit_transform\u001b[0;34m(self, raw_documents, y)\u001b[0m\n\u001b[1;32m   1328\u001b[0m                     \u001b[0;32mbreak\u001b[0m\u001b[0;34m\u001b[0m\u001b[0;34m\u001b[0m\u001b[0m\n\u001b[1;32m   1329\u001b[0m \u001b[0;34m\u001b[0m\u001b[0m\n\u001b[0;32m-> 1330\u001b[0;31m         \u001b[0mvocabulary\u001b[0m\u001b[0;34m,\u001b[0m \u001b[0mX\u001b[0m \u001b[0;34m=\u001b[0m \u001b[0mself\u001b[0m\u001b[0;34m.\u001b[0m\u001b[0m_count_vocab\u001b[0m\u001b[0;34m(\u001b[0m\u001b[0mraw_documents\u001b[0m\u001b[0;34m,\u001b[0m \u001b[0mself\u001b[0m\u001b[0;34m.\u001b[0m\u001b[0mfixed_vocabulary_\u001b[0m\u001b[0;34m)\u001b[0m\u001b[0;34m\u001b[0m\u001b[0;34m\u001b[0m\u001b[0m\n\u001b[0m\u001b[1;32m   1331\u001b[0m \u001b[0;34m\u001b[0m\u001b[0m\n\u001b[1;32m   1332\u001b[0m         \u001b[0;32mif\u001b[0m \u001b[0mself\u001b[0m\u001b[0;34m.\u001b[0m\u001b[0mbinary\u001b[0m\u001b[0;34m:\u001b[0m\u001b[0;34m\u001b[0m\u001b[0;34m\u001b[0m\u001b[0m\n",
      "\u001b[0;32m~/opt/anaconda3/lib/python3.9/site-packages/sklearn/feature_extraction/text.py\u001b[0m in \u001b[0;36m_count_vocab\u001b[0;34m(self, raw_documents, fixed_vocab)\u001b[0m\n\u001b[1;32m   1199\u001b[0m         \u001b[0;32mfor\u001b[0m \u001b[0mdoc\u001b[0m \u001b[0;32min\u001b[0m \u001b[0mraw_documents\u001b[0m\u001b[0;34m:\u001b[0m\u001b[0;34m\u001b[0m\u001b[0;34m\u001b[0m\u001b[0m\n\u001b[1;32m   1200\u001b[0m             \u001b[0mfeature_counter\u001b[0m \u001b[0;34m=\u001b[0m \u001b[0;34m{\u001b[0m\u001b[0;34m}\u001b[0m\u001b[0;34m\u001b[0m\u001b[0;34m\u001b[0m\u001b[0m\n\u001b[0;32m-> 1201\u001b[0;31m             \u001b[0;32mfor\u001b[0m \u001b[0mfeature\u001b[0m \u001b[0;32min\u001b[0m \u001b[0manalyze\u001b[0m\u001b[0;34m(\u001b[0m\u001b[0mdoc\u001b[0m\u001b[0;34m)\u001b[0m\u001b[0;34m:\u001b[0m\u001b[0;34m\u001b[0m\u001b[0;34m\u001b[0m\u001b[0m\n\u001b[0m\u001b[1;32m   1202\u001b[0m                 \u001b[0;32mtry\u001b[0m\u001b[0;34m:\u001b[0m\u001b[0;34m\u001b[0m\u001b[0;34m\u001b[0m\u001b[0m\n\u001b[1;32m   1203\u001b[0m                     \u001b[0mfeature_idx\u001b[0m \u001b[0;34m=\u001b[0m \u001b[0mvocabulary\u001b[0m\u001b[0;34m[\u001b[0m\u001b[0mfeature\u001b[0m\u001b[0;34m]\u001b[0m\u001b[0;34m\u001b[0m\u001b[0;34m\u001b[0m\u001b[0m\n",
      "\u001b[0;32m~/opt/anaconda3/lib/python3.9/site-packages/sklearn/feature_extraction/text.py\u001b[0m in \u001b[0;36m_analyze\u001b[0;34m(doc, analyzer, tokenizer, ngrams, preprocessor, decoder, stop_words)\u001b[0m\n\u001b[1;32m    106\u001b[0m \u001b[0;34m\u001b[0m\u001b[0m\n\u001b[1;32m    107\u001b[0m     \u001b[0;32mif\u001b[0m \u001b[0mdecoder\u001b[0m \u001b[0;32mis\u001b[0m \u001b[0;32mnot\u001b[0m \u001b[0;32mNone\u001b[0m\u001b[0;34m:\u001b[0m\u001b[0;34m\u001b[0m\u001b[0;34m\u001b[0m\u001b[0m\n\u001b[0;32m--> 108\u001b[0;31m         \u001b[0mdoc\u001b[0m \u001b[0;34m=\u001b[0m \u001b[0mdecoder\u001b[0m\u001b[0;34m(\u001b[0m\u001b[0mdoc\u001b[0m\u001b[0;34m)\u001b[0m\u001b[0;34m\u001b[0m\u001b[0;34m\u001b[0m\u001b[0m\n\u001b[0m\u001b[1;32m    109\u001b[0m     \u001b[0;32mif\u001b[0m \u001b[0manalyzer\u001b[0m \u001b[0;32mis\u001b[0m \u001b[0;32mnot\u001b[0m \u001b[0;32mNone\u001b[0m\u001b[0;34m:\u001b[0m\u001b[0;34m\u001b[0m\u001b[0;34m\u001b[0m\u001b[0m\n\u001b[1;32m    110\u001b[0m         \u001b[0mdoc\u001b[0m \u001b[0;34m=\u001b[0m \u001b[0manalyzer\u001b[0m\u001b[0;34m(\u001b[0m\u001b[0mdoc\u001b[0m\u001b[0;34m)\u001b[0m\u001b[0;34m\u001b[0m\u001b[0;34m\u001b[0m\u001b[0m\n",
      "\u001b[0;32m~/opt/anaconda3/lib/python3.9/site-packages/sklearn/feature_extraction/text.py\u001b[0m in \u001b[0;36mdecode\u001b[0;34m(self, doc)\u001b[0m\n\u001b[1;32m    224\u001b[0m \u001b[0;34m\u001b[0m\u001b[0m\n\u001b[1;32m    225\u001b[0m         \u001b[0;32mif\u001b[0m \u001b[0mdoc\u001b[0m \u001b[0;32mis\u001b[0m \u001b[0mnp\u001b[0m\u001b[0;34m.\u001b[0m\u001b[0mnan\u001b[0m\u001b[0;34m:\u001b[0m\u001b[0;34m\u001b[0m\u001b[0;34m\u001b[0m\u001b[0m\n\u001b[0;32m--> 226\u001b[0;31m             raise ValueError(\n\u001b[0m\u001b[1;32m    227\u001b[0m                 \u001b[0;34m\"np.nan is an invalid document, expected byte or unicode string.\"\u001b[0m\u001b[0;34m\u001b[0m\u001b[0;34m\u001b[0m\u001b[0m\n\u001b[1;32m    228\u001b[0m             )\n",
      "\u001b[0;31mValueError\u001b[0m: np.nan is an invalid document, expected byte or unicode string."
     ]
    }
   ],
   "source": [
    "\n",
    "vectorizer = CountVectorizer(min_df=1, max_df=0.9)\n",
    "X = vectorizer.fit_transform(df_new['Cleaned_tweets_Data'])\n",
    "word_freq_df = pd.DataFrame({'term': vectorizer.get_feature_names(), 'occurrences': np.asarray(X.sum(axis=0)).ravel()})\n",
    "word_freq_df['frequency'] = word_freq_df['occurrences'] / np.sum(word_freq_df['occurrences'])\n",
    "print(word_freq_df.sort_values('occurrences', ascending=False).head())"
   ]
  },
  {
   "cell_type": "code",
   "execution_count": 99,
   "id": "ceb87e86",
   "metadata": {},
   "outputs": [
    {
     "name": "stdout",
     "output_type": "stream",
     "text": [
      "         term  occurrences  frequency\n",
      "861   bitcoin          220   0.014388\n",
      "5923     yhoo          197   0.012883\n",
      "2480     goog          172   0.011248\n",
      "2469     gold          147   0.009613\n",
      "472   altcoin           97   0.006344\n"
     ]
    }
   ],
   "source": [
    "from sklearn.feature_extraction.text import CountVectorizer\n",
    "# Replace NaN values with empty strings\n",
    "df_new['Cleaned_tweets_Data'] = df_new['Cleaned_tweets_Data'].fillna('')\n",
    "\n",
    "# Create the CountVectorizer object\n",
    "vectorizer = CountVectorizer(min_df=1, max_df=0.9)\n",
    "\n",
    "# Fit and transform the text data\n",
    "X = vectorizer.fit_transform(df_new['Cleaned_tweets_Data'])\n",
    "\n",
    "# Generate the word frequency DataFrame\n",
    "word_freq_df = pd.DataFrame({'term': vectorizer.get_feature_names(), 'occurrences': np.asarray(X.sum(axis=0)).ravel()})\n",
    "word_freq_df['frequency'] = word_freq_df['occurrences'] / np.sum(word_freq_df['occurrences'])\n",
    "\n",
    "# Print the top occurrences\n",
    "print(word_freq_df.sort_values('occurrences', ascending=False).head())\n"
   ]
  }
 ],
 "metadata": {
  "kernelspec": {
   "display_name": "Python 3 (ipykernel)",
   "language": "python",
   "name": "python3"
  },
  "language_info": {
   "codemirror_mode": {
    "name": "ipython",
    "version": 3
   },
   "file_extension": ".py",
   "mimetype": "text/x-python",
   "name": "python",
   "nbconvert_exporter": "python",
   "pygments_lexer": "ipython3",
   "version": "3.9.13"
  }
 },
 "nbformat": 4,
 "nbformat_minor": 5
}
